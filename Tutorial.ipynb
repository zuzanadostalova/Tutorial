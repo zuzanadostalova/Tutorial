{
  "nbformat": 4,
  "nbformat_minor": 0,
  "metadata": {
    "colab": {
      "name": "Tutorial.ipynb",
      "provenance": [],
      "collapsed_sections": [
        "pOK7FpDILcmd",
        "Y9aarE3cjFRQ"
      ],
      "include_colab_link": true
    },
    "kernelspec": {
      "name": "python3",
      "display_name": "Python 3"
    }
  },
  "cells": [
    {
      "cell_type": "markdown",
      "metadata": {
        "id": "view-in-github",
        "colab_type": "text"
      },
      "source": [
        "<a href=\"https://colab.research.google.com/github/zuzanadostalova/Tutorials/blob/master/Tutorial.ipynb\" target=\"_parent\"><img src=\"https://colab.research.google.com/assets/colab-badge.svg\" alt=\"Open In Colab\"/></a>"
      ]
    },
    {
      "cell_type": "markdown",
      "metadata": {
        "id": "oJL3aTrovXDe",
        "colab_type": "text"
      },
      "source": [
        "# **Recommended tutorials:**"
      ]
    },
    {
      "cell_type": "markdown",
      "metadata": {
        "id": "Idy_LM7bviaE",
        "colab_type": "text"
      },
      "source": [
        "# Python for biologists from Martin Jones."
      ]
    },
    {
      "cell_type": "markdown",
      "metadata": {
        "id": "GS8qGUBEv19E",
        "colab_type": "text"
      },
      "source": [
        "https://www.amazon.com/Python-Biologists-complete-programming-beginners/dp/1492346136"
      ]
    },
    {
      "cell_type": "markdown",
      "metadata": {
        "id": "chXjkBlbc5gD",
        "colab_type": "text"
      },
      "source": [
        "# Python for Beginners (Microsoft).\n"
      ]
    },
    {
      "cell_type": "markdown",
      "metadata": {
        "id": "gS8-OJ18v_y2",
        "colab_type": "text"
      },
      "source": [
        "https://www.youtube.com/watch?v=jFCNu1-Xdsw"
      ]
    },
    {
      "cell_type": "markdown",
      "metadata": {
        "id": "1t9zSdNyTqS4",
        "colab_type": "text"
      },
      "source": [
        "Lectures 3-39 Managing keys and virtual environment is too advance, confusing, and time consuming One should also get into the habit of working on CoLab simultaneously in order to be flexible"
      ]
    },
    {
      "cell_type": "markdown",
      "metadata": {
        "colab_type": "text",
        "id": "5nTv6DdtLcmb"
      },
      "source": [
        "Practical knowledge of said subject is not sufficient from the tutorials, practising is much needed."
      ]
    },
    {
      "cell_type": "markdown",
      "metadata": {
        "id": "fZsrkrwDw-lu",
        "colab_type": "text"
      },
      "source": [
        "# Python Bible on Udemy."
      ]
    },
    {
      "cell_type": "markdown",
      "metadata": {
        "id": "_GcETDdcxia2",
        "colab_type": "text"
      },
      "source": [
        "https://www.udemy.com/course/the-python-bible/"
      ]
    },
    {
      "cell_type": "markdown",
      "metadata": {
        "id": "VlPpvMc9xlfZ",
        "colab_type": "text"
      },
      "source": [
        "The tutorial is useful to practise the basic knowledge of Python. However, the projects involved are elaborate, time-consuming, and not directly applicable for the lab."
      ]
    },
    {
      "cell_type": "markdown",
      "metadata": {
        "id": "StiEcunM0h2w",
        "colab_type": "text"
      },
      "source": [
        "# **Exercises**: \n"
      ]
    },
    {
      "cell_type": "markdown",
      "metadata": {
        "id": "-rqG6qcnDRKJ",
        "colab_type": "text"
      },
      "source": [
        "Before practical biological task, you can practise on these examples:"
      ]
    },
    {
      "cell_type": "markdown",
      "metadata": {
        "colab_type": "text",
        "id": "pOK7FpDILcmd"
      },
      "source": [
        "# Dictionary exercises:\n",
        "https://www.w3resource.com/python-exercises/dictionary/\n"
      ]
    },
    {
      "cell_type": "code",
      "metadata": {
        "id": "f3UXtl-7ixJ1",
        "colab_type": "code",
        "colab": {}
      },
      "source": [
        "# For dictionary: \n",
        "dictionary = {1: 20, 0: 10, 2: 30, 5:60, 3:40}"
      ],
      "execution_count": 0,
      "outputs": []
    },
    {
      "cell_type": "markdown",
      "metadata": {
        "id": "XdOF7m3ghp0O",
        "colab_type": "text"
      },
      "source": [
        "1) Sort the values in the dictionary in ascending order."
      ]
    },
    {
      "cell_type": "markdown",
      "metadata": {
        "id": "3uw1GyObjqmC",
        "colab_type": "text"
      },
      "source": [
        "2) Sort the values in the dictionary in descending order."
      ]
    },
    {
      "cell_type": "markdown",
      "metadata": {
        "id": "5O5l1QS5yNbi",
        "colab_type": "text"
      },
      "source": [
        "3) Add a key to dictionary."
      ]
    },
    {
      "cell_type": "code",
      "metadata": {
        "id": "bpRbQB3E2MpG",
        "colab_type": "code",
        "colab": {}
      },
      "source": [
        "# For set:\n",
        "set = {1, 20, 0, 10, 2, 30, 5, 60, 3, 40}"
      ],
      "execution_count": 0,
      "outputs": []
    },
    {
      "cell_type": "markdown",
      "metadata": {
        "id": "TyNX7Es52VFn",
        "colab_type": "text"
      },
      "source": [
        "4) Expand the set with 70."
      ]
    },
    {
      "cell_type": "code",
      "metadata": {
        "id": "_kAjTrf72gYP",
        "colab_type": "code",
        "colab": {}
      },
      "source": [
        "# For the list of dictionaries:\n",
        "b = [\n",
        "     {\"name\": \"mRNA\", \"occupation\": \"messenger\", \"id\": 1}, \n",
        "     {\"name\": \"tRNA\", \"occupation\": \"transporter\", \"id\": 2}, \n",
        "     {\"name\": \"rRNA\", \"occupation\": \"ribosome builder\", \"id\": 3}\n",
        "  ]"
      ],
      "execution_count": 0,
      "outputs": []
    },
    {
      "cell_type": "markdown",
      "metadata": {
        "id": "L7zovqIF2so6",
        "colab_type": "text"
      },
      "source": [
        "5) Add to the list of dictionaries following dictionary:\n",
        "{\"name\": \"miRNA\", \"occupation\": \"silencer\", \"id\": 4}"
      ]
    },
    {
      "cell_type": "markdown",
      "metadata": {
        "id": "bg9JDtj33Exn",
        "colab_type": "text"
      },
      "source": [
        "6) Sort the list of dictionares based on the id of the RNA in descending order."
      ]
    },
    {
      "cell_type": "markdown",
      "metadata": {
        "id": "aT3uQcRy2j3v",
        "colab_type": "text"
      },
      "source": [
        "7) Sort the list of dictionares based on the name and occupation of the RNA in ascending order."
      ]
    },
    {
      "cell_type": "code",
      "metadata": {
        "id": "dg5E2CnH_oPt",
        "colab_type": "code",
        "colab": {}
      },
      "source": [
        "# For three dictionaries:\n",
        "d1 = {89: 39, 75: 5} \n",
        "d2 = {70: 20, 15: 76}\n",
        "d3 = {50: 25, 40: 11}"
      ],
      "execution_count": 0,
      "outputs": []
    },
    {
      "cell_type": "markdown",
      "metadata": {
        "id": "BaW5H-NP4UL3",
        "colab_type": "text"
      },
      "source": [
        "8) Concatenate dictionaries d1-d3."
      ]
    },
    {
      "cell_type": "markdown",
      "metadata": {
        "id": "qGRwUL4tCrwE",
        "colab_type": "text"
      },
      "source": [
        "9) Write a program to check whether key exists in d1."
      ]
    },
    {
      "cell_type": "markdown",
      "metadata": {
        "id": "RwZjR6VZJTR-",
        "colab_type": "text"
      },
      "source": [
        "10) Write a script to create a dictionary containing number between 1 and n (of your choice) where key is x and value is x*x."
      ]
    },
    {
      "cell_type": "code",
      "metadata": {
        "id": "d9TJOMcGQBcX",
        "colab_type": "code",
        "colab": {}
      },
      "source": [
        "# For the four dictionaries:\n",
        "d1 = {\"name\": \"mRNA\", \"occupation\": \"messenger\", \"id\": 1}\n",
        "d2 = {\"name\": \"tRNA\", \"occupation\": \"transporter\", \"id\": 2}\n",
        "d3 = {\"name\": \"rRNA\", \"occupation\": \"ribosome builder\", \"id\": 3}\n",
        "d4 = {\"name\": \"miRNA\", \"occupation\": \"silencer\", \"id\": 4}"
      ],
      "execution_count": 0,
      "outputs": []
    },
    {
      "cell_type": "markdown",
      "metadata": {
        "id": "x8__v20iM4Ub",
        "colab_type": "text"
      },
      "source": [
        "11) Merge these dictionaries into one dictionary under the same keys \"name\", \"occupation\", and \"id\". \n",
        "Note: Be sure not to overwrite the value of the previous dictionary with the following one (in different words - do not use .update())."
      ]
    },
    {
      "cell_type": "code",
      "metadata": {
        "id": "kdLn09SgeCk1",
        "colab_type": "code",
        "colab": {}
      },
      "source": [
        "# For the dictionary:\n",
        "dict_ = {\"id1\": 39, \"id2\": 75, \"id3\": 5, \"id4\": 67, \"id5\": 90} "
      ],
      "execution_count": 0,
      "outputs": []
    },
    {
      "cell_type": "markdown",
      "metadata": {
        "id": "cT34xME4d5UD",
        "colab_type": "text"
      },
      "source": [
        "12) Sum all the values in the dictionary."
      ]
    },
    {
      "cell_type": "markdown",
      "metadata": {
        "id": "Ae4dLY8wjWsK",
        "colab_type": "text"
      },
      "source": [
        "13) Write a program to multiply all values in a dictionary."
      ]
    },
    {
      "cell_type": "markdown",
      "metadata": {
        "id": "nWHa3F-6pfB1",
        "colab_type": "text"
      },
      "source": [
        "14) Remove \"id1\" from the dictionary."
      ]
    },
    {
      "cell_type": "code",
      "metadata": {
        "id": "NZgYFwqy4NCh",
        "colab_type": "code",
        "colab": {}
      },
      "source": [
        "# For two  lists:\n",
        "keys = [\"mRNA\", \"tRNA\", \"miRNA\", \"rRNA\"]\n",
        "values = [\"messenger\", \"transporter\", \"silencer\", \"ribosome builder\"]"
      ],
      "execution_count": 0,
      "outputs": []
    },
    {
      "cell_type": "markdown",
      "metadata": {
        "id": "v_lbsF8T3zcK",
        "colab_type": "text"
      },
      "source": [
        "15) Map this two list into a dictionary."
      ]
    },
    {
      "cell_type": "markdown",
      "metadata": {
        "id": "08flgEsIZPgZ",
        "colab_type": "text"
      },
      "source": [
        "16) Sort this dictionary alphabetically."
      ]
    },
    {
      "cell_type": "code",
      "metadata": {
        "id": "WOvr5O_AVq5Z",
        "colab_type": "code",
        "colab": {}
      },
      "source": [
        "methods = {\"id1\": \n",
        "   {\"name\": [\"Deep Learning\"], \n",
        "    \"techniques\": [\"Fully Connected Neural Networks, Convolutional Neural Networks, Recurrent Neural Network, Generative Adversarial Networks,Deep Reinforcement Learning.\"]\n",
        "   },\n",
        " \"id2\" : \n",
        "  {\"name\": [\"Machine learning\"], \n",
        "    \"techniques\": [\"Regression, Classification, Clustering, Dimensionality Reduction, Ensemble Methods, Neural Nets and Deep Learning, Transfer Learning, Reinforcement Learning.\"]\n",
        "   },\n",
        "  \"id3\": \n",
        "   {\"name\": [\"Deep Learning\"], \n",
        "    \"techniques\": [\"Fully Connected Neural Networks, Convolutional Neural Networks, Recurrent Neural Network, Generative Adversarial Networks,Deep Reinforcement Learning.\"]\n",
        "   }\n",
        "}\n"
      ],
      "execution_count": 0,
      "outputs": []
    },
    {
      "cell_type": "markdown",
      "metadata": {
        "id": "h5rsjupuVtkn",
        "colab_type": "text"
      },
      "source": [
        "17) Remove duplicates from the dictionary above."
      ]
    },
    {
      "cell_type": "code",
      "metadata": {
        "id": "0rSiZY3CHaQ7",
        "colab_type": "code",
        "colab": {}
      },
      "source": [
        "l = [{\"V\":\"S001\"}, {\"V\": \"S002\"}, {\"VI\": \"S001\"}, {\"VI\": \"S005\"}, {\"VII\":\"S005\"}, {\"V\":\"S009\"},{\"VIII\":\"S007\"}]"
      ],
      "execution_count": 0,
      "outputs": []
    },
    {
      "cell_type": "markdown",
      "metadata": {
        "id": "4sdAGt2wHDs7",
        "colab_type": "text"
      },
      "source": [
        "18) Write a Python program to print all unique values in a dictionary."
      ]
    },
    {
      "cell_type": "markdown",
      "metadata": {
        "id": "RwEmIPuhIP_b",
        "colab_type": "text"
      },
      "source": [
        "19) Write a program that counts how many times a character occurrs in a string and marks the result down to a dictionary."
      ]
    },
    {
      "cell_type": "markdown",
      "metadata": {
        "id": "R71Lrm1NPv4p",
        "colab_type": "text"
      },
      "source": [
        "20) Write a Python program to print a dictionary line by line."
      ]
    },
    {
      "cell_type": "markdown",
      "metadata": {
        "colab_type": "text",
        "id": "e04BBHdaLcmf"
      },
      "source": [
        "# Datastructure exercises: "
      ]
    },
    {
      "cell_type": "markdown",
      "metadata": {
        "id": "Km3VWmcWa_lY",
        "colab_type": "text"
      },
      "source": [
        "https://www.w3resource.com/python-exercises/data-structures-and-algorithms/python-data-structure.php\n",
        "\n",
        "https://pynative.com/python-data-structure-exercise-for-beginners/"
      ]
    },
    {
      "cell_type": "code",
      "metadata": {
        "id": "yrGB7R_ze4OE",
        "colab_type": "code",
        "colab": {}
      },
      "source": [
        "# Data:\n",
        "Afghanistan = 93\n",
        "Albania = 355\n",
        "Algeria = 213\n",
        "Andorra = 376\n",
        "Angola = 244\n",
        "Antarctica = 672"
      ],
      "execution_count": 0,
      "outputs": []
    },
    {
      "cell_type": "markdown",
      "metadata": {
        "id": "L3ASqqMCbE1T",
        "colab_type": "text"
      },
      "source": [
        "1) Write a Python program to create an Enum object and display a member name and value."
      ]
    },
    {
      "cell_type": "markdown",
      "metadata": {
        "id": "MGJq_CXMfT8I",
        "colab_type": "text"
      },
      "source": [
        "2) Iterate over the enum class and display individual member and their value."
      ]
    },
    {
      "cell_type": "markdown",
      "metadata": {
        "id": "oEz7Tzh7l9TG",
        "colab_type": "text"
      },
      "source": [
        "3) Print all names of the members from enum class ordered by their values."
      ]
    },
    {
      "cell_type": "code",
      "metadata": {
        "id": "OhH6ENVFdYaP",
        "colab_type": "code",
        "colab": {}
      },
      "source": [
        "# Data:\n",
        "classes = (\n",
        "(\"Math\", 1),\n",
        "(\"Proteomics\", 1),\n",
        "(\"Genomics\", 2),\n",
        "(\"Bioinformatics\", 2),\n",
        "(\"Data science\", 3),\n",
        "(\"Biology\", 1),\n",
        ")"
      ],
      "execution_count": 0,
      "outputs": []
    },
    {
      "cell_type": "markdown",
      "metadata": {
        "id": "xD9IZ_N-m1rd",
        "colab_type": "text"
      },
      "source": [
        "4) Print all the values from the enum class."
      ]
    },
    {
      "cell_type": "code",
      "metadata": {
        "id": "zahbV4e6oYrp",
        "colab_type": "code",
        "colab": {}
      },
      "source": [
        "# List:\n",
        "words = [\n",
        "   \"mRNA\", \"miRNA\", \"mRNA\", \"rRNA\", \"mRNA\", \"tRNA\", \"mRNA\", \"mRNA\", \"miRNA\", \"tRNA\", \n",
        "   \"tRNA\", \"rRNA\", \"rRNA\", \"mRNA\", \"mRNA\", \"miRNA\", \"rRNA\", \"mRNA\", \"tRNA\", \"tRNA\",\n",
        "   \"rRNA\", \"rRNA\", \"rRNA\", \"rRNA\", \"mRNA\", \"miRNA\", \"rRNA\", \"miRNA\", \"tRNA\", \"tRNA\",\n",
        "]"
      ],
      "execution_count": 0,
      "outputs": []
    },
    {
      "cell_type": "markdown",
      "metadata": {
        "id": "jN3JFS_bm6oD",
        "colab_type": "text"
      },
      "source": [
        "5) Print the most common words in the list into a dictionary."
      ]
    },
    {
      "cell_type": "code",
      "metadata": {
        "id": "mMgQooTMWxH-",
        "colab_type": "code",
        "colab": {}
      },
      "source": [
        "subjects = (\n",
        "  (\"Math\", 3),\n",
        "  (\"Genomics\", 1),\n",
        "  (\"Genomics\", 2),\n",
        "  (\"Bioinformatics\", 2),\n",
        "  (\"Data science\", 1),\n",
        "  (\"Bioinformatics\", 1),\n",
        ")"
      ],
      "execution_count": 0,
      "outputs": []
    },
    {
      "cell_type": "markdown",
      "metadata": {
        "id": "HlW3l_mndaNq",
        "colab_type": "text"
      },
      "source": [
        "6) Write a Python program to group a sequence of key-value pairs into a dictionary of lists."
      ]
    },
    {
      "cell_type": "code",
      "metadata": {
        "id": "N98oLxXlWYyh",
        "colab_type": "code",
        "colab": {}
      },
      "source": [
        "l = [61, 29, 15, 97, 58, 60, 80, 31, 38, 52, 133, 74, 57]"
      ],
      "execution_count": 0,
      "outputs": []
    },
    {
      "cell_type": "markdown",
      "metadata": {
        "id": "AMcHDOY7Sedy",
        "colab_type": "text"
      },
      "source": [
        "7) Write a Python program to insert items into a list in sorted order."
      ]
    },
    {
      "cell_type": "markdown",
      "metadata": {
        "id": "L6S7jm_xU5lC",
        "colab_type": "text"
      },
      "source": [
        "8) Write a Python program to get the three largest and three smallest items from a dataset."
      ]
    },
    {
      "cell_type": "code",
      "metadata": {
        "id": "Z8SiIqF2uO28",
        "colab_type": "code",
        "colab": {}
      },
      "source": [
        "chr9 =  {184, 47, 187, 121, 58, 53, 104, 71, 73, 105, 72, 100, 136, 72, 103, 108, 80, 89, 139, 72,}"
      ],
      "execution_count": 0,
      "outputs": []
    },
    {
      "cell_type": "markdown",
      "metadata": {
        "id": "mCpGJJhNVSMr",
        "colab_type": "text"
      },
      "source": [
        "9) Remove duplicates from chromosome dictionaries and create a tuple and find the minimum and maximum numbers."
      ]
    },
    {
      "cell_type": "code",
      "metadata": {
        "id": "hBbfzQm7oBAn",
        "colab_type": "code",
        "colab": {}
      },
      "source": [
        "chr9 =  {184, 47, 187, 121, 58, 53, 104, 71, 73, 105, 72, 100, 136, 72, 103, 108, 80, 89, 139, 72,}\n",
        "chr3 =  {100, 73, 78, 61, 29, 15, 97, 58, 60, 80, 31, 38, 52, 133, 74, 57, 50, 53, 103, 65, 111, 85}"
      ],
      "execution_count": 0,
      "outputs": []
    },
    {
      "cell_type": "markdown",
      "metadata": {
        "id": "q6I4dXGHm7JF",
        "colab_type": "text"
      },
      "source": [
        "10) Find the intersection between two chromosomes and remove common intervals."
      ]
    },
    {
      "cell_type": "markdown",
      "metadata": {
        "id": "WwKycBVZf322",
        "colab_type": "text"
      },
      "source": [
        "# Chromosomes and intervals\n"
      ]
    },
    {
      "cell_type": "code",
      "metadata": {
        "id": "m_1xSP-6F7P6",
        "colab_type": "code",
        "colab": {}
      },
      "source": [
        "# For dictionary of chromosomes comprising the sublists of their intervals solve tasks 1-8:\n",
        "dictionary = {\"chr9\": [144, 55, 39, 26, 77], \"chr3\": [80, 87, 267, 48, 14], \"chr5\": [56, 33, 90, 75, 45], \"chr1\": [61, 63, 70, 35, 95], \"chr7\": [81, 34, 79, 43, 11] }\n"
      ],
      "execution_count": 0,
      "outputs": []
    },
    {
      "cell_type": "markdown",
      "metadata": {
        "colab_type": "text",
        "id": "OrT6Y_M3Lcmj"
      },
      "source": [
        "\n",
        "1) Print the names of all of the chromosomes in the dictionary."
      ]
    },
    {
      "cell_type": "markdown",
      "metadata": {
        "colab_type": "text",
        "id": "3Bn1SqAaLcmh"
      },
      "source": [
        "2) Print the length of all of the chromosome names in the dictionary."
      ]
    },
    {
      "cell_type": "markdown",
      "metadata": {
        "colab_type": "text",
        "id": "xCbhpUceLcmg"
      },
      "source": [
        "3) Print the fourth character of each of the keys of the name of the chromosome."
      ]
    },
    {
      "cell_type": "markdown",
      "metadata": {
        "id": "p1jPgxe7afx6",
        "colab_type": "text"
      },
      "source": [
        "4) Print the intervals of all of the chromosomes."
      ]
    },
    {
      "cell_type": "markdown",
      "metadata": {
        "id": "bbZsB_w7MjiD",
        "colab_type": "text"
      },
      "source": [
        "5) Print the intervals of chromosome 3. Subsequently, print the intervals for the other chromosomes, one at the time."
      ]
    },
    {
      "cell_type": "markdown",
      "metadata": {
        "id": "j8y5WBy1aRCS",
        "colab_type": "text"
      },
      "source": [
        "6) Print the first interval of each chromosome."
      ]
    },
    {
      "cell_type": "markdown",
      "metadata": {
        "id": "QgIQjRQJaYEH",
        "colab_type": "text"
      },
      "source": [
        "7) Print the third interval of the chromosome number 7."
      ]
    },
    {
      "cell_type": "markdown",
      "metadata": {
        "id": "5tgFYw0kNYGA",
        "colab_type": "text"
      },
      "source": [
        "8) Print all the intervals at the step of two.\n"
      ]
    },
    {
      "cell_type": "markdown",
      "metadata": {
        "id": "vARLtEQju3am",
        "colab_type": "text"
      },
      "source": [
        "From given dictionary:"
      ]
    },
    {
      "cell_type": "markdown",
      "metadata": {
        "id": "tMuxrbDoB4CZ",
        "colab_type": "text"
      },
      "source": [
        "9) Plot a scatter graph."
      ]
    },
    {
      "cell_type": "markdown",
      "metadata": {
        "id": "7iLHQEGUCciw",
        "colab_type": "text"
      },
      "source": [
        "10) Plot a histogram."
      ]
    },
    {
      "cell_type": "markdown",
      "metadata": {
        "id": "kZldKJjaupZI",
        "colab_type": "text"
      },
      "source": [
        "11) Plot a histogram with kernel density estimate."
      ]
    },
    {
      "cell_type": "markdown",
      "metadata": {
        "id": "NcykRUDnvEGj",
        "colab_type": "text"
      },
      "source": [
        "12) Plot a violin plot."
      ]
    },
    {
      "cell_type": "markdown",
      "metadata": {
        "id": "rBGbmV6hbG_k",
        "colab_type": "text"
      },
      "source": [
        "13) Plot a boxplot."
      ]
    },
    {
      "cell_type": "markdown",
      "metadata": {
        "id": "_X-wzoEQbTRE",
        "colab_type": "text"
      },
      "source": [
        "14) Plot a catplot."
      ]
    },
    {
      "cell_type": "code",
      "metadata": {
        "id": "yoE6Z-o5CAx2",
        "colab_type": "code",
        "colab": {}
      },
      "source": [
        "# For dictionary:\n",
        "dictionary = {\"chr7\":[120, 84, 167, 84, 55, 65, 59, 111, 69, 104, 110, 79, 62, 65, 74, 85, 72, 94, 50, 68, 77, 102, 84, 159, 115, 88, 97, 74, 82, 122, 71, 84, 67, 122, 97, 96, 111, 106, 64, 69, 75, 68, 117, 73, 72, 233, 242, 96, 127, 85, 133, 107, 69, 123, 91, 116, 80, 113, 82, 145, 109, 86, 58, 96, 138, 179, 163, 129, 160, 102, 114, 93, 20, 26, 189, 102, 129, 88, 118, 100, 73, 62, 41, 89, 66, 139, 162, 134, 120, 5, 57, 151, 131, 188, 56, 73, 30, 48, 65, 56, 108, 130, 125, 70, 146, 157, 117, 161, 110, 63, 143, 89, 112, 111, 116, 87, 119, 80, 147, 61, 129, 84, 193, 80, 133, 40, 58, 131, 123, 45, 57, 110, 85, 107, 121, 66, 103, 46, 147, 60, 71, 182, 83, 76, 96, 30, 128, 131, 182, 260, 100, 38, 54, 76, 31, 106, 89, 127, 122, 92, 112, 87, 114, 127, 69, 78, 106, 115, 53, 69, 21, 29, 67, 76, 64, 74, 93, 94, 103, 140, 127, 66, 27, 109, 53, 150, 106, 100, 102, 109, 70, 62, 75, 131, 85, 128, 80, 129, 68, 79, 120, 93, 57, 80, 81, 137, 49, 49, 94, 138, 35, 206, 133, 93, 40, 145],\n",
        "              \"chr16\": [57, 111, 74, 52, 105, 84, 70, 50, 62, 97, 96, 69, 131, 77, 23, 105, 71, 130, 110, 130, 89, 63, 58, 51, 113, 79, 107, 112, 105, 57, 26, 76, 134, 102, 40, 76, 58, 56, 105, 94, 154, 160, 190, 110, 51, 83, 255, 96, 48, 56, 71, 51, 75, 148, 75, 117, 75, 65, 66, 171, 29, 99, 49, 88, 47, 83, 63, 96, 131, 108, 31, 164, 131, 59, 88, 58, 69, 120, 162, 37, 87, 84, 94, 68, 64, 85, 51, 73, 73, 46, 65, 101, 142, 101, 186, 104, 98, 128, 113, 103, 58, 91, 115, 42, 76, 211, 112, 135, 76, 105, 83, 110, 115, 48, 63, 70, 84, 139, 39, 40, 63, 45, 162, 82, 58, 98, 62, 86, 68, 125, 52, 77, 101, 58, 87, 70, 57, 213, 62, 85, 64, 167, 92, 84, 65, 58, 77, 92, 49, 132, 162, 68, 19, 67, 86, 87, 140, 99, 57, 145, 103, 74, 60, 99, 137, 117, 118, 76, 131, 40, 53, 96, 125, 157, 55, 109, 82, 74, 36, 98, 90, 58, 80, 124, 131, 112, 83, 121, 100, 102, 125, 60, 144, 55, 92, 44, 135, 72, 69, 90, 37, 90, 57, 111, 72, 84, 93, 61, 38, 65, 76, 41, 148, 46, 103, 82, 38, 102, 29, 77, 64, 53, 63, 67, 82, 75, 96, 95, 68, 88, 46, 150, 32, 66, 113, 97, 124, 84, 31, 79, 78, 85, 70, 91, 176, 80, 102, 117, 77, 80, 115, 64, 88, 38, 115, 124, 93, 123, 154, 43, 80, 98, 51, 104, 43, 45, 98, 99, 75, 57, 80, 80, 54, 36, 72, 119, 48, 120, 60, 71, 67, 29, 36, 14, 67, 17, 49, 83, 95, 105, 42, 102, 71, 78, 164, 54, 58, 71, 71, 68, 24, 103, 74, 48, 69, 74, 60, 58, 116, 64, 125, 64, 69, 73, 131, 46, 53, 39, 89, 116, 113, 73, 81, 78, 34, 132, 72, 63, 59, 75, 206, 48, 111, 80, 69, 166, 80, 68, 85, 59, 153, 99, 74, 63, 107, 115, 93, 49, 81, 46, 54, 102, 105, 156, 55, 61, 72, 75, 95, 180, 51, 67, 85, 100, 23, 22, 113, 64, 71, 84, 121, 87, 89, 202, 69, 100, 45, 40, 78, 41, 41, 10, 52, 54, 102, 65, 23, 32, 71, 78, 86, 105, 131, 61, 76, 86, 141, 64, 69, 80, 81, 87, 42, 27, 23, 22, 3, 19, 71, 23, 36, 32, 42, 20, 74, 90, 131, 85, 69, 85, 52, 72, 103, 74, 87, 217, 83, 63, 92, 134, 77, 103, 50, 42, 11, 79, 73, 100, 72, 70, 80, 148, 104, 101, 166, 233, 37, 62, 37, 34, 34, 142, 139, 96, 46, 85, 37, 114, 53, 100, 164, 120, 51, 31, 112, 155, 73, 167, 86, 79, 66, 55, 74, 66, 51, 78, 75, 116, 93, 101, 149, 110, 40, 60, 96, 73, 71, 66, 73, 67, 45, 112, 76, 130, 63, 96, 127, 48, 70, 95, 106, 70, 172, 121, 37, 56, 98, 83, 66, 138, 85, 104, 42, 32, 74, 31, 93, 135, 41, 69, 62, 89, 53, 63, 69, 94, 87, 66, 142, 136, 56, 107, 110, 75, 215, 142, 74, 133, 56, 40, 66, 152, 99, 148, 71, 78, 64, 89, 77, 119, 115, 31, 13, 29, 56, 100, 121, 60, 52, 109, 98, 90, 62, 91, 32, 65, 113, 93, 114, 54, 102, 102],\n",
        "              \"chr10\": [81, 68, 67, 123, 69, 79, 65, 92, 136, 93, 57, 58, 38, 103, 66, 150, 87, 77, 59, 90, 83, 53, 109, 148, 100, 86, 62, 36, 93, 67, 84, 106, 149, 171, 98, 139, 118, 107, 153, 127, 84, 66, 51, 126, 92, 90, 40, 68, 105, 80, 176, 75, 107, 127, 151, 46, 74, 74, 106, 54, 123, 87, 90, 107, 177, 87, 172, 124, 98, 97, 87, 170, 81, 98, 45, 185, 86, 106, 124, 61, 54, 78, 72, 87, 101, 56, 159, 89, 125, 124, 81, 118, 81, 88, 49, 52, 112, 112, 47, 89, 177, 131, 70, 113, 82, 78, 69, 82, 83, 80, 153, 110, 49, 72, 68, 36, 189, 147, 64, 115, 83, 139, 130, 97, 79, 156, 127, 45, 79, 150, 121, 172, 127, 47, 114, 81, 87, 107, 80, 84, 102, 95, 140, 125, 31],\n",
        "              \"chr11\": [70, 187, 95, 99, 29, 39, 20, 118, 102, 68, 118, 142, 75, 86, 43, 23, 27, 78, 35, 30, 154, 54, 59, 73, 28, 9, 75, 73, 69, 7, 30, 8, 22, 15, 57, 40, 23, 114, 130, 101, 38, 23, 19, 11, 10, 85, 21, 60, 174, 136, 21, 67, 44, 20, 12, 110, 92, 80, 42, 114, 126, 169, 88, 50, 50, 59, 9, 6, 122, 29, 8, 30, 48, 34, 6, 123, 89, 122, 5, 80, 17, 12, 54, 148, 84, 31, 9, 90, 67, 75, 106, 71, 83, 71, 47, 107, 72, 26, 35, 12, 32, 52, 89, 171, 91, 81, 12, 15, 57, 165, 140, 73, 18, 104, 109, 117, 63, 98, 36, 73, 89, 56, 35, 27, 101, 86, 95, 136, 57, 71, 34, 17, 29, 18, 122, 64, 54, 26, 183, 202, 187, 68, 70, 40, 68, 141, 146, 94, 155, 34, 14, 71, 4, 46, 10, 13, 45, 120, 81, 67, 10, 18, 52, 18, 6, 20, 7, 10, 31, 50, 24, 36, 98, 23, 95, 87, 136, 133, 84, 75, 69, 95, 68, 71, 67, 15, 21, 17, 93, 166, 112, 109, 107, 78, 162, 153, 99, 57, 24, 21, 16, 66, 70, 20, 47, 15, 89, 13, 31, 49, 25, 29, 63, 96, 95, 102, 60, 66, 50, 44, 16, 19, 79, 67, 116, 61, 13, 18, 6, 9, 4, 5, 9, 83, 115, 21, 96, 172, 99, 13, 106, 121, 133, 100, 16, 42, 37, 101, 120, 85, 100, 144, 97, 100, 116, 80, 26, 17, 13, 83, 15, 37, 97, 66, 79, 82, 61, 53, 104, 49, 25, 24, 10, 31, 45, 14, 5, 5, 45, 10, 145, 76, 80, 90, 46, 42, 31, 81, 138, 105, 145, 94, 11, 47, 92, 41, 140, 115, 70, 113, 59, 89, 78, 55, 85, 20, 68, 68, 84, 108, 17, 114],\n",
        "              \"chr15\": [92, 64, 94, 47, 64, 90, 140, 79, 112, 178, 123, 94, 85, 104, 72, 286, 117, 78, 189, 50, 125, 157, 70, 134, 64, 92, 81, 83, 117, 131, 88, 95, 79, 92, 74, 101, 120, 107, 68, 185, 87, 104, 124, 81, 78, 78, 40, 104, 160, 23, 30, 87, 55, 88, 129, 113, 53, 70, 121, 43, 90, 48, 118, 171, 28, 67, 43, 58, 31, 46, 82],\n",
        "              \"chr12\": [86, 103, 84, 88, 134, 152, 105, 113, 87, 138, 113, 175, 85, 92, 101, 88, 79, 118, 123, 66, 50, 135, 67, 131, 47, 90, 158, 103, 92, 84, 84, 66, 160, 84, 103, 96, 101, 134, 168, 139, 43, 135, 117, 100, 137, 106, 128, 112, 49, 146, 258, 166, 80, 126, 113, 67, 183, 132, 76, 161, 141, 119, 125, 63, 167, 186, 60, 46, 130, 56, 104, 55, 121, 125, 94, 63, 110, 116, 109, 103, 81, 114, 183, 148, 107, 40, 131, 149, 128, 109, 99, 97, 160, 203],\n",
        "              \"chrX\": [63, 77, 54, 74, 38, 81, 82, 21, 119, 146, 86, 34, 46, 93, 57, 83, 73, 92, 135, 140, 95, 116, 66, 84, 76, 103, 63, 65, 113, 63, 122, 57, 123, 61, 26, 51, 47, 66, 75, 125, 156, 120, 47, 57, 91, 101, 54, 68, 71, 92, 92, 88, 61, 84, 72, 69, 48, 33, 66, 128, 89, 86, 111, 89, 37, 65, 77, 82, 35, 72, 93, 96, 60, 45],\n",
        "              \"chr4\": [40, 56, 29, 58, 54, 70, 90, 76, 92, 68, 79, 87, 109, 45, 99, 133, 171, 101, 61, 70, 114, 127, 69, 147, 94, 66, 62, 64, 118, 89, 155, 122, 103, 86, 69, 86, 85, 65, 67, 77, 32, 115, 80, 111, 118, 157, 137, 138, 151, 74, 159, 65, 74, 103, 46, 81, 64, 67, 116, 109, 86, 82, 63, 87, 34, 50, 139, 62, 55, 70, 110, 120, 87, 78, 122, 192, 102, 112, 128, 41, 69, 59, 106, 131, 77, 115, 256, 135, 65, 101, 148, 108, 138, 146, 93, 71, 68, 89, 135, 104, 92, 82, 115, 96, 118, 122, 94, 55, 31, 64, 89, 33, 120, 59, 131, 158, 75, 81, 61, 43, 53, 66, 114, 64, 89, 149, 88, 86, 120, 86, 114, 162, 82, 60, 44, 110, 82, 77, 56, 76, 76, 86, 53],\n",
        "              \"chr13\": [47, 64, 20, 39, 37, 107, 106, 45, 78, 149, 86, 122, 122, 31, 155, 45, 77, 85, 71, 54, 77, 25, 34, 83, 147, 77, 90, 147, 123, 90, 138, 86, 180, 121, 91, 86, 28, 45, 74, 88, 188, 63, 97, 85, 115, 32, 59],\n",
        "              \"chr18\": [266, 95, 131, 115, 87, 113, 81, 108, 73, 76, 38, 60],\n",
        "              \"chr14_GL000194v1_random\": [109, 108, 70, 123],\n",
        "              \"chrM\": [21, 29],\n",
        "              \"chrUn_GL000218v1\": [84]}"
      ],
      "execution_count": 0,
      "outputs": []
    },
    {
      "cell_type": "markdown",
      "metadata": {
        "id": "4lueNeOvvVIN",
        "colab_type": "text"
      },
      "source": [
        "From given dictionary:"
      ]
    },
    {
      "cell_type": "markdown",
      "metadata": {
        "id": "TM5_7Ml3vWZY",
        "colab_type": "text"
      },
      "source": [
        "15) Plot a scatter graph."
      ]
    },
    {
      "cell_type": "markdown",
      "metadata": {
        "id": "68kUd9esvdjz",
        "colab_type": "text"
      },
      "source": [
        "16) Plot a histogram."
      ]
    },
    {
      "cell_type": "markdown",
      "metadata": {
        "id": "NqkJiaedvgj5",
        "colab_type": "text"
      },
      "source": [
        "17) Plot a histogram with kernel density estimate."
      ]
    },
    {
      "cell_type": "markdown",
      "metadata": {
        "id": "Tshl2tcrvnfk",
        "colab_type": "text"
      },
      "source": [
        "18) Plot a violin plot."
      ]
    },
    {
      "cell_type": "markdown",
      "metadata": {
        "id": "kr9wxlJlbe3O",
        "colab_type": "text"
      },
      "source": [
        "19) Plot a boxplot."
      ]
    },
    {
      "cell_type": "markdown",
      "metadata": {
        "id": "xNxDjtx4bs5k",
        "colab_type": "text"
      },
      "source": [
        "20) Plot a catplot."
      ]
    },
    {
      "cell_type": "markdown",
      "metadata": {
        "colab_type": "text",
        "id": "QFPSaoyZLcmZ"
      },
      "source": [
        "# Solutions:"
      ]
    },
    {
      "cell_type": "markdown",
      "metadata": {
        "id": "Y9aarE3cjFRQ",
        "colab_type": "text"
      },
      "source": [
        "# Dictionary exercises\n"
      ]
    },
    {
      "cell_type": "markdown",
      "metadata": {
        "id": "8R-x9H4opQsr",
        "colab_type": "text"
      },
      "source": [
        "operator is a built-in module providing a set of convenient operators. In two words operator.itemgetter(n) constructs a callable that assumes an iterable object (e.g. list, tuple, set) as input, and fetches the n-th element out of it."
      ]
    },
    {
      "cell_type": "code",
      "metadata": {
        "id": "TpXZPRJUhjGz",
        "colab_type": "code",
        "outputId": "e5b435cd-0e23-47e9-c8f5-660074c40353",
        "colab": {
          "base_uri": "https://localhost:8080/",
          "height": 34
        }
      },
      "source": [
        "# 1. exercise:\n",
        "dictionary = {1: 20, 0: 10, 2: 30, 5:60, 3:40}\n",
        "from operator import itemgetter \n",
        "import operator\n",
        "ascend_d = sorted(dictionary.items(), key=itemgetter(1))\n",
        "print(ascend_d)"
      ],
      "execution_count": 0,
      "outputs": [
        {
          "output_type": "stream",
          "text": [
            "[(0, 10), (1, 20), (2, 30), (3, 40), (5, 60)]\n"
          ],
          "name": "stdout"
        }
      ]
    },
    {
      "cell_type": "code",
      "metadata": {
        "id": "8j7FeSGjjvdO",
        "colab_type": "code",
        "outputId": "5cb055ad-c68c-4959-fc8b-4b40aad2df63",
        "colab": {
          "base_uri": "https://localhost:8080/",
          "height": 34
        }
      },
      "source": [
        "# 2. exercise:\n",
        "# The code stays the same as for ascending with the difference of adding reverse order and setting it to True.\n",
        "dictionary = {1: 20, 0: 10, 2: 30, 5:60, 3:40}\n",
        "from operator import itemgetter \n",
        "descend_d = sorted(dictionary.items(), key=itemgetter(0), reverse=True)\n",
        "print(descend_d)"
      ],
      "execution_count": 0,
      "outputs": [
        {
          "output_type": "stream",
          "text": [
            "[(5, 60), (3, 40), (2, 30), (1, 20), (0, 10)]\n"
          ],
          "name": "stdout"
        }
      ]
    },
    {
      "cell_type": "code",
      "metadata": {
        "id": "vBxdnRIxt_NW",
        "colab_type": "code",
        "outputId": "9c16eac8-7b4a-48ad-8d5d-6d59a0f363c7",
        "colab": {
          "base_uri": "https://localhost:8080/",
          "height": 34
        }
      },
      "source": [
        "# 3. exercise:\n",
        "# Neither append nor add is usable for dictionary. Do not forget to put the new values into dictionary!!!\n",
        "dictionary = {1: 20, 0: 10, 2: 30, 5:60, 3:40}\n",
        "dictionary.update({6:70})\n",
        "print(dictionary)"
      ],
      "execution_count": 0,
      "outputs": [
        {
          "output_type": "stream",
          "text": [
            "{1: 20, 0: 10, 2: 30, 5: 60, 3: 40, 6: 70}\n"
          ],
          "name": "stdout"
        }
      ]
    },
    {
      "cell_type": "code",
      "metadata": {
        "id": "HCWHO1tG0mbT",
        "colab_type": "code",
        "outputId": "c1fded6d-fc03-4636-9e6d-5f392f6938b9",
        "colab": {
          "base_uri": "https://localhost:8080/",
          "height": 34
        }
      },
      "source": [
        "# 4. exercise:\n",
        "# You can use .add() for set, it takes one argument\n",
        "set = {1, 20, 0, 10, 2, 30, 5, 60, 3, 40}\n",
        "set.add(70)\n",
        "print(set)"
      ],
      "execution_count": 0,
      "outputs": [
        {
          "output_type": "stream",
          "text": [
            "{0, 1, 2, 3, 5, 70, 40, 10, 20, 60, 30}\n"
          ],
          "name": "stdout"
        }
      ]
    },
    {
      "cell_type": "code",
      "metadata": {
        "id": "pp0fypA5CgWe",
        "colab_type": "code",
        "outputId": "1929a42e-18b5-46b2-a6e2-be1beb7e0159",
        "colab": {
          "base_uri": "https://localhost:8080/",
          "height": 54
        }
      },
      "source": [
        "# 5. exercise:\n",
        "# We can use .append() for list (of dictionaries).\n",
        "b = [\n",
        "     {\"name\": \"mRNA\", \"occupation\": \"messenger\", \"id\": 1}, \n",
        "     {\"name\": \"tRNA\", \"occupation\": \"transporter\", \"id\": 2}, \n",
        "     {\"name\": \"rRNA\", \"occupation\": \"ribosome builder\", \"id\": 3}\n",
        "    ]\n",
        "b.append({\"name\": \"miRNA\", \"occupation\": \"silencer\", \"id\": 4})\n",
        "print(b)"
      ],
      "execution_count": 0,
      "outputs": [
        {
          "output_type": "stream",
          "text": [
            "[{'name': 'mRNA', 'occupation': 'messenger', 'id': 1}, {'name': 'tRNA', 'occupation': 'transporter', 'id': 2}, {'name': 'rRNA', 'occupation': 'ribosome builder', 'id': 3}, {'name': 'miRNA', 'occupation': 'silencer', 'id': 4}]\n"
          ],
          "name": "stdout"
        }
      ]
    },
    {
      "cell_type": "code",
      "metadata": {
        "id": "68klmjDcDa4u",
        "colab_type": "code",
        "outputId": "72ea8d1c-8365-41a0-8448-6b25177767c3",
        "colab": {
          "base_uri": "https://localhost:8080/",
          "height": 54
        }
      },
      "source": [
        "# 6. exercise:\n",
        "b = [\n",
        "     {\"name\": \"mRNA\", \"occupation\": \"messenger\", \"id\": 1}, \n",
        "     {\"name\": \"tRNA\", \"occupation\": \"transporter\", \"id\": 2}, \n",
        "     {\"name\": \"rRNA\", \"occupation\": \"ribosome builder\", \"id\": 3},\n",
        "     {\"name\": \"miRNA\", \"occupation\": \"silencer\", \"id\": 4}\n",
        "    ]\n",
        "from operator import itemgetter\n",
        "b_sorted = sorted(b, key=itemgetter(\"id\"), reverse=True)\n",
        "print(b_sorted)"
      ],
      "execution_count": 0,
      "outputs": [
        {
          "output_type": "stream",
          "text": [
            "[{'name': 'miRNA', 'occupation': 'silencer', 'id': 4}, {'name': 'rRNA', 'occupation': 'ribosome builder', 'id': 3}, {'name': 'tRNA', 'occupation': 'transporter', 'id': 2}, {'name': 'mRNA', 'occupation': 'messenger', 'id': 1}]\n"
          ],
          "name": "stdout"
        }
      ]
    },
    {
      "cell_type": "code",
      "metadata": {
        "id": "X4kuFtOJkKW4",
        "colab_type": "code",
        "outputId": "80c4c123-5f98-4bb6-ebbc-6c4138b1b671",
        "colab": {
          "base_uri": "https://localhost:8080/",
          "height": 54
        }
      },
      "source": [
        "# 6. exercise alternatively:\n",
        "# Itemgetter takes as an argument key - occupation in this case, \n",
        "# in this case sort it out alphabetically and in reverse order.\n",
        "from operator import itemgetter \n",
        "d = [\n",
        "     {\"name\": \"mRNA\", \"occupation\": \"messenger\", \"id\": 1}, \n",
        "     {\"name\": \"tRNA\", \"occupation\": \"transporter\", \"id\": 2}, \n",
        "     {\"name\": \"rRNA\", \"occupation\": \"ribosome builder\", \"id\": 3},\n",
        "     {\"name\": \"miRNA\", \"occupation\": \"silencer\", \"id\": 4}\n",
        "    ]\n",
        "import operator\n",
        "d_sort = sorted(d, key=itemgetter(\"occupation\"), reverse=True)\n",
        "print(d_sort)\n"
      ],
      "execution_count": 0,
      "outputs": [
        {
          "output_type": "stream",
          "text": [
            "[{'name': 'tRNA', 'occupation': 'transporter', 'id': 2}, {'name': 'miRNA', 'occupation': 'silencer', 'id': 4}, {'name': 'rRNA', 'occupation': 'ribosome builder', 'id': 3}, {'name': 'mRNA', 'occupation': 'messenger', 'id': 1}]\n"
          ],
          "name": "stdout"
        }
      ]
    },
    {
      "cell_type": "code",
      "metadata": {
        "id": "Kt2o35n3FLWe",
        "colab_type": "code",
        "outputId": "e20601f9-484c-4f5e-862f-118368628165",
        "colab": {
          "base_uri": "https://localhost:8080/",
          "height": 54
        }
      },
      "source": [
        "# 7. exercise:\n",
        "# Value which are strings are sorted alphabetically\n",
        "# Sorting according to the first argument, when itemgetter(\"name\", \"occupation\", \"age\") - the input is sorted based on the name\n",
        "d = [\n",
        "     {\"name\": \"mRNA\", \"occupation\": \"messenger\", \"id\": 1}, \n",
        "     {\"name\": \"tRNA\", \"occupation\": \"transporter\", \"id\": 2}, \n",
        "     {\"name\": \"rRNA\", \"occupation\": \"ribosome builder\", \"id\": 3},\n",
        "     {\"name\": \"miRNA\", \"occupation\": \"silencer\", \"id\": 4}\n",
        "    ]\n",
        "import operator\n",
        "b_sorted = sorted(b, key=itemgetter(\"name\", \"occupation\"))\n",
        "print(b_sorted)"
      ],
      "execution_count": 0,
      "outputs": [
        {
          "output_type": "stream",
          "text": [
            "[{'name': 'mRNA', 'occupation': 'messenger', 'id': 1}, {'name': 'miRNA', 'occupation': 'silencer', 'id': 4}, {'name': 'rRNA', 'occupation': 'ribosome builder', 'id': 3}, {'name': 'tRNA', 'occupation': 'transporter', 'id': 2}]\n"
          ],
          "name": "stdout"
        }
      ]
    },
    {
      "cell_type": "code",
      "metadata": {
        "id": "MPZSaf-ToAWn",
        "colab_type": "code",
        "outputId": "bc72fc85-307b-40c4-e1d9-7910340de543",
        "colab": {
          "base_uri": "https://localhost:8080/",
          "height": 54
        }
      },
      "source": [
        "# 7. exercise alternatively:\n",
        "# Value which are strings are sorted alphabetically\n",
        "# Sorting according to the first argument, when itemgetter(\"name\", \"occupation\", \"age\") - the input is sorted based on the name\n",
        "from operator import itemgetter \n",
        "d = [\n",
        "     {\"name\": \"mRNA\", \"occupation\": \"messenger\", \"id\": 1}, \n",
        "     {\"name\": \"tRNA\", \"occupation\": \"transporter\", \"id\": 2}, \n",
        "     {\"name\": \"rRNA\", \"occupation\": \"ribosome builder\", \"id\": 3},\n",
        "     {\"name\": \"miRNA\", \"occupation\": \"silencer\", \"id\": 4}\n",
        "    ]\n",
        "d_sort = sorted(d, key=itemgetter(\"name\", \"occupation\"))\n",
        "print(d_sort)"
      ],
      "execution_count": 0,
      "outputs": [
        {
          "output_type": "stream",
          "text": [
            "[{'name': 'Dina', 'occupation': 'doctor', 'age': 30}, {'name': 'Don', 'occupation': 'lawyer', 'age': 35}, {'name': 'Donna', 'occupation': 'scientist', 'age': 20}, {'name': 'Doug', 'occupation': 'driver', 'age': 25}]\n"
          ],
          "name": "stdout"
        }
      ]
    },
    {
      "cell_type": "code",
      "metadata": {
        "id": "6jogqFHq37Tw",
        "colab_type": "code",
        "outputId": "ae732560-177b-4728-cd0b-873d2d1d7006",
        "colab": {
          "base_uri": "https://localhost:8080/",
          "height": 34
        }
      },
      "source": [
        "# 8. exercise:\n",
        "# Concatenate dictionaries - be aware; if the keys are the same, the update will assign to the key only the last value.\n",
        "d1 = {89: 39, 75: 5} \n",
        "d2 = {70: 20, 15: 76}\n",
        "d3 = {50: 25, 40: 11}\n",
        "d4 = {}\n",
        "for d in (d1, d2, d3):\n",
        "  d4.update(d)\n",
        "print(d4)"
      ],
      "execution_count": 0,
      "outputs": [
        {
          "output_type": "stream",
          "text": [
            "{89: 39, 75: 5, 70: 20, 15: 76, 50: 25, 40: 11}\n"
          ],
          "name": "stdout"
        }
      ]
    },
    {
      "cell_type": "code",
      "metadata": {
        "id": "xmQP7aufAFTX",
        "colab_type": "code",
        "outputId": "d1ae6b15-e146-44ae-aebd-dd3d9f175da0",
        "colab": {
          "base_uri": "https://localhost:8080/",
          "height": 68
        }
      },
      "source": [
        "# 9. exercise:\n",
        "# First imagine how you would write simple if statement to see if a key is present:\n",
        "if 89 in d4:\n",
        "  print(\"It exists.\")\n",
        "\n",
        "# Now we can write a program that will allow us to ask for an existence of any key outside the function.\n",
        "d4 = {89: 39, 75: 5, 70: 20, 15: 76, 50: 25, 40: 11}\n",
        "# We need to define the function:\n",
        "def if_key_exists(k):\n",
        "  if k in d4:\n",
        "    print(\"It exists.\")\n",
        "  else:\n",
        "    print(\"It does not.\")\n",
        "# Now we can call the function and ask if arbitrary key if it\"s in dictionary.\n",
        "if_key_exists(50)\n",
        "if_key_exists(5)"
      ],
      "execution_count": 0,
      "outputs": [
        {
          "output_type": "stream",
          "text": [
            "It exists.\n",
            "It exists.\n",
            "It does not.\n"
          ],
          "name": "stdout"
        }
      ]
    },
    {
      "cell_type": "code",
      "metadata": {
        "id": "X02vuQcdHRYW",
        "colab_type": "code",
        "outputId": "2146bb00-d8e8-4723-b0aa-ecaad71c48b3",
        "colab": {
          "base_uri": "https://localhost:8080/",
          "height": 68
        }
      },
      "source": [
        "# 10. exercise:\n",
        "dicti = {}\n",
        "for x in range(1,11):\n",
        "  y = x*x\n",
        "  dicti[x] = y\n",
        "print(dicti)\n",
        "\n",
        "# or, if want to make the program fancy and let the user choose different number every time:\n",
        "n = int(input(\"Choose a number: \"))\n",
        "dicti = {}\n",
        "for x in range(1,n+1):\n",
        "  y = x*x\n",
        "  dicti[x] = y\n",
        "print(dicti)"
      ],
      "execution_count": 0,
      "outputs": [
        {
          "output_type": "stream",
          "text": [
            "{1: 1, 2: 4, 3: 9, 4: 16, 5: 25, 6: 36, 7: 49, 8: 64, 9: 81, 10: 100}\n",
            "Choose a number: 4\n",
            "{1: 1, 2: 4, 3: 9, 4: 16}\n"
          ],
          "name": "stdout"
        }
      ]
    },
    {
      "cell_type": "code",
      "metadata": {
        "id": "-jSEQKK04bFi",
        "colab_type": "code",
        "outputId": "2dac99bd-916d-4fed-a091-28c827d4100f",
        "colab": {
          "base_uri": "https://localhost:8080/",
          "height": 34
        }
      },
      "source": [
        "# 11. exercise:\n",
        "# To merge optional number of dictionaries with the same keys without overwriting them you need to use for loop.\n",
        "# The for loop insures that the keys of new dictionary are going to be created from d1. Each of the three keys created in \n",
        "# the new dictionary in the list of dictionaries need to converted to tuple.\n",
        "# You can try to print the values of each of the key, or just one of them, practise.\n",
        "d1 = {\"name\": \"mRNA\", \"occupation\": \"messenger\", \"id\": 1}\n",
        "d2 = {\"name\": \"tRNA\", \"occupation\": \"transporter\", \"id\": 2}\n",
        "d3 = {\"name\": \"rRNA\", \"occupation\": \"ribosome builder\", \"id\": 3}\n",
        "d4 = {\"name\": \"miRNA\", \"occupation\": \"silencer\", \"id\": 4}\n",
        "dd = defaultdict(list)\n",
        "\n",
        "for d in (d1, d2): # you can list as many input dicts as you want here\n",
        "    for key, value in d.items():\n",
        "        dd[key].append(value)\n",
        "\n",
        "print(dd)"
      ],
      "execution_count": 0,
      "outputs": [
        {
          "output_type": "stream",
          "text": [
            "defaultdict(<class 'list'>, {'name': ['mRNA', 'tRNA'], 'occupation': ['messenger', 'transporter'], 'id': [1, 2]})\n"
          ],
          "name": "stdout"
        }
      ]
    },
    {
      "cell_type": "code",
      "metadata": {
        "id": "jh8a8KiTic0F",
        "colab_type": "code",
        "outputId": "6716b880-6080-47c2-824d-924c24a254b2",
        "colab": {
          "base_uri": "https://localhost:8080/",
          "height": 34
        }
      },
      "source": [
        "# 12. exercise:\n",
        "# To sum all the values in the dictionary we need to use sum function.\n",
        "d1 = {\"id1\": 39, \"id2\": 75, \"id3\": 5, \"id4\": 67, \"id5\": 90} \n",
        "print(sum(d1.values()))"
      ],
      "execution_count": 0,
      "outputs": [
        {
          "output_type": "stream",
          "text": [
            "276\n"
          ],
          "name": "stdout"
        }
      ]
    },
    {
      "cell_type": "code",
      "metadata": {
        "id": "3tPZS6A6jiDa",
        "colab_type": "code",
        "outputId": "428d26e3-8d6f-4f0f-e8cf-c703e0294741",
        "colab": {
          "base_uri": "https://localhost:8080/",
          "height": 34
        }
      },
      "source": [
        "# 13. exercise:\n",
        "# To multiply all the items in a dictionary\n",
        "dict_ = {\"id1\": 39, \"id2\": 75, \"id3\": 5, \"id4\": 67, \"id5\": 90} \n",
        "result = 1\n",
        "\n",
        "for key in dict_:\n",
        "  result = result * dict_[key]\n",
        "print(result)"
      ],
      "execution_count": 0,
      "outputs": [
        {
          "output_type": "stream",
          "text": [
            "88188750\n"
          ],
          "name": "stdout"
        }
      ]
    },
    {
      "cell_type": "code",
      "metadata": {
        "id": "7UeSQdOAq15O",
        "colab_type": "code",
        "outputId": "654bac00-15a9-4855-f6e8-80d250650b1e",
        "colab": {
          "base_uri": "https://localhost:8080/",
          "height": 34
        }
      },
      "source": [
        "# 14. exercise:\n",
        "dict_ = {\"id1\": 39, \"id2\": 75, \"id3\": 5, \"id4\": 67, \"id5\": 90} \n",
        "del(dict_[\"id1\"])\n",
        "print(dict_)\n"
      ],
      "execution_count": 0,
      "outputs": [
        {
          "output_type": "stream",
          "text": [
            "{'id2': 75, 'id3': 5, 'id4': 67, 'id5': 90}\n"
          ],
          "name": "stdout"
        }
      ]
    },
    {
      "cell_type": "code",
      "metadata": {
        "id": "LwYu4qTd4tIS",
        "colab_type": "code",
        "outputId": "c8ff83f5-8d99-42fb-8b32-e04bf7a4df74",
        "colab": {
          "base_uri": "https://localhost:8080/",
          "height": 34
        }
      },
      "source": [
        "# 15. exercise:\n",
        "keys = [\"mRNA\", \"tRNA\", \"miRNA\", \"rRNA\"]\n",
        "values = [\"messenger\", \"transporter\", \"silencer\", \"ribosome builder\"]\n",
        "dictionary = dict(zip(keys, values))\n",
        "print(dictionary)"
      ],
      "execution_count": 0,
      "outputs": [
        {
          "output_type": "stream",
          "text": [
            "{'mRNA': 'messenger', 'tRNA': 'transporter', 'miRNA': 'silencer', 'rRNA': 'ribosome builder'}\n"
          ],
          "name": "stdout"
        }
      ]
    },
    {
      "cell_type": "code",
      "metadata": {
        "id": "2Ej7E4zw5b6R",
        "colab_type": "code",
        "outputId": "5a49faac-80d0-4ca6-8dcd-76e84375f3fa",
        "colab": {
          "base_uri": "https://localhost:8080/",
          "height": 34
        }
      },
      "source": [
        "# 16. exercise:\n",
        "dictionary = {\"mRNA\": \"messenger\", \"tRNA\": \"transporter\", \"miRNA\": \"silencer\", \"rRNA\": \"ribosome builder\"}\n",
        "from operator import itemgetter\n",
        "dictionary_sorted = sorted(dictionary.items(), key=itemgetter(0))\n",
        "print(dictionary_sorted)"
      ],
      "execution_count": 0,
      "outputs": [
        {
          "output_type": "stream",
          "text": [
            "[('mRNA', 'messenger'), ('miRNA', 'silencer'), ('rRNA', 'ribosome builder'), ('tRNA', 'transporter')]\n"
          ],
          "name": "stdout"
        }
      ]
    },
    {
      "cell_type": "code",
      "metadata": {
        "id": "600GPIZoZGq7",
        "colab_type": "code",
        "outputId": "5b942ed8-84ed-45b4-fa3e-90dffc5f17d6",
        "colab": {
          "base_uri": "https://localhost:8080/",
          "height": 54
        }
      },
      "source": [
        "# 17. exercise:\n",
        "methods = {\"id1\": \n",
        "   {\"name\": [\"Deep Learning\"], \n",
        "    \"techniques\": [\"Fully Connected Neural Networks, Convolutional Neural Networks, Recurrent Neural Network, Generative Adversarial Networks,Deep Reinforcement Learning.\"]\n",
        "   },\n",
        " \"id2\": \n",
        "  {\"name\": [\"Machine learning\"], \n",
        "    \"techniques\": [\"Regression, Classification, Clustering, Dimensionality Reduction, Ensemble Methods, Neural Nets and Deep Learning, Transfer Learning, Reinforcement Learning.\"]\n",
        "   },\n",
        "  \"id3\": \n",
        "   {\"name\": [\"Deep Learning\"], \n",
        "    \"techniques\": [\"Fully Connected Neural Networks, Convolutional Neural Networks, Recurrent Neural Network, Generative Adversarial Networks,Deep Reinforcement Learning.\"]\n",
        "   }\n",
        "}\n",
        "result = {}\n",
        "\n",
        "for key,value in methods.items():\n",
        "    if value not in result.values():\n",
        "        result[key] = value\n",
        "\n",
        "print(result)"
      ],
      "execution_count": 0,
      "outputs": [
        {
          "output_type": "stream",
          "text": [
            "{'id1': {'name': ['Deep Learning'], 'techniques': ['Fully Connected Neural Networks, Convolutional Neural Networks, Recurrent Neural Network, Generative Adversarial Networks,Deep Reinforcement Learning.']}, 'id2': {'name': ['Machine learning'], 'techniques': ['Regression, Classification, Clustering, Dimensionality Reduction, Ensemble Methods, Neural Nets and Deep Learning, Transfer Learning, Reinforcement Learning.']}}\n"
          ],
          "name": "stdout"
        }
      ]
    },
    {
      "cell_type": "code",
      "metadata": {
        "id": "vUnDme8CHS_l",
        "colab_type": "code",
        "outputId": "65ed4d3d-0182-4ed7-e78d-9ac589f1cb48",
        "colab": {
          "base_uri": "https://localhost:8080/",
          "height": 51
        }
      },
      "source": [
        "# 18. exercise:\n",
        "l = [{\"V\":\"S001\"}, {\"V\": \"S002\"}, {\"VI\": \"S001\"}, {\"VI\": \"S005\"}, {\"VII\":\"S005\"}, {\"V\":\"S009\"},{\"VIII\":\"S007\"}]\n",
        "print(\"Original List: \", l)\n",
        "u_value = set(val for dic in l for val in dic.values())\n",
        "print(\"Unique Values: \",u_value)"
      ],
      "execution_count": 0,
      "outputs": [
        {
          "output_type": "stream",
          "text": [
            "Original List:  [{'V': 'S001'}, {'V': 'S002'}, {'VI': 'S001'}, {'VI': 'S005'}, {'VII': 'S005'}, {'V': 'S009'}, {'VIII': 'S007'}]\n",
            "Unique Values:  {'S002', 'S009', 'S001', 'S005', 'S007'}\n"
          ],
          "name": "stdout"
        }
      ]
    },
    {
      "cell_type": "code",
      "metadata": {
        "id": "6NC7_mCpIuRe",
        "colab_type": "code",
        "outputId": "4526348c-ff0a-44a2-fdc3-ed5f075cbdce",
        "colab": {
          "base_uri": "https://localhost:8080/",
          "height": 34
        }
      },
      "source": [
        "# 19. exercise:\n",
        "from collections import defaultdict, Counter\n",
        "str1 = \"ATGCTTTTCAAGGT\"\n",
        "my_dict = {}\n",
        "for letter in str1:\n",
        "    my_dict[letter] = my_dict.get(letter, 0) + 1\n",
        "print(my_dict)"
      ],
      "execution_count": 0,
      "outputs": [
        {
          "output_type": "stream",
          "text": [
            "{'A': 3, 'T': 6, 'G': 3, 'C': 2}\n"
          ],
          "name": "stdout"
        }
      ]
    },
    {
      "cell_type": "code",
      "metadata": {
        "id": "I4-3iAhwORVw",
        "colab_type": "code",
        "outputId": "68601bb3-df57-442f-d62b-292998567fbb",
        "colab": {
          "base_uri": "https://localhost:8080/",
          "height": 153
        }
      },
      "source": [
        "# 20. exercise:\n",
        "bases = {\"id1\": {\"A\": 3}, \"id2\": {\"T\": 6}, \"id3\": {\"G\": 3}, \"id4\": {\"C\": 2}}\n",
        "for i in bases:\n",
        "    print(i)\n",
        "    for b in bases[i]:\n",
        "        print (b, \":\", bases[i][b])"
      ],
      "execution_count": 0,
      "outputs": [
        {
          "output_type": "stream",
          "text": [
            "id1\n",
            "A : 3\n",
            "id2\n",
            "T : 6\n",
            "id3\n",
            "G : 3\n",
            "id4\n",
            "C : 2\n"
          ],
          "name": "stdout"
        }
      ]
    },
    {
      "cell_type": "markdown",
      "metadata": {
        "id": "uW6Ru61Qehh4",
        "colab_type": "text"
      },
      "source": [
        "# Datastructure exercises: "
      ]
    },
    {
      "cell_type": "code",
      "metadata": {
        "id": "26J6O3uGeeEP",
        "colab_type": "code",
        "outputId": "030695bd-f454-42e0-c1ce-05c711f47b34",
        "colab": {
          "base_uri": "https://localhost:8080/",
          "height": 68
        }
      },
      "source": [
        "# 1. exercise:\n",
        "# We use Enum to create enumerations - name (number) with constant values \n",
        "# To display each of the names we use: class.speicificname.name, to display their values we type: class.speicificname.value\n",
        "from enum import Enum\n",
        "class Country(Enum):\n",
        "    Afghanistan = 93\n",
        "    Albania = 355\n",
        "    Algeria = 213\n",
        "    Andorra = 376\n",
        "    Angola = 244\n",
        "    Antarctica = 672\n",
        "print(\"\\nMember name: {}\".format(Country.Albania.name))\n",
        "print(\"Member value: {}\".format(Country.Albania.value))"
      ],
      "execution_count": 0,
      "outputs": [
        {
          "output_type": "stream",
          "text": [
            "\n",
            "Member name: Albania\n",
            "Member value: 355\n"
          ],
          "name": "stdout"
        }
      ]
    },
    {
      "cell_type": "code",
      "metadata": {
        "id": "LbwcUAxtfema",
        "colab_type": "code",
        "outputId": "bf80f4b7-4159-4477-a735-f9c212824905",
        "colab": {
          "base_uri": "https://localhost:8080/",
          "height": 119
        }
      },
      "source": [
        "# 2. exercise:\n",
        "# To display both the name and the value, we use \"{}={}\".format(data.name, data.value) - the name will be written in the first curly \n",
        "# brackets, the value in the second one. We can thus change the format of the output.\n",
        "from enum import Enum\n",
        "class Country(Enum):\n",
        "    Afghanistan = 93\n",
        "    Albania = 355\n",
        "    Algeria = 213\n",
        "    Andorra = 376\n",
        "    Angola = 244\n",
        "    Antarctica = 672\n",
        "for data in Country:\n",
        "    print(\"{}={}\".format(data.name, data.value))"
      ],
      "execution_count": 0,
      "outputs": [
        {
          "output_type": "stream",
          "text": [
            "Afghanistan:93\n",
            "Albania:355\n",
            "Algeria:213\n",
            "Andorra:376\n",
            "Angola:244\n",
            "Antarctica:672\n"
          ],
          "name": "stdout"
        }
      ]
    },
    {
      "cell_type": "code",
      "metadata": {
        "id": "Aet3j7B5lcmO",
        "colab_type": "code",
        "outputId": "f6123b94-f66e-4c82-8246-19e188f55267",
        "colab": {
          "base_uri": "https://localhost:8080/",
          "height": 136
        }
      },
      "source": [
        "# 3. exercise:\n",
        "# To sort out the names in the class based on their values, we need to create subclass of integer - enumerated constants enum.IntEnum.\n",
        "# Neither we can sort Country (it has no sorted function) nor we can iterate over values in data. \n",
        "# We need to use elaborate code: c.name for c in sorted(Country)) to print the country name of the sorted Country values.\n",
        "import enum\n",
        "class Country(enum.IntEnum):\n",
        "    Afghanistan = 93\n",
        "    Albania = 355\n",
        "    Algeria = 213\n",
        "    Andorra = 376\n",
        "    Angola = 244\n",
        "    Antarctica = 672\n",
        "\n",
        "print(\"Country Name ordered by Country Code:\")\n",
        "print(\"\\n\".join(\"  \" + c.name for c in sorted(Country)))"
      ],
      "execution_count": 0,
      "outputs": [
        {
          "output_type": "stream",
          "text": [
            "Country Name ordered by Country Code:\n",
            "  Afghanistan\n",
            "  Algeria\n",
            "  Angola\n",
            "  Albania\n",
            "  Andorra\n",
            "  Antarctica\n"
          ],
          "name": "stdout"
        }
      ]
    },
    {
      "cell_type": "code",
      "metadata": {
        "id": "GZZsmZRKlu0k",
        "colab_type": "code",
        "outputId": "b20257af-a097-41b3-b702-6fb3ce92d3e4",
        "colab": {
          "base_uri": "https://localhost:8080/",
          "height": 34
        }
      },
      "source": [
        "# 4. exercise:\n",
        "# To print just the value of Enum, we use map function. It takes two arguments - function (int) and list (Country). The output is then iterator\n",
        "# displaying only one value at a time - by transforming it to a list we display all values at once.\n",
        "from enum import IntEnum\n",
        "class Country(IntEnum):\n",
        "    Afghanistan = 93\n",
        "    Albania = 355\n",
        "    Algeria = 213\n",
        "    Andorra = 376\n",
        "    Angola = 244\n",
        "    Antarctica = 672\n",
        "country_code_list = list(map(int, Country))\n",
        "print(country_code_list)"
      ],
      "execution_count": 0,
      "outputs": [
        {
          "output_type": "stream",
          "text": [
            "[93, 355, 213, 376, 244, 672]\n"
          ],
          "name": "stdout"
        }
      ]
    },
    {
      "cell_type": "code",
      "metadata": {
        "id": "IZb0iAm0nRs8",
        "colab_type": "code",
        "outputId": "44a7d58c-a17c-459e-ddc2-6a330d4e3fe8",
        "colab": {
          "base_uri": "https://localhost:8080/",
          "height": 34
        }
      },
      "source": [
        "# 5. exercise:\n",
        "# To count the most common words, we use Counter with words as an argument and subsequently most_common method with argument\n",
        "# of the number of the words.\n",
        "words = [\n",
        "   \"mRNA\", \"miRNA\", \"mRNA\", \"mRNA\", \"mRNA\", \"tRNA\", \"mRNA\", \"mRNA\", \"miRNA\", \"tRNA\", \n",
        "   \"tRNA\", \"rRNA\", \"rRNA\", \"mRNA\", \"mRNA\", \"miRNA\", \"rRNA\", \"mRNA\", \"tRNA\", \"tRNA\",\n",
        "   \"rRNA\", \"rRNA\", \"rRNA\", \"rRNA\", \"mRNA\", \"miRNA\", \"rRNA\", \"miRNA\", \"tRNA\", \"tRNA\",\n",
        "]\n",
        "from collections import Counter\n",
        "word_counts = Counter(words)\n",
        "top_four = word_counts.most_common(4)\n",
        "print(top_four)"
      ],
      "execution_count": 0,
      "outputs": [
        {
          "output_type": "stream",
          "text": [
            "[('mRNA', 10), ('rRNA', 8), ('tRNA', 7), ('miRNA', 5)]\n"
          ],
          "name": "stdout"
        }
      ]
    },
    {
      "cell_type": "code",
      "metadata": {
        "colab_type": "code",
        "outputId": "313e51e7-3f52-441b-f9bc-a89d7d0e1081",
        "id": "CCkEvVb6Bs39",
        "colab": {
          "base_uri": "https://localhost:8080/",
          "height": 34
        }
      },
      "source": [
        "# 6. exercise:\n",
        "from collections import defaultdict\n",
        "\n",
        "subject = (\n",
        "  (\"Math\", 3),\n",
        "  (\"Genomics\", 1),\n",
        "  (\"Genomics\", 2),\n",
        "  (\"Bioinformatics\", 2),\n",
        "  (\"Data science\", 1),\n",
        "  (\"Bioinformatics\", 1),\n",
        ")\n",
        "d = defaultdict(list)\n",
        "for k, v in subject:\n",
        "    d[k].append(v)\n",
        "print(sorted(d.items()))"
      ],
      "execution_count": 0,
      "outputs": [
        {
          "output_type": "stream",
          "text": [
            "[('Bioinformatics', [2, 1]), ('Data science', [1]), ('Genomics', [1, 2]), ('Math', [3])]\n"
          ],
          "name": "stdout"
        }
      ]
    },
    {
      "cell_type": "code",
      "metadata": {
        "id": "tU5Rp43jSZVI",
        "colab_type": "code",
        "outputId": "0c61a0eb-1e63-4e29-b6a7-9d3d8ef7fd87",
        "colab": {
          "base_uri": "https://localhost:8080/",
          "height": 85
        }
      },
      "source": [
        "# 7. exercise:\n",
        "import bisect\n",
        "l = [61, 29, 15, 97, 58, 60, 80, 31, 38, 52, 133, 74, 57]\n",
        "\n",
        "print(\"Original List:\")\n",
        "print(l)\n",
        "sorted_list = []\n",
        "for i in l:\n",
        "    position = bisect.bisect(sorted_list, i)\n",
        "    bisect.insort(sorted_list, i)\n",
        "print(\"Sorted List:\")\n",
        "print(sorted_list)"
      ],
      "execution_count": 0,
      "outputs": [
        {
          "output_type": "stream",
          "text": [
            "Original List:\n",
            "[61, 29, 15, 97, 58, 60, 80, 31, 38, 52, 133, 74, 57]\n",
            "Sorted List:\n",
            "[15, 29, 31, 38, 52, 57, 58, 60, 61, 74, 80, 97, 133]\n"
          ],
          "name": "stdout"
        }
      ]
    },
    {
      "cell_type": "code",
      "metadata": {
        "id": "z11B9hXPUZyV",
        "colab_type": "code",
        "outputId": "3c889e95-6ec9-4f5a-b744-e56b32291ead",
        "colab": {
          "base_uri": "https://localhost:8080/",
          "height": 51
        }
      },
      "source": [
        "# 8. exercise:\n",
        "import heapq\n",
        "l = [61, 29, 15, 97, 58, 60, 80, 31, 38, 52, 133, 74, 57]\n",
        "print(heapq.nlargest(3,l))\n",
        "print(heapq.nsmallest(3,l))"
      ],
      "execution_count": 0,
      "outputs": [
        {
          "output_type": "stream",
          "text": [
            "[133, 97, 80]\n",
            "[15, 29, 31]\n"
          ],
          "name": "stdout"
        }
      ]
    },
    {
      "cell_type": "code",
      "metadata": {
        "id": "4wMX0jF8tCnF",
        "colab_type": "code",
        "outputId": "ef891d27-24ab-44d4-adbc-58a72cb38b64",
        "colab": {
          "base_uri": "https://localhost:8080/",
          "height": 85
        }
      },
      "source": [
        "# 9. exercise:\n",
        "chr9 =  {184, 47, 187, 121, 58, 53, 104, 71, 73, 105, 72, 100, 136, 72, 103, 108, 80, 89, 139, 72,}\n",
        "print(\"Chromosome 9\", chr9)\n",
        "\n",
        "sampleList = list(set(chr9))\n",
        "print(\"unique list\", chr9)\n",
        "\n",
        "\n",
        "print(\"Minimum number is: \", min(tuple))\n",
        "print(\"Maximum number is: \", max(tuple))"
      ],
      "execution_count": 0,
      "outputs": [
        {
          "output_type": "stream",
          "text": [
            "Chromosome 9 {89, 100, 71, 104, 73, 105, 72, 136, 103, 108, 47, 80, 139, 53, 184, 121, 58, 187}\n",
            "unique list {89, 100, 71, 104, 73, 105, 72, 136, 103, 108, 47, 80, 139, 53, 184, 121, 58, 187}\n",
            "Minimum number is:  47\n",
            "Maximum number is:  187\n"
          ],
          "name": "stdout"
        }
      ]
    },
    {
      "cell_type": "code",
      "metadata": {
        "id": "3Kp1yKoVmod4",
        "colab_type": "code",
        "outputId": "94678fc7-9fcc-4b7f-ea15-b5d87c892a84",
        "colab": {
          "base_uri": "https://localhost:8080/",
          "height": 85
        }
      },
      "source": [
        "# 10. exercise:\n",
        "chr9 =  {184, 47, 187, 121, 58, 53, 104, 71, 73, 105, 72, 100, 136, 72, 103, 108, 80, 89, 139, 72,}\n",
        "chr3 =  {100, 73, 78, 61, 29, 15, 97, 58, 60, 80, 31, 38, 52, 133, 74, 57, 50, 53, 103, 65, 111, 85}\n",
        "\n",
        "print(\"Chromosome 9:\", chr9)\n",
        "print(\"Chromosome 3:\", chr3)\n",
        "\n",
        "intersection = chr9.intersection(chr3)\n",
        "print(\"Intersection is \", intersection)\n",
        "for item in intersection:\n",
        "  chr9.remove(item)\n",
        "\n",
        "print(\"Chr9 after removing common elements:\", chr9)"
      ],
      "execution_count": 0,
      "outputs": [
        {
          "output_type": "stream",
          "text": [
            "Chromosome 9: {89, 100, 71, 104, 73, 105, 72, 136, 103, 108, 47, 80, 139, 53, 184, 121, 58, 187}\n",
            "Chromosome 3: {133, 15, 29, 31, 38, 50, 52, 53, 57, 58, 60, 61, 65, 73, 74, 78, 80, 85, 97, 100, 103, 111}\n",
            "Intersection is  {100, 103, 73, 80, 53, 58}\n",
            "Chr9 after removing common elements: {89, 71, 104, 105, 72, 136, 108, 47, 139, 184, 121, 187}\n"
          ],
          "name": "stdout"
        }
      ]
    },
    {
      "cell_type": "markdown",
      "metadata": {
        "id": "_FNP_nOWgDIX",
        "colab_type": "text"
      },
      "source": [
        "#Chromosomes and intervals"
      ]
    },
    {
      "cell_type": "code",
      "metadata": {
        "colab_type": "code",
        "outputId": "52cb0943-8896-4b0b-cafe-8672e058bd57",
        "id": "Ja1IF-i1LcmP",
        "colab": {
          "base_uri": "https://localhost:8080/",
          "height": 187
        }
      },
      "source": [
        "# 1. exercise:\n",
        "# We need to iterate over the dictionary with \"for\" loop to be able to print out all the names of the chromosomes\n",
        "# The chromosome names are keys, therefore we can easily print the key of each one of them\n",
        "dictionary = {\"chr9\": [144, 55, 39, 26, 77], \"chr3\": [80, 87, 267, 48, 14], \"chr5\": [56, 33, 90, 75, 45], \"chr1\": [61, 63, 70, 35, 95], \"chr7\": [81, 34, 79, 43, 11] }\n",
        "\n",
        "for key in dictionary:\n",
        "  print(key)\n",
        "\n",
        "# We can also name the key chrom_name for simplicity and for the sake of further exercises\n",
        "for key in dictionary:\n",
        "  chrom_name = key\n",
        "  print(chrom_name)\n",
        "interval = dictionary[chrom_name]"
      ],
      "execution_count": 0,
      "outputs": [
        {
          "output_type": "stream",
          "text": [
            "chr9\n",
            "chr3\n",
            "chr5\n",
            "chr1\n",
            "chr7\n",
            "chr9\n",
            "chr3\n",
            "chr5\n",
            "chr1\n",
            "chr7\n"
          ],
          "name": "stdout"
        }
      ]
    },
    {
      "cell_type": "code",
      "metadata": {
        "id": "QGlS73o2Nfpf",
        "colab_type": "code",
        "outputId": "3a204977-d511-4140-be7c-1bab1a75086c",
        "colab": {
          "base_uri": "https://localhost:8080/",
          "height": 102
        }
      },
      "source": [
        "# 2. exercise:\n",
        "for chrom_name in dictionary:\n",
        "  print(len(chrom_name))"
      ],
      "execution_count": 0,
      "outputs": [
        {
          "output_type": "stream",
          "text": [
            "4\n",
            "4\n",
            "4\n",
            "4\n",
            "4\n"
          ],
          "name": "stdout"
        }
      ]
    },
    {
      "cell_type": "code",
      "metadata": {
        "id": "pMy6ieyWN-A4",
        "colab_type": "code",
        "outputId": "ce1c296d-b989-4e88-c739-85c6ca9deb4d",
        "colab": {
          "base_uri": "https://localhost:8080/",
          "height": 102
        }
      },
      "source": [
        "# 3. exercise:\n",
        "# We want to print out the fourth character therefore we need to write the third index - in this case we are going to print\n",
        "# the number in each of the \"chr\".\n",
        "# Remember that indexing in Python starts from 0!\n",
        "for chrom_name in dictionary:\n",
        "  print(chrom_name[3])"
      ],
      "execution_count": 0,
      "outputs": [
        {
          "output_type": "stream",
          "text": [
            "9\n",
            "3\n",
            "5\n",
            "1\n",
            "7\n"
          ],
          "name": "stdout"
        }
      ]
    },
    {
      "cell_type": "code",
      "metadata": {
        "id": "Vr971_mVbDwL",
        "colab_type": "code",
        "outputId": "8a927713-a1a2-4959-e7d6-ff99104cc715",
        "colab": {
          "base_uri": "https://localhost:8080/",
          "height": 102
        }
      },
      "source": [
        "# 4. exercise:\n",
        "# Writing dictionary[chrom_name] will actually make Python look inside the each of the chromosomes\" sublist where the intervals are saved.\n",
        "# This can be confusing - thus we will practise it in exercise 5. Take your time to be sure you fully understand the principle.\n",
        "for chrom_name in dictionary:\n",
        "  print(dictionary[chrom_name])"
      ],
      "execution_count": 0,
      "outputs": [
        {
          "output_type": "stream",
          "text": [
            "[144, 55, 39, 26, 77]\n",
            "[80, 87, 267, 48, 14]\n",
            "[56, 33, 90, 75, 45]\n",
            "[61, 63, 70, 35, 95]\n",
            "[81, 34, 79, 43, 11]\n"
          ],
          "name": "stdout"
        }
      ]
    },
    {
      "cell_type": "code",
      "metadata": {
        "id": "3bJs7jsRPECK",
        "colab_type": "code",
        "outputId": "8e10813e-992c-4867-8e2a-f8f4583ff5b9",
        "colab": {
          "base_uri": "https://localhost:8080/",
          "height": 34
        }
      },
      "source": [
        "# 5. exercise:\n",
        "# Notice that we do not use an indent because we are printing merely one of the chromosome\"s contents so there is \n",
        "# no need to iterate over the dictionary.\n",
        "print(dictionary[\"chr3\"])"
      ],
      "execution_count": 0,
      "outputs": [
        {
          "output_type": "stream",
          "text": [
            "[80, 87, 267, 48, 14]\n"
          ],
          "name": "stdout"
        }
      ]
    },
    {
      "cell_type": "code",
      "metadata": {
        "id": "LgYyehKtb997",
        "colab_type": "code",
        "outputId": "ef46a870-76c3-47a1-fef4-0bcab1293f07",
        "colab": {
          "base_uri": "https://localhost:8080/",
          "height": 102
        }
      },
      "source": [
        "# 6. exercise:\n",
        "# The slice form is following: [start_point:end_point:step]. Since we want to go by step of 1, we do not need to write it and python\n",
        "# will automatically do it for us.\n",
        "# To print the first interval we need to restrict the slice; remember, the start point is inclusive and the end point is exclusive!\n",
        "# In this case we are printing only the index 0 for each chromosome thus we need to print [0:1]. Since we are printing from the \n",
        "# beginning, we can omit the start point index [:1].  \n",
        "for chrom_name in dictionary:\n",
        "  print(dictionary[chrom_name][0:1])"
      ],
      "execution_count": 0,
      "outputs": [
        {
          "output_type": "stream",
          "text": [
            "[144]\n",
            "[80]\n",
            "[56]\n",
            "[61]\n",
            "[81]\n"
          ],
          "name": "stdout"
        }
      ]
    },
    {
      "cell_type": "code",
      "metadata": {
        "id": "gbXGsbnbfdhb",
        "colab_type": "code",
        "outputId": "e656f30e-ff66-4040-be62-6405296a2ca2",
        "colab": {
          "base_uri": "https://localhost:8080/",
          "height": 34
        }
      },
      "source": [
        "# 7. exercise:\n",
        "print(dictionary[\"chr7\"][2:3])"
      ],
      "execution_count": 0,
      "outputs": [
        {
          "output_type": "stream",
          "text": [
            "[79]\n"
          ],
          "name": "stdout"
        }
      ]
    },
    {
      "cell_type": "code",
      "metadata": {
        "id": "Bw8cgdXFQW3f",
        "colab_type": "code",
        "outputId": "c09b913b-3e86-460e-9509-0772e0a14124",
        "colab": {
          "base_uri": "https://localhost:8080/",
          "height": 102
        }
      },
      "source": [
        "# 8. exercise:\n",
        "# As said above: [start_point:end_point:step].\n",
        "for chrom_name in dictionary:\n",
        "  print(dictionary[chrom_name][::2])"
      ],
      "execution_count": 0,
      "outputs": [
        {
          "output_type": "stream",
          "text": [
            "[144, 39, 77]\n",
            "[80, 267, 14]\n",
            "[56, 90, 45]\n",
            "[61, 70, 95]\n",
            "[81, 79, 11]\n"
          ],
          "name": "stdout"
        }
      ]
    },
    {
      "cell_type": "code",
      "metadata": {
        "id": "nFF1mlzayXs3",
        "colab_type": "code",
        "outputId": "7aade891-5465-4f07-8936-2b03e19bce74",
        "colab": {
          "base_uri": "https://localhost:8080/",
          "height": 265
        }
      },
      "source": [
        "# 9. exercise:\n",
        "# I. type of graph - scatter plot\n",
        "# To plot a scatter graph for the dictionary we need to import seaborn, matplotlib, pandas. \n",
        "import seaborn as sns\n",
        "import matplotlib.pyplot as plt\n",
        "import pandas as pd\n",
        "\n",
        "d = {\"chr9\": [144, 55, 39, 26, 77], \"chr3\": [80, 87, 267, 48, 14], \"chr5\": [56, 33, 90, 75, 45], \"chr1\": [61, 63, 70, 35, 95], \"chr7\": [81, 34, 79, 43, 11] }\n",
        "\n",
        "# This way is too elaborate.\n",
        "y = [(144, 55, 39, 26, 77),(80, 87, 267, 48, 14), (56, 33, 90, 75, 45), (61, 63, 70, 35, 95), (81, 34, 79, 43, 11)]\n",
        "x = [\"chr9\", \"chr3\", \"chr5\", \"chr1\", \"chr7\"]\n",
        "\n",
        "# Plotting each of the axes separately.\n",
        "for xe, ye in zip(x, y):\n",
        "    plt.scatter([xe] * len(ye), ye)"
      ],
      "execution_count": 0,
      "outputs": [
        {
          "output_type": "display_data",
          "data": {
            "image/png": "[encoded data removed]",
            "text/plain": [
              "<Figure size 432x288 with 1 Axes>"
            ]
          },
          "metadata": {
            "tags": []
          }
        }
      ]
    },
    {
      "cell_type": "code",
      "metadata": {
        "id": "NJ-73v0ZA5dp",
        "colab_type": "code",
        "outputId": "d1d67142-db75-4a03-d6f5-bded33c90125",
        "colab": {
          "base_uri": "https://localhost:8080/",
          "height": 350
        }
      },
      "source": [
        "# 10. exercise:\n",
        "# II. type of graph - histogram\n",
        "import seaborn as sns\n",
        "\n",
        "d = {\"chr9\": [144, 55, 39, 26, 77], \"chr3\": [80, 87, 267, 48, 14], \"chr5\": [56, 33, 90, 75, 45], \"chr1\": [61, 63, 70, 35, 95], \"chr7\": [81, 34, 79, 43, 11] }\n",
        "\n",
        "# Split the dictionary into lines and plot distribution plot for each of them\n",
        "for line in d:\n",
        "  line = line.split(\"\\t\")\n",
        "  key = line[0].strip()\n",
        "  print(key)\n",
        "  sns.distplot(d[key], kde=False, color=\"blue\", bins=10)"
      ],
      "execution_count": 0,
      "outputs": [
        {
          "output_type": "stream",
          "text": [
            "chr9\n",
            "chr3\n",
            "chr5\n",
            "chr1\n",
            "chr7\n"
          ],
          "name": "stdout"
        },
        {
          "output_type": "display_data",
          "data": {
            "image/png": "[encoded data removed]",
            "text/plain": [
              "<Figure size 432x288 with 1 Axes>"
            ]
          },
          "metadata": {
            "tags": []
          }
        }
      ]
    },
    {
      "cell_type": "code",
      "metadata": {
        "id": "AYjZ89aMAlx_",
        "colab_type": "code",
        "outputId": "e3a5f0f6-3446-49fd-dd29-bf9bb57d3056",
        "colab": {
          "base_uri": "https://localhost:8080/",
          "height": 428
        }
      },
      "source": [
        "# 11. exercise:\n",
        "# III. type of graph - plot with kernel density estimate and histogram \n",
        "# https://python-graph-gallery.com/25-histogram-with-several-variables-seaborn/\n",
        "\n",
        "import seaborn as sns\n",
        "import matplotlib.pyplot as plt\n",
        "import pandas as pd\n",
        "\n",
        "d = {\"chr9\": [144, 55, 39, 26, 77], \"chr3\": [80, 87, 267, 48, 14], \"chr5\": [56, 33, 90, 75, 45], \"chr1\": [61, 63, 70, 35, 95], \"chr7\": [81, 34, 79, 43, 11] }\n",
        "\n",
        "f, axes = plt.subplots(2, 2, figsize=(7, 7), sharex=True)\n",
        "# The first integer is number of rows, the second one is number of columns.\n",
        "# Setting sharex to True enables global sharing across the whole grid, also the y-axes \n",
        "# of vertically stacked subplots have the same scale when using sharey=True.\n",
        "\n",
        "for index, chromosome in enumerate(d):\n",
        "    # create data\n",
        "    test=pd.Series(data=d[chromosome])\n",
        "    if index == 0:\n",
        "      sns.distplot( test , color=\"pink\", ax=axes[0, 0])\n",
        "    elif index == 1:\n",
        "      sns.distplot( test , color=\"blue\", ax=axes[1, 0])\n",
        "    elif index == 2:\n",
        "      sns.distplot( test , color=\"green\", ax=axes[0, 1])\n",
        "    else:\n",
        "      sns.distplot( test , color=\"red\", ax=axes[1, 1])"
      ],
      "execution_count": 0,
      "outputs": [
        {
          "output_type": "display_data",
          "data": {
            "image/png": "[encoded data removed]",
            "text/plain": [
              "<Figure size 504x504 with 4 Axes>"
            ]
          },
          "metadata": {
            "tags": []
          }
        }
      ]
    },
    {
      "cell_type": "code",
      "metadata": {
        "id": "_qFasBhdfcJu",
        "colab_type": "code",
        "outputId": "c85e5310-c45b-40d7-d62d-837fefdf0a3a",
        "colab": {
          "base_uri": "https://localhost:8080/",
          "height": 347
        }
      },
      "source": [
        "# 12. exercise:\n",
        "# IV. type of graph - violin plot\n",
        "import pandas as pd\n",
        "import matplotlib.pyplot as plt\n",
        "\n",
        "# A list of dictionary:\n",
        "d = {\"chr9\": [144, 55, 39, 26, 77], \"chr3\": [80, 87, 267, 48, 14], \"chr5\": [56, 33, 90, 75, 45], \"chr1\": [61, 63, 70, 35, 95], \"chr7\": [81, 34, 79, 43, 11] }\n",
        "\n",
        "# First, we need to create an empty list where we save the daraframe later.\n",
        "df_list = list()\n",
        "\n",
        "for chrom_name, value in d.items():\n",
        "\n",
        "# Second, we need to create a series where we are going to store the values from the dictionary.\n",
        "  df_series = pd.Series(value)\n",
        "\n",
        "# Third, we need to create dataframe from this series where the column stores intervals\n",
        "  df = pd.DataFrame(df_series, columns = [\"intervals\"])\n",
        "\n",
        "# Fourth, the column chrom is going to be created from chrom_name.\n",
        "  df[\"chrom\"] = chrom_name\n",
        "\n",
        "# Fifth, we append each new dataframe to the gradually filled list.\n",
        "  df_list.append(df)\n",
        "\n",
        "# Note - this print function is simply informative, it has no other role in the code\n",
        "  print(\"the list is now:\", len(df_list), \"add new chromosome\", chrom_name)\n",
        "\n",
        "# Finally, the dataframe is being created via concatenation of the five lists.\n",
        "final_df = pd.concat( df_list, axis=0)\n",
        "final_df\n",
        "\n",
        "#f = final_df.groupby(\"chrom\") \n",
        "f = final_df[final_df.chrom == \"chr9\"].transpose()\n",
        "print(f)\n",
        "\n",
        "#f.plot(kind=\"bar\",x=\"chrom\",y=\"intervals\")\n",
        "sns.violinplot(x=\"chrom\", y=\"intervals\", data=final_df, cut=3, palette=\"Set3\")"
      ],
      "execution_count": 0,
      "outputs": [
        {
          "output_type": "stream",
          "text": [
            "              0     1     2     3     4\n",
            "intervals   144    55    39    26    77\n",
            "chrom      chr9  chr9  chr9  chr9  chr9\n"
          ],
          "name": "stdout"
        },
        {
          "output_type": "execute_result",
          "data": {
            "text/plain": [
              "<matplotlib.axes._subplots.AxesSubplot at 0x7f64e52de2e8>"
            ]
          },
          "metadata": {
            "tags": []
          },
          "execution_count": 239
        },
        {
          "output_type": "display_data",
          "data": {
            "image/png": "[encoded data removed]",
            "text/plain": [
              "<Figure size 432x288 with 1 Axes>"
            ]
          },
          "metadata": {
            "tags": []
          }
        }
      ]
    },
    {
      "cell_type": "code",
      "metadata": {
        "id": "Ii4zUNSHwf1k",
        "colab_type": "code",
        "outputId": "2f2d9611-3592-419d-81a9-062caca314f1",
        "colab": {
          "base_uri": "https://localhost:8080/",
          "height": 171
        }
      },
      "source": [
        "# 13. exercise:\n",
        "# V. boxplot\n",
        "import matplotlib.pyplot as plt\n",
        "import pandas as pd\n",
        "import seaborn as sns\n",
        "from pylab import savefig\n",
        "from matplotlib.pyplot import show\n",
        "plt.figure(figsize=(5,2))\n",
        "df_list = []\n",
        "\n",
        "d = {\"chr9\": [144, 55, 39, 26, 77], \"chr3\": [80, 87, 267, 48, 14], \"chr5\": [56, 33, 90, 75, 45], \"chr1\": [61, 63, 70, 35, 95], \"chr7\": [81, 34, 79, 43, 11]}\n",
        "\n",
        "for chrom_name, value in d.items():\n",
        "  df_series = pd.Series(value)\n",
        "  df = pd.DataFrame(df_series, columns=[\"intervals\"])\n",
        "  df[\"chrom\"] = chrom_name\n",
        "  df_list.append(df)\n",
        "  final_df = pd.concat(df_list, axis=0)\n",
        "\n",
        "# Notice the difference that cat plot can be changed into box type of plot.\n",
        "sns.boxplot(x=\"chrom\", y=\"intervals\", data=final_df, palette=\"Set1\")\n",
        "\n",
        "boxplotI = sns.boxplot(x=\"chrom\", y=\"intervals\", data=final_df, palette=\"Set1\")\n",
        "plt.savefig(\"boxplotI.jpg\")\n",
        "show(\"boxplotI.jpg\")"
      ],
      "execution_count": 0,
      "outputs": [
        {
          "output_type": "display_data",
          "data": {
            "image/png": "[encoded data removed]",
            "text/plain": [
              "<Figure size 360x144 with 1 Axes>"
            ]
          },
          "metadata": {
            "tags": []
          }
        }
      ]
    },
    {
      "cell_type": "code",
      "metadata": {
        "id": "HQRGVPxIykfs",
        "colab_type": "code",
        "colab": {}
      },
      "source": [
        "# 14. exercise:\n",
        "# VI. catplot\n",
        "import matplotlib.pyplot as plt\n",
        "import pandas as pd\n",
        "import seaborn as sn\n",
        "from pylab import savefig\n",
        "from matplotlib.pyplot import show\n",
        "plt.figure(figsize=(20,5))\n",
        "df_list = []\n",
        "\n",
        "for chrom_name, value in dict_dist.items():\n",
        "  # First, create pandas series from the dictionary. Second, create dataframe \n",
        "  # from the pandas Series with columns comprising intervals.\n",
        "  df_series = pd.Series(value)\n",
        "  df = pd.DataFrame(df_series, columns=[\"intervals\"])\n",
        "  # Third, assign label chrom to chrom_name.\n",
        "  df[\"chrom\"] = chrom_name\n",
        "  # Append the dataframe to the so far empty df list.\n",
        "  df_list.append(df)\n",
        "  # Concatenate pandas objects along x axis.\n",
        "  final_df = pd.concat(df_list, axis=0)\n",
        "\n",
        "# Your data is the final df. Height is height of each facet in inches, aspect \n",
        "# is aspect ratio of each facet, so that aspect * height gives the width of \n",
        "# each facet in inches.\n",
        "sns.catplot(x=\"chrom\", y=\"intervals\", data=final_df, palette=\"Set1\", height=5, \n",
        "            aspect=7)\n",
        "\n",
        "# To save the plot, you need to create a variable, save this variable as a jpg \n",
        "# file, and to visualize it again, use function show and the jpg file.\n",
        "catplotI = sns.catplot(x=\"chrom\", y=\"intervals\", data=final_df, palette=\"Set1\", \n",
        "                       height=5, aspect=7)\n",
        "catplotI.savefig(\"catplotI.jpg\")\n",
        "show(\"catplotI.jpg\")"
      ],
      "execution_count": 0,
      "outputs": []
    },
    {
      "cell_type": "code",
      "metadata": {
        "id": "aom3goB7Bq1J",
        "colab_type": "code",
        "outputId": "d577bb65-a545-48c3-a837-b395c9153e2c",
        "colab": {
          "base_uri": "https://localhost:8080/",
          "height": 593
        }
      },
      "source": [
        "# 15. exercise:\n",
        "# The same type of graphs with a complex dictionary\n",
        "# I.\n",
        "\n",
        "import matplotlib.pyplot as plt\n",
        "plt.figure(figsize=(20,10))\n",
        "\n",
        "x = {\"chr7\", \"chr16\", \"chr10\", \"chr11\", \"chr15\", \"chr12\", \"chrX\", \"chr4\", \"chr18\", \"chr14_GL000194v1_random\", \"chrM\", \"chrUn_GL000218v1\"}\n",
        "y = [(120, 84, 167, 84, 55, 65, 59, 111, 69, 104, 110, 79, 62, 65, 74, 85, 72, 94, 50, 68, 77, 102, 84, 159, 115, 88, 97, 74, 82, 122, 71, 84, 67, 122, 97, 96, 111, 106, 64, 69, 75, 68, 117, 73, 72, 233, 242, 96, 127, 85, 133, 107, 69, 123, 91, 116, 80, 113, 82, 145, 109, 86, 58, 96, 138, 179, 163, 129, 160, 102, 114, 93, 20, 26, 189, 102, 129, 88, 118, 100, 73, 62, 41, 89, 66, 139, 162, 134, 120, 5, 57, 151, 131, 188, 56, 73, 30, 48, 65, 56, 108, 130, 125, 70, 146, 157, 117, 161, 110, 63, 143, 89, 112, 111, 116, 87, 119, 80, 147, 61, 129, 84, 193, 80, 133, 40, 58, 131, 123, 45, 57, 110, 85, 107, 121, 66, 103, 46, 147, 60, 71, 182, 83, 76, 96, 30, 128, 131, 182, 260, 100, 38, 54, 76, 31, 106, 89, 127, 122, 92, 112, 87, 114, 127, 69, 78, 106, 115, 53, 69, 21, 29, 67, 76, 64, 74, 93, 94, 103, 140, 127, 66, 27, 109, 53, 150, 106, 100, 102, 109, 70, 62, 75, 131, 85, 128, 80, 129, 68, 79, 120, 93, 57, 80, 81, 137, 49, 49, 94, 138, 35, 206, 133, 93, 40, 145),\n",
        "    (57, 111, 74, 52, 105, 84, 70, 50, 62, 97, 96, 69, 131, 77, 23, 105, 71, 130, 110, 130, 89, 63, 58, 51, 113, 79, 107, 112, 105, 57, 26, 76, 134, 102, 40, 76, 58, 56, 105, 94, 154, 160, 190, 110, 51, 83, 255, 96, 48, 56, 71, 51, 75, 148, 75, 117, 75, 65, 66, 171, 29, 99, 49, 88, 47, 83, 63, 96, 131, 108, 31, 164, 131, 59, 88, 58, 69, 120, 162, 37, 87, 84, 94, 68, 64, 85, 51, 73, 73, 46, 65, 101, 142, 101, 186, 104, 98, 128, 113, 103, 58, 91, 115, 42, 76, 211, 112, 135, 76, 105, 83, 110, 115, 48, 63, 70, 84, 139, 39, 40, 63, 45, 162, 82, 58, 98, 62, 86, 68, 125, 52, 77, 101, 58, 87, 70, 57, 213, 62, 85, 64, 167, 92, 84, 65, 58, 77, 92, 49, 132, 162, 68, 19, 67, 86, 87, 140, 99, 57, 145, 103, 74, 60, 99, 137, 117, 118, 76, 131, 40, 53, 96, 125, 157, 55, 109, 82, 74, 36, 98, 90, 58, 80, 124, 131, 112, 83, 121, 100, 102, 125, 60, 144, 55, 92, 44, 135, 72, 69, 90, 37, 90, 57, 111, 72, 84, 93, 61, 38, 65, 76, 41, 148, 46, 103, 82, 38, 102, 29, 77, 64, 53, 63, 67, 82, 75, 96, 95, 68, 88, 46, 150, 32, 66, 113, 97, 124, 84, 31, 79, 78, 85, 70, 91, 176, 80, 102, 117, 77, 80, 115, 64, 88, 38, 115, 124, 93, 123, 154, 43, 80, 98, 51, 104, 43, 45, 98, 99, 75, 57, 80, 80, 54, 36, 72, 119, 48, 120, 60, 71, 67, 29, 36, 14, 67, 17, 49, 83, 95, 105, 42, 102, 71, 78, 164, 54, 58, 71, 71, 68, 24, 103, 74, 48, 69, 74, 60, 58, 116, 64, 125, 64, 69, 73, 131, 46, 53, 39, 89, 116, 113, 73, 81, 78, 34, 132, 72, 63, 59, 75, 206, 48, 111, 80, 69, 166, 80, 68, 85, 59, 153, 99, 74, 63, 107, 115, 93, 49, 81, 46, 54, 102, 105, 156, 55, 61, 72, 75, 95, 180, 51, 67, 85, 100, 23, 22, 113, 64, 71, 84, 121, 87, 89, 202, 69, 100, 45, 40, 78, 41, 41, 10, 52, 54, 102, 65, 23, 32, 71, 78, 86, 105, 131, 61, 76, 86, 141, 64, 69, 80, 81, 87, 42, 27, 23, 22, 3, 19, 71, 23, 36, 32, 42, 20, 74, 90, 131, 85, 69, 85, 52, 72, 103, 74, 87, 217, 83, 63, 92, 134, 77, 103, 50, 42, 11, 79, 73, 100, 72, 70, 80, 148, 104, 101, 166, 233, 37, 62, 37, 34, 34, 142, 139, 96, 46, 85, 37, 114, 53, 100, 164, 120, 51, 31, 112, 155, 73, 167, 86, 79, 66, 55, 74, 66, 51, 78, 75, 116, 93, 101, 149, 110, 40, 60, 96, 73, 71, 66, 73, 67, 45, 112, 76, 130, 63, 96, 127, 48, 70, 95, 106, 70, 172, 121, 37, 56, 98, 83, 66, 138, 85, 104, 42, 32, 74, 31, 93, 135, 41, 69, 62, 89, 53, 63, 69, 94, 87, 66, 142, 136, 56, 107, 110, 75, 215, 142, 74, 133, 56, 40, 66, 152, 99, 148, 71, 78, 64, 89, 77, 119, 115, 31, 13, 29, 56, 100, 121, 60, 52, 109, 98, 90, 62, 91, 32, 65, 113, 93, 114, 54, 102, 102),\n",
        "    (81, 68, 67, 123, 69, 79, 65, 92, 136, 93, 57, 58, 38, 103, 66, 150, 87, 77, 59, 90, 83, 53, 109, 148, 100, 86, 62, 36, 93, 67, 84, 106, 149, 171, 98, 139, 118, 107, 153, 127, 84, 66, 51, 126, 92, 90, 40, 68, 105, 80, 176, 75, 107, 127, 151, 46, 74, 74, 106, 54, 123, 87, 90, 107, 177, 87, 172, 124, 98, 97, 87, 170, 81, 98, 45, 185, 86, 106, 124, 61, 54, 78, 72, 87, 101, 56, 159, 89, 125, 124, 81, 118, 81, 88, 49, 52, 112, 112, 47, 89, 177, 131, 70, 113, 82, 78, 69, 82, 83, 80, 153, 110, 49, 72, 68, 36, 189, 147, 64, 115, 83, 139, 130, 97, 79, 156, 127, 45, 79, 150, 121, 172, 127, 47, 114, 81, 87, 107, 80, 84, 102, 95, 140, 125, 31),\n",
        "    (70, 187, 95, 99, 29, 39, 20, 118, 102, 68, 118, 142, 75, 86, 43, 23, 27, 78, 35, 30, 154, 54, 59, 73, 28, 9, 75, 73, 69, 7, 30, 8, 22, 15, 57, 40, 23, 114, 130, 101, 38, 23, 19, 11, 10, 85, 21, 60, 174, 136, 21, 67, 44, 20, 12, 110, 92, 80, 42, 114, 126, 169, 88, 50, 50, 59, 9, 6, 122, 29, 8, 30, 48, 34, 6, 123, 89, 122, 5, 80, 17, 12, 54, 148, 84, 31, 9, 90, 67, 75, 106, 71, 83, 71, 47, 107, 72, 26, 35, 12, 32, 52, 89, 171, 91, 81, 12, 15, 57, 165, 140, 73, 18, 104, 109, 117, 63, 98, 36, 73, 89, 56, 35, 27, 101, 86, 95, 136, 57, 71, 34, 17, 29, 18, 122, 64, 54, 26, 183, 202, 187, 68, 70, 40, 68, 141, 146, 94, 155, 34, 14, 71, 4, 46, 10, 13, 45, 120, 81, 67, 10, 18, 52, 18, 6, 20, 7, 10, 31, 50, 24, 36, 98, 23, 95, 87, 136, 133, 84, 75, 69, 95, 68, 71, 67, 15, 21, 17, 93, 166, 112, 109, 107, 78, 162, 153, 99, 57, 24, 21, 16, 66, 70, 20, 47, 15, 89, 13, 31, 49, 25, 29, 63, 96, 95, 102, 60, 66, 50, 44, 16, 19, 79, 67, 116, 61, 13, 18, 6, 9, 4, 5, 9, 83, 115, 21, 96, 172, 99, 13, 106, 121, 133, 100, 16, 42, 37, 101, 120, 85, 100, 144, 97, 100, 116, 80, 26, 17, 13, 83, 15, 37, 97, 66, 79, 82, 61, 53, 104, 49, 25, 24, 10, 31, 45, 14, 5, 5, 45, 10, 145, 76, 80, 90, 46, 42, 31, 81, 138, 105, 145, 94, 11, 47, 92, 41, 140, 115, 70, 113, 59, 89, 78, 55, 85, 20, 68, 68, 84, 108, 17, 114),\n",
        "    (92, 64, 94, 47, 64, 90, 140, 79, 112, 178, 123, 94, 85, 104, 72, 286, 117, 78, 189, 50, 125, 157, 70, 134, 64, 92, 81, 83, 117, 131, 88, 95, 79, 92, 74, 101, 120, 107, 68, 185, 87, 104, 124, 81, 78, 78, 40, 104, 160, 23, 30, 87, 55, 88, 129, 113, 53, 70, 121, 43, 90, 48, 118, 171, 28, 67, 43, 58, 31, 46, 82),\n",
        "    (86, 103, 84, 88, 134, 152, 105, 113, 87, 138, 113, 175, 85, 92, 101, 88, 79, 118, 123, 66, 50, 135, 67, 131, 47, 90, 158, 103, 92, 84, 84, 66, 160, 84, 103, 96, 101, 134, 168, 139, 43, 135, 117, 100, 137, 106, 128, 112, 49, 146, 258, 166, 80, 126, 113, 67, 183, 132, 76, 161, 141, 119, 125, 63, 167, 186, 60, 46, 130, 56, 104, 55, 121, 125, 94, 63, 110, 116, 109, 103, 81, 114, 183, 148, 107, 40, 131, 149, 128, 109, 99, 97, 160, 203),\n",
        "    (63, 77, 54, 74, 38, 81, 82, 21, 119, 146, 86, 34, 46, 93, 57, 83, 73, 92, 135, 140, 95, 116, 66, 84, 76, 103, 63, 65, 113, 63, 122, 57, 123, 61, 26, 51, 47, 66, 75, 125, 156, 120, 47, 57, 91, 101, 54, 68, 71, 92, 92, 88, 61, 84, 72, 69, 48, 33, 66, 128, 89, 86, 111, 89, 37, 65, 77, 82, 35, 72, 93, 96, 60, 45),\n",
        "    (40, 56, 29, 58, 54, 70, 90, 76, 92, 68, 79, 87, 109, 45, 99, 133, 171, 101, 61, 70, 114, 127, 69, 147, 94, 66, 62, 64, 118, 89, 155, 122, 103, 86, 69, 86, 85, 65, 67, 77, 32, 115, 80, 111, 118, 157, 137, 138, 151, 74, 159, 65, 74, 103, 46, 81, 64, 67, 116, 109, 86, 82, 63, 87, 34, 50, 139, 62, 55, 70, 110, 120, 87, 78, 122, 192, 102, 112, 128, 41, 69, 59, 106, 131, 77, 115, 256, 135, 65, 101, 148, 108, 138, 146, 93, 71, 68, 89, 135, 104, 92, 82, 115, 96, 118, 122, 94, 55, 31, 64, 89, 33, 120, 59, 131, 158, 75, 81, 61, 43, 53, 66, 114, 64, 89, 149, 88, 86, 120, 86, 114, 162, 82, 60, 44, 110, 82, 77, 56, 76, 76, 86, 53),\n",
        "    (47, 64, 20, 39, 37, 107, 106, 45, 78, 149, 86, 122, 122, 31, 155, 45, 77, 85, 71, 54, 77, 25, 34, 83, 147, 77, 90, 147, 123, 90, 138, 86, 180, 121, 91, 86, 28, 45, 74, 88, 188, 63, 97, 85, 115, 32, 59),\n",
        "    (266, 95, 131, 115, 87, 113, 81, 108, 73, 76, 38, 60),\n",
        "    (109, 108, 70, 123),\n",
        "    (21, 29),\n",
        "    (84)]\n",
        "\n",
        "\n",
        "\n",
        "for xe, ye in zip(x, y):\n",
        "    plt.scatter([xe] * len(ye), ye)"
      ],
      "execution_count": 0,
      "outputs": [
        {
          "output_type": "display_data",
          "data": {
            "image/png": "[encoded data removed]",
            "text/plain": [
              "<Figure size 1440x720 with 1 Axes>"
            ]
          },
          "metadata": {
            "tags": []
          }
        }
      ]
    },
    {
      "cell_type": "code",
      "metadata": {
        "id": "eUaWezuLFTPL",
        "colab_type": "code",
        "outputId": "d9b4619d-819d-4ec0-cf49-8c305fd8bff5",
        "colab": {
          "base_uri": "https://localhost:8080/",
          "height": 486
        }
      },
      "source": [
        "# 16. exercise:\n",
        "# II.\n",
        "dictionary = {\"chr7\":[120, 84, 167, 84, 55, 65, 59, 111, 69, 104, 110, 79, 62, 65, 74, 85, 72, 94, 50, 68, 77, 102, 84, 159, 115, 88, 97, 74, 82, 122, 71, 84, 67, 122, 97, 96, 111, 106, 64, 69, 75, 68, 117, 73, 72, 233, 242, 96, 127, 85, 133, 107, 69, 123, 91, 116, 80, 113, 82, 145, 109, 86, 58, 96, 138, 179, 163, 129, 160, 102, 114, 93, 20, 26, 189, 102, 129, 88, 118, 100, 73, 62, 41, 89, 66, 139, 162, 134, 120, 5, 57, 151, 131, 188, 56, 73, 30, 48, 65, 56, 108, 130, 125, 70, 146, 157, 117, 161, 110, 63, 143, 89, 112, 111, 116, 87, 119, 80, 147, 61, 129, 84, 193, 80, 133, 40, 58, 131, 123, 45, 57, 110, 85, 107, 121, 66, 103, 46, 147, 60, 71, 182, 83, 76, 96, 30, 128, 131, 182, 260, 100, 38, 54, 76, 31, 106, 89, 127, 122, 92, 112, 87, 114, 127, 69, 78, 106, 115, 53, 69, 21, 29, 67, 76, 64, 74, 93, 94, 103, 140, 127, 66, 27, 109, 53, 150, 106, 100, 102, 109, 70, 62, 75, 131, 85, 128, 80, 129, 68, 79, 120, 93, 57, 80, 81, 137, 49, 49, 94, 138, 35, 206, 133, 93, 40, 145],\n",
        "              \"chr16\": [57, 111, 74, 52, 105, 84, 70, 50, 62, 97, 96, 69, 131, 77, 23, 105, 71, 130, 110, 130, 89, 63, 58, 51, 113, 79, 107, 112, 105, 57, 26, 76, 134, 102, 40, 76, 58, 56, 105, 94, 154, 160, 190, 110, 51, 83, 255, 96, 48, 56, 71, 51, 75, 148, 75, 117, 75, 65, 66, 171, 29, 99, 49, 88, 47, 83, 63, 96, 131, 108, 31, 164, 131, 59, 88, 58, 69, 120, 162, 37, 87, 84, 94, 68, 64, 85, 51, 73, 73, 46, 65, 101, 142, 101, 186, 104, 98, 128, 113, 103, 58, 91, 115, 42, 76, 211, 112, 135, 76, 105, 83, 110, 115, 48, 63, 70, 84, 139, 39, 40, 63, 45, 162, 82, 58, 98, 62, 86, 68, 125, 52, 77, 101, 58, 87, 70, 57, 213, 62, 85, 64, 167, 92, 84, 65, 58, 77, 92, 49, 132, 162, 68, 19, 67, 86, 87, 140, 99, 57, 145, 103, 74, 60, 99, 137, 117, 118, 76, 131, 40, 53, 96, 125, 157, 55, 109, 82, 74, 36, 98, 90, 58, 80, 124, 131, 112, 83, 121, 100, 102, 125, 60, 144, 55, 92, 44, 135, 72, 69, 90, 37, 90, 57, 111, 72, 84, 93, 61, 38, 65, 76, 41, 148, 46, 103, 82, 38, 102, 29, 77, 64, 53, 63, 67, 82, 75, 96, 95, 68, 88, 46, 150, 32, 66, 113, 97, 124, 84, 31, 79, 78, 85, 70, 91, 176, 80, 102, 117, 77, 80, 115, 64, 88, 38, 115, 124, 93, 123, 154, 43, 80, 98, 51, 104, 43, 45, 98, 99, 75, 57, 80, 80, 54, 36, 72, 119, 48, 120, 60, 71, 67, 29, 36, 14, 67, 17, 49, 83, 95, 105, 42, 102, 71, 78, 164, 54, 58, 71, 71, 68, 24, 103, 74, 48, 69, 74, 60, 58, 116, 64, 125, 64, 69, 73, 131, 46, 53, 39, 89, 116, 113, 73, 81, 78, 34, 132, 72, 63, 59, 75, 206, 48, 111, 80, 69, 166, 80, 68, 85, 59, 153, 99, 74, 63, 107, 115, 93, 49, 81, 46, 54, 102, 105, 156, 55, 61, 72, 75, 95, 180, 51, 67, 85, 100, 23, 22, 113, 64, 71, 84, 121, 87, 89, 202, 69, 100, 45, 40, 78, 41, 41, 10, 52, 54, 102, 65, 23, 32, 71, 78, 86, 105, 131, 61, 76, 86, 141, 64, 69, 80, 81, 87, 42, 27, 23, 22, 3, 19, 71, 23, 36, 32, 42, 20, 74, 90, 131, 85, 69, 85, 52, 72, 103, 74, 87, 217, 83, 63, 92, 134, 77, 103, 50, 42, 11, 79, 73, 100, 72, 70, 80, 148, 104, 101, 166, 233, 37, 62, 37, 34, 34, 142, 139, 96, 46, 85, 37, 114, 53, 100, 164, 120, 51, 31, 112, 155, 73, 167, 86, 79, 66, 55, 74, 66, 51, 78, 75, 116, 93, 101, 149, 110, 40, 60, 96, 73, 71, 66, 73, 67, 45, 112, 76, 130, 63, 96, 127, 48, 70, 95, 106, 70, 172, 121, 37, 56, 98, 83, 66, 138, 85, 104, 42, 32, 74, 31, 93, 135, 41, 69, 62, 89, 53, 63, 69, 94, 87, 66, 142, 136, 56, 107, 110, 75, 215, 142, 74, 133, 56, 40, 66, 152, 99, 148, 71, 78, 64, 89, 77, 119, 115, 31, 13, 29, 56, 100, 121, 60, 52, 109, 98, 90, 62, 91, 32, 65, 113, 93, 114, 54, 102, 102],\n",
        "              \"chr10\": [81, 68, 67, 123, 69, 79, 65, 92, 136, 93, 57, 58, 38, 103, 66, 150, 87, 77, 59, 90, 83, 53, 109, 148, 100, 86, 62, 36, 93, 67, 84, 106, 149, 171, 98, 139, 118, 107, 153, 127, 84, 66, 51, 126, 92, 90, 40, 68, 105, 80, 176, 75, 107, 127, 151, 46, 74, 74, 106, 54, 123, 87, 90, 107, 177, 87, 172, 124, 98, 97, 87, 170, 81, 98, 45, 185, 86, 106, 124, 61, 54, 78, 72, 87, 101, 56, 159, 89, 125, 124, 81, 118, 81, 88, 49, 52, 112, 112, 47, 89, 177, 131, 70, 113, 82, 78, 69, 82, 83, 80, 153, 110, 49, 72, 68, 36, 189, 147, 64, 115, 83, 139, 130, 97, 79, 156, 127, 45, 79, 150, 121, 172, 127, 47, 114, 81, 87, 107, 80, 84, 102, 95, 140, 125, 31],\n",
        "              \"chr11\": [70, 187, 95, 99, 29, 39, 20, 118, 102, 68, 118, 142, 75, 86, 43, 23, 27, 78, 35, 30, 154, 54, 59, 73, 28, 9, 75, 73, 69, 7, 30, 8, 22, 15, 57, 40, 23, 114, 130, 101, 38, 23, 19, 11, 10, 85, 21, 60, 174, 136, 21, 67, 44, 20, 12, 110, 92, 80, 42, 114, 126, 169, 88, 50, 50, 59, 9, 6, 122, 29, 8, 30, 48, 34, 6, 123, 89, 122, 5, 80, 17, 12, 54, 148, 84, 31, 9, 90, 67, 75, 106, 71, 83, 71, 47, 107, 72, 26, 35, 12, 32, 52, 89, 171, 91, 81, 12, 15, 57, 165, 140, 73, 18, 104, 109, 117, 63, 98, 36, 73, 89, 56, 35, 27, 101, 86, 95, 136, 57, 71, 34, 17, 29, 18, 122, 64, 54, 26, 183, 202, 187, 68, 70, 40, 68, 141, 146, 94, 155, 34, 14, 71, 4, 46, 10, 13, 45, 120, 81, 67, 10, 18, 52, 18, 6, 20, 7, 10, 31, 50, 24, 36, 98, 23, 95, 87, 136, 133, 84, 75, 69, 95, 68, 71, 67, 15, 21, 17, 93, 166, 112, 109, 107, 78, 162, 153, 99, 57, 24, 21, 16, 66, 70, 20, 47, 15, 89, 13, 31, 49, 25, 29, 63, 96, 95, 102, 60, 66, 50, 44, 16, 19, 79, 67, 116, 61, 13, 18, 6, 9, 4, 5, 9, 83, 115, 21, 96, 172, 99, 13, 106, 121, 133, 100, 16, 42, 37, 101, 120, 85, 100, 144, 97, 100, 116, 80, 26, 17, 13, 83, 15, 37, 97, 66, 79, 82, 61, 53, 104, 49, 25, 24, 10, 31, 45, 14, 5, 5, 45, 10, 145, 76, 80, 90, 46, 42, 31, 81, 138, 105, 145, 94, 11, 47, 92, 41, 140, 115, 70, 113, 59, 89, 78, 55, 85, 20, 68, 68, 84, 108, 17, 114],\n",
        "              \"chr15\": [92, 64, 94, 47, 64, 90, 140, 79, 112, 178, 123, 94, 85, 104, 72, 286, 117, 78, 189, 50, 125, 157, 70, 134, 64, 92, 81, 83, 117, 131, 88, 95, 79, 92, 74, 101, 120, 107, 68, 185, 87, 104, 124, 81, 78, 78, 40, 104, 160, 23, 30, 87, 55, 88, 129, 113, 53, 70, 121, 43, 90, 48, 118, 171, 28, 67, 43, 58, 31, 46, 82],\n",
        "              \"chr12\": [86, 103, 84, 88, 134, 152, 105, 113, 87, 138, 113, 175, 85, 92, 101, 88, 79, 118, 123, 66, 50, 135, 67, 131, 47, 90, 158, 103, 92, 84, 84, 66, 160, 84, 103, 96, 101, 134, 168, 139, 43, 135, 117, 100, 137, 106, 128, 112, 49, 146, 258, 166, 80, 126, 113, 67, 183, 132, 76, 161, 141, 119, 125, 63, 167, 186, 60, 46, 130, 56, 104, 55, 121, 125, 94, 63, 110, 116, 109, 103, 81, 114, 183, 148, 107, 40, 131, 149, 128, 109, 99, 97, 160, 203],\n",
        "              \"chrX\": [63, 77, 54, 74, 38, 81, 82, 21, 119, 146, 86, 34, 46, 93, 57, 83, 73, 92, 135, 140, 95, 116, 66, 84, 76, 103, 63, 65, 113, 63, 122, 57, 123, 61, 26, 51, 47, 66, 75, 125, 156, 120, 47, 57, 91, 101, 54, 68, 71, 92, 92, 88, 61, 84, 72, 69, 48, 33, 66, 128, 89, 86, 111, 89, 37, 65, 77, 82, 35, 72, 93, 96, 60, 45],\n",
        "              \"chr4\": [40, 56, 29, 58, 54, 70, 90, 76, 92, 68, 79, 87, 109, 45, 99, 133, 171, 101, 61, 70, 114, 127, 69, 147, 94, 66, 62, 64, 118, 89, 155, 122, 103, 86, 69, 86, 85, 65, 67, 77, 32, 115, 80, 111, 118, 157, 137, 138, 151, 74, 159, 65, 74, 103, 46, 81, 64, 67, 116, 109, 86, 82, 63, 87, 34, 50, 139, 62, 55, 70, 110, 120, 87, 78, 122, 192, 102, 112, 128, 41, 69, 59, 106, 131, 77, 115, 256, 135, 65, 101, 148, 108, 138, 146, 93, 71, 68, 89, 135, 104, 92, 82, 115, 96, 118, 122, 94, 55, 31, 64, 89, 33, 120, 59, 131, 158, 75, 81, 61, 43, 53, 66, 114, 64, 89, 149, 88, 86, 120, 86, 114, 162, 82, 60, 44, 110, 82, 77, 56, 76, 76, 86, 53],\n",
        "              \"chr13\": [47, 64, 20, 39, 37, 107, 106, 45, 78, 149, 86, 122, 122, 31, 155, 45, 77, 85, 71, 54, 77, 25, 34, 83, 147, 77, 90, 147, 123, 90, 138, 86, 180, 121, 91, 86, 28, 45, 74, 88, 188, 63, 97, 85, 115, 32, 59],\n",
        "              \"chr18\": [266, 95, 131, 115, 87, 113, 81, 108, 73, 76, 38, 60],\n",
        "              \"chr14_GL000194v1_random\": [109, 108, 70, 123],\n",
        "              \"chrM\": [21, 29],\n",
        "              \"chrUn_GL000218v1\": [84]}\n",
        "\n",
        "for line in dictionary:\n",
        "  line = line.split(\"\\t\")\n",
        "  key = line[0].strip()\n",
        "  print(key)\n",
        "  sns.distplot(dictionary[key], kde=False, color=\"magenta\", bins=50)"
      ],
      "execution_count": 0,
      "outputs": [
        {
          "output_type": "stream",
          "text": [
            "chr7\n",
            "chr16\n",
            "chr10\n",
            "chr11\n",
            "chr15\n",
            "chr12\n",
            "chrX\n",
            "chr4\n",
            "chr13\n",
            "chr18\n",
            "chr14_GL000194v1_random\n",
            "chrM\n",
            "chrUn_GL000218v1\n"
          ],
          "name": "stdout"
        },
        {
          "output_type": "display_data",
          "data": {
            "image/png": "[encoded data removed]",
            "text/plain": [
              "<Figure size 432x288 with 1 Axes>"
            ]
          },
          "metadata": {
            "tags": []
          }
        }
      ]
    },
    {
      "cell_type": "code",
      "metadata": {
        "id": "m_-3gSDeD_D3",
        "colab_type": "code",
        "outputId": "416806e6-1e03-492c-97fa-699f002f0b1d",
        "colab": {
          "base_uri": "https://localhost:8080/",
          "height": 465
        }
      },
      "source": [
        "# 17. exercise:\n",
        "# III.\n",
        "import seaborn as sns\n",
        "import matplotlib.pyplot as plt\n",
        "import pandas as pd\n",
        "\n",
        "dictionary = {\"chr7\":[120, 84, 167, 84, 55, 65, 59, 111, 69, 104, 110, 79, 62, 65, 74, 85, 72, 94, 50, 68, 77, 102, 84, 159, 115, 88, 97, 74, 82, 122, 71, 84, 67, 122, 97, 96, 111, 106, 64, 69, 75, 68, 117, 73, 72, 233, 242, 96, 127, 85, 133, 107, 69, 123, 91, 116, 80, 113, 82, 145, 109, 86, 58, 96, 138, 179, 163, 129, 160, 102, 114, 93, 20, 26, 189, 102, 129, 88, 118, 100, 73, 62, 41, 89, 66, 139, 162, 134, 120, 5, 57, 151, 131, 188, 56, 73, 30, 48, 65, 56, 108, 130, 125, 70, 146, 157, 117, 161, 110, 63, 143, 89, 112, 111, 116, 87, 119, 80, 147, 61, 129, 84, 193, 80, 133, 40, 58, 131, 123, 45, 57, 110, 85, 107, 121, 66, 103, 46, 147, 60, 71, 182, 83, 76, 96, 30, 128, 131, 182, 260, 100, 38, 54, 76, 31, 106, 89, 127, 122, 92, 112, 87, 114, 127, 69, 78, 106, 115, 53, 69, 21, 29, 67, 76, 64, 74, 93, 94, 103, 140, 127, 66, 27, 109, 53, 150, 106, 100, 102, 109, 70, 62, 75, 131, 85, 128, 80, 129, 68, 79, 120, 93, 57, 80, 81, 137, 49, 49, 94, 138, 35, 206, 133, 93, 40, 145],\n",
        "              \"chr16\": [57, 111, 74, 52, 105, 84, 70, 50, 62, 97, 96, 69, 131, 77, 23, 105, 71, 130, 110, 130, 89, 63, 58, 51, 113, 79, 107, 112, 105, 57, 26, 76, 134, 102, 40, 76, 58, 56, 105, 94, 154, 160, 190, 110, 51, 83, 255, 96, 48, 56, 71, 51, 75, 148, 75, 117, 75, 65, 66, 171, 29, 99, 49, 88, 47, 83, 63, 96, 131, 108, 31, 164, 131, 59, 88, 58, 69, 120, 162, 37, 87, 84, 94, 68, 64, 85, 51, 73, 73, 46, 65, 101, 142, 101, 186, 104, 98, 128, 113, 103, 58, 91, 115, 42, 76, 211, 112, 135, 76, 105, 83, 110, 115, 48, 63, 70, 84, 139, 39, 40, 63, 45, 162, 82, 58, 98, 62, 86, 68, 125, 52, 77, 101, 58, 87, 70, 57, 213, 62, 85, 64, 167, 92, 84, 65, 58, 77, 92, 49, 132, 162, 68, 19, 67, 86, 87, 140, 99, 57, 145, 103, 74, 60, 99, 137, 117, 118, 76, 131, 40, 53, 96, 125, 157, 55, 109, 82, 74, 36, 98, 90, 58, 80, 124, 131, 112, 83, 121, 100, 102, 125, 60, 144, 55, 92, 44, 135, 72, 69, 90, 37, 90, 57, 111, 72, 84, 93, 61, 38, 65, 76, 41, 148, 46, 103, 82, 38, 102, 29, 77, 64, 53, 63, 67, 82, 75, 96, 95, 68, 88, 46, 150, 32, 66, 113, 97, 124, 84, 31, 79, 78, 85, 70, 91, 176, 80, 102, 117, 77, 80, 115, 64, 88, 38, 115, 124, 93, 123, 154, 43, 80, 98, 51, 104, 43, 45, 98, 99, 75, 57, 80, 80, 54, 36, 72, 119, 48, 120, 60, 71, 67, 29, 36, 14, 67, 17, 49, 83, 95, 105, 42, 102, 71, 78, 164, 54, 58, 71, 71, 68, 24, 103, 74, 48, 69, 74, 60, 58, 116, 64, 125, 64, 69, 73, 131, 46, 53, 39, 89, 116, 113, 73, 81, 78, 34, 132, 72, 63, 59, 75, 206, 48, 111, 80, 69, 166, 80, 68, 85, 59, 153, 99, 74, 63, 107, 115, 93, 49, 81, 46, 54, 102, 105, 156, 55, 61, 72, 75, 95, 180, 51, 67, 85, 100, 23, 22, 113, 64, 71, 84, 121, 87, 89, 202, 69, 100, 45, 40, 78, 41, 41, 10, 52, 54, 102, 65, 23, 32, 71, 78, 86, 105, 131, 61, 76, 86, 141, 64, 69, 80, 81, 87, 42, 27, 23, 22, 3, 19, 71, 23, 36, 32, 42, 20, 74, 90, 131, 85, 69, 85, 52, 72, 103, 74, 87, 217, 83, 63, 92, 134, 77, 103, 50, 42, 11, 79, 73, 100, 72, 70, 80, 148, 104, 101, 166, 233, 37, 62, 37, 34, 34, 142, 139, 96, 46, 85, 37, 114, 53, 100, 164, 120, 51, 31, 112, 155, 73, 167, 86, 79, 66, 55, 74, 66, 51, 78, 75, 116, 93, 101, 149, 110, 40, 60, 96, 73, 71, 66, 73, 67, 45, 112, 76, 130, 63, 96, 127, 48, 70, 95, 106, 70, 172, 121, 37, 56, 98, 83, 66, 138, 85, 104, 42, 32, 74, 31, 93, 135, 41, 69, 62, 89, 53, 63, 69, 94, 87, 66, 142, 136, 56, 107, 110, 75, 215, 142, 74, 133, 56, 40, 66, 152, 99, 148, 71, 78, 64, 89, 77, 119, 115, 31, 13, 29, 56, 100, 121, 60, 52, 109, 98, 90, 62, 91, 32, 65, 113, 93, 114, 54, 102, 102],\n",
        "              \"chr10\": [81, 68, 67, 123, 69, 79, 65, 92, 136, 93, 57, 58, 38, 103, 66, 150, 87, 77, 59, 90, 83, 53, 109, 148, 100, 86, 62, 36, 93, 67, 84, 106, 149, 171, 98, 139, 118, 107, 153, 127, 84, 66, 51, 126, 92, 90, 40, 68, 105, 80, 176, 75, 107, 127, 151, 46, 74, 74, 106, 54, 123, 87, 90, 107, 177, 87, 172, 124, 98, 97, 87, 170, 81, 98, 45, 185, 86, 106, 124, 61, 54, 78, 72, 87, 101, 56, 159, 89, 125, 124, 81, 118, 81, 88, 49, 52, 112, 112, 47, 89, 177, 131, 70, 113, 82, 78, 69, 82, 83, 80, 153, 110, 49, 72, 68, 36, 189, 147, 64, 115, 83, 139, 130, 97, 79, 156, 127, 45, 79, 150, 121, 172, 127, 47, 114, 81, 87, 107, 80, 84, 102, 95, 140, 125, 31],\n",
        "              \"chr11\": [70, 187, 95, 99, 29, 39, 20, 118, 102, 68, 118, 142, 75, 86, 43, 23, 27, 78, 35, 30, 154, 54, 59, 73, 28, 9, 75, 73, 69, 7, 30, 8, 22, 15, 57, 40, 23, 114, 130, 101, 38, 23, 19, 11, 10, 85, 21, 60, 174, 136, 21, 67, 44, 20, 12, 110, 92, 80, 42, 114, 126, 169, 88, 50, 50, 59, 9, 6, 122, 29, 8, 30, 48, 34, 6, 123, 89, 122, 5, 80, 17, 12, 54, 148, 84, 31, 9, 90, 67, 75, 106, 71, 83, 71, 47, 107, 72, 26, 35, 12, 32, 52, 89, 171, 91, 81, 12, 15, 57, 165, 140, 73, 18, 104, 109, 117, 63, 98, 36, 73, 89, 56, 35, 27, 101, 86, 95, 136, 57, 71, 34, 17, 29, 18, 122, 64, 54, 26, 183, 202, 187, 68, 70, 40, 68, 141, 146, 94, 155, 34, 14, 71, 4, 46, 10, 13, 45, 120, 81, 67, 10, 18, 52, 18, 6, 20, 7, 10, 31, 50, 24, 36, 98, 23, 95, 87, 136, 133, 84, 75, 69, 95, 68, 71, 67, 15, 21, 17, 93, 166, 112, 109, 107, 78, 162, 153, 99, 57, 24, 21, 16, 66, 70, 20, 47, 15, 89, 13, 31, 49, 25, 29, 63, 96, 95, 102, 60, 66, 50, 44, 16, 19, 79, 67, 116, 61, 13, 18, 6, 9, 4, 5, 9, 83, 115, 21, 96, 172, 99, 13, 106, 121, 133, 100, 16, 42, 37, 101, 120, 85, 100, 144, 97, 100, 116, 80, 26, 17, 13, 83, 15, 37, 97, 66, 79, 82, 61, 53, 104, 49, 25, 24, 10, 31, 45, 14, 5, 5, 45, 10, 145, 76, 80, 90, 46, 42, 31, 81, 138, 105, 145, 94, 11, 47, 92, 41, 140, 115, 70, 113, 59, 89, 78, 55, 85, 20, 68, 68, 84, 108, 17, 114],\n",
        "              \"chr15\": [92, 64, 94, 47, 64, 90, 140, 79, 112, 178, 123, 94, 85, 104, 72, 286, 117, 78, 189, 50, 125, 157, 70, 134, 64, 92, 81, 83, 117, 131, 88, 95, 79, 92, 74, 101, 120, 107, 68, 185, 87, 104, 124, 81, 78, 78, 40, 104, 160, 23, 30, 87, 55, 88, 129, 113, 53, 70, 121, 43, 90, 48, 118, 171, 28, 67, 43, 58, 31, 46, 82],\n",
        "              \"chr12\": [86, 103, 84, 88, 134, 152, 105, 113, 87, 138, 113, 175, 85, 92, 101, 88, 79, 118, 123, 66, 50, 135, 67, 131, 47, 90, 158, 103, 92, 84, 84, 66, 160, 84, 103, 96, 101, 134, 168, 139, 43, 135, 117, 100, 137, 106, 128, 112, 49, 146, 258, 166, 80, 126, 113, 67, 183, 132, 76, 161, 141, 119, 125, 63, 167, 186, 60, 46, 130, 56, 104, 55, 121, 125, 94, 63, 110, 116, 109, 103, 81, 114, 183, 148, 107, 40, 131, 149, 128, 109, 99, 97, 160, 203],\n",
        "              \"chrX\": [63, 77, 54, 74, 38, 81, 82, 21, 119, 146, 86, 34, 46, 93, 57, 83, 73, 92, 135, 140, 95, 116, 66, 84, 76, 103, 63, 65, 113, 63, 122, 57, 123, 61, 26, 51, 47, 66, 75, 125, 156, 120, 47, 57, 91, 101, 54, 68, 71, 92, 92, 88, 61, 84, 72, 69, 48, 33, 66, 128, 89, 86, 111, 89, 37, 65, 77, 82, 35, 72, 93, 96, 60, 45],\n",
        "              \"chr4\": [40, 56, 29, 58, 54, 70, 90, 76, 92, 68, 79, 87, 109, 45, 99, 133, 171, 101, 61, 70, 114, 127, 69, 147, 94, 66, 62, 64, 118, 89, 155, 122, 103, 86, 69, 86, 85, 65, 67, 77, 32, 115, 80, 111, 118, 157, 137, 138, 151, 74, 159, 65, 74, 103, 46, 81, 64, 67, 116, 109, 86, 82, 63, 87, 34, 50, 139, 62, 55, 70, 110, 120, 87, 78, 122, 192, 102, 112, 128, 41, 69, 59, 106, 131, 77, 115, 256, 135, 65, 101, 148, 108, 138, 146, 93, 71, 68, 89, 135, 104, 92, 82, 115, 96, 118, 122, 94, 55, 31, 64, 89, 33, 120, 59, 131, 158, 75, 81, 61, 43, 53, 66, 114, 64, 89, 149, 88, 86, 120, 86, 114, 162, 82, 60, 44, 110, 82, 77, 56, 76, 76, 86, 53],\n",
        "              \"chr13\": [47, 64, 20, 39, 37, 107, 106, 45, 78, 149, 86, 122, 122, 31, 155, 45, 77, 85, 71, 54, 77, 25, 34, 83, 147, 77, 90, 147, 123, 90, 138, 86, 180, 121, 91, 86, 28, 45, 74, 88, 188, 63, 97, 85, 115, 32, 59],\n",
        "              \"chr18\": [266, 95, 131, 115, 87, 113, 81, 108, 73, 76, 38, 60],\n",
        "              \"chr14_GL000194v1_random\": [109, 108, 70, 123],\n",
        "              \"chrM\": [21, 29],\n",
        "              \"chrUn_GL000218v1\": [84]}\n",
        "\n",
        "f, axes = plt.subplots(2, 2, figsize=(7, 7), sharex=True)\n",
        "# The first integer is number of rows, the second one is number of columns.\n",
        "# Setting sharex to True enables global sharing across the whole grid, also the y-axes \n",
        "# of vertically stacked subplots have the same scale when using sharey=True.\n",
        "\n",
        "for index, chromosome in enumerate(dictionary):\n",
        "    # create data\n",
        "    test=pd.Series(data=dictionary[chromosome])\n",
        "    if index == 0:\n",
        "      sns.distplot( test , color=\"pink\", ax=axes[0, 0])\n",
        "    elif index == 1:\n",
        "      sns.distplot( test , color=\"blue\", ax=axes[1, 0])\n",
        "    elif index == 2:\n",
        "      sns.distplot( test , color=\"green\", ax=axes[0, 1])\n",
        "    else:\n",
        "      sns.distplot( test , color=\"red\", ax=axes[1, 1])"
      ],
      "execution_count": 0,
      "outputs": [
        {
          "output_type": "stream",
          "text": [
            "/usr/local/lib/python3.6/dist-packages/seaborn/distributions.py:288: UserWarning: Data must have variance to compute a kernel density estimate.\n",
            "  warnings.warn(msg, UserWarning)\n"
          ],
          "name": "stderr"
        },
        {
          "output_type": "display_data",
          "data": {
            "image/png": "[encoded data removed]",
            "text/plain": [
              "<Figure size 504x504 with 4 Axes>"
            ]
          },
          "metadata": {
            "tags": []
          }
        }
      ]
    },
    {
      "cell_type": "code",
      "metadata": {
        "id": "cywl31hA7hG4",
        "colab_type": "code",
        "outputId": "d8dc7a9b-ed54-43b8-f927-7743a37fd682",
        "colab": {
          "base_uri": "https://localhost:8080/",
          "height": 898
        }
      },
      "source": [
        "# 18. exercise:\n",
        "# IV.\n",
        "import seaborn as sn\n",
        "import pandas as pd\n",
        "import matplotlib.pyplot as plt\n",
        "from matplotlib.pyplot import show\n",
        "from pylab import savefig\n",
        "dictionary = {\"chr7\":[120, 84, 167, 84, 55, 65, 59, 111, 69, 104, 110, 79, 62, 65, 74, 85, 72, 94, 50, 68, 77, 102, 84, 159, 115, 88, 97, 74, 82, 122, 71, 84, 67, 122, 97, 96, 111, 106, 64, 69, 75, 68, 117, 73, 72, 233, 242, 96, 127, 85, 133, 107, 69, 123, 91, 116, 80, 113, 82, 145, 109, 86, 58, 96, 138, 179, 163, 129, 160, 102, 114, 93, 20, 26, 189, 102, 129, 88, 118, 100, 73, 62, 41, 89, 66, 139, 162, 134, 120, 5, 57, 151, 131, 188, 56, 73, 30, 48, 65, 56, 108, 130, 125, 70, 146, 157, 117, 161, 110, 63, 143, 89, 112, 111, 116, 87, 119, 80, 147, 61, 129, 84, 193, 80, 133, 40, 58, 131, 123, 45, 57, 110, 85, 107, 121, 66, 103, 46, 147, 60, 71, 182, 83, 76, 96, 30, 128, 131, 182, 260, 100, 38, 54, 76, 31, 106, 89, 127, 122, 92, 112, 87, 114, 127, 69, 78, 106, 115, 53, 69, 21, 29, 67, 76, 64, 74, 93, 94, 103, 140, 127, 66, 27, 109, 53, 150, 106, 100, 102, 109, 70, 62, 75, 131, 85, 128, 80, 129, 68, 79, 120, 93, 57, 80, 81, 137, 49, 49, 94, 138, 35, 206, 133, 93, 40, 145],\n",
        "              \"chr16\": [57, 111, 74, 52, 105, 84, 70, 50, 62, 97, 96, 69, 131, 77, 23, 105, 71, 130, 110, 130, 89, 63, 58, 51, 113, 79, 107, 112, 105, 57, 26, 76, 134, 102, 40, 76, 58, 56, 105, 94, 154, 160, 190, 110, 51, 83, 255, 96, 48, 56, 71, 51, 75, 148, 75, 117, 75, 65, 66, 171, 29, 99, 49, 88, 47, 83, 63, 96, 131, 108, 31, 164, 131, 59, 88, 58, 69, 120, 162, 37, 87, 84, 94, 68, 64, 85, 51, 73, 73, 46, 65, 101, 142, 101, 186, 104, 98, 128, 113, 103, 58, 91, 115, 42, 76, 211, 112, 135, 76, 105, 83, 110, 115, 48, 63, 70, 84, 139, 39, 40, 63, 45, 162, 82, 58, 98, 62, 86, 68, 125, 52, 77, 101, 58, 87, 70, 57, 213, 62, 85, 64, 167, 92, 84, 65, 58, 77, 92, 49, 132, 162, 68, 19, 67, 86, 87, 140, 99, 57, 145, 103, 74, 60, 99, 137, 117, 118, 76, 131, 40, 53, 96, 125, 157, 55, 109, 82, 74, 36, 98, 90, 58, 80, 124, 131, 112, 83, 121, 100, 102, 125, 60, 144, 55, 92, 44, 135, 72, 69, 90, 37, 90, 57, 111, 72, 84, 93, 61, 38, 65, 76, 41, 148, 46, 103, 82, 38, 102, 29, 77, 64, 53, 63, 67, 82, 75, 96, 95, 68, 88, 46, 150, 32, 66, 113, 97, 124, 84, 31, 79, 78, 85, 70, 91, 176, 80, 102, 117, 77, 80, 115, 64, 88, 38, 115, 124, 93, 123, 154, 43, 80, 98, 51, 104, 43, 45, 98, 99, 75, 57, 80, 80, 54, 36, 72, 119, 48, 120, 60, 71, 67, 29, 36, 14, 67, 17, 49, 83, 95, 105, 42, 102, 71, 78, 164, 54, 58, 71, 71, 68, 24, 103, 74, 48, 69, 74, 60, 58, 116, 64, 125, 64, 69, 73, 131, 46, 53, 39, 89, 116, 113, 73, 81, 78, 34, 132, 72, 63, 59, 75, 206, 48, 111, 80, 69, 166, 80, 68, 85, 59, 153, 99, 74, 63, 107, 115, 93, 49, 81, 46, 54, 102, 105, 156, 55, 61, 72, 75, 95, 180, 51, 67, 85, 100, 23, 22, 113, 64, 71, 84, 121, 87, 89, 202, 69, 100, 45, 40, 78, 41, 41, 10, 52, 54, 102, 65, 23, 32, 71, 78, 86, 105, 131, 61, 76, 86, 141, 64, 69, 80, 81, 87, 42, 27, 23, 22, 3, 19, 71, 23, 36, 32, 42, 20, 74, 90, 131, 85, 69, 85, 52, 72, 103, 74, 87, 217, 83, 63, 92, 134, 77, 103, 50, 42, 11, 79, 73, 100, 72, 70, 80, 148, 104, 101, 166, 233, 37, 62, 37, 34, 34, 142, 139, 96, 46, 85, 37, 114, 53, 100, 164, 120, 51, 31, 112, 155, 73, 167, 86, 79, 66, 55, 74, 66, 51, 78, 75, 116, 93, 101, 149, 110, 40, 60, 96, 73, 71, 66, 73, 67, 45, 112, 76, 130, 63, 96, 127, 48, 70, 95, 106, 70, 172, 121, 37, 56, 98, 83, 66, 138, 85, 104, 42, 32, 74, 31, 93, 135, 41, 69, 62, 89, 53, 63, 69, 94, 87, 66, 142, 136, 56, 107, 110, 75, 215, 142, 74, 133, 56, 40, 66, 152, 99, 148, 71, 78, 64, 89, 77, 119, 115, 31, 13, 29, 56, 100, 121, 60, 52, 109, 98, 90, 62, 91, 32, 65, 113, 93, 114, 54, 102, 102],\n",
        "              \"chr10\": [81, 68, 67, 123, 69, 79, 65, 92, 136, 93, 57, 58, 38, 103, 66, 150, 87, 77, 59, 90, 83, 53, 109, 148, 100, 86, 62, 36, 93, 67, 84, 106, 149, 171, 98, 139, 118, 107, 153, 127, 84, 66, 51, 126, 92, 90, 40, 68, 105, 80, 176, 75, 107, 127, 151, 46, 74, 74, 106, 54, 123, 87, 90, 107, 177, 87, 172, 124, 98, 97, 87, 170, 81, 98, 45, 185, 86, 106, 124, 61, 54, 78, 72, 87, 101, 56, 159, 89, 125, 124, 81, 118, 81, 88, 49, 52, 112, 112, 47, 89, 177, 131, 70, 113, 82, 78, 69, 82, 83, 80, 153, 110, 49, 72, 68, 36, 189, 147, 64, 115, 83, 139, 130, 97, 79, 156, 127, 45, 79, 150, 121, 172, 127, 47, 114, 81, 87, 107, 80, 84, 102, 95, 140, 125, 31],\n",
        "              \"chr11\": [70, 187, 95, 99, 29, 39, 20, 118, 102, 68, 118, 142, 75, 86, 43, 23, 27, 78, 35, 30, 154, 54, 59, 73, 28, 9, 75, 73, 69, 7, 30, 8, 22, 15, 57, 40, 23, 114, 130, 101, 38, 23, 19, 11, 10, 85, 21, 60, 174, 136, 21, 67, 44, 20, 12, 110, 92, 80, 42, 114, 126, 169, 88, 50, 50, 59, 9, 6, 122, 29, 8, 30, 48, 34, 6, 123, 89, 122, 5, 80, 17, 12, 54, 148, 84, 31, 9, 90, 67, 75, 106, 71, 83, 71, 47, 107, 72, 26, 35, 12, 32, 52, 89, 171, 91, 81, 12, 15, 57, 165, 140, 73, 18, 104, 109, 117, 63, 98, 36, 73, 89, 56, 35, 27, 101, 86, 95, 136, 57, 71, 34, 17, 29, 18, 122, 64, 54, 26, 183, 202, 187, 68, 70, 40, 68, 141, 146, 94, 155, 34, 14, 71, 4, 46, 10, 13, 45, 120, 81, 67, 10, 18, 52, 18, 6, 20, 7, 10, 31, 50, 24, 36, 98, 23, 95, 87, 136, 133, 84, 75, 69, 95, 68, 71, 67, 15, 21, 17, 93, 166, 112, 109, 107, 78, 162, 153, 99, 57, 24, 21, 16, 66, 70, 20, 47, 15, 89, 13, 31, 49, 25, 29, 63, 96, 95, 102, 60, 66, 50, 44, 16, 19, 79, 67, 116, 61, 13, 18, 6, 9, 4, 5, 9, 83, 115, 21, 96, 172, 99, 13, 106, 121, 133, 100, 16, 42, 37, 101, 120, 85, 100, 144, 97, 100, 116, 80, 26, 17, 13, 83, 15, 37, 97, 66, 79, 82, 61, 53, 104, 49, 25, 24, 10, 31, 45, 14, 5, 5, 45, 10, 145, 76, 80, 90, 46, 42, 31, 81, 138, 105, 145, 94, 11, 47, 92, 41, 140, 115, 70, 113, 59, 89, 78, 55, 85, 20, 68, 68, 84, 108, 17, 114],\n",
        "              \"chr15\": [92, 64, 94, 47, 64, 90, 140, 79, 112, 178, 123, 94, 85, 104, 72, 286, 117, 78, 189, 50, 125, 157, 70, 134, 64, 92, 81, 83, 117, 131, 88, 95, 79, 92, 74, 101, 120, 107, 68, 185, 87, 104, 124, 81, 78, 78, 40, 104, 160, 23, 30, 87, 55, 88, 129, 113, 53, 70, 121, 43, 90, 48, 118, 171, 28, 67, 43, 58, 31, 46, 82],\n",
        "              \"chr12\": [86, 103, 84, 88, 134, 152, 105, 113, 87, 138, 113, 175, 85, 92, 101, 88, 79, 118, 123, 66, 50, 135, 67, 131, 47, 90, 158, 103, 92, 84, 84, 66, 160, 84, 103, 96, 101, 134, 168, 139, 43, 135, 117, 100, 137, 106, 128, 112, 49, 146, 258, 166, 80, 126, 113, 67, 183, 132, 76, 161, 141, 119, 125, 63, 167, 186, 60, 46, 130, 56, 104, 55, 121, 125, 94, 63, 110, 116, 109, 103, 81, 114, 183, 148, 107, 40, 131, 149, 128, 109, 99, 97, 160, 203],\n",
        "              \"chrX\": [63, 77, 54, 74, 38, 81, 82, 21, 119, 146, 86, 34, 46, 93, 57, 83, 73, 92, 135, 140, 95, 116, 66, 84, 76, 103, 63, 65, 113, 63, 122, 57, 123, 61, 26, 51, 47, 66, 75, 125, 156, 120, 47, 57, 91, 101, 54, 68, 71, 92, 92, 88, 61, 84, 72, 69, 48, 33, 66, 128, 89, 86, 111, 89, 37, 65, 77, 82, 35, 72, 93, 96, 60, 45],\n",
        "              \"chr4\": [40, 56, 29, 58, 54, 70, 90, 76, 92, 68, 79, 87, 109, 45, 99, 133, 171, 101, 61, 70, 114, 127, 69, 147, 94, 66, 62, 64, 118, 89, 155, 122, 103, 86, 69, 86, 85, 65, 67, 77, 32, 115, 80, 111, 118, 157, 137, 138, 151, 74, 159, 65, 74, 103, 46, 81, 64, 67, 116, 109, 86, 82, 63, 87, 34, 50, 139, 62, 55, 70, 110, 120, 87, 78, 122, 192, 102, 112, 128, 41, 69, 59, 106, 131, 77, 115, 256, 135, 65, 101, 148, 108, 138, 146, 93, 71, 68, 89, 135, 104, 92, 82, 115, 96, 118, 122, 94, 55, 31, 64, 89, 33, 120, 59, 131, 158, 75, 81, 61, 43, 53, 66, 114, 64, 89, 149, 88, 86, 120, 86, 114, 162, 82, 60, 44, 110, 82, 77, 56, 76, 76, 86, 53],\n",
        "              \"chr13\": [47, 64, 20, 39, 37, 107, 106, 45, 78, 149, 86, 122, 122, 31, 155, 45, 77, 85, 71, 54, 77, 25, 34, 83, 147, 77, 90, 147, 123, 90, 138, 86, 180, 121, 91, 86, 28, 45, 74, 88, 188, 63, 97, 85, 115, 32, 59],\n",
        "              \"chr18\": [266, 95, 131, 115, 87, 113, 81, 108, 73, 76, 38, 60],\n",
        "              \"chr14_GL000194v1_random\": [109, 108, 70, 123],\n",
        "              \"chrM\": [21, 29],\n",
        "              \"chrUn_GL000218v1\": [84]}\n",
        "\n",
        "df_list = []\n",
        "\n",
        "for chrom_name, value in dictionary.items():\n",
        "  df_series = pd.Series(value)\n",
        "  df = pd.DataFrame(df_series, columns=[\"intervals\"])\n",
        "  df[\"chrom\"] = chrom_name\n",
        "  df_list.append(df)\n",
        "  final_df = pd.concat(df_list, axis=0)\n",
        "  f = final_df[final_df.chrom == \"chr9\"].transpose()\n",
        "\n",
        "sns.violinplot(x=\"chrom\", y=\"intervals\", data=final_df, cut=10, palette=\"Set1\", width=1.8)\n",
        "\n",
        "sns_violinplot = sns.violinplot(x=\"chrom\", y=\"intervals\", data=final_df, cut=10, palette=\"Set1\", width=1.8)\n",
        "sns_violinplot.figure.savefig(\"chromviolin.jpg\")\n",
        "show(\"chromviolin.jpg\")"
      ],
      "execution_count": 0,
      "outputs": [
        {
          "output_type": "display_data",
          "data": {
            "image/png": "[encoded data removed]",
            "text/plain": [
              "<Figure size 1656x1080 with 1 Axes>"
            ]
          },
          "metadata": {
            "tags": []
          }
        }
      ]
    },
    {
      "cell_type": "code",
      "metadata": {
        "id": "YZY8FnUhxw82",
        "colab_type": "code",
        "outputId": "3c5ca14f-2fdf-44c6-aab4-d2002be32af6",
        "colab": {
          "base_uri": "https://localhost:8080/",
          "height": 447
        }
      },
      "source": [
        "# 19. exercise:\n",
        "# V.\n",
        "import matplotlib.pyplot as plt\n",
        "import pandas as pd\n",
        "import seaborn as sns\n",
        "from pylab import savefig\n",
        "from matplotlib.pyplot import show\n",
        "plt.figure(figsize=(22,7))\n",
        "df_list = []\n",
        "\n",
        "dictionary = {\"chr7\":[120, 84, 167, 84, 55, 65, 59, 111, 69, 104, 110, 79, 62, 65, 74, 85, 72, 94, 50, 68, 77, 102, 84, 159, 115, 88, 97, 74, 82, 122, 71, 84, 67, 122, 97, 96, 111, 106, 64, 69, 75, 68, 117, 73, 72, 233, 242, 96, 127, 85, 133, 107, 69, 123, 91, 116, 80, 113, 82, 145, 109, 86, 58, 96, 138, 179, 163, 129, 160, 102, 114, 93, 20, 26, 189, 102, 129, 88, 118, 100, 73, 62, 41, 89, 66, 139, 162, 134, 120, 5, 57, 151, 131, 188, 56, 73, 30, 48, 65, 56, 108, 130, 125, 70, 146, 157, 117, 161, 110, 63, 143, 89, 112, 111, 116, 87, 119, 80, 147, 61, 129, 84, 193, 80, 133, 40, 58, 131, 123, 45, 57, 110, 85, 107, 121, 66, 103, 46, 147, 60, 71, 182, 83, 76, 96, 30, 128, 131, 182, 260, 100, 38, 54, 76, 31, 106, 89, 127, 122, 92, 112, 87, 114, 127, 69, 78, 106, 115, 53, 69, 21, 29, 67, 76, 64, 74, 93, 94, 103, 140, 127, 66, 27, 109, 53, 150, 106, 100, 102, 109, 70, 62, 75, 131, 85, 128, 80, 129, 68, 79, 120, 93, 57, 80, 81, 137, 49, 49, 94, 138, 35, 206, 133, 93, 40, 145],\n",
        "              \"chr16\": [57, 111, 74, 52, 105, 84, 70, 50, 62, 97, 96, 69, 131, 77, 23, 105, 71, 130, 110, 130, 89, 63, 58, 51, 113, 79, 107, 112, 105, 57, 26, 76, 134, 102, 40, 76, 58, 56, 105, 94, 154, 160, 190, 110, 51, 83, 255, 96, 48, 56, 71, 51, 75, 148, 75, 117, 75, 65, 66, 171, 29, 99, 49, 88, 47, 83, 63, 96, 131, 108, 31, 164, 131, 59, 88, 58, 69, 120, 162, 37, 87, 84, 94, 68, 64, 85, 51, 73, 73, 46, 65, 101, 142, 101, 186, 104, 98, 128, 113, 103, 58, 91, 115, 42, 76, 211, 112, 135, 76, 105, 83, 110, 115, 48, 63, 70, 84, 139, 39, 40, 63, 45, 162, 82, 58, 98, 62, 86, 68, 125, 52, 77, 101, 58, 87, 70, 57, 213, 62, 85, 64, 167, 92, 84, 65, 58, 77, 92, 49, 132, 162, 68, 19, 67, 86, 87, 140, 99, 57, 145, 103, 74, 60, 99, 137, 117, 118, 76, 131, 40, 53, 96, 125, 157, 55, 109, 82, 74, 36, 98, 90, 58, 80, 124, 131, 112, 83, 121, 100, 102, 125, 60, 144, 55, 92, 44, 135, 72, 69, 90, 37, 90, 57, 111, 72, 84, 93, 61, 38, 65, 76, 41, 148, 46, 103, 82, 38, 102, 29, 77, 64, 53, 63, 67, 82, 75, 96, 95, 68, 88, 46, 150, 32, 66, 113, 97, 124, 84, 31, 79, 78, 85, 70, 91, 176, 80, 102, 117, 77, 80, 115, 64, 88, 38, 115, 124, 93, 123, 154, 43, 80, 98, 51, 104, 43, 45, 98, 99, 75, 57, 80, 80, 54, 36, 72, 119, 48, 120, 60, 71, 67, 29, 36, 14, 67, 17, 49, 83, 95, 105, 42, 102, 71, 78, 164, 54, 58, 71, 71, 68, 24, 103, 74, 48, 69, 74, 60, 58, 116, 64, 125, 64, 69, 73, 131, 46, 53, 39, 89, 116, 113, 73, 81, 78, 34, 132, 72, 63, 59, 75, 206, 48, 111, 80, 69, 166, 80, 68, 85, 59, 153, 99, 74, 63, 107, 115, 93, 49, 81, 46, 54, 102, 105, 156, 55, 61, 72, 75, 95, 180, 51, 67, 85, 100, 23, 22, 113, 64, 71, 84, 121, 87, 89, 202, 69, 100, 45, 40, 78, 41, 41, 10, 52, 54, 102, 65, 23, 32, 71, 78, 86, 105, 131, 61, 76, 86, 141, 64, 69, 80, 81, 87, 42, 27, 23, 22, 3, 19, 71, 23, 36, 32, 42, 20, 74, 90, 131, 85, 69, 85, 52, 72, 103, 74, 87, 217, 83, 63, 92, 134, 77, 103, 50, 42, 11, 79, 73, 100, 72, 70, 80, 148, 104, 101, 166, 233, 37, 62, 37, 34, 34, 142, 139, 96, 46, 85, 37, 114, 53, 100, 164, 120, 51, 31, 112, 155, 73, 167, 86, 79, 66, 55, 74, 66, 51, 78, 75, 116, 93, 101, 149, 110, 40, 60, 96, 73, 71, 66, 73, 67, 45, 112, 76, 130, 63, 96, 127, 48, 70, 95, 106, 70, 172, 121, 37, 56, 98, 83, 66, 138, 85, 104, 42, 32, 74, 31, 93, 135, 41, 69, 62, 89, 53, 63, 69, 94, 87, 66, 142, 136, 56, 107, 110, 75, 215, 142, 74, 133, 56, 40, 66, 152, 99, 148, 71, 78, 64, 89, 77, 119, 115, 31, 13, 29, 56, 100, 121, 60, 52, 109, 98, 90, 62, 91, 32, 65, 113, 93, 114, 54, 102, 102],\n",
        "              \"chr10\": [81, 68, 67, 123, 69, 79, 65, 92, 136, 93, 57, 58, 38, 103, 66, 150, 87, 77, 59, 90, 83, 53, 109, 148, 100, 86, 62, 36, 93, 67, 84, 106, 149, 171, 98, 139, 118, 107, 153, 127, 84, 66, 51, 126, 92, 90, 40, 68, 105, 80, 176, 75, 107, 127, 151, 46, 74, 74, 106, 54, 123, 87, 90, 107, 177, 87, 172, 124, 98, 97, 87, 170, 81, 98, 45, 185, 86, 106, 124, 61, 54, 78, 72, 87, 101, 56, 159, 89, 125, 124, 81, 118, 81, 88, 49, 52, 112, 112, 47, 89, 177, 131, 70, 113, 82, 78, 69, 82, 83, 80, 153, 110, 49, 72, 68, 36, 189, 147, 64, 115, 83, 139, 130, 97, 79, 156, 127, 45, 79, 150, 121, 172, 127, 47, 114, 81, 87, 107, 80, 84, 102, 95, 140, 125, 31],\n",
        "              \"chr11\": [70, 187, 95, 99, 29, 39, 20, 118, 102, 68, 118, 142, 75, 86, 43, 23, 27, 78, 35, 30, 154, 54, 59, 73, 28, 9, 75, 73, 69, 7, 30, 8, 22, 15, 57, 40, 23, 114, 130, 101, 38, 23, 19, 11, 10, 85, 21, 60, 174, 136, 21, 67, 44, 20, 12, 110, 92, 80, 42, 114, 126, 169, 88, 50, 50, 59, 9, 6, 122, 29, 8, 30, 48, 34, 6, 123, 89, 122, 5, 80, 17, 12, 54, 148, 84, 31, 9, 90, 67, 75, 106, 71, 83, 71, 47, 107, 72, 26, 35, 12, 32, 52, 89, 171, 91, 81, 12, 15, 57, 165, 140, 73, 18, 104, 109, 117, 63, 98, 36, 73, 89, 56, 35, 27, 101, 86, 95, 136, 57, 71, 34, 17, 29, 18, 122, 64, 54, 26, 183, 202, 187, 68, 70, 40, 68, 141, 146, 94, 155, 34, 14, 71, 4, 46, 10, 13, 45, 120, 81, 67, 10, 18, 52, 18, 6, 20, 7, 10, 31, 50, 24, 36, 98, 23, 95, 87, 136, 133, 84, 75, 69, 95, 68, 71, 67, 15, 21, 17, 93, 166, 112, 109, 107, 78, 162, 153, 99, 57, 24, 21, 16, 66, 70, 20, 47, 15, 89, 13, 31, 49, 25, 29, 63, 96, 95, 102, 60, 66, 50, 44, 16, 19, 79, 67, 116, 61, 13, 18, 6, 9, 4, 5, 9, 83, 115, 21, 96, 172, 99, 13, 106, 121, 133, 100, 16, 42, 37, 101, 120, 85, 100, 144, 97, 100, 116, 80, 26, 17, 13, 83, 15, 37, 97, 66, 79, 82, 61, 53, 104, 49, 25, 24, 10, 31, 45, 14, 5, 5, 45, 10, 145, 76, 80, 90, 46, 42, 31, 81, 138, 105, 145, 94, 11, 47, 92, 41, 140, 115, 70, 113, 59, 89, 78, 55, 85, 20, 68, 68, 84, 108, 17, 114],\n",
        "              \"chr15\": [92, 64, 94, 47, 64, 90, 140, 79, 112, 178, 123, 94, 85, 104, 72, 286, 117, 78, 189, 50, 125, 157, 70, 134, 64, 92, 81, 83, 117, 131, 88, 95, 79, 92, 74, 101, 120, 107, 68, 185, 87, 104, 124, 81, 78, 78, 40, 104, 160, 23, 30, 87, 55, 88, 129, 113, 53, 70, 121, 43, 90, 48, 118, 171, 28, 67, 43, 58, 31, 46, 82],\n",
        "              \"chr12\": [86, 103, 84, 88, 134, 152, 105, 113, 87, 138, 113, 175, 85, 92, 101, 88, 79, 118, 123, 66, 50, 135, 67, 131, 47, 90, 158, 103, 92, 84, 84, 66, 160, 84, 103, 96, 101, 134, 168, 139, 43, 135, 117, 100, 137, 106, 128, 112, 49, 146, 258, 166, 80, 126, 113, 67, 183, 132, 76, 161, 141, 119, 125, 63, 167, 186, 60, 46, 130, 56, 104, 55, 121, 125, 94, 63, 110, 116, 109, 103, 81, 114, 183, 148, 107, 40, 131, 149, 128, 109, 99, 97, 160, 203],\n",
        "              \"chrX\": [63, 77, 54, 74, 38, 81, 82, 21, 119, 146, 86, 34, 46, 93, 57, 83, 73, 92, 135, 140, 95, 116, 66, 84, 76, 103, 63, 65, 113, 63, 122, 57, 123, 61, 26, 51, 47, 66, 75, 125, 156, 120, 47, 57, 91, 101, 54, 68, 71, 92, 92, 88, 61, 84, 72, 69, 48, 33, 66, 128, 89, 86, 111, 89, 37, 65, 77, 82, 35, 72, 93, 96, 60, 45],\n",
        "              \"chr4\": [40, 56, 29, 58, 54, 70, 90, 76, 92, 68, 79, 87, 109, 45, 99, 133, 171, 101, 61, 70, 114, 127, 69, 147, 94, 66, 62, 64, 118, 89, 155, 122, 103, 86, 69, 86, 85, 65, 67, 77, 32, 115, 80, 111, 118, 157, 137, 138, 151, 74, 159, 65, 74, 103, 46, 81, 64, 67, 116, 109, 86, 82, 63, 87, 34, 50, 139, 62, 55, 70, 110, 120, 87, 78, 122, 192, 102, 112, 128, 41, 69, 59, 106, 131, 77, 115, 256, 135, 65, 101, 148, 108, 138, 146, 93, 71, 68, 89, 135, 104, 92, 82, 115, 96, 118, 122, 94, 55, 31, 64, 89, 33, 120, 59, 131, 158, 75, 81, 61, 43, 53, 66, 114, 64, 89, 149, 88, 86, 120, 86, 114, 162, 82, 60, 44, 110, 82, 77, 56, 76, 76, 86, 53],\n",
        "              \"chr13\": [47, 64, 20, 39, 37, 107, 106, 45, 78, 149, 86, 122, 122, 31, 155, 45, 77, 85, 71, 54, 77, 25, 34, 83, 147, 77, 90, 147, 123, 90, 138, 86, 180, 121, 91, 86, 28, 45, 74, 88, 188, 63, 97, 85, 115, 32, 59],\n",
        "              \"chr18\": [266, 95, 131, 115, 87, 113, 81, 108, 73, 76, 38, 60],\n",
        "              \"chr14_GL000194v1_random\": [109, 108, 70, 123],\n",
        "              \"chrM\": [21, 29],\n",
        "              \"chrUn_GL000218v1\": [84]}\n",
        "\n",
        "for chrom_name, value in dictionary.items():\n",
        "  df_series = pd.Series(value)\n",
        "  df = pd.DataFrame(df_series, columns=[\"intervals\"])\n",
        "  df[\"chrom\"] = chrom_name\n",
        "  df_list.append(df)\n",
        "  final_df = pd.concat(df_list, axis=0)\n",
        "\n",
        "# Notice the difference that cat plot can be changed into box type of plot.\n",
        "sns.boxplot(x=\"chrom\", y=\"intervals\", data=final_df, palette=\"Set1\")\n",
        "\n",
        "boxplotII = sns.boxplot(x=\"chrom\", y=\"intervals\", data=final_df, palette=\"Set1\")\n",
        "plt.savefig(\"catplotII.jpg\")\n",
        "show(\"catplotII.jpg\")"
      ],
      "execution_count": 0,
      "outputs": [
        {
          "output_type": "display_data",
          "data": {
            "image/png": "[encoded data removed]",
            "text/plain": [
              "<Figure size 1584x504 with 1 Axes>"
            ]
          },
          "metadata": {
            "tags": []
          }
        }
      ]
    },
    {
      "cell_type": "code",
      "metadata": {
        "id": "bDe2SdBey36n",
        "colab_type": "code",
        "outputId": "f6057e40-8125-4be8-fe06-35df59c74bfc",
        "colab": {
          "base_uri": "https://localhost:8080/",
          "height": 594
        }
      },
      "source": [
        "# 20. exercise:\n",
        "# VI. catplot \n",
        "import matplotlib.pyplot as plt\n",
        "import pandas as pd\n",
        "import seaborn as sn\n",
        "from pylab import savefig\n",
        "from matplotlib.pyplot import show\n",
        "plt.figure(figsize=(20,5))\n",
        "df_list = []\n",
        "\n",
        "dictionary = {\"chr7\":[120, 84, 167, 84, 55, 65, 59, 111, 69, 104, 110, 79, 62, 65, 74, 85, 72, 94, 50, 68, 77, 102, 84, 159, 115, 88, 97, 74, 82, 122, 71, 84, 67, 122, 97, 96, 111, 106, 64, 69, 75, 68, 117, 73, 72, 233, 242, 96, 127, 85, 133, 107, 69, 123, 91, 116, 80, 113, 82, 145, 109, 86, 58, 96, 138, 179, 163, 129, 160, 102, 114, 93, 20, 26, 189, 102, 129, 88, 118, 100, 73, 62, 41, 89, 66, 139, 162, 134, 120, 5, 57, 151, 131, 188, 56, 73, 30, 48, 65, 56, 108, 130, 125, 70, 146, 157, 117, 161, 110, 63, 143, 89, 112, 111, 116, 87, 119, 80, 147, 61, 129, 84, 193, 80, 133, 40, 58, 131, 123, 45, 57, 110, 85, 107, 121, 66, 103, 46, 147, 60, 71, 182, 83, 76, 96, 30, 128, 131, 182, 260, 100, 38, 54, 76, 31, 106, 89, 127, 122, 92, 112, 87, 114, 127, 69, 78, 106, 115, 53, 69, 21, 29, 67, 76, 64, 74, 93, 94, 103, 140, 127, 66, 27, 109, 53, 150, 106, 100, 102, 109, 70, 62, 75, 131, 85, 128, 80, 129, 68, 79, 120, 93, 57, 80, 81, 137, 49, 49, 94, 138, 35, 206, 133, 93, 40, 145],\n",
        "              \"chr16\": [57, 111, 74, 52, 105, 84, 70, 50, 62, 97, 96, 69, 131, 77, 23, 105, 71, 130, 110, 130, 89, 63, 58, 51, 113, 79, 107, 112, 105, 57, 26, 76, 134, 102, 40, 76, 58, 56, 105, 94, 154, 160, 190, 110, 51, 83, 255, 96, 48, 56, 71, 51, 75, 148, 75, 117, 75, 65, 66, 171, 29, 99, 49, 88, 47, 83, 63, 96, 131, 108, 31, 164, 131, 59, 88, 58, 69, 120, 162, 37, 87, 84, 94, 68, 64, 85, 51, 73, 73, 46, 65, 101, 142, 101, 186, 104, 98, 128, 113, 103, 58, 91, 115, 42, 76, 211, 112, 135, 76, 105, 83, 110, 115, 48, 63, 70, 84, 139, 39, 40, 63, 45, 162, 82, 58, 98, 62, 86, 68, 125, 52, 77, 101, 58, 87, 70, 57, 213, 62, 85, 64, 167, 92, 84, 65, 58, 77, 92, 49, 132, 162, 68, 19, 67, 86, 87, 140, 99, 57, 145, 103, 74, 60, 99, 137, 117, 118, 76, 131, 40, 53, 96, 125, 157, 55, 109, 82, 74, 36, 98, 90, 58, 80, 124, 131, 112, 83, 121, 100, 102, 125, 60, 144, 55, 92, 44, 135, 72, 69, 90, 37, 90, 57, 111, 72, 84, 93, 61, 38, 65, 76, 41, 148, 46, 103, 82, 38, 102, 29, 77, 64, 53, 63, 67, 82, 75, 96, 95, 68, 88, 46, 150, 32, 66, 113, 97, 124, 84, 31, 79, 78, 85, 70, 91, 176, 80, 102, 117, 77, 80, 115, 64, 88, 38, 115, 124, 93, 123, 154, 43, 80, 98, 51, 104, 43, 45, 98, 99, 75, 57, 80, 80, 54, 36, 72, 119, 48, 120, 60, 71, 67, 29, 36, 14, 67, 17, 49, 83, 95, 105, 42, 102, 71, 78, 164, 54, 58, 71, 71, 68, 24, 103, 74, 48, 69, 74, 60, 58, 116, 64, 125, 64, 69, 73, 131, 46, 53, 39, 89, 116, 113, 73, 81, 78, 34, 132, 72, 63, 59, 75, 206, 48, 111, 80, 69, 166, 80, 68, 85, 59, 153, 99, 74, 63, 107, 115, 93, 49, 81, 46, 54, 102, 105, 156, 55, 61, 72, 75, 95, 180, 51, 67, 85, 100, 23, 22, 113, 64, 71, 84, 121, 87, 89, 202, 69, 100, 45, 40, 78, 41, 41, 10, 52, 54, 102, 65, 23, 32, 71, 78, 86, 105, 131, 61, 76, 86, 141, 64, 69, 80, 81, 87, 42, 27, 23, 22, 3, 19, 71, 23, 36, 32, 42, 20, 74, 90, 131, 85, 69, 85, 52, 72, 103, 74, 87, 217, 83, 63, 92, 134, 77, 103, 50, 42, 11, 79, 73, 100, 72, 70, 80, 148, 104, 101, 166, 233, 37, 62, 37, 34, 34, 142, 139, 96, 46, 85, 37, 114, 53, 100, 164, 120, 51, 31, 112, 155, 73, 167, 86, 79, 66, 55, 74, 66, 51, 78, 75, 116, 93, 101, 149, 110, 40, 60, 96, 73, 71, 66, 73, 67, 45, 112, 76, 130, 63, 96, 127, 48, 70, 95, 106, 70, 172, 121, 37, 56, 98, 83, 66, 138, 85, 104, 42, 32, 74, 31, 93, 135, 41, 69, 62, 89, 53, 63, 69, 94, 87, 66, 142, 136, 56, 107, 110, 75, 215, 142, 74, 133, 56, 40, 66, 152, 99, 148, 71, 78, 64, 89, 77, 119, 115, 31, 13, 29, 56, 100, 121, 60, 52, 109, 98, 90, 62, 91, 32, 65, 113, 93, 114, 54, 102, 102],\n",
        "              \"chr10\": [81, 68, 67, 123, 69, 79, 65, 92, 136, 93, 57, 58, 38, 103, 66, 150, 87, 77, 59, 90, 83, 53, 109, 148, 100, 86, 62, 36, 93, 67, 84, 106, 149, 171, 98, 139, 118, 107, 153, 127, 84, 66, 51, 126, 92, 90, 40, 68, 105, 80, 176, 75, 107, 127, 151, 46, 74, 74, 106, 54, 123, 87, 90, 107, 177, 87, 172, 124, 98, 97, 87, 170, 81, 98, 45, 185, 86, 106, 124, 61, 54, 78, 72, 87, 101, 56, 159, 89, 125, 124, 81, 118, 81, 88, 49, 52, 112, 112, 47, 89, 177, 131, 70, 113, 82, 78, 69, 82, 83, 80, 153, 110, 49, 72, 68, 36, 189, 147, 64, 115, 83, 139, 130, 97, 79, 156, 127, 45, 79, 150, 121, 172, 127, 47, 114, 81, 87, 107, 80, 84, 102, 95, 140, 125, 31],\n",
        "              \"chr11\": [70, 187, 95, 99, 29, 39, 20, 118, 102, 68, 118, 142, 75, 86, 43, 23, 27, 78, 35, 30, 154, 54, 59, 73, 28, 9, 75, 73, 69, 7, 30, 8, 22, 15, 57, 40, 23, 114, 130, 101, 38, 23, 19, 11, 10, 85, 21, 60, 174, 136, 21, 67, 44, 20, 12, 110, 92, 80, 42, 114, 126, 169, 88, 50, 50, 59, 9, 6, 122, 29, 8, 30, 48, 34, 6, 123, 89, 122, 5, 80, 17, 12, 54, 148, 84, 31, 9, 90, 67, 75, 106, 71, 83, 71, 47, 107, 72, 26, 35, 12, 32, 52, 89, 171, 91, 81, 12, 15, 57, 165, 140, 73, 18, 104, 109, 117, 63, 98, 36, 73, 89, 56, 35, 27, 101, 86, 95, 136, 57, 71, 34, 17, 29, 18, 122, 64, 54, 26, 183, 202, 187, 68, 70, 40, 68, 141, 146, 94, 155, 34, 14, 71, 4, 46, 10, 13, 45, 120, 81, 67, 10, 18, 52, 18, 6, 20, 7, 10, 31, 50, 24, 36, 98, 23, 95, 87, 136, 133, 84, 75, 69, 95, 68, 71, 67, 15, 21, 17, 93, 166, 112, 109, 107, 78, 162, 153, 99, 57, 24, 21, 16, 66, 70, 20, 47, 15, 89, 13, 31, 49, 25, 29, 63, 96, 95, 102, 60, 66, 50, 44, 16, 19, 79, 67, 116, 61, 13, 18, 6, 9, 4, 5, 9, 83, 115, 21, 96, 172, 99, 13, 106, 121, 133, 100, 16, 42, 37, 101, 120, 85, 100, 144, 97, 100, 116, 80, 26, 17, 13, 83, 15, 37, 97, 66, 79, 82, 61, 53, 104, 49, 25, 24, 10, 31, 45, 14, 5, 5, 45, 10, 145, 76, 80, 90, 46, 42, 31, 81, 138, 105, 145, 94, 11, 47, 92, 41, 140, 115, 70, 113, 59, 89, 78, 55, 85, 20, 68, 68, 84, 108, 17, 114],\n",
        "              \"chr15\": [92, 64, 94, 47, 64, 90, 140, 79, 112, 178, 123, 94, 85, 104, 72, 286, 117, 78, 189, 50, 125, 157, 70, 134, 64, 92, 81, 83, 117, 131, 88, 95, 79, 92, 74, 101, 120, 107, 68, 185, 87, 104, 124, 81, 78, 78, 40, 104, 160, 23, 30, 87, 55, 88, 129, 113, 53, 70, 121, 43, 90, 48, 118, 171, 28, 67, 43, 58, 31, 46, 82],\n",
        "              \"chr12\": [86, 103, 84, 88, 134, 152, 105, 113, 87, 138, 113, 175, 85, 92, 101, 88, 79, 118, 123, 66, 50, 135, 67, 131, 47, 90, 158, 103, 92, 84, 84, 66, 160, 84, 103, 96, 101, 134, 168, 139, 43, 135, 117, 100, 137, 106, 128, 112, 49, 146, 258, 166, 80, 126, 113, 67, 183, 132, 76, 161, 141, 119, 125, 63, 167, 186, 60, 46, 130, 56, 104, 55, 121, 125, 94, 63, 110, 116, 109, 103, 81, 114, 183, 148, 107, 40, 131, 149, 128, 109, 99, 97, 160, 203],\n",
        "              \"chrX\": [63, 77, 54, 74, 38, 81, 82, 21, 119, 146, 86, 34, 46, 93, 57, 83, 73, 92, 135, 140, 95, 116, 66, 84, 76, 103, 63, 65, 113, 63, 122, 57, 123, 61, 26, 51, 47, 66, 75, 125, 156, 120, 47, 57, 91, 101, 54, 68, 71, 92, 92, 88, 61, 84, 72, 69, 48, 33, 66, 128, 89, 86, 111, 89, 37, 65, 77, 82, 35, 72, 93, 96, 60, 45],\n",
        "              \"chr4\": [40, 56, 29, 58, 54, 70, 90, 76, 92, 68, 79, 87, 109, 45, 99, 133, 171, 101, 61, 70, 114, 127, 69, 147, 94, 66, 62, 64, 118, 89, 155, 122, 103, 86, 69, 86, 85, 65, 67, 77, 32, 115, 80, 111, 118, 157, 137, 138, 151, 74, 159, 65, 74, 103, 46, 81, 64, 67, 116, 109, 86, 82, 63, 87, 34, 50, 139, 62, 55, 70, 110, 120, 87, 78, 122, 192, 102, 112, 128, 41, 69, 59, 106, 131, 77, 115, 256, 135, 65, 101, 148, 108, 138, 146, 93, 71, 68, 89, 135, 104, 92, 82, 115, 96, 118, 122, 94, 55, 31, 64, 89, 33, 120, 59, 131, 158, 75, 81, 61, 43, 53, 66, 114, 64, 89, 149, 88, 86, 120, 86, 114, 162, 82, 60, 44, 110, 82, 77, 56, 76, 76, 86, 53],\n",
        "              \"chr13\": [47, 64, 20, 39, 37, 107, 106, 45, 78, 149, 86, 122, 122, 31, 155, 45, 77, 85, 71, 54, 77, 25, 34, 83, 147, 77, 90, 147, 123, 90, 138, 86, 180, 121, 91, 86, 28, 45, 74, 88, 188, 63, 97, 85, 115, 32, 59],\n",
        "              \"chr18\": [266, 95, 131, 115, 87, 113, 81, 108, 73, 76, 38, 60],\n",
        "              \"chr14_GL000194v1_random\": [109, 108, 70, 123],\n",
        "              \"chrM\": [21, 29],\n",
        "              \"chrUn_GL000218v1\": [84]}\n",
        "\n",
        "for chrom_name, value in dictionary.items():\n",
        "  # First, create pandas series from the dictionary. Second, create dataframe \n",
        "  # from the pandas Series with columns comprising intervals.\n",
        "  df_series = pd.Series(value)\n",
        "  df = pd.DataFrame(df_series, columns=[\"intervals\"])\n",
        "  # Third, assign label chrom to chrom_name.\n",
        "  df[\"chrom\"] = chrom_name\n",
        "  # Append the dataframe to the so far empty df list.\n",
        "  df_list.append(df)\n",
        "  # Concatenate pandas objects along x axis.\n",
        "  final_df = pd.concat(df_list, axis=0)\n",
        "\n",
        "# Your data is the final df. Height is height of each facet in inches, aspect \n",
        "# is aspect ratio of each facet, so that aspect * height gives the width of \n",
        "# each facet in inches.\n",
        "sns.catplot(x=\"chrom\", y=\"intervals\", data=final_df, palette=\"Set1\", height=4, \n",
        "            aspect=5)\n",
        "\n",
        "# To save the plot, you need to create a variable, save this variable as a jpg \n",
        "# file, and to visualize it again, use function show and the jpg file.\n",
        "catplotI = sns.catplot(x=\"chrom\", y=\"intervals\", data=final_df, palette=\"Set1\", \n",
        "                       height=4, aspect=5)\n",
        "catplotI.savefig(\"catplotI.jpg\")\n",
        "show(\"catplotI.jpg\")"
      ],
      "execution_count": 0,
      "outputs": [
        {
          "output_type": "display_data",
          "data": {
            "text/plain": [
              "<Figure size 1440x360 with 0 Axes>"
            ]
          },
          "metadata": {
            "tags": []
          }
        },
        {
          "output_type": "display_data",
          "data": {
            "image/png": "[encoded data removed]",
            "text/plain": [
              "<Figure size 1440x288 with 1 Axes>"
            ]
          },
          "metadata": {
            "tags": []
          }
        },
        {
          "output_type": "display_data",
          "data": {
            "image/png": "[encoded data removed]",
            "text/plain": [
              "<Figure size 1440x288 with 1 Axes>"
            ]
          },
          "metadata": {
            "tags": []
          }
        }
      ]
    }
  ]
}