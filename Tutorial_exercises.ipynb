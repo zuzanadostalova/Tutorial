{
  "nbformat": 4,
  "nbformat_minor": 0,
  "metadata": {
    "colab": {
      "name": "Tutorial exercises.ipynb",
      "provenance": [],
      "collapsed_sections": [],
      "include_colab_link": true
    },
    "kernelspec": {
      "name": "python3",
      "display_name": "Python 3"
    }
  },
  "cells": [
    {
      "cell_type": "markdown",
      "metadata": {
        "id": "view-in-github",
        "colab_type": "text"
      },
      "source": [
        "<a href=\"https://colab.research.google.com/github/zuzanadostalova/Tutorials/blob/master/Tutorial_exercises.ipynb\" target=\"_parent\"><img src=\"https://colab.research.google.com/assets/colab-badge.svg\" alt=\"Open In Colab\"/></a>"
      ]
    },
    {
      "cell_type": "markdown",
      "metadata": {
        "id": "oJL3aTrovXDe",
        "colab_type": "text"
      },
      "source": [
        "# **Recommended tutorials:**"
      ]
    },
    {
      "cell_type": "markdown",
      "metadata": {
        "id": "Idy_LM7bviaE",
        "colab_type": "text"
      },
      "source": [
        "# Python for biologists from Martin Jones."
      ]
    },
    {
      "cell_type": "markdown",
      "metadata": {
        "id": "GS8qGUBEv19E",
        "colab_type": "text"
      },
      "source": [
        "https://www.amazon.com/Python-Biologists-complete-programming-beginners/dp/1492346136"
      ]
    },
    {
      "cell_type": "markdown",
      "metadata": {
        "id": "chXjkBlbc5gD",
        "colab_type": "text"
      },
      "source": [
        "# Python for Beginners (Microsoft).\n"
      ]
    },
    {
      "cell_type": "markdown",
      "metadata": {
        "id": "gS8-OJ18v_y2",
        "colab_type": "text"
      },
      "source": [
        "https://www.youtube.com/watch?v=jFCNu1-Xdsw"
      ]
    },
    {
      "cell_type": "markdown",
      "metadata": {
        "id": "1t9zSdNyTqS4",
        "colab_type": "text"
      },
      "source": [
        "Lectures 3-39 are suggested to be studied. Further lessons - managing keys and virtual environment - are not relevant as much. One should also get into the habit of working on CoLab simultaneously in order to be flexible."
      ]
    },
    {
      "cell_type": "markdown",
      "metadata": {
        "id": "fZsrkrwDw-lu",
        "colab_type": "text"
      },
      "source": [
        "# Python Bible on Udemy."
      ]
    },
    {
      "cell_type": "markdown",
      "metadata": {
        "id": "_GcETDdcxia2",
        "colab_type": "text"
      },
      "source": [
        "https://www.udemy.com/course/the-python-bible/"
      ]
    },
    {
      "cell_type": "markdown",
      "metadata": {
        "id": "VlPpvMc9xlfZ",
        "colab_type": "text"
      },
      "source": [
        "The tutorial is useful to practise the basic knowledge of Python. However, the projects involved are elaborate, time-consuming, and not directly applicable for the lab."
      ]
    },
    {
      "cell_type": "markdown",
      "metadata": {
        "id": "StiEcunM0h2w",
        "colab_type": "text"
      },
      "source": [
        "# **Exercises**: \n"
      ]
    },
    {
      "cell_type": "markdown",
      "metadata": {
        "id": "-rqG6qcnDRKJ",
        "colab_type": "text"
      },
      "source": [
        "Before practical biological task, you can practise on these examples:"
      ]
    },
    {
      "cell_type": "markdown",
      "metadata": {
        "colab_type": "text",
        "id": "pOK7FpDILcmd"
      },
      "source": [
        "# Dictionary exercises:\n",
        "https://www.w3resource.com/python-exercises/dictionary/\n"
      ]
    },
    {
      "cell_type": "code",
      "metadata": {
        "id": "f3UXtl-7ixJ1",
        "colab_type": "code",
        "colab": {}
      },
      "source": [
        "# For dictionary: \n",
        "dictionary = {1: 20, 0: 10, 2: 30, 5:60, 3:40}"
      ],
      "execution_count": 0,
      "outputs": []
    },
    {
      "cell_type": "markdown",
      "metadata": {
        "id": "XdOF7m3ghp0O",
        "colab_type": "text"
      },
      "source": [
        "1) Sort the values in the dictionary in ascending order."
      ]
    },
    {
      "cell_type": "markdown",
      "metadata": {
        "id": "3uw1GyObjqmC",
        "colab_type": "text"
      },
      "source": [
        "2) Sort the values in the dictionary in descending order."
      ]
    },
    {
      "cell_type": "markdown",
      "metadata": {
        "id": "5O5l1QS5yNbi",
        "colab_type": "text"
      },
      "source": [
        "3) Add a key to dictionary:\n",
        "{6:70}"
      ]
    },
    {
      "cell_type": "code",
      "metadata": {
        "id": "bpRbQB3E2MpG",
        "colab_type": "code",
        "colab": {}
      },
      "source": [
        "# For set:\n",
        "set = {1, 20, 0, 10, 2, 30, 5, 60, 3, 40}"
      ],
      "execution_count": 0,
      "outputs": []
    },
    {
      "cell_type": "markdown",
      "metadata": {
        "id": "TyNX7Es52VFn",
        "colab_type": "text"
      },
      "source": [
        "4) Insert integer 70 in the set."
      ]
    },
    {
      "cell_type": "code",
      "metadata": {
        "id": "_kAjTrf72gYP",
        "colab_type": "code",
        "colab": {}
      },
      "source": [
        "# For the list of dictionaries:\n",
        "b = [\n",
        "     {\"name\": \"mRNA\", \"occupation\": \"messenger\", \"id\": 1}, \n",
        "     {\"name\": \"tRNA\", \"occupation\": \"transporter\", \"id\": 2}, \n",
        "     {\"name\": \"rRNA\", \"occupation\": \"ribosome builder\", \"id\": 3}\n",
        "  ]"
      ],
      "execution_count": 0,
      "outputs": []
    },
    {
      "cell_type": "markdown",
      "metadata": {
        "id": "L7zovqIF2so6",
        "colab_type": "text"
      },
      "source": [
        "5) Add to the list of dictionaries following dictionary:\n",
        "{\"name\": \"miRNA\", \"occupation\": \"silencer\", \"id\": 4}"
      ]
    },
    {
      "cell_type": "markdown",
      "metadata": {
        "id": "bg9JDtj33Exn",
        "colab_type": "text"
      },
      "source": [
        "6) Sort the list of dictionares based on the id of the RNA in descending order."
      ]
    },
    {
      "cell_type": "markdown",
      "metadata": {
        "id": "aT3uQcRy2j3v",
        "colab_type": "text"
      },
      "source": [
        "7) Sort the list of dictionares based on the name and occupation of the RNA in ascending order."
      ]
    },
    {
      "cell_type": "code",
      "metadata": {
        "id": "dg5E2CnH_oPt",
        "colab_type": "code",
        "colab": {}
      },
      "source": [
        "# For three dictionaries:\n",
        "d1 = {89: 39, 75: 5} \n",
        "d2 = {70: 20, 15: 76}\n",
        "d3 = {50: 25, 40: 11}"
      ],
      "execution_count": 0,
      "outputs": []
    },
    {
      "cell_type": "markdown",
      "metadata": {
        "id": "BaW5H-NP4UL3",
        "colab_type": "text"
      },
      "source": [
        "8) Concatenate dictionaries d1-d3."
      ]
    },
    {
      "cell_type": "markdown",
      "metadata": {
        "id": "qGRwUL4tCrwE",
        "colab_type": "text"
      },
      "source": [
        "9) Write a program to check whether key exists in d1."
      ]
    },
    {
      "cell_type": "markdown",
      "metadata": {
        "id": "RwZjR6VZJTR-",
        "colab_type": "text"
      },
      "source": [
        "10) Write a script to create a dictionary containing number between 1 and n (of your choice) where key is x and value is x*x."
      ]
    },
    {
      "cell_type": "code",
      "metadata": {
        "id": "d9TJOMcGQBcX",
        "colab_type": "code",
        "colab": {}
      },
      "source": [
        "# For the four dictionaries:\n",
        "d1 = {\"name\": \"mRNA\", \"occupation\": \"messenger\", \"id\": 1}\n",
        "d2 = {\"name\": \"tRNA\", \"occupation\": \"transporter\", \"id\": 2}\n",
        "d3 = {\"name\": \"rRNA\", \"occupation\": \"ribosome builder\", \"id\": 3}\n",
        "d4 = {\"name\": \"miRNA\", \"occupation\": \"silencer\", \"id\": 4}"
      ],
      "execution_count": 0,
      "outputs": []
    },
    {
      "cell_type": "markdown",
      "metadata": {
        "id": "x8__v20iM4Ub",
        "colab_type": "text"
      },
      "source": [
        "11) Merge these dictionaries into one dictionary under the same keys \"name\", \"occupation\", and \"id\". \n",
        "Note: Be sure not to overwrite the value of the previous dictionary with the following one (in different words - do not use .update())."
      ]
    },
    {
      "cell_type": "code",
      "metadata": {
        "id": "kdLn09SgeCk1",
        "colab_type": "code",
        "colab": {}
      },
      "source": [
        "# For the dictionary:\n",
        "dictionary = {\"id1\": 39, \"id2\": 75, \"id3\": 5, \"id4\": 67, \"id5\": 90} "
      ],
      "execution_count": 0,
      "outputs": []
    },
    {
      "cell_type": "markdown",
      "metadata": {
        "id": "cT34xME4d5UD",
        "colab_type": "text"
      },
      "source": [
        "12) Sum all the values in the dictionary."
      ]
    },
    {
      "cell_type": "markdown",
      "metadata": {
        "id": "Ae4dLY8wjWsK",
        "colab_type": "text"
      },
      "source": [
        "13) Write a program to multiply all values in a dictionary."
      ]
    },
    {
      "cell_type": "markdown",
      "metadata": {
        "id": "nWHa3F-6pfB1",
        "colab_type": "text"
      },
      "source": [
        "14) Remove \"id1\" from the dictionary."
      ]
    },
    {
      "cell_type": "code",
      "metadata": {
        "id": "NZgYFwqy4NCh",
        "colab_type": "code",
        "colab": {}
      },
      "source": [
        "# For two lists:\n",
        "keys = [\"mRNA\", \"tRNA\", \"miRNA\", \"rRNA\"]\n",
        "values = [\"messenger\", \"transporter\", \"silencer\", \"ribosome builder\"]"
      ],
      "execution_count": 0,
      "outputs": []
    },
    {
      "cell_type": "markdown",
      "metadata": {
        "id": "v_lbsF8T3zcK",
        "colab_type": "text"
      },
      "source": [
        "15) Map this two list into a dictionary."
      ]
    },
    {
      "cell_type": "markdown",
      "metadata": {
        "id": "08flgEsIZPgZ",
        "colab_type": "text"
      },
      "source": [
        "16) Sort the created dictionary alphabetically."
      ]
    },
    {
      "cell_type": "code",
      "metadata": {
        "id": "WOvr5O_AVq5Z",
        "colab_type": "code",
        "colab": {}
      },
      "source": [
        "methods = {\"id1\": \n",
        "   {\"name\": [\"Deep Learning\"], \n",
        "    \"techniques\": [\"Fully Connected Neural Networks, Convolutional Neural Networks\", \n",
        "    \"Recurrent Neural Network, Generative Adversarial Networks,Deep Reinforcement Learning.\"]\n",
        "   },\n",
        " \"id2\" : \n",
        "  {\"name\": [\"Machine learning\"], \n",
        "    \"techniques\": [\"Regression, Classification, Clustering, Dimensionality Reduction\", \n",
        "    \"Ensemble Methods, Neural Nets and Deep Learning, Transfer Learning, Reinforcement Learning.\"]\n",
        "   },\n",
        "  \"id3\": \n",
        "   {\"name\": [\"Deep Learning\"], \n",
        "    \"techniques\": [\"Fully Connected Neural Networks, Convolutional Neural Networks\", \n",
        "    \"Recurrent Neural Network, Generative Adversarial Networks,Deep Reinforcement Learning.\"]\n",
        "   }\n",
        "}\n"
      ],
      "execution_count": 0,
      "outputs": []
    },
    {
      "cell_type": "markdown",
      "metadata": {
        "id": "h5rsjupuVtkn",
        "colab_type": "text"
      },
      "source": [
        "17) Remove duplicates from the dictionary above."
      ]
    },
    {
      "cell_type": "code",
      "metadata": {
        "id": "0rSiZY3CHaQ7",
        "colab_type": "code",
        "colab": {}
      },
      "source": [
        "l = [{\"V\":\"S001\"}, {\"V\": \"S002\"}, {\"VI\": \"S001\"}, {\"VI\": \"S005\"}, {\"VII\":\"S005\"}, \n",
        "     {\"V\":\"S009\"},{\"VIII\":\"S007\"}]"
      ],
      "execution_count": 0,
      "outputs": []
    },
    {
      "cell_type": "markdown",
      "metadata": {
        "id": "4sdAGt2wHDs7",
        "colab_type": "text"
      },
      "source": [
        "18) Write a Python program to print all unique values in a dictionary."
      ]
    },
    {
      "cell_type": "markdown",
      "metadata": {
        "id": "RwEmIPuhIP_b",
        "colab_type": "text"
      },
      "source": [
        "19) Write a program that counts how many times a character occurrs in a string and marks the result down to a dictionary."
      ]
    },
    {
      "cell_type": "markdown",
      "metadata": {
        "id": "R71Lrm1NPv4p",
        "colab_type": "text"
      },
      "source": [
        "20) Write a Python program to print a dictionary line by line."
      ]
    },
    {
      "cell_type": "markdown",
      "metadata": {
        "colab_type": "text",
        "id": "e04BBHdaLcmf"
      },
      "source": [
        "# Datastructure exercises: "
      ]
    },
    {
      "cell_type": "markdown",
      "metadata": {
        "id": "Km3VWmcWa_lY",
        "colab_type": "text"
      },
      "source": [
        "https://www.w3resource.com/python-exercises/data-structures-and-algorithms/python-data-structure.php\n",
        "\n",
        "https://pynative.com/python-data-structure-exercise-for-beginners/"
      ]
    },
    {
      "cell_type": "code",
      "metadata": {
        "id": "Gt2dtRfNe2Qv",
        "colab_type": "code",
        "colab": {}
      },
      "source": [
        "# Data:\n",
        "# Small subunit of prokaryotic ribosomes contains single small rRNA 1500 nucleotides long.\n",
        "prokaryotic_SSU = 1500\n",
        "# Large subunit of prokaryotic ribosomes contains both one small rRNA and one large \n",
        "# rRNA 3000 nucleotides long.\n",
        "prokaryotic_LSU = 3000\n",
        "# Small subunit of eukaryotic ribosomes contains single small rRNA 1800 nucleotides long.\n",
        "eukaryotic_SSU = 1800\n",
        "# Large subunit of eukaryotic ribosomes contains two small rRNA and one large rRNA 5000 \n",
        "# nucleotides long.\n",
        "eukaryotic_LSU = 5000"
      ],
      "execution_count": 0,
      "outputs": []
    },
    {
      "cell_type": "markdown",
      "metadata": {
        "id": "L3ASqqMCbE1T",
        "colab_type": "text"
      },
      "source": [
        "1) Write a Python program to create an Enum object and display a member name and value."
      ]
    },
    {
      "cell_type": "markdown",
      "metadata": {
        "id": "MGJq_CXMfT8I",
        "colab_type": "text"
      },
      "source": [
        "2) Iterate over the enum class and display individual member and their value."
      ]
    },
    {
      "cell_type": "markdown",
      "metadata": {
        "id": "oEz7Tzh7l9TG",
        "colab_type": "text"
      },
      "source": [
        "3) Print all names of the members from enum class ordered by their values."
      ]
    },
    {
      "cell_type": "markdown",
      "metadata": {
        "id": "xD9IZ_N-m1rd",
        "colab_type": "text"
      },
      "source": [
        "4) Print all the values from the enum class."
      ]
    },
    {
      "cell_type": "code",
      "metadata": {
        "id": "zahbV4e6oYrp",
        "colab_type": "code",
        "colab": {}
      },
      "source": [
        "# List:\n",
        "words = [\n",
        "   \"mRNA\", \"miRNA\", \"mRNA\", \"rRNA\", \"mRNA\", \"tRNA\", \"mRNA\", \"mRNA\", \"miRNA\", \"tRNA\", \n",
        "   \"tRNA\", \"rRNA\", \"rRNA\", \"mRNA\", \"mRNA\", \"miRNA\", \"rRNA\", \"mRNA\", \"tRNA\", \"tRNA\",\n",
        "   \"rRNA\", \"rRNA\", \"rRNA\", \"rRNA\", \"mRNA\", \"miRNA\", \"rRNA\", \"miRNA\", \"tRNA\", \"tRNA\",\n",
        "]"
      ],
      "execution_count": 0,
      "outputs": []
    },
    {
      "cell_type": "markdown",
      "metadata": {
        "id": "jN3JFS_bm6oD",
        "colab_type": "text"
      },
      "source": [
        "5) Print the most common words in the list into a dictionary."
      ]
    },
    {
      "cell_type": "code",
      "metadata": {
        "id": "mMgQooTMWxH-",
        "colab_type": "code",
        "colab": {}
      },
      "source": [
        "subjects = \n",
        "(\n",
        "  (\"Math\", 3),\n",
        "  (\"Genomics\", 1),\n",
        "  (\"Genomics\", 2),\n",
        "  (\"Bioinformatics\", 2),\n",
        "  (\"Data science\", 1),\n",
        "  (\"Bioinformatics\", 1),\n",
        ")"
      ],
      "execution_count": 0,
      "outputs": []
    },
    {
      "cell_type": "markdown",
      "metadata": {
        "id": "HlW3l_mndaNq",
        "colab_type": "text"
      },
      "source": [
        "6) Write a Python program to group the sequence of key-value pairs into a dictionary of lists."
      ]
    },
    {
      "cell_type": "code",
      "metadata": {
        "id": "N98oLxXlWYyh",
        "colab_type": "code",
        "colab": {}
      },
      "source": [
        "l = [61, 29, 15, 97, 58, 60, 80, 31, 38, 52, 133, 74, 57]"
      ],
      "execution_count": 0,
      "outputs": []
    },
    {
      "cell_type": "markdown",
      "metadata": {
        "id": "AMcHDOY7Sedy",
        "colab_type": "text"
      },
      "source": [
        "7) Write a Python program to insert items into a list in descending order."
      ]
    },
    {
      "cell_type": "markdown",
      "metadata": {
        "id": "L6S7jm_xU5lC",
        "colab_type": "text"
      },
      "source": [
        "8) Write a Python program to get the three largest and the three smallest items from the l list."
      ]
    },
    {
      "cell_type": "code",
      "metadata": {
        "id": "Z8SiIqF2uO28",
        "colab_type": "code",
        "colab": {}
      },
      "source": [
        "chr9 =  {184, 47, 187, 121, 58, 53, 104, 71, 73, 105, 72, 100, 136, 72, 103, 108,\n",
        "         80, 89, 139, 72,}"
      ],
      "execution_count": 0,
      "outputs": []
    },
    {
      "cell_type": "markdown",
      "metadata": {
        "id": "mCpGJJhNVSMr",
        "colab_type": "text"
      },
      "source": [
        "9) Remove duplicates from chromosome dictionaries and find the minimum and maximum values."
      ]
    },
    {
      "cell_type": "code",
      "metadata": {
        "id": "hBbfzQm7oBAn",
        "colab_type": "code",
        "colab": {}
      },
      "source": [
        "chr9 =  {184, 47, 187, 121, 58, 53, 104, 71, 73, 105, 72, 100, 136, 72, 103, 108, \n",
        "         80, 89, 139, 72}\n",
        "chr3 =  {100, 73, 78, 61, 29, 15, 97, 58, 60, 80, 31, 38, 52, 133, 74, 57, 50, 53, \n",
        "         103, 65, 111, 85}"
      ],
      "execution_count": 0,
      "outputs": []
    },
    {
      "cell_type": "markdown",
      "metadata": {
        "id": "q6I4dXGHm7JF",
        "colab_type": "text"
      },
      "source": [
        "10) Find the intersection between two chromosomes and remove common intervals."
      ]
    },
    {
      "cell_type": "markdown",
      "metadata": {
        "id": "WwKycBVZf322",
        "colab_type": "text"
      },
      "source": [
        "# Chromosomes and intervals\n"
      ]
    },
    {
      "cell_type": "code",
      "metadata": {
        "id": "m_1xSP-6F7P6",
        "colab_type": "code",
        "colab": {}
      },
      "source": [
        "# For dictionary of chromosomes comprising the sublists of their intervals solve \n",
        "# tasks 1-8:\n",
        "dictionary = {\"chr19\": [144, 55, 39, 26, 77], \"chr3\": [80, 87, 267, 48, 14], \n",
        "              \"chr21\": [56, 33, 90, 75, 45], \"chr1\": [61, 63, 70, 35, 95], \n",
        "              \"chr7\": [81, 34, 79, 43, 11] }\n"
      ],
      "execution_count": 0,
      "outputs": []
    },
    {
      "cell_type": "markdown",
      "metadata": {
        "colab_type": "text",
        "id": "OrT6Y_M3Lcmj"
      },
      "source": [
        "\n",
        "1) Print the names of all of the chromosomes in the dictionary."
      ]
    },
    {
      "cell_type": "markdown",
      "metadata": {
        "colab_type": "text",
        "id": "3Bn1SqAaLcmh"
      },
      "source": [
        "2) Print the length of all of the chromosome names in the dictionary."
      ]
    },
    {
      "cell_type": "markdown",
      "metadata": {
        "colab_type": "text",
        "id": "xCbhpUceLcmg"
      },
      "source": [
        "3) Print the fourth character of each of the keys of the name of the chromosome."
      ]
    },
    {
      "cell_type": "markdown",
      "metadata": {
        "id": "p1jPgxe7afx6",
        "colab_type": "text"
      },
      "source": [
        "4) Print the intervals of all of the chromosomes."
      ]
    },
    {
      "cell_type": "markdown",
      "metadata": {
        "id": "bbZsB_w7MjiD",
        "colab_type": "text"
      },
      "source": [
        "5) Print the intervals of chromosome 3. Subsequently, print the intervals for the other chromosomes, one at the time."
      ]
    },
    {
      "cell_type": "markdown",
      "metadata": {
        "id": "j8y5WBy1aRCS",
        "colab_type": "text"
      },
      "source": [
        "6) Print the first interval of each chromosome."
      ]
    },
    {
      "cell_type": "markdown",
      "metadata": {
        "id": "QgIQjRQJaYEH",
        "colab_type": "text"
      },
      "source": [
        "7) Print the third interval of the chromosome number 7."
      ]
    },
    {
      "cell_type": "markdown",
      "metadata": {
        "id": "5tgFYw0kNYGA",
        "colab_type": "text"
      },
      "source": [
        "8) Print all the intervals at the step of two.\n"
      ]
    },
    {
      "cell_type": "markdown",
      "metadata": {
        "id": "vARLtEQju3am",
        "colab_type": "text"
      },
      "source": [
        "**From given dictionary:**"
      ]
    },
    {
      "cell_type": "markdown",
      "metadata": {
        "id": "tMuxrbDoB4CZ",
        "colab_type": "text"
      },
      "source": [
        "9) Plot a scatter graph."
      ]
    },
    {
      "cell_type": "markdown",
      "metadata": {
        "id": "7iLHQEGUCciw",
        "colab_type": "text"
      },
      "source": [
        "10) Plot a histogram."
      ]
    },
    {
      "cell_type": "markdown",
      "metadata": {
        "id": "kZldKJjaupZI",
        "colab_type": "text"
      },
      "source": [
        "11) Plot a histogram with kernel density estimate."
      ]
    },
    {
      "cell_type": "markdown",
      "metadata": {
        "id": "NcykRUDnvEGj",
        "colab_type": "text"
      },
      "source": [
        "12) Plot a violin plot."
      ]
    },
    {
      "cell_type": "markdown",
      "metadata": {
        "id": "rBGbmV6hbG_k",
        "colab_type": "text"
      },
      "source": [
        "13) Plot a boxplot."
      ]
    },
    {
      "cell_type": "markdown",
      "metadata": {
        "id": "_X-wzoEQbTRE",
        "colab_type": "text"
      },
      "source": [
        "14) Plot a catplot."
      ]
    },
    {
      "cell_type": "code",
      "metadata": {
        "id": "yoE6Z-o5CAx2",
        "colab_type": "code",
        "colab": {}
      },
      "source": [
        "# For dictionary:\n",
        "dictionary = {\"chr7\":[120, 84, 167, 84, 55, 65, 59, 111, 69, 104, 110, 79, 62, 65, \n",
        "                      74, 85, 72, 94, 50, 68, 77, 102, 84, 159, 115, 88, 97, 74, 82, \n",
        "                      122, 71, 84, 67, 122, 97, 96, 111, 106, 64, 69, 75, 68, 117, \n",
        "                      73, 72, 233, 242, 96, 127, 85, 133, 107, 69, 123, 91, 116, \n",
        "                      80, 113, 82, 145, 109, 86, 58, 96, 138, 179, 163, 129, 160, \n",
        "                      102, 114, 93, 20, 26, 189, 102, 129, 88, 118, 100, 73, 62, \n",
        "                      41, 89, 66, 139, 162, 134, 120, 5, 57, 151, 131, 188, 56, \n",
        "                      73, 30, 48, 65, 56, 108, 130, 125, 70, 146, 157, 117, 161, \n",
        "                      110, 63, 143, 89, 112, 111, 116, 87, 119, 80, 147, 61, 129, \n",
        "                      84, 193, 80, 133, 40, 58, 131, 123, 45, 57, 110, 85, 107, \n",
        "                      121, 66, 103, 46, 147, 60, 71, 182, 83, 76, 96, 30, 128, 131, \n",
        "                      182, 260, 100, 38, 54, 76, 31, 106, 89, 127, 122, 92, 112, \n",
        "                      87, 114, 127, 69, 78, 106, 115, 53, 69, 21, 29, 67, 76, 64, \n",
        "                      74, 93, 94, 103, 140, 127, 66, 27, 109, 53, 150, 106, 100, \n",
        "                      102, 109, 70, 62, 75, 131, 85, 128, 80, 129, 68, 79, 120, 93, \n",
        "                      57, 80, 81, 137, 49, 49, 94, 138, 35, 206, 133, 93, 40, 145],\n",
        "              \"chr16\": [57, 111, 74, 52, 105, 84, 70, 50, 62, 97, 96, 69, 131, 77, \n",
        "                        23, 105, 71, 130, 110, 130, 89, 63, 58, 51, 113, 79, 107, \n",
        "                        112, 105, 57, 26, 76, 134, 102, 40, 76, 58, 56, 105, 94, \n",
        "                        154, 160, 190, 110, 51, 83, 255, 96, 48, 56, 71, 51, 75, \n",
        "                        148, 75, 117, 75, 65, 66, 171, 29, 99, 49, 88, 47, 83, 63, \n",
        "                        96, 131, 108, 31, 164, 131, 59, 88, 58, 69, 120, 162, 37, \n",
        "                        87, 84, 94, 68, 64, 85, 51, 73, 73, 46, 65, 101, 142, 101, \n",
        "                        186, 104, 98, 128, 113, 103, 58, 91, 115, 42, 76, 211, 112, \n",
        "                        135, 76, 105, 83, 110, 115, 48, 63, 70, 84, 139, 39, 40, \n",
        "                        63, 45, 162, 82, 58, 98, 62, 86, 68, 125, 52, 77, 101, 58, \n",
        "                        87, 70, 57, 213, 62, 85, 64, 167, 92, 84, 65, 58, 77, 92, \n",
        "                        49, 132, 162, 68, 19, 67, 86, 87, 140, 99, 57, 145, 103, 74, \n",
        "                        60, 99, 137, 117, 118, 76, 131, 40, 53, 96, 125, 157, 55, \n",
        "                        109, 82, 74, 36, 98, 90, 58, 80, 124, 131, 112, 83, 121, \n",
        "                        100, 102, 125, 60, 144, 55, 92, 44, 135, 72, 69, 90, 37, \n",
        "                        90, 57, 111, 72, 84, 93, 61, 38, 65, 76, 41, 148, 46, 103, \n",
        "                        82, 38, 102, 29, 77, 64, 53, 63, 67, 82, 75, 96, 95, 68, 88, \n",
        "                        46, 150, 32, 66, 113, 97, 124, 84, 31, 79, 78, 85, 70, 91, \n",
        "                        176, 80, 102, 117, 77, 80, 115, 64, 88, 38, 115, 124, 93, \n",
        "                        123, 154, 43, 80, 98, 51, 104, 43, 45, 98, 99, 75, 57, 80, \n",
        "                        80, 54, 36, 72, 119, 48, 120, 60, 71, 67, 29, 36, 14, 67, \n",
        "                        17, 49, 83, 95, 105, 42, 102, 71, 78, 164, 54, 58, 71, 71, \n",
        "                        68, 24, 103, 74, 48, 69, 74, 60, 58, 116, 64, 125, 64, 69, \n",
        "                        73, 131, 46, 53, 39, 89, 116, 113, 73, 81, 78, 34, 132, 72, \n",
        "                        63, 59, 75, 206, 48, 111, 80, 69, 166, 80, 68, 85, 59, 153, \n",
        "                        99, 74, 63, 107, 115, 93, 49, 81, 46, 54, 102, 105, 156, \n",
        "                        55, 61, 72, 75, 95, 180, 51, 67, 85, 100, 23, 22, 113, 64, \n",
        "                        71, 84, 121, 87, 89, 202, 69, 100, 45, 40, 78, 41, 41, 10, \n",
        "                        52, 54, 102, 65, 23, 32, 71, 78, 86, 105, 131, 61, 76, 86, \n",
        "                        141, 64, 69, 80, 81, 87, 42, 27, 23, 22, 3, 19, 71, 23, 36, \n",
        "                        32, 42, 20, 74, 90, 131, 85, 69, 85, 52, 72, 103, 74, 87, \n",
        "                        217, 83, 63, 92, 134, 77, 103, 50, 42, 11, 79, 73, 100, 72, \n",
        "                        70, 80, 148, 104, 101, 166, 233, 37, 62, 37, 34, 34, 142, \n",
        "                        139, 96, 46, 85, 37, 114, 53, 100, 164, 120, 51, 31, 112, \n",
        "                        155, 73, 167, 86, 79, 66, 55, 74, 66, 51, 78, 75, 116, 93, \n",
        "                        101, 149, 110, 40, 60, 96, 73, 71, 66, 73, 67, 45, 112, 76, \n",
        "                        130, 63, 96, 127, 48, 70, 95, 106, 70, 172, 121, 37, 56, 98, \n",
        "                        83, 66, 138, 85, 104, 42, 32, 74, 31, 93, 135, 41, 69, 62, \n",
        "                        89, 53, 63, 69, 94, 87, 66, 142, 136, 56, 107, 110, 75, 215, \n",
        "                        142, 74, 133, 56, 40, 66, 152, 99, 148, 71, 78, 64, 89, 77, \n",
        "                        119, 115, 31, 13, 29, 56, 100, 121, 60, 52, 109, 98, 90, 62, \n",
        "                        91, 32, 65, 113, 93, 114, 54, 102, 102],\n",
        "              \"chr10\": [81, 68, 67, 123, 69, 79, 65, 92, 136, 93, 57, 58, 38, 103, \n",
        "                        66, 150, 87, 77, 59, 90, 83, 53, 109, 148, 100, 86, 62, 36, \n",
        "                        93, 67, 84, 106, 149, 171, 98, 139, 118, 107, 153, 127, 84, \n",
        "                        66, 51, 126, 92, 90, 40, 68, 105, 80, 176, 75, 107, 127, 151, \n",
        "                        46, 74, 74, 106, 54, 123, 87, 90, 107, 177, 87, 172, 124, 98, \n",
        "                        97, 87, 170, 81, 98, 45, 185, 86, 106, 124, 61, 54, 78, 72, \n",
        "                        87, 101, 56, 159, 89, 125, 124, 81, 118, 81, 88, 49, 52, 112, \n",
        "                        112, 47, 89, 177, 131, 70, 113, 82, 78, 69, 82, 83, 80, 153, \n",
        "                        110, 49, 72, 68, 36, 189, 147, 64, 115, 83, 139, 130, 97, \n",
        "                        79, 156, 127, 45, 79, 150, 121, 172, 127, 47, 114, 81, 87, \n",
        "                        107, 80, 84, 102, 95, 140, 125, 31],\n",
        "              \"chr11\": [70, 187, 95, 99, 29, 39, 20, 118, 102, 68, 118, 142, 75, \n",
        "                        86, 43, 23, 27, 78, 35, 30, 154, 54, 59, 73, 28, 9, 75, 73, \n",
        "                        69, 7, 30, 8, 22, 15, 57, 40, 23, 114, 130, 101, 38, 23, 19, \n",
        "                        11, 10, 85, 21, 60, 174, 136, 21, 67, 44, 20, 12, 110, 92, \n",
        "                        80, 42, 114, 126, 169, 88, 50, 50, 59, 9, 6, 122, 29, 8, \n",
        "                        30, 48, 34, 6, 123, 89, 122, 5, 80, 17, 12, 54, 148, 84, 31, \n",
        "                        9, 90, 67, 75, 106, 71, 83, 71, 47, 107, 72, 26, 35, 12, 32, \n",
        "                        52, 89, 171, 91, 81, 12, 15, 57, 165, 140, 73, 18, 104, 109, \n",
        "                        117, 63, 98, 36, 73, 89, 56, 35, 27, 101, 86, 95, 136, 57, \n",
        "                        71, 34, 17, 29, 18, 122, 64, 54, 26, 183, 202, 187, 68, 70, \n",
        "                        40, 68, 141, 146, 94, 155, 34, 14, 71, 4, 46, 10, 13, 45, \n",
        "                        120, 81, 67, 10, 18, 52, 18, 6, 20, 7, 10, 31, 50, 24, 36, \n",
        "                        98, 23, 95, 87, 136, 133, 84, 75, 69, 95, 68, 71, 67, 15, \n",
        "                        21, 17, 93, 166, 112, 109, 107, 78, 162, 153, 99, 57, 24, \n",
        "                        21, 16, 66, 70, 20, 47, 15, 89, 13, 31, 49, 25, 29, 63, 96, \n",
        "                        95, 102, 60, 66, 50, 44, 16, 19, 79, 67, 116, 61, 13, 18, \n",
        "                        6, 9, 4, 5, 9, 83, 115, 21, 96, 172, 99, 13, 106, 121, 133, \n",
        "                        100, 16, 42, 37, 101, 120, 85, 100, 144, 97, 100, 116, 80, \n",
        "                        26, 17, 13, 83, 15, 37, 97, 66, 79, 82, 61, 53, 104, 49, 25, \n",
        "                        24, 10, 31, 45, 14, 5, 5, 45, 10, 145, 76, 80, 90, 46, 42, \n",
        "                        31, 81, 138, 105, 145, 94, 11, 47, 92, 41, 140, 115, 70, 113, \n",
        "                        59, 89, 78, 55, 85, 20, 68, 68, 84, 108, 17, 114],\n",
        "              \"chr15\": [92, 64, 94, 47, 64, 90, 140, 79, 112, 178, 123, 94, 85, \n",
        "                        104, 72, 286, 117, 78, 189, 50, 125, 157, 70, 134, 64, 92, \n",
        "                        81, 83, 117, 131, 88, 95, 79, 92, 74, 101, 120, 107, 68, \n",
        "                        185, 87, 104, 124, 81, 78, 78, 40, 104, 160, 23, 30, 87, \n",
        "                        55, 88, 129, 113, 53, 70, 121, 43, 90, 48, 118, 171, 28, \n",
        "                        67, 43, 58, 31, 46, 82],\n",
        "              \"chr12\": [86, 103, 84, 88, 134, 152, 105, 113, 87, 138, 113, 175, 85, \n",
        "                        92, 101, 88, 79, 118, 123, 66, 50, 135, 67, 131, 47, 90, 158, \n",
        "                        103, 92, 84, 84, 66, 160, 84, 103, 96, 101, 134, 168, 139, \n",
        "                        43, 135, 117, 100, 137, 106, 128, 112, 49, 146, 258, 166, \n",
        "                        80, 126, 113, 67, 183, 132, 76, 161, 141, 119, 125, 63, 167,\n",
        "                        186, 60, 46, 130, 56, 104, 55, 121, 125, 94, 63, 110, 116, 109, \n",
        "                        103, 81, 114, 183, 148, 107, 40, 131, 149, 128, 109, 99, 97, \n",
        "                        160, 203],\n",
        "              \"chrX\": [63, 77, 54, 74, 38, 81, 82, 21, 119, 146, 86, 34, 46, 93, 57,\n",
        "                       83, 73, 92, 135, 140, 95, 116, 66, 84, 76, 103, 63, 65, 113, \n",
        "                       63, 122, 57, 123, 61, 26, 51, 47, 66, 75, 125, 156, 120, 47, \n",
        "                       57, 91, 101, 54, 68, 71, 92, 92, 88, 61, 84, 72, 69, 48, 33, \n",
        "                       66, 128, 89, 86, 111, 89, 37, 65, 77, 82, 35, 72, 93, 96, 60, \n",
        "                       45],\n",
        "              \"chr4\": [40, 56, 29, 58, 54, 70, 90, 76, 92, 68, 79, 87, 109, 45, 99, \n",
        "                       133, 171, 101, 61, 70, 114, 127, 69, 147, 94, 66, 62, 64, \n",
        "                       118, 89, 155, 122, 103, 86, 69, 86, 85, 65, 67, 77, 32, 115, \n",
        "                       80, 111, 118, 157, 137, 138, 151, 74, 159, 65, 74, 103, 46, \n",
        "                       81, 64, 67, 116, 109, 86, 82, 63, 87, 34, 50, 139, 62, 55, \n",
        "                       70, 110, 120, 87, 78, 122, 192, 102, 112, 128, 41, 69, 59, \n",
        "                       106, 131, 77, 115, 256, 135, 65, 101, 148, 108, 138, 146, 93, \n",
        "                       71, 68, 89, 135, 104, 92, 82, 115, 96, 118, 122, 94, 55, 31, \n",
        "                       64, 89, 33, 120, 59, 131, 158, 75, 81, 61, 43, 53, 66, 114, \n",
        "                       64, 89, 149, 88, 86, 120, 86, 114, 162, 82, 60, 44, 110, 82, \n",
        "                       77, 56, 76, 76, 86, 53],\n",
        "              \"chr13\": [47, 64, 20, 39, 37, 107, 106, 45, 78, 149, 86, 122, 122, 31, \n",
        "                        155, 45, 77, 85, 71, 54, 77, 25, 34, 83, 147, 77, 90, 147, \n",
        "                        123, 90, 138, 86, 180, 121, 91, 86, 28, 45, 74, 88, 188, 63, \n",
        "                        97, 85, 115, 32, 59],\n",
        "              \"chr18\": [266, 95, 131, 115, 87, 113, 81, 108, 73, 76, 38, 60],\n",
        "              \"chr14_GL000194v1_random\": [109, 108, 70, 123],\n",
        "              \"chrM\": [21, 29],\n",
        "              \"chrUn_GL000218v1\": [84]}"
      ],
      "execution_count": 0,
      "outputs": []
    },
    {
      "cell_type": "markdown",
      "metadata": {
        "id": "4lueNeOvvVIN",
        "colab_type": "text"
      },
      "source": [
        "**From given dictionary:**"
      ]
    },
    {
      "cell_type": "markdown",
      "metadata": {
        "id": "TM5_7Ml3vWZY",
        "colab_type": "text"
      },
      "source": [
        "15) Plot a scatter graph."
      ]
    },
    {
      "cell_type": "markdown",
      "metadata": {
        "id": "68kUd9esvdjz",
        "colab_type": "text"
      },
      "source": [
        "16) Plot a histogram."
      ]
    },
    {
      "cell_type": "markdown",
      "metadata": {
        "id": "NqkJiaedvgj5",
        "colab_type": "text"
      },
      "source": [
        "17) Plot a histogram with kernel density estimate."
      ]
    },
    {
      "cell_type": "markdown",
      "metadata": {
        "id": "Tshl2tcrvnfk",
        "colab_type": "text"
      },
      "source": [
        "18) Plot a violin plot."
      ]
    },
    {
      "cell_type": "markdown",
      "metadata": {
        "id": "kr9wxlJlbe3O",
        "colab_type": "text"
      },
      "source": [
        "19) Plot a boxplot."
      ]
    },
    {
      "cell_type": "markdown",
      "metadata": {
        "id": "xNxDjtx4bs5k",
        "colab_type": "text"
      },
      "source": [
        "20) Plot a catplot."
      ]
    },
    {
      "cell_type": "markdown",
      "metadata": {
        "colab_type": "text",
        "id": "QFPSaoyZLcmZ"
      },
      "source": [
        "# Solutions:"
      ]
    },
    {
      "cell_type": "markdown",
      "metadata": {
        "id": "Y9aarE3cjFRQ",
        "colab_type": "text"
      },
      "source": [
        "# Dictionary exercises\n"
      ]
    },
    {
      "cell_type": "markdown",
      "metadata": {
        "id": "8R-x9H4opQsr",
        "colab_type": "text"
      },
      "source": [
        "Operator is a built-in module providing a set of convenient operators. In two words operator.itemgetter(n) constructs a callable that assumes an iterable object (e.g. list, tuple, set) as input, and fetches the n-th element out of it."
      ]
    },
    {
      "cell_type": "code",
      "metadata": {
        "id": "TpXZPRJUhjGz",
        "colab_type": "code",
        "outputId": "e5b435cd-0e23-47e9-c8f5-660074c40353",
        "colab": {
          "base_uri": "https://localhost:8080/",
          "height": 34
        }
      },
      "source": [
        "# 1. exercise:\n",
        "# To order the dictionary in ascending order, use itemgetter.\n",
        "dictionary = {1: 20, 0: 10, 2: 30, 5:60, 3:40}\n",
        "from operator import itemgetter \n",
        "import operator\n",
        "ascend_d = sorted(dictionary.items(), key=itemgetter(1))\n",
        "print(ascend_d)"
      ],
      "execution_count": 0,
      "outputs": [
        {
          "output_type": "stream",
          "text": [
            "[(0, 10), (1, 20), (2, 30), (3, 40), (5, 60)]\n"
          ],
          "name": "stdout"
        }
      ]
    },
    {
      "cell_type": "code",
      "metadata": {
        "id": "8j7FeSGjjvdO",
        "colab_type": "code",
        "outputId": "5cb055ad-c68c-4959-fc8b-4b40aad2df63",
        "colab": {
          "base_uri": "https://localhost:8080/",
          "height": 34
        }
      },
      "source": [
        "# 2. exercise:\n",
        "# The code stays the same as for ascending with the difference of adding reverse \n",
        "# order and setting it to True.\n",
        "dictionary = {1: 20, 0: 10, 2: 30, 5:60, 3:40}\n",
        "from operator import itemgetter \n",
        "descend_d = sorted(dictionary.items(), key=itemgetter(0), reverse=True)\n",
        "print(descend_d)"
      ],
      "execution_count": 0,
      "outputs": [
        {
          "output_type": "stream",
          "text": [
            "[(5, 60), (3, 40), (2, 30), (1, 20), (0, 10)]\n"
          ],
          "name": "stdout"
        }
      ]
    },
    {
      "cell_type": "code",
      "metadata": {
        "id": "vBxdnRIxt_NW",
        "colab_type": "code",
        "outputId": "9c16eac8-7b4a-48ad-8d5d-6d59a0f363c7",
        "colab": {
          "base_uri": "https://localhost:8080/",
          "height": 34
        }
      },
      "source": [
        "# 3. exercise:\n",
        "# Neither append nor add is usable for dictionary. Do not forget to put the new \n",
        "# values into dictionary!!!\n",
        "dictionary = {1: 20, 0: 10, 2: 30, 5:60, 3:40}\n",
        "dictionary.update({6:70})\n",
        "print(dictionary)"
      ],
      "execution_count": 0,
      "outputs": [
        {
          "output_type": "stream",
          "text": [
            "{1: 20, 0: 10, 2: 30, 5: 60, 3: 40, 6: 70}\n"
          ],
          "name": "stdout"
        }
      ]
    },
    {
      "cell_type": "code",
      "metadata": {
        "id": "HCWHO1tG0mbT",
        "colab_type": "code",
        "outputId": "c1fded6d-fc03-4636-9e6d-5f392f6938b9",
        "colab": {
          "base_uri": "https://localhost:8080/",
          "height": 34
        }
      },
      "source": [
        "# 4. exercise:\n",
        "# You can use .add() for set, it takes one argument\n",
        "set = {1, 20, 0, 10, 2, 30, 5, 60, 3, 40}\n",
        "set.add(70)\n",
        "print(set)"
      ],
      "execution_count": 0,
      "outputs": [
        {
          "output_type": "stream",
          "text": [
            "{0, 1, 2, 3, 5, 70, 40, 10, 20, 60, 30}\n"
          ],
          "name": "stdout"
        }
      ]
    },
    {
      "cell_type": "code",
      "metadata": {
        "id": "pp0fypA5CgWe",
        "colab_type": "code",
        "outputId": "1929a42e-18b5-46b2-a6e2-be1beb7e0159",
        "colab": {
          "base_uri": "https://localhost:8080/",
          "height": 54
        }
      },
      "source": [
        "# 5. exercise:\n",
        "# You can use .append() for list (of dictionaries).\n",
        "b = [\n",
        "     {\"name\": \"mRNA\", \"occupation\": \"messenger\", \"id\": 1}, \n",
        "     {\"name\": \"tRNA\", \"occupation\": \"transporter\", \"id\": 2}, \n",
        "     {\"name\": \"rRNA\", \"occupation\": \"ribosome builder\", \"id\": 3}\n",
        "    ]\n",
        "b.append({\"name\": \"miRNA\", \"occupation\": \"silencer\", \"id\": 4})\n",
        "print(b)"
      ],
      "execution_count": 0,
      "outputs": [
        {
          "output_type": "stream",
          "text": [
            "[{'name': 'mRNA', 'occupation': 'messenger', 'id': 1}, {'name': 'tRNA', 'occupation': 'transporter', 'id': 2}, {'name': 'rRNA', 'occupation': 'ribosome builder', 'id': 3}, {'name': 'miRNA', 'occupation': 'silencer', 'id': 4}]\n"
          ],
          "name": "stdout"
        }
      ]
    },
    {
      "cell_type": "code",
      "metadata": {
        "id": "X4kuFtOJkKW4",
        "colab_type": "code",
        "outputId": "f0f60cce-5c88-4675-80c2-16953c4709d0",
        "colab": {
          "base_uri": "https://localhost:8080/",
          "height": 54
        }
      },
      "source": [
        "# 6. exercise:\n",
        "# Itemgetter takes as an argument key - id in this case, \n",
        "# sorted out alphabetically and in reverse order.\n",
        "import operator\n",
        "from operator import itemgetter \n",
        "b = [\n",
        "     {\"name\": \"mRNA\", \"occupation\": \"messenger\", \"id\": 1}, \n",
        "     {\"name\": \"tRNA\", \"occupation\": \"transporter\", \"id\": 2}, \n",
        "     {\"name\": \"rRNA\", \"occupation\": \"ribosome builder\", \"id\": 3},\n",
        "     {\"name\": \"miRNA\", \"occupation\": \"silencer\", \"id\": 4}\n",
        "    ]itm\n",
        "\n",
        "b_sort = sorted(b, key=itemgetter(\"id\"), reverse=True)\n",
        "print(b_sort)"
      ],
      "execution_count": 0,
      "outputs": [
        {
          "output_type": "stream",
          "text": [
            "[{'name': 'miRNA', 'occupation': 'silencer', 'id': 4}, {'name': 'rRNA', 'occupation': 'ribosome builder', 'id': 3}, {'name': 'tRNA', 'occupation': 'transporter', 'id': 2}, {'name': 'mRNA', 'occupation': 'messenger', 'id': 1}]\n"
          ],
          "name": "stdout"
        }
      ]
    },
    {
      "cell_type": "code",
      "metadata": {
        "id": "Kt2o35n3FLWe",
        "colab_type": "code",
        "outputId": "5df31066-44dc-483d-94f6-edd935cbddf3",
        "colab": {
          "base_uri": "https://localhost:8080/",
          "height": 54
        }
      },
      "source": [
        "# 7. exercise:\n",
        "# Value which are strings are sorted alphabetically.\n",
        "# Sorting according to the first argument when itemgetter(\"name\", \"occupation\") \n",
        "# - the input is sorted based on the name.\n",
        "import operator\n",
        "from operator import itemgetter \n",
        "b = [\n",
        "     {\"name\": \"mRNA\", \"occupation\": \"messenger\", \"id\": 1}, \n",
        "     {\"name\": \"tRNA\", \"occupation\": \"transporter\", \"id\": 2}, \n",
        "     {\"name\": \"rRNA\", \"occupation\": \"ribosome builder\", \"id\": 3},\n",
        "     {\"name\": \"miRNA\", \"occupation\": \"silencer\", \"id\": 4}\n",
        "    ]\n",
        "\n",
        "b_sorted = sorted(b, key=itemgetter(\"name\", \"occupation\"))\n",
        "print(b_sorted)"
      ],
      "execution_count": 0,
      "outputs": [
        {
          "output_type": "stream",
          "text": [
            "[{'name': 'mRNA', 'occupation': 'messenger', 'id': 1}, {'name': 'miRNA', 'occupation': 'silencer', 'id': 4}, {'name': 'rRNA', 'occupation': 'ribosome builder', 'id': 3}, {'name': 'tRNA', 'occupation': 'transporter', 'id': 2}]\n"
          ],
          "name": "stdout"
        }
      ]
    },
    {
      "cell_type": "code",
      "metadata": {
        "id": "6jogqFHq37Tw",
        "colab_type": "code",
        "outputId": "6c1f6021-2940-4283-9437-707c888748a2",
        "colab": {
          "base_uri": "https://localhost:8080/",
          "height": 34
        }
      },
      "source": [
        "# 8. exercise:\n",
        "# Concatenate dictionaries - be aware; if the keys are the same, the update will \n",
        "# assign only the last value to the key.\n",
        "# First, you need to create an empty dictionary (number 4), and then update it with \n",
        "# dictionaries d1-d3.\n",
        "d1 = {89: 39, 75: 5} \n",
        "d2 = {70: 20, 15: 76}\n",
        "d3 = {50: 25, 40: 11}\n",
        "d4 = {}\n",
        "for d in (d1, d2, d3):\n",
        "  d4.update(d)\n",
        "print(d4)"
      ],
      "execution_count": 0,
      "outputs": [
        {
          "output_type": "stream",
          "text": [
            "{89: 39, 75: 5, 70: 20, 15: 76, 50: 25, 40: 11}\n"
          ],
          "name": "stdout"
        }
      ]
    },
    {
      "cell_type": "code",
      "metadata": {
        "id": "xmQP7aufAFTX",
        "colab_type": "code",
        "outputId": "d1ae6b15-e146-44ae-aebd-dd3d9f175da0",
        "colab": {
          "base_uri": "https://localhost:8080/",
          "height": 68
        }
      },
      "source": [
        "# 9. exercise:\n",
        "# First imagine how you would write simple \"if\" statement to see if a key is present:\n",
        "if 89 in d4:\n",
        "  print(\"It exists.\")\n",
        "\n",
        "# Now you can write a program that will allow you to ask for an existence of any \n",
        "# key outside the function.\n",
        "d4 = {89: 39, 75: 5, 70: 20, 15: 76, 50: 25, 40: 11}\n",
        "# You need to define the function:\n",
        "def if_key_exists(k):\n",
        "  if k in d4:\n",
        "    print(\"It exists.\")\n",
        "  else:\n",
        "    print(\"It does not.\")\n",
        "# Now you can call the function and ask if arbitrary key if it\"s in dictionary.\n",
        "if_key_exists(50)\n",
        "if_key_exists(5)"
      ],
      "execution_count": 0,
      "outputs": [
        {
          "output_type": "stream",
          "text": [
            "It exists.\n",
            "It exists.\n",
            "It does not.\n"
          ],
          "name": "stdout"
        }
      ]
    },
    {
      "cell_type": "code",
      "metadata": {
        "id": "X02vuQcdHRYW",
        "colab_type": "code",
        "outputId": "2146bb00-d8e8-4723-b0aa-ecaad71c48b3",
        "colab": {
          "base_uri": "https://localhost:8080/",
          "height": 68
        }
      },
      "source": [
        "# 10. exercise:\n",
        "# Create empty dictionary and fill it with keys - integers from 1 to 10 and \n",
        "# values - each of the integers multiplied by itself.\n",
        "dicti = {}\n",
        "for x in range(1,11):\n",
        "  y = x*x\n",
        "  dicti[x] = y\n",
        "print(dicti)\n",
        "\n",
        "# Or, if want to make the user choose different number every time:\n",
        "n = int(input(\"Choose a number: \"))\n",
        "# \"Int\" is required - otherwise you could not use the input integer to \n",
        "# calucate each of the values.\n",
        "dicti = {}\n",
        "# Because range is exclusive at the end, you need to type in \"n+1\" so that\n",
        "# the input will not be altered.\n",
        "for x in range(1,n+1):\n",
        "  y = x*x\n",
        "  dicti[x] = y\n",
        "print(dicti)"
      ],
      "execution_count": 0,
      "outputs": [
        {
          "output_type": "stream",
          "text": [
            "{1: 1, 2: 4, 3: 9, 4: 16, 5: 25, 6: 36, 7: 49, 8: 64, 9: 81, 10: 100}\n",
            "Choose a number: 4\n",
            "{1: 1, 2: 4, 3: 9, 4: 16}\n"
          ],
          "name": "stdout"
        }
      ]
    },
    {
      "cell_type": "code",
      "metadata": {
        "id": "-jSEQKK04bFi",
        "colab_type": "code",
        "outputId": "261db38f-c6be-4913-9a08-2fff585f5644",
        "colab": {
          "base_uri": "https://localhost:8080/",
          "height": 34
        }
      },
      "source": [
        "# 11. exercise:\n",
        "# To merge optional number of dictionaries with the same keys without overwriting them you \n",
        "# need to use for loop.\n",
        "# The for loop insures that the keys of new dictionary are going to be created from d1. Each of \n",
        "# the three keys created in the new dictionary in the list of dictionaries need to \n",
        "# converted to tuple.\n",
        "# You can try to print the values of each of the key, or just one of them, practise it.\n",
        "from collections import defaultdict\n",
        "d1 = {\"name\": \"mRNA\", \"occupation\": \"messenger\", \"id\": 1}\n",
        "d2 = {\"name\": \"tRNA\", \"occupation\": \"transporter\", \"id\": 2}\n",
        "d3 = {\"name\": \"rRNA\", \"occupation\": \"ribosome builder\", \"id\": 3}\n",
        "d4 = {\"name\": \"miRNA\", \"occupation\": \"silencer\", \"id\": 4}\n",
        "# Create a list to which you will add the keys and append their values.\n",
        "dd = defaultdict(list)\n",
        "\n",
        "for d in (d1, d2, d3, d4): # You can list as many input dicts as you want here\n",
        "    for key, value in d.items():\n",
        "        dd[key].append(value)\n",
        "\n",
        "print(dd)"
      ],
      "execution_count": 0,
      "outputs": [
        {
          "output_type": "stream",
          "text": [
            "defaultdict(<class 'list'>, {'name': ['mRNA', 'tRNA', 'rRNA', 'miRNA'], 'occupation': ['messenger', 'transporter', 'ribosome builder', 'silencer'], 'id': [1, 2, 3, 4]})\n"
          ],
          "name": "stdout"
        }
      ]
    },
    {
      "cell_type": "code",
      "metadata": {
        "id": "jh8a8KiTic0F",
        "colab_type": "code",
        "outputId": "6716b880-6080-47c2-824d-924c24a254b2",
        "colab": {
          "base_uri": "https://localhost:8080/",
          "height": 34
        }
      },
      "source": [
        "# 12. exercise:\n",
        "# To sum all the values in the dictionary, you need to use sum function.\n",
        "dictionary = {\"id1\": 39, \"id2\": 75, \"id3\": 5, \"id4\": 67, \"id5\": 90} \n",
        "print(sum(dictionary.values()))"
      ],
      "execution_count": 0,
      "outputs": [
        {
          "output_type": "stream",
          "text": [
            "276\n"
          ],
          "name": "stdout"
        }
      ]
    },
    {
      "cell_type": "code",
      "metadata": {
        "id": "3tPZS6A6jiDa",
        "colab_type": "code",
        "outputId": "a67e8691-0f28-4e91-a93d-7e960a9bdaf8",
        "colab": {
          "base_uri": "https://localhost:8080/",
          "height": 34
        }
      },
      "source": [
        "# 13. exercise:\n",
        "# To multiply all the items in a dictionary, create a result variable which equals\n",
        "# to one and multiply it by each of the values in the dictionary.\n",
        "dictionary = {\"id1\": 39, \"id2\": 75, \"id3\": 5, \"id4\": 67, \"id5\": 90} \n",
        "result = 1\n",
        "\n",
        "for key in dictionary:\n",
        "  result = result * dictionary[key]\n",
        "print(result)"
      ],
      "execution_count": 0,
      "outputs": [
        {
          "output_type": "stream",
          "text": [
            "88188750\n"
          ],
          "name": "stdout"
        }
      ]
    },
    {
      "cell_type": "code",
      "metadata": {
        "id": "7UeSQdOAq15O",
        "colab_type": "code",
        "outputId": "654bac00-15a9-4855-f6e8-80d250650b1e",
        "colab": {
          "base_uri": "https://localhost:8080/",
          "height": 34
        }
      },
      "source": [
        "# 14. exercise:\n",
        "dictionary = {\"id1\": 39, \"id2\": 75, \"id3\": 5, \"id4\": 67, \"id5\": 90} \n",
        "del(dictionary[\"id1\"])\n",
        "print(dictionary)"
      ],
      "execution_count": 0,
      "outputs": [
        {
          "output_type": "stream",
          "text": [
            "{'id2': 75, 'id3': 5, 'id4': 67, 'id5': 90}\n"
          ],
          "name": "stdout"
        }
      ]
    },
    {
      "cell_type": "code",
      "metadata": {
        "id": "LwYu4qTd4tIS",
        "colab_type": "code",
        "outputId": "c8ff83f5-8d99-42fb-8b32-e04bf7a4df74",
        "colab": {
          "base_uri": "https://localhost:8080/",
          "height": 34
        }
      },
      "source": [
        "# 15. exercise:\n",
        "# You achieve this task through zipping the lists together.\n",
        "keys = [\"mRNA\", \"tRNA\", \"miRNA\", \"rRNA\"]\n",
        "values = [\"messenger\", \"transporter\", \"silencer\", \"ribosome builder\"]\n",
        "dictionary = dict(zip(keys, values))\n",
        "print(dictionary)"
      ],
      "execution_count": 0,
      "outputs": [
        {
          "output_type": "stream",
          "text": [
            "{'mRNA': 'messenger', 'tRNA': 'transporter', 'miRNA': 'silencer', 'rRNA': 'ribosome builder'}\n"
          ],
          "name": "stdout"
        }
      ]
    },
    {
      "cell_type": "code",
      "metadata": {
        "id": "2Ej7E4zw5b6R",
        "colab_type": "code",
        "outputId": "22b718b3-34cf-4e7f-87a4-e6cf4c677acf",
        "colab": {
          "base_uri": "https://localhost:8080/",
          "height": 34
        }
      },
      "source": [
        "# 16. exercise:\n",
        "import operator\n",
        "from operator import itemgetter\n",
        "dictionary = {\"mRNA\": \"messenger\", \"tRNA\": \"transporter\", \"miRNA\": \"silencer\", \n",
        "              \"rRNA\": \"ribosome builder\"}\n",
        "# Itemgetter gets the 0-th element of the dictionary.\n",
        "dictionary_sorted = sorted(dictionary.items(), key=itemgetter(0))\n",
        "print(dictionary_sorted)"
      ],
      "execution_count": 0,
      "outputs": [
        {
          "output_type": "stream",
          "text": [
            "[('mRNA', 'messenger'), ('miRNA', 'silencer'), ('rRNA', 'ribosome builder'), ('tRNA', 'transporter')]\n"
          ],
          "name": "stdout"
        }
      ]
    },
    {
      "cell_type": "code",
      "metadata": {
        "id": "600GPIZoZGq7",
        "colab_type": "code",
        "outputId": "b51338f4-a1ae-489e-887f-faee0d90262f",
        "colab": {
          "base_uri": "https://localhost:8080/",
          "height": 54
        }
      },
      "source": [
        "# 17. exercise:\n",
        "methods = {\"id1\": \n",
        "   {\"name\": [\"Deep Learning\"], \n",
        "    \"techniques\": [\"Fully Connected Neural Networks, Convolutional Neural Networks\", \n",
        "    \"Recurrent Neural Network, Generative Adversarial Networks,Deep Reinforcement Learning.\"]\n",
        "   },\n",
        " \"id2\": \n",
        "  {\"name\": [\"Machine learning\"], \n",
        "    \"techniques\": [\"Regression, Classification, Clustering, Dimensionality Reduction\", \n",
        "    \"Ensemble Methods, Neural Nets and Deep Learning, Transfer Learning, Reinforcement Learning.\"]\n",
        "   },\n",
        "  \"id3\": \n",
        "   {\"name\": [\"Deep Learning\"], \n",
        "    \"techniques\": [\"Fully Connected Neural Networks, Convolutional Neural Networks\", \n",
        "    \"Recurrent Neural Network, Generative Adversarial Networks,Deep Reinforcement Learning.\"]\n",
        "   }\n",
        "}\n",
        "# Create an empty dictionary where the unique values are going to be placed.\n",
        "result = {}\n",
        "\n",
        "# If the value is not yet in the result dictionary, it is going to be added there.\n",
        "for key,value in methods.items():\n",
        "    if value not in result.values():\n",
        "        result[key] = value\n",
        "\n",
        "print(result)"
      ],
      "execution_count": 0,
      "outputs": [
        {
          "output_type": "stream",
          "text": [
            "{'id1': {'name': ['Deep Learning'], 'techniques': ['Fully Connected Neural Networks, Convolutional Neural Networks', 'Recurrent Neural Network, Generative Adversarial Networks,Deep Reinforcement Learning.']}, 'id2': {'name': ['Machine learning'], 'techniques': ['Regression, Classification, Clustering, Dimensionality Reduction', 'Ensemble Methods, Neural Nets and Deep Learning, Transfer Learning, Reinforcement Learning.']}}\n"
          ],
          "name": "stdout"
        }
      ]
    },
    {
      "cell_type": "code",
      "metadata": {
        "id": "vUnDme8CHS_l",
        "colab_type": "code",
        "outputId": "b532dabc-d7cc-4901-ee6e-5259ed1fef6c",
        "colab": {
          "base_uri": "https://localhost:8080/",
          "height": 51
        }
      },
      "source": [
        "# 18. exercise:\n",
        "l = [{\"V\":\"S001\"}, {\"V\": \"S002\"}, {\"VI\": \"S001\"}, {\"VI\": \"S005\"}, {\"VII\":\"S005\"}, \n",
        "     {\"V\":\"S009\"},{\"VIII\":\"S007\"}]\n",
        "print(\"Original List: \", l)\n",
        "\n",
        "# The values for dictionary in the list of dictionaries are compared between each\n",
        "# other and the unique values are going to be put in a set. \n",
        "u_value = set(values for dictionary in l for values in dictionary.values())\n",
        "print(\"Unique Values: \",u_value)"
      ],
      "execution_count": 0,
      "outputs": [
        {
          "output_type": "stream",
          "text": [
            "Original List:  [{'V': 'S001'}, {'V': 'S002'}, {'VI': 'S001'}, {'VI': 'S005'}, {'VII': 'S005'}, {'V': 'S009'}, {'VIII': 'S007'}]\n",
            "Unique Values:  {'S001', 'S002', 'S007', 'S005', 'S009'}\n"
          ],
          "name": "stdout"
        }
      ]
    },
    {
      "cell_type": "code",
      "metadata": {
        "id": "6NC7_mCpIuRe",
        "colab_type": "code",
        "outputId": "bb3e4919-59ba-477b-d3a2-90655e189038",
        "colab": {
          "base_uri": "https://localhost:8080/",
          "height": 34
        }
      },
      "source": [
        "# 19. exercise:\n",
        "from collections import defaultdict, Counter\n",
        "str1 = \"ATGCTTTTCAAGGT\"\n",
        "my_dict = {}\n",
        "# The count of each of the bases - my_dict[base] - is going to be marked by adding\n",
        "# plus one to the key (base) when the same base appears - .get(keyname, value) + 1.\n",
        "for base in str1:\n",
        "    my_dict[base] = my_dict.get(base, 0) + 1\n",
        "print(my_dict)"
      ],
      "execution_count": 0,
      "outputs": [
        {
          "output_type": "stream",
          "text": [
            "{'A': 3, 'T': 6, 'G': 3, 'C': 2}\n"
          ],
          "name": "stdout"
        }
      ]
    },
    {
      "cell_type": "code",
      "metadata": {
        "id": "I4-3iAhwORVw",
        "colab_type": "code",
        "outputId": "a7cb6a59-8983-4c35-8d2d-f446028c7df1",
        "colab": {
          "base_uri": "https://localhost:8080/",
          "height": 153
        }
      },
      "source": [
        "# 20. exercise:\n",
        "bases = {\"id1\": {\"A\": 3}, \"id2\": {\"T\": 6}, \"id3\": {\"G\": 3}, \"id4\": {\"C\": 2}}\n",
        "\n",
        "for i in bases:\n",
        "    print(i) # printing id\n",
        "    for b in bases[i]:\n",
        "        print (b, \":\", bases[i][b]) # printing base name and its count."
      ],
      "execution_count": 0,
      "outputs": [
        {
          "output_type": "stream",
          "text": [
            "id1\n",
            "A : 3\n",
            "id2\n",
            "T : 6\n",
            "id3\n",
            "G : 3\n",
            "id4\n",
            "C : 2\n"
          ],
          "name": "stdout"
        }
      ]
    },
    {
      "cell_type": "markdown",
      "metadata": {
        "id": "uW6Ru61Qehh4",
        "colab_type": "text"
      },
      "source": [
        "# Datastructure exercises: "
      ]
    },
    {
      "cell_type": "code",
      "metadata": {
        "id": "26J6O3uGeeEP",
        "colab_type": "code",
        "outputId": "300a459d-5e4e-4dc1-d630-d79270a7303d",
        "colab": {
          "base_uri": "https://localhost:8080/",
          "height": 51
        }
      },
      "source": [
        "# 1. exercise:\n",
        "# You use Enum to create enumerations - name (number) with constant values. \n",
        "# To display each of the names you use: class.specificname.name, to display their \n",
        "# values you type: class.specificname.value.\n",
        "from enum import Enum\n",
        "class rRNA(Enum):\n",
        "  prokaryotic_SSU = 1500\n",
        "  prokaryotic_LSU = 3000\n",
        "  eukaryotic_SSU = 1800\n",
        "  eukaryotic_LSU = 5000\n",
        "print(\"rRNA name: {}\".format(rRNA.prokaryotic_SSU.name))\n",
        "print(\"rRNA length: {}\".format(rRNA.prokaryotic_SSU.value))"
      ],
      "execution_count": 0,
      "outputs": [
        {
          "output_type": "stream",
          "text": [
            "rRNA name: prokaryotic_SSU\n",
            "rRNA length: 1500\n"
          ],
          "name": "stdout"
        }
      ]
    },
    {
      "cell_type": "code",
      "metadata": {
        "id": "LbwcUAxtfema",
        "colab_type": "code",
        "outputId": "f8a52b3d-16bc-4514-bff6-9b456099d703",
        "colab": {
          "base_uri": "https://localhost:8080/",
          "height": 85
        }
      },
      "source": [
        "# 2. exercise:\n",
        "# To display both the name and the value, you use \"{}={}\".format(data.name, data.value) \n",
        "# - the name will be written in the first curly  brackets, the value in the second one. \n",
        "# You can thus change the format of the output.\n",
        "from enum import Enum\n",
        "class rRNA(Enum):\n",
        "  prokaryotic_SSU = 1500\n",
        "  prokaryotic_LSU = 3000\n",
        "  eukaryotic_SSU = 1800\n",
        "  eukaryotic_LSU = 5000\n",
        "for data in rRNA:\n",
        "    print(\"{}={}\".format(data.name, data.value))"
      ],
      "execution_count": 0,
      "outputs": [
        {
          "output_type": "stream",
          "text": [
            "prokaryotic_SSU=1500\n",
            "prokaryotic_LSU=3000\n",
            "eukaryotic_SSU=1800\n",
            "eukaryotic_LSU=5000\n"
          ],
          "name": "stdout"
        }
      ]
    },
    {
      "cell_type": "code",
      "metadata": {
        "id": "Aet3j7B5lcmO",
        "colab_type": "code",
        "outputId": "d9c359ef-c09b-42f7-f5fc-db1b75d2bb1a",
        "colab": {
          "base_uri": "https://localhost:8080/",
          "height": 102
        }
      },
      "source": [
        "# 3. exercise:\n",
        "# To sort out the names in the class based on their values, you need to create subclass \n",
        "# of integer - enumerated constants enum.IntEnum.\n",
        "# Neither you can sort class (it has no sorted function) nor you can iterate over\n",
        "# values in data. \n",
        "# You need to use elaborate code: r.name for r in sorted(rRNA)) to print the class\n",
        "# name of the sorted rRNA values.\n",
        "from enum import IntEnum\n",
        "class rRNA(enum.IntEnum):\n",
        "  prokaryotic_SSU = 1500\n",
        "  prokaryotic_LSU = 3000\n",
        "  eukaryotic_SSU = 1800\n",
        "  eukaryotic_LSU = 5000\n",
        "\n",
        "print(\"rRNA ordered by length:\")\n",
        "print(\"\\n\".join(\"  \" + r.name for r in sorted(rRNA)))"
      ],
      "execution_count": 0,
      "outputs": [
        {
          "output_type": "stream",
          "text": [
            "rRNA ordered by length:\n",
            "  prokaryotic_SSU\n",
            "  eukaryotic_SSU\n",
            "  prokaryotic_LSU\n",
            "  eukaryotic_LSU\n"
          ],
          "name": "stdout"
        }
      ]
    },
    {
      "cell_type": "code",
      "metadata": {
        "id": "GZZsmZRKlu0k",
        "colab_type": "code",
        "outputId": "706e7fbe-404f-440c-a3f0-51401ea4a4d8",
        "colab": {
          "base_uri": "https://localhost:8080/",
          "height": 34
        }
      },
      "source": [
        "# 4. exercise:\n",
        "# To print just the value of Enum, you use map function. It takes two arguments - \n",
        "# function (int) and list (rRNA). The output is then iterator displaying only one \n",
        "# value at a time - by transforming it into a list you display all values at once.\n",
        "from enum import IntEnum\n",
        "class rRNA(enum.IntEnum):\n",
        "  prokaryotic_SSU = 1500\n",
        "  prokaryotic_LSU = 3000\n",
        "  eukaryotic_SSU = 1800\n",
        "  eukaryotic_LSU = 5000\n",
        "rRNA_length_list = list(map(int, rRNA))\n",
        "print(rRNA_length_list)"
      ],
      "execution_count": 0,
      "outputs": [
        {
          "output_type": "stream",
          "text": [
            "[1500, 3000, 1800, 5000]\n"
          ],
          "name": "stdout"
        }
      ]
    },
    {
      "cell_type": "code",
      "metadata": {
        "id": "IZb0iAm0nRs8",
        "colab_type": "code",
        "outputId": "9b7fb947-bec1-476f-d276-5097a65515a6",
        "colab": {
          "base_uri": "https://localhost:8080/",
          "height": 34
        }
      },
      "source": [
        "# 5. exercise:\n",
        "# To count the most common words, you use words as an argument for Counter function \n",
        "# and subsequently most_common method with argument of the number of the words you want printed.\n",
        "from collections import Counter\n",
        "words = [\n",
        "   \"mRNA\", \"miRNA\", \"mRNA\", \"mRNA\", \"mRNA\", \"tRNA\", \"mRNA\", \"mRNA\", \"miRNA\", \"tRNA\", \n",
        "   \"tRNA\", \"rRNA\", \"rRNA\", \"mRNA\", \"mRNA\", \"miRNA\", \"rRNA\", \"mRNA\", \"tRNA\", \"tRNA\",\n",
        "   \"rRNA\", \"rRNA\", \"rRNA\", \"rRNA\", \"mRNA\", \"miRNA\", \"rRNA\", \"miRNA\", \"tRNA\", \"tRNA\",\n",
        "]\n",
        "word_counts = Counter(words)\n",
        "top_four = word_counts.most_common(4)\n",
        "print(top_four)"
      ],
      "execution_count": 0,
      "outputs": [
        {
          "output_type": "stream",
          "text": [
            "[('mRNA', 10), ('rRNA', 8), ('tRNA', 7), ('miRNA', 5)]\n"
          ],
          "name": "stdout"
        }
      ]
    },
    {
      "cell_type": "code",
      "metadata": {
        "colab_type": "code",
        "outputId": "313e51e7-3f52-441b-f9bc-a89d7d0e1081",
        "id": "CCkEvVb6Bs39",
        "colab": {
          "base_uri": "https://localhost:8080/",
          "height": 34
        }
      },
      "source": [
        "# 6. exercise:\n",
        "# Create a list to which the keys and values from the tuples are going to be appended.\n",
        "from collections import defaultdict\n",
        "subject = (\n",
        "  (\"Math\", 3),\n",
        "  (\"Genomics\", 1),\n",
        "  (\"Genomics\", 2),\n",
        "  (\"Bioinformatics\", 2),\n",
        "  (\"Data science\", 1),\n",
        "  (\"Bioinformatics\", 1),\n",
        ")\n",
        "d = defaultdict(list)\n",
        "for k, v in subject:\n",
        "    d[k].append(v)\n",
        "print(sorted(d.items()))"
      ],
      "execution_count": 0,
      "outputs": [
        {
          "output_type": "stream",
          "text": [
            "[('Bioinformatics', [2, 1]), ('Data science', [1]), ('Genomics', [1, 2]), ('Math', [3])]\n"
          ],
          "name": "stdout"
        }
      ]
    },
    {
      "cell_type": "code",
      "metadata": {
        "id": "WsS1wMo-sLju",
        "colab_type": "code",
        "outputId": "6636aaf9-ed7c-4a87-b0b2-ea13b277ef54",
        "colab": {
          "base_uri": "https://localhost:8080/",
          "height": 34
        }
      },
      "source": [
        "# 7. exercise:\n",
        "l = [61, 29, 15, 97, 58, 60, 80, 31, 38, 52, 133, 74, 57]\n",
        "l.sort(reverse=True)\n",
        "print(l)"
      ],
      "execution_count": 0,
      "outputs": [
        {
          "output_type": "stream",
          "text": [
            "[133, 97, 80, 74, 61, 60, 58, 57, 52, 38, 31, 29, 15]\n"
          ],
          "name": "stdout"
        }
      ]
    },
    {
      "cell_type": "code",
      "metadata": {
        "id": "z11B9hXPUZyV",
        "colab_type": "code",
        "outputId": "3c889e95-6ec9-4f5a-b744-e56b32291ead",
        "colab": {
          "base_uri": "https://localhost:8080/",
          "height": 51
        }
      },
      "source": [
        "# 8. exercise:\n",
        "# Heapq datastructure pops the smallest of heap elements.\n",
        "import heapq\n",
        "l = [61, 29, 15, 97, 58, 60, 80, 31, 38, 52, 133, 74, 57]\n",
        "print(heapq.nlargest(3,l))\n",
        "# Returns the k largest elements from the iterable specified and satisfying the \n",
        "# key if mentioned.\n",
        "print(heapq.nsmallest(3,l))"
      ],
      "execution_count": 0,
      "outputs": [
        {
          "output_type": "stream",
          "text": [
            "[133, 97, 80]\n",
            "[15, 29, 31]\n"
          ],
          "name": "stdout"
        }
      ]
    },
    {
      "cell_type": "code",
      "metadata": {
        "id": "4wMX0jF8tCnF",
        "colab_type": "code",
        "outputId": "26407259-e9ec-4b6d-e0f3-b5a2771f98d0",
        "colab": {
          "base_uri": "https://localhost:8080/",
          "height": 85
        }
      },
      "source": [
        "# 9. exercise:\n",
        "chr9 =  {184, 47, 187, 121, 58, 58, 58, 53, 104, 71, 73, 105, 72, 100, 136, 72, \n",
        "         103, 108, 80, 89, 139, 72,}\n",
        "l = list(chr9) # printing out the list will remove duplicitious integers\n",
        "print(sorted(l))\n",
        "print(\"Minimum number is: \", min(chr9))\n",
        "print(\"Maximum number is: \", max(chr9))"
      ],
      "execution_count": 0,
      "outputs": [
        {
          "output_type": "stream",
          "text": [
            "{89, 100, 71, 104, 73, 105, 72, 136, 103, 108, 47, 80, 139, 53, 184, 121, 58, 187}\n",
            "[47, 53, 58, 71, 72, 73, 80, 89, 100, 103, 104, 105, 108, 121, 136, 139, 184, 187]\n",
            "Minimum number is:  47\n",
            "Maximum number is:  187\n"
          ],
          "name": "stdout"
        }
      ]
    },
    {
      "cell_type": "code",
      "metadata": {
        "id": "3Kp1yKoVmod4",
        "colab_type": "code",
        "outputId": "f188343c-5e8e-4b7c-9fdb-a7599fd6effb",
        "colab": {
          "base_uri": "https://localhost:8080/",
          "height": 102
        }
      },
      "source": [
        "# 10. exercise:\n",
        "chr9 =  {184, 47, 187, 121, 58, 53, 104, 71, 73, 105, 72, 100, 136, 72, 103, 108, \n",
        "         80, 89, 139, 72,}\n",
        "chr3 =  {100, 73, 78, 61, 29, 15, 97, 58, 60, 80, 31, 38, 52, 133, 74, 57, 50, 53, \n",
        "         103, 65, 111, 85}\n",
        "print(\"Chromosome 9:\", chr9)\n",
        "print(\"Chromosome 3:\", chr3)\n",
        "\n",
        "intersection = chr9.intersection(chr3)\n",
        "print(\"Intersection is \", intersection)\n",
        "\n",
        "# Iterate over each of the items in intersection and remove them from chr9.\n",
        "for item in intersection:\n",
        "  chr9.remove(item)\n",
        "\n",
        "print(\"Chr9 after removing common elements:\", chr9)"
      ],
      "execution_count": 0,
      "outputs": [
        {
          "output_type": "stream",
          "text": [
            "Chromosome 9: {89, 100, 71, 104, 73, 105, 72, 136, 103, 108, 47, 80, 139, 53, 184, 121, 58, 187}\n",
            "Chromosome 3: {133, 15, 29, 31, 38, 50, 52, 53, 57, 58, 60, 61, 65, 73, 74, 78, 80, 85, 97, 100, 103, 111}\n",
            "Intersection is  {100, 103, 73, 80, 53, 58}\n",
            "Chr9 after removing common elements: {89, 71, 104, 105, 72, 136, 108, 47, 139, 184, 121, 187}\n",
            "{133, 15, 29, 31, 38, 50, 52, 57, 60, 61, 65, 74, 78, 85, 97, 111}\n"
          ],
          "name": "stdout"
        }
      ]
    },
    {
      "cell_type": "markdown",
      "metadata": {
        "id": "_FNP_nOWgDIX",
        "colab_type": "text"
      },
      "source": [
        "#Chromosomes and intervals"
      ]
    },
    {
      "cell_type": "code",
      "metadata": {
        "colab_type": "code",
        "outputId": "dd4d460f-1a6a-4f85-efa8-7234935c5fc6",
        "id": "Ja1IF-i1LcmP",
        "colab": {
          "base_uri": "https://localhost:8080/",
          "height": 187
        }
      },
      "source": [
        "# 1. exercise:\n",
        "# You need to iterate over the dictionary with \"for\" loop to be able to print out\n",
        "# all of the names of the chromosomes.\n",
        "dictionary = {\"chr19\": [144, 55, 39, 26, 77], \"chr3\": [80, 87, 267, 48, 14], \n",
        "              \"chr21\": [56, 33, 90, 75, 45], \"chr1\": [61, 63, 70, 35, 95], \n",
        "              \"chr7\": [81, 34, 79, 43, 11] }\n",
        "\n",
        "for key in dictionary:\n",
        "  print(key)\n",
        "\n",
        "# You can also name the key chrom_name for simplicity and for the sake of further exercises.\n",
        "for key in dictionary:\n",
        "  chrom_name = key\n",
        "  print(chrom_name)"
      ],
      "execution_count": 0,
      "outputs": [
        {
          "output_type": "stream",
          "text": [
            "chr19\n",
            "chr3\n",
            "chr21\n",
            "chr1\n",
            "chr7\n",
            "chr19\n",
            "chr3\n",
            "chr21\n",
            "chr1\n",
            "chr7\n"
          ],
          "name": "stdout"
        }
      ]
    },
    {
      "cell_type": "code",
      "metadata": {
        "id": "QGlS73o2Nfpf",
        "colab_type": "code",
        "outputId": "7781f96c-9fa8-4572-97a8-9a97bdea7416",
        "colab": {
          "base_uri": "https://localhost:8080/",
          "height": 102
        }
      },
      "source": [
        "# 2. exercise:\n",
        "dictionary = {\"chr19\": [144, 55, 39, 26, 77], \"chr3\": [80, 87, 267, 48, 14], \n",
        "              \"chr21\": [56, 33, 90, 75, 45], \"chr1\": [61, 63, 70, 35, 95], \n",
        "              \"chr7\": [81, 34, 79, 43, 11] }\n",
        "\n",
        "for chrom_name in dictionary:\n",
        "  print(len(chrom_name))"
      ],
      "execution_count": 0,
      "outputs": [
        {
          "output_type": "stream",
          "text": [
            "5\n",
            "4\n",
            "5\n",
            "4\n",
            "4\n"
          ],
          "name": "stdout"
        }
      ]
    },
    {
      "cell_type": "code",
      "metadata": {
        "id": "pMy6ieyWN-A4",
        "colab_type": "code",
        "outputId": "79a8e637-92ec-4994-d11a-609b193f31fa",
        "colab": {
          "base_uri": "https://localhost:8080/",
          "height": 102
        }
      },
      "source": [
        "# 3. exercise:\n",
        "# Remember that indexing in Python starts from 0!\n",
        "# You want to print out the fourth character therefore you need to write the third \n",
        "# index - in this case you are going to print the number in each of the \"chr\".\n",
        "dictionary = {\"chr19\": [144, 55, 39, 26, 77], \"chr3\": [80, 87, 267, 48, 14], \n",
        "              \"chr21\": [56, 33, 90, 75, 45], \"chr1\": [61, 63, 70, 35, 95], \n",
        "              \"chr7\": [81, 34, 79, 43, 11] }\n",
        "\n",
        "for chrom_name in dictionary:\n",
        "  print(chrom_name[3])"
      ],
      "execution_count": 0,
      "outputs": [
        {
          "output_type": "stream",
          "text": [
            "1\n",
            "3\n",
            "2\n",
            "1\n",
            "7\n"
          ],
          "name": "stdout"
        }
      ]
    },
    {
      "cell_type": "code",
      "metadata": {
        "id": "Vr971_mVbDwL",
        "colab_type": "code",
        "outputId": "1caa5777-0855-4161-d1cb-7268ebc45a79",
        "colab": {
          "base_uri": "https://localhost:8080/",
          "height": 102
        }
      },
      "source": [
        "# 4. exercise:\n",
        "# Writing dictionary[chrom_name] will actually make Python look inside each \n",
        "# of the chromosomes' sublist where the intervals are saved.\n",
        "# This can be confusing - thus you will practise it in exercise 5. Take your time \n",
        "# to be sure you fully understand the principle.\n",
        "dictionary = {\"chr19\": [144, 55, 39, 26, 77], \"chr3\": [80, 87, 267, 48, 14], \n",
        "              \"chr21\": [56, 33, 90, 75, 45], \"chr1\": [61, 63, 70, 35, 95], \n",
        "              \"chr7\": [81, 34, 79, 43, 11] }\n",
        "\n",
        "for chrom_name in dictionary:\n",
        "  print(dictionary[chrom_name]) # printing intervals"
      ],
      "execution_count": 0,
      "outputs": [
        {
          "output_type": "stream",
          "text": [
            "[144, 55, 39, 26, 77]\n",
            "[80, 87, 267, 48, 14]\n",
            "[56, 33, 90, 75, 45]\n",
            "[61, 63, 70, 35, 95]\n",
            "[81, 34, 79, 43, 11]\n"
          ],
          "name": "stdout"
        }
      ]
    },
    {
      "cell_type": "code",
      "metadata": {
        "id": "3bJs7jsRPECK",
        "colab_type": "code",
        "outputId": "8e10813e-992c-4867-8e2a-f8f4583ff5b9",
        "colab": {
          "base_uri": "https://localhost:8080/",
          "height": 34
        }
      },
      "source": [
        "# 5. exercise:\n",
        "# Notice that you do not use an indent because you are printing merely one of the \n",
        "# chromosome's contents so there is no need to iterate over the dictionary.\n",
        "dictionary = {\"chr19\": [144, 55, 39, 26, 77], \"chr3\": [80, 87, 267, 48, 14], \n",
        "              \"chr21\": [56, 33, 90, 75, 45], \"chr1\": [61, 63, 70, 35, 95], \n",
        "              \"chr7\": [81, 34, 79, 43, 11] }\n",
        "\n",
        "print(dictionary[\"chr3\"])"
      ],
      "execution_count": 0,
      "outputs": [
        {
          "output_type": "stream",
          "text": [
            "[80, 87, 267, 48, 14]\n"
          ],
          "name": "stdout"
        }
      ]
    },
    {
      "cell_type": "code",
      "metadata": {
        "id": "LgYyehKtb997",
        "colab_type": "code",
        "outputId": "6c19c483-9d33-4c35-e919-8288e1891eec",
        "colab": {
          "base_uri": "https://localhost:8080/",
          "height": 102
        }
      },
      "source": [
        "# 6. exercise:\n",
        "# The slice form is following: [start_point:end_point:step]. Since you want to go \n",
        "# by step of 1, you do not need to write it, and Python will automatically do it for you.\n",
        "# To print the first interval of each chromosome you need to restrict the slice; \n",
        "# remember, the start point is inclusive and the end point is exclusive!\n",
        "# In this case you are printing only the index 0 for each chromosome thus you need \n",
        "# to print [0:1]. Since you are printing from the beginning, you can omit the start \n",
        "# point index [:1].  \n",
        "dictionary = {\"chr19\": [144, 55, 39, 26, 77], \"chr3\": [80, 87, 267, 48, 14], \n",
        "              \"chr21\": [56, 33, 90, 75, 45], \"chr1\": [61, 63, 70, 35, 95],\n",
        "              \"chr7\": [81, 34, 79, 43, 11]}\n",
        "\n",
        "for chrom_name in dictionary:\n",
        "  print(dictionary[chrom_name][:1])"
      ],
      "execution_count": 0,
      "outputs": [
        {
          "output_type": "stream",
          "text": [
            "[144]\n",
            "[80]\n",
            "[56]\n",
            "[61]\n",
            "[81]\n"
          ],
          "name": "stdout"
        }
      ]
    },
    {
      "cell_type": "code",
      "metadata": {
        "id": "gbXGsbnbfdhb",
        "colab_type": "code",
        "outputId": "e656f30e-ff66-4040-be62-6405296a2ca2",
        "colab": {
          "base_uri": "https://localhost:8080/",
          "height": 34
        }
      },
      "source": [
        "# 7. exercise:\n",
        "dictionary = {\"chr19\": [144, 55, 39, 26, 77], \"chr3\": [80, 87, 267, 48, 14], \n",
        "              \"chr21\": [56, 33, 90, 75, 45], \"chr1\": [61, 63, 70, 35, 95], \n",
        "              \"chr7\": [81, 34, 79, 43, 11] }\n",
        "\n",
        "print(dictionary[\"chr7\"][2:3])"
      ],
      "execution_count": 0,
      "outputs": [
        {
          "output_type": "stream",
          "text": [
            "[79]\n"
          ],
          "name": "stdout"
        }
      ]
    },
    {
      "cell_type": "code",
      "metadata": {
        "id": "Bw8cgdXFQW3f",
        "colab_type": "code",
        "outputId": "c09b913b-3e86-460e-9509-0772e0a14124",
        "colab": {
          "base_uri": "https://localhost:8080/",
          "height": 102
        }
      },
      "source": [
        "# 8. exercise:\n",
        "# As said above: [start_point:end_point:step].\n",
        "dictionary = {\"chr19\": [144, 55, 39, 26, 77], \"chr3\": [80, 87, 267, 48, 14], \n",
        "              \"chr21\": [56, 33, 90, 75, 45], \"chr1\": [61, 63, 70, 35, 95], \n",
        "              \"chr7\": [81, 34, 79, 43, 11] }\n",
        "\n",
        "for chrom_name in dictionary:\n",
        "  print(dictionary[chrom_name][::2])"
      ],
      "execution_count": 0,
      "outputs": [
        {
          "output_type": "stream",
          "text": [
            "[144, 39, 77]\n",
            "[80, 267, 14]\n",
            "[56, 90, 45]\n",
            "[61, 70, 95]\n",
            "[81, 79, 11]\n"
          ],
          "name": "stdout"
        }
      ]
    },
    {
      "cell_type": "code",
      "metadata": {
        "id": "nFF1mlzayXs3",
        "colab_type": "code",
        "outputId": "8faf200f-c8f7-4dfa-9515-d277246f43f4",
        "colab": {
          "base_uri": "https://localhost:8080/",
          "height": 265
        }
      },
      "source": [
        "# 9. exercise:\n",
        "# I. type of graph - scatter plot\n",
        "# To plot a scatter graph for the dictionary you need to import matplotlib. \n",
        "import matplotlib.pyplot as plt\n",
        "d = {\"chr19\": [144, 55, 39, 26, 77], \"chr3\": [80, 87, 267, 48, 14], \n",
        "     \"chr21\": [56, 33, 90, 75, 45], \"chr1\": [61, 63, 70, 35, 95], \n",
        "     \"chr7\": [81, 34, 79, 43, 11] }\n",
        "\n",
        "# This plotting is, however, elaborate.\n",
        "x = [\"chr9\", \"chr3\", \"chr5\", \"chr1\", \"chr7\"]\n",
        "y = [(144, 55, 39, 26, 77),(80, 87, 267, 48, 14), (56, 33, 90, 75, 45), \n",
        "     (61, 63, 70, 35, 95), (81, 34, 79, 43, 11)]\n",
        "\n",
        "# Plot each of the axes separately.\n",
        "for xe, ye in zip(x, y):\n",
        "    plt.scatter([xe] * len(ye), ye)\n",
        "# Assign a variable to the plot, save the figure as jpg file.\n",
        "scatterI = plt.scatter([xe] * len(ye), ye)\n",
        "scatterI.figure.savefig(\"scatterI.jpg\")\n",
        "# Display the saved plot.\n",
        "show(\"scatterI.jpg\")"
      ],
      "execution_count": 0,
      "outputs": [
        {
          "output_type": "display_data",
          "data": {
            "image/png": "[encoded data removed]",
            "text/plain": [
              "<Figure size 432x288 with 1 Axes>"
            ]
          },
          "metadata": {
            "tags": []
          }
        }
      ]
    },
    {
      "cell_type": "code",
      "metadata": {
        "id": "NJ-73v0ZA5dp",
        "colab_type": "code",
        "outputId": "0e879ecc-a799-4878-8437-060f97ec1232",
        "colab": {
          "base_uri": "https://localhost:8080/",
          "height": 350
        }
      },
      "source": [
        "# 10. exercise:\n",
        "# II. type of graph - histogram\n",
        "# https://python-graph-gallery.com/25-histogram-with-several-variables-seaborn/\n",
        "import seaborn as sns\n",
        "d = {\"chr19\": [144, 55, 39, 26, 77], \"chr3\": [80, 87, 267, 48, 14], \n",
        "     \"chr21\": [56, 33, 90, 75, 45], \"chr1\": [61, 63, 70, 35, 95], \n",
        "     \"chr7\": [81, 34, 79, 43, 11] }\n",
        "\n",
        "# Split the dictionary into lines and plot the distribution plot for each one of them.\n",
        "for line in d:\n",
        "  line = line.split(\"\\t\")\n",
        "  key = line[0].strip()\n",
        "  print(key)\n",
        "  sns.distplot(d[key], kde=False, color=\"blue\", bins=10)\n",
        "\n",
        "histogramI = sns.distplot(d[key], kde=False, color=\"blue\", bins=10)\n",
        "histogramI.figure.savefig(\"histogramI.jpg\")\n",
        "show(\"histogramI.jpg\")"
      ],
      "execution_count": 0,
      "outputs": [
        {
          "output_type": "stream",
          "text": [
            "chr19\n",
            "chr3\n",
            "chr21\n",
            "chr1\n",
            "chr7\n"
          ],
          "name": "stdout"
        },
        {
          "output_type": "display_data",
          "data": {
            "image/png": "[encoded data removed]",
            "text/plain": [
              "<Figure size 432x288 with 1 Axes>"
            ]
          },
          "metadata": {
            "tags": []
          }
        }
      ]
    },
    {
      "cell_type": "code",
      "metadata": {
        "id": "AYjZ89aMAlx_",
        "colab_type": "code",
        "outputId": "c35b380e-c168-4568-dded-92a421813551",
        "colab": {
          "base_uri": "https://localhost:8080/",
          "height": 428
        }
      },
      "source": [
        "# 11. exercise:\n",
        "# III. type of graph - plot with kernel density estimate and histogram \n",
        "import seaborn as sns\n",
        "import matplotlib.pyplot as plt\n",
        "import pandas as pd\n",
        "from pylab import savefig\n",
        "from matplotlib.pyplot import show\n",
        "d = {\"chr19\": [144, 55, 39, 26, 77], \"chr3\": [80, 87, 267, 48, 14], \n",
        "     \"chr21\": [56, 33, 90, 75, 45], \"chr1\": [61, 63, 70, 35, 95], \n",
        "     \"chr7\": [81, 34, 79, 43, 11] }\n",
        "\n",
        "# The first integer is the number of rows, the second one is the number of columns.\n",
        "# 2 columns, 2 rows = 4 plots. Setting sharex (or sharey respectively) to True \n",
        "# enables global sharing across the whole grid - all of the plots share the same \n",
        "# x axis in the same scale.\n",
        "f, axes = plt.subplots(2, 2, figsize=(7, 7), sharex=True)\n",
        "\n",
        "for index, chromosome in enumerate(d):\n",
        "# First, create pandas series from the dictionary.\n",
        "    dict_data=pd.Series(data=d[chromosome])\n",
        "    # Each of the subplots represents a locations of pixels in the two-dimensional grid.\n",
        "    if index == 0:\n",
        "      sns.distplot(dict_data, color=\"purple\", ax=axes[0, 0])\n",
        "      A = sns.distplot(dict_data, color=\"purple\", ax=axes[0, 0])\n",
        "    elif index == 1:\n",
        "      sns.distplot(dict_data, color=\"orange\", ax=axes[1, 0])\n",
        "      B = sns.distplot(dict_data, color=\"orange\", ax=axes[1, 0])\n",
        "    elif index == 2:\n",
        "      sns.distplot(dict_data, color=\"yellow\", ax=axes[0, 1])\n",
        "      C = sns.distplot(dict_data, color=\"yellow\", ax=axes[0, 1])\n",
        "    else:\n",
        "      sns.distplot(dict_data, color=\"blue\", ax=axes[1, 1])\n",
        "      D = sns.distplot(dict_data, color=\"blue\", ax=axes[1, 1])\n",
        "\n",
        "plt.savefig(\"A.jpg\")\n",
        "plt.savefig(\"B.jpg\")\n",
        "plt.savefig(\"C.jpg\")\n",
        "plt.savefig(\"D.jpg\")\n",
        "show(\"A.jpg\")\n",
        "show(\"B.jpg\")\n",
        "show(\"C.jpg\")\n",
        "show(\"D.jpg\")"
      ],
      "execution_count": 0,
      "outputs": [
        {
          "output_type": "display_data",
          "data": {
            "image/png": "[encoded data removed]",
            "text/plain": [
              "<Figure size 504x504 with 4 Axes>"
            ]
          },
          "metadata": {
            "tags": []
          }
        }
      ]
    },
    {
      "cell_type": "code",
      "metadata": {
        "id": "_qFasBhdfcJu",
        "colab_type": "code",
        "outputId": "d12a735b-3853-4c65-89d8-4cdef51440ed",
        "colab": {
          "base_uri": "https://localhost:8080/",
          "height": 419
        }
      },
      "source": [
        "# 12. exercise:\n",
        "# IV. type of graph - violin plot\n",
        "import pandas as pd\n",
        "import matplotlib.pyplot as plt\n",
        "import seaborn as sns\n",
        "from pylab import savefig\n",
        "from matplotlib.pyplot import show\n",
        "plt.figure(figsize=(10,5))\n",
        "\n",
        "# A list of dictionary:\n",
        "d = {\"chr19\": [144, 55, 39, 26, 77], \"chr3\": [80, 87, 267, 48, 14], \n",
        "     \"chr21\": [56, 33, 90, 75, 45], \"chr1\": [61, 63, 70, 35, 95], \n",
        "     \"chr7\": [81, 34, 79, 43, 11] }\n",
        "\n",
        "# First, you need to create an empty list where you save the daraframe later.\n",
        "df_list = list()\n",
        "\n",
        "for chrom_name, value in d.items():\n",
        "\n",
        "# Second, you need to create a series where you are going to store the values from \n",
        "# the dictionary.\n",
        "  df_series = pd.Series(value)\n",
        "\n",
        "# Third, you need to create dataframe from this series where the column stores \"intervals\".\n",
        "  df = pd.DataFrame(df_series, columns = [\"intervals\"])\n",
        "\n",
        "# Fourth, the column \"chrom\" is going to be created from chrom_name.\n",
        "  df[\"chrom\"] = chrom_name\n",
        "\n",
        "# Fifth, you append each new dataframe to the gradually filled list.\n",
        "  df_list.append(df)\n",
        "\n",
        "# Note - this print function is simply informative, it has no other role in the code.\n",
        "  print(\"the list is now:\", len(df_list), \"add new chromosome\", chrom_name)\n",
        "\n",
        "# Concatenate pandas objects along x axis and finally, the dataframe is being \n",
        "# created via concatenation of the five lists.\n",
        "final_df = pd.concat( df_list, axis=0)\n",
        "\n",
        "# Cut determines the range of y axis.\n",
        "sns.violinplot(x=\"chrom\", y=\"intervals\", data=final_df, cut=3, palette=\"Set3\")\n",
        "violinplotI = sns.violinplot(x=\"chrom\", y=\"intervals\", data=final_df, cut=3, palette=\"Set3\")\n",
        "violinplotI.figure.savefig(\"violinplotI.jpg\")\n",
        "show(\"violinplotI.jpg\")"
      ],
      "execution_count": 0,
      "outputs": [
        {
          "output_type": "stream",
          "text": [
            "the list is now: 1 add new chromosome chr19\n",
            "the list is now: 2 add new chromosome chr3\n",
            "the list is now: 3 add new chromosome chr21\n",
            "the list is now: 4 add new chromosome chr1\n",
            "the list is now: 5 add new chromosome chr7\n"
          ],
          "name": "stdout"
        },
        {
          "output_type": "display_data",
          "data": {
            "image/png": "[encoded data removed]",
            "text/plain": [
              "<Figure size 720x360 with 1 Axes>"
            ]
          },
          "metadata": {
            "tags": []
          }
        }
      ]
    },
    {
      "cell_type": "code",
      "metadata": {
        "id": "Ii4zUNSHwf1k",
        "colab_type": "code",
        "outputId": "87745fb2-696a-40a0-d99b-622ae902b257",
        "colab": {
          "base_uri": "https://localhost:8080/",
          "height": 334
        }
      },
      "source": [
        "# 13. exercise:\n",
        "# V. type of graph - boxplot\n",
        "import matplotlib.pyplot as plt\n",
        "import pandas as pd\n",
        "import seaborn as sns\n",
        "from pylab import savefig\n",
        "from matplotlib.pyplot import show\n",
        "plt.figure(figsize=(10,5))\n",
        "\n",
        "d = {\"chr19\": [144, 55, 39, 26, 77], \"chr3\": [80, 87, 267, 48, 14], \n",
        "     \"chr21\": [56, 33, 90, 75, 45], \"chr1\": [61, 63, 70, 35, 95], \n",
        "     \"chr7\": [81, 34, 79, 43, 11]}\n",
        "\n",
        "df_list = []\n",
        "\n",
        "for chrom_name, value in d.items():\n",
        "  df_series = pd.Series(value)\n",
        "  df = pd.DataFrame(df_series, columns=[\"intervals\"])\n",
        "  df[\"chrom\"] = chrom_name\n",
        "  df_list.append(df)\n",
        "  final_df = pd.concat(df_list, axis=0)\n",
        "\n",
        "sns.boxplot(x=\"chrom\", y=\"intervals\", data=final_df, palette=\"Set1\")\n",
        "\n",
        "# Notice the different code which is used to save the figure.\n",
        "boxplotI = sns.boxplot(x=\"chrom\", y=\"intervals\", data=final_df, palette=\"Set1\")\n",
        "plt.savefig(\"boxplotI.jpg\")\n",
        "show(\"boxplotI.jpg\")"
      ],
      "execution_count": 0,
      "outputs": [
        {
          "output_type": "display_data",
          "data": {
            "image/png": "[encoded data removed]",
            "text/plain": [
              "<Figure size 720x360 with 1 Axes>"
            ]
          },
          "metadata": {
            "tags": []
          }
        }
      ]
    },
    {
      "cell_type": "code",
      "metadata": {
        "id": "HQRGVPxIykfs",
        "colab_type": "code",
        "outputId": "4cc144aa-2b07-4afd-c915-319032a27787",
        "colab": {
          "base_uri": "https://localhost:8080/",
          "height": 433
        }
      },
      "source": [
        "# 14. exercise:\n",
        "# VI. type of graph - catplot\n",
        "import matplotlib.pyplot as plt\n",
        "import pandas as pd\n",
        "import seaborn as sns\n",
        "from pylab import savefig\n",
        "from matplotlib.pyplot import show\n",
        "\n",
        "d = {\"chr19\": [144, 55, 39, 26, 77], \"chr3\": [80, 87, 267, 48, 14], \n",
        "     \"chr21\": [56, 33, 90, 75, 45], \"chr1\": [61, 63, 70, 35, 95], \n",
        "     \"chr7\": [81, 34, 79, 43, 11]}\n",
        "\n",
        "df_list = []\n",
        "\n",
        "for chrom_name, value in d.items():\n",
        "  # First, create pandas series from the dictionary. Second, create dataframe \n",
        "  # from the pandas Series with columns comprising intervals.\n",
        "  df_series = pd.Series(value)\n",
        "  df = pd.DataFrame(df_series, columns=[\"intervals\"])\n",
        "  # Third, assign label chrom to chrom_name.\n",
        "  df[\"chrom\"] = chrom_name  \n",
        "  # Append the dataframe to the so far empty df list.\n",
        "  df_list.append(df)\n",
        "  # Concatenate pandas objects along x axis.\n",
        "  final_df = pd.concat(df_list, axis=0)\n",
        "\n",
        "# Your data is the final df. Height is the height of each facet in inches, aspect \n",
        "# is the aspect ratio of each facet, so that aspect * height gives the width of \n",
        "# each facet in inches.\n",
        "sns.catplot(x=\"chrom\", y=\"intervals\", data=final_df, palette=\"Set1\", height=3, \n",
        "            aspect=5)\n",
        "\n",
        "# To save the plot, you need to create a variable, save this variable as a jpg \n",
        "# file, and to visualize it again, use function show and the jpg file.\n",
        "catplotI = sns.catplot(x=\"chrom\", y=\"intervals\", data=final_df, palette=\"Set1\", \n",
        "                       height=3, aspect=5)\n",
        "catplotI.savefig(\"catplotI.jpg\")\n",
        "show(\"catplotI.jpg\")"
      ],
      "execution_count": 2,
      "outputs": [
        {
          "output_type": "display_data",
          "data": {
            "image/png": "[encoded data removed]",
            "text/plain": [
              "<Figure size 1080x216 with 1 Axes>"
            ]
          },
          "metadata": {
            "tags": []
          }
        },
        {
          "output_type": "display_data",
          "data": {
            "image/png": "[encoded data removed]",
            "text/plain": [
              "<Figure size 1080x216 with 1 Axes>"
            ]
          },
          "metadata": {
            "tags": []
          }
        }
      ]
    },
    {
      "cell_type": "code",
      "metadata": {
        "id": "ZDGmC_hy_pOz",
        "colab_type": "code",
        "colab": {
          "base_uri": "https://localhost:8080/",
          "height": 450
        },
        "outputId": "3090816f-4da0-4eac-9728-375161c308fc"
      },
      "source": [
        "# 15. exercise:\n",
        "# VII. type of graph - catplot type box\n",
        "import matplotlib.pyplot as plt\n",
        "import pandas as pd\n",
        "import seaborn as sns\n",
        "from pylab import savefig\n",
        "from matplotlib.pyplot import show\n",
        "plt.figure(figsize=(10,5))\n",
        "\n",
        "d = {\"chr19\": [144, 55, 39, 26, 77], \"chr3\": [80, 87, 267, 48, 14], \n",
        "     \"chr21\": [56, 33, 90, 75, 45], \"chr1\": [61, 63, 70, 35, 95], \n",
        "     \"chr7\": [81, 34, 79, 43, 11]}\n",
        "\n",
        "df_list = []\n",
        "\n",
        "for chrom_name, value in d.items():\n",
        "  df_series = pd.Series(value)\n",
        "  df = pd.DataFrame(df_series, columns=[\"intervals\"])\n",
        "  df[\"chrom\"] = chrom_name  \n",
        "  df_list.append(df)\n",
        "  final_df = pd.concat(df_list, axis=0)\n",
        "\n",
        "# Notice the difference that cat plot can be changed into box type of plot.\n",
        "sns.catplot(x=\"chrom\", y=\"intervals\", data=final_df, palette=\"Set1\", kind=\"box\", \n",
        "            height=3, aspect=5)\n",
        "\n",
        "catplotboxI = sns.catplot(x=\"chrom\", y=\"intervals\", data=final_df, palette=\"Set1\", kind=\"box\", \n",
        "                      height=3, aspect=5)\n",
        "catplotboxI.savefig(\"catplotboxI.jpg\")\n",
        "show(\"catplotboxI.jpg\")"
      ],
      "execution_count": 40,
      "outputs": [
        {
          "output_type": "display_data",
          "data": {
            "text/plain": [
              "<Figure size 720x360 with 0 Axes>"
            ]
          },
          "metadata": {
            "tags": []
          }
        },
        {
          "output_type": "display_data",
          "data": {
            "image/png": "[encoded data removed]",
            "text/plain": [
              "<Figure size 1080x216 with 1 Axes>"
            ]
          },
          "metadata": {
            "tags": []
          }
        },
        {
          "output_type": "display_data",
          "data": {
            "image/png": "[encoded data removed]",
            "text/plain": [
              "<Figure size 1080x216 with 1 Axes>"
            ]
          },
          "metadata": {
            "tags": []
          }
        }
      ]
    },
    {
      "cell_type": "code",
      "metadata": {
        "id": "1OobV1G7_2hD",
        "colab_type": "code",
        "colab": {
          "base_uri": "https://localhost:8080/",
          "height": 334
        },
        "outputId": "ebf17396-03ef-4727-e1bf-54546a672d76"
      },
      "source": [
        "# 16. exercise:\n",
        "# VIII. type of graph - swarmplot \n",
        "from matplotlib.pyplot import show\n",
        "from pylab import savefig\n",
        "import seaborn as sns\n",
        "import pandas as pd\n",
        "import matplotlib.pyplot as plt\n",
        "plt.figure(figsize=(10,5))\n",
        "\n",
        "d = {\"chr19\": [144, 55, 39, 26, 77], \"chr3\": [80, 87, 267, 48, 14], \n",
        "     \"chr21\": [56, 33, 90, 75, 45], \"chr1\": [61, 63, 70, 35, 95], \n",
        "     \"chr7\": [81, 34, 79, 43, 11]}\n",
        "\n",
        "df_list = []\n",
        "\n",
        "for chrom_name, value in d.items():\n",
        "  df_series = pd.Series(value)\n",
        "  df = pd.DataFrame(df_series, columns=[\"intervals\"])\n",
        "  df[\"chrom\"] = chrom_name  \n",
        "  df_list.append(df)\n",
        "  final_df = pd.concat(df_list, axis=0)\n",
        "\n",
        "sns.swarmplot(x=\"chrom\", y=\"intervals\", data=final_df, palette=\"Set1\")\n",
        "\n",
        "swarmplotI = sns.swarmplot(x=\"chrom\", y=\"intervals\", data=final_df, palette=\"Set1\")\n",
        "plt.savefig(\"swarmplotI.jpg\")\n",
        "show(\"swarmplotI.jpg\")"
      ],
      "execution_count": 23,
      "outputs": [
        {
          "output_type": "display_data",
          "data": {
            "image/png": "[encoded data removed]",
            "text/plain": [
              "<Figure size 720x360 with 1 Axes>"
            ]
          },
          "metadata": {
            "tags": []
          }
        }
      ]
    },
    {
      "cell_type": "code",
      "metadata": {
        "id": "aom3goB7Bq1J",
        "colab_type": "code",
        "outputId": "3e7a48b0-02bd-497c-c6ec-a10ec908ac1d",
        "colab": {
          "base_uri": "https://localhost:8080/",
          "height": 593
        }
      },
      "source": [
        "# 17. exercise:\n",
        "# The same type of graphs with a more complex dictionary.\n",
        "# I. type of graph - scatterplot\n",
        "import matplotlib.pyplot as plt\n",
        "plt.figure(figsize=(21,10))\n",
        "\n",
        "x = {\"chr7\", \"chr16\", \"chr10\", \"chr11\", \"chr15\", \"chr12\", \"chrX\", \"chr4\", \"chr18\", \n",
        "     \"chr14_GL000194v1_random\", \"chrM\", \"chrUn_GL000218v1\"}\n",
        "y = [(120, 84, 167, 84, 55, 65, 59, 111, 69, 104, 110, 79, 62, 65, 74, 85, 72, \n",
        "      94, 50, 68, 77, 102, 84, 159, 115, 88, 97, 74, 82, 122, 71, 84, 67, 122, \n",
        "      97, 96, 111, 106, 64, 69, 75, 68, 117, 73, 72, 233, 242, 96, 127, 85, 133, \n",
        "      107, 69, 123, 91, 116, 80, 113, 82, 145, 109, 86, 58, 96, 138, 179, 163, \n",
        "      129, 160, 102, 114, 93, 20, 26, 189, 102, 129, 88, 118, 100, 73, 62, 41, \n",
        "      89, 66, 139, 162, 134, 120, 5, 57, 151, 131, 188, 56, 73, 30, 48, 65, 56, \n",
        "      108, 130, 125, 70, 146, 157, 117, 161, 110, 63, 143, 89, 112, 111, 116, \n",
        "      87, 119, 80, 147, 61, 129, 84, 193, 80, 133, 40, 58, 131, 123, 45, 57, \n",
        "      110, 85, 107, 121, 66, 103, 46, 147, 60, 71, 182, 83, 76, 96, 30, 128, \n",
        "      131, 182, 260, 100, 38, 54, 76, 31, 106, 89, 127, 122, 92, 112, 87, 114, \n",
        "      127, 69, 78, 106, 115, 53, 69, 21, 29, 67, 76, 64, 74, 93, 94, 103, 140, \n",
        "      127, 66, 27, 109, 53, 150, 106, 100, 102, 109, 70, 62, 75, 131, 85, 128, \n",
        "      80, 129, 68, 79, 120, 93, 57, 80, 81, 137, 49, 49, 94, 138, 35, 206, 133, \n",
        "      93, 40, 145),(57, 111, 74, 52, 105, 84, 70, 50, 62, 97, 96, 69, 131, 77, \n",
        "      23, 105, 71, 130, 110, 130, 89, 63, 58, 51, 113, 79, 107,112, 105, 57, 26, \n",
        "      76, 134, 102, 40, 76, 58, 56, 105, 94, 154, 160, 190, 110, 51, 83, 255, 96, \n",
        "      48, 56, 71, 51, 75, 148, 75, 117, 75, 65, 66, 171, 29, 99, 49, 88, 47, 83, \n",
        "      63, 96, 131, 108, 31, 164, 131, 59, 88, 58, 69, 120, 162, 37, 87, 84, 94, \n",
        "      68, 64, 85, 51, 73, 73, 46, 65, 101, 142, 101, 186, 104, 98, 128, 113, 103, \n",
        "      58, 91, 115, 42, 76, 211, 112, 135, 76, 105, 83, 110, 115, 48, 63, 70, 84, \n",
        "      139, 39, 40, 63, 45, 162, 82, 58, 98, 62, 86, 68, 125, 52, 77, 101, 58, 87, \n",
        "      70, 57, 213, 62, 85, 64, 167, 92, 84, 65, 58, 77, 92, 49, 132, 162, 68, 19, \n",
        "      67, 86, 87, 140, 99, 57, 145, 103, 74, 60, 99, 137, 117, 118, 76, 131, 40, \n",
        "      53, 96, 125, 157, 55, 109, 82, 74, 36, 98, 90, 58, 80, 124, 131, 112, 83, \n",
        "      121, 100, 102, 125, 60, 144, 55, 92, 44, 135, 72, 69, 90, 37, 90, 57, 111, \n",
        "      72, 84, 93, 61, 38, 65, 76, 41, 148, 46, 103, 82, 38, 102, 29, 77, 64, 53, \n",
        "      63, 67, 82, 75, 96, 95, 68, 88, 46, 150, 32, 66, 113, 97, 124, 84, 31, 79, \n",
        "      78, 85, 70, 91, 176, 80, 102, 117, 77, 80, 115, 64, 88, 38, 115, 124, 93, \n",
        "      123, 154, 43, 80, 98, 51, 104, 43, 45, 98, 99, 75, 57, 80, 80, 54, 36, 72, \n",
        "      119, 48, 120, 60, 71, 67, 29, 36, 14, 67, 17, 49, 83, 95, 105, 42, 102, 71, \n",
        "      78, 164, 54, 58, 71, 71, 68, 24, 103, 74, 48, 69, 74, 60, 58, 116, 64, 125, \n",
        "      64, 69, 73, 131, 46, 53, 39, 89, 116, 113, 73, 81, 78, 34, 132, 72, 63, 59, \n",
        "      75, 206, 48, 111, 80, 69, 166, 80, 68, 85, 59, 153, 99, 74, 63, 107, 115, 93, \n",
        "      49, 81, 46, 54, 102, 105, 156, 55, 61, 72, 75, 95, 180, 51, 67, 85, 100, 23, \n",
        "      22, 113, 64, 71, 84, 121, 87, 89, 202, 69, 100, 45, 40, 78, 41, 41, 10, 52, \n",
        "      54, 102, 65, 23, 32, 71, 78, 86, 105, 131, 61, 76, 86, 141, 64, 69, 80, 81, \n",
        "      87, 42, 27, 23, 22, 3, 19, 71, 23, 36, 32, 42, 20, 74, 90, 131, 85, 69, 85, \n",
        "      52, 72, 103, 74, 87, 217, 83, 63, 92, 134, 77, 103, 50, 42, 11, 79, 73, 100, \n",
        "      72, 70, 80, 148, 104, 101, 166, 233, 37, 62, 37, 34, 34, 142, 139, 96, 46, \n",
        "      85, 37, 114, 53, 100, 164, 120, 51, 31, 112, 155, 73, 167, 86, 79, 66, 55, \n",
        "      74, 66, 51, 78, 75, 116, 93, 101, 149, 110, 40, 60, 96, 73, 71, 66, 73, 67, \n",
        "      45, 112, 76, 130, 63, 96, 127, 48, 70, 95, 106, 70, 172, 121, 37, 56, 98, 83, \n",
        "      66, 138, 85, 104, 42, 32, 74, 31, 93, 135, 41, 69, 62, 89, 53, 63, 69, 94, 87, \n",
        "      66, 142, 136, 56, 107, 110, 75, 215, 142, 74, 133, 56, 40, 66, 152, 99, 148, \n",
        "      71, 78, 64, 89, 77, 119, 115, 31, 13, 29, 56, 100, 121, 60, 52, 109, 98, 90, \n",
        "      62, 91, 32, 65, 113, 93, 114, 54, 102, 102), (81, 68, 67, 123, 69, 79, 65, \n",
        "      92, 136, 93, 57, 58, 38, 103, 66, 150, 87, 77, 59, 90, 83, 53, 109, 148, \n",
        "      100, 86, 62, 36, 93, 67, 84, 106, 149, 171, 98, 139, 118, 107, 153, 127, 84,\n",
        "      66, 51, 126, 92, 90, 40, 68, 105, 80, 176, 75, 107, 127, 151, 46, 74, 74, 106, \n",
        "      54, 123, 87, 90, 107, 177, 87, 172, 124, 98, 97, 87, 170, 81, 98, 45, 185, 86,\n",
        "      106, 124, 61, 54, 78, 72, 87, 101, 56, 159, 89, 125, 124, 81, 118, 81, 88, 49,\n",
        "      52, 112, 112, 47, 89, 177, 131, 70, 113, 82, 78, 69, 82, 83, 80, 153, 110, \n",
        "      49, 72, 68, 36, 189, 147, 64, 115, 83, 139, 130, 97, 79, 156, 127, 45, 79, \n",
        "     150, 121, 172, 127, 47, 114, 81, 87, 107, 80, 84, 102, 95, 140, 125, 31),\n",
        "    (70, 187, 95, 99, 29, 39, 20, 118, 102, 68, 118, 142, 75, 86, 43, 23, 27, 78, \n",
        "     35, 30, 154, 54, 59, 73, 28, 9, 75, 73, 69, 7, 30, 8, 22, 15, 57, 40, 23, 114,\n",
        "     130, 101, 38, 23, 19, 11, 10, 85, 21, 60, 174, 136, 21, 67, 44, 20, 12, 110, \n",
        "     92, 80, 42, 114, 126, 169, 88, 50, 50, 59, 9, 6, 122, 29, 8, 30, 48, 34, 6, \n",
        "     123, 89, 122, 5, 80, 17, 12, 54, 148, 84, 31, 9, 90, 67, 75, 106, 71, 83, 71,\n",
        "     47, 107, 72, 26, 35, 12, 32, 52, 89, 171, 91, 81, 12, 15, 57, 165, 140, 73, \n",
        "     18, 104, 109, 117, 63, 98, 36, 73, 89, 56, 35, 27, 101, 86, 95, 136, 57, 71, \n",
        "     34, 17, 29, 18, 122, 64, 54, 26, 183, 202, 187, 68, 70, 40, 68, 141, 146, 94,\n",
        "     155, 34, 14, 71, 4, 46, 10, 13, 45, 120, 81, 67, 10, 18, 52, 18, 6, 20, 7, 10, \n",
        "     31, 50, 24, 36, 98, 23, 95, 87, 136, 133, 84, 75, 69, 95, 68, 71, 67, 15, 21, \n",
        "     17, 93, 166, 112, 109, 107, 78, 162, 153, 99, 57, 24, 21, 16, 66, 70, 20, 47, \n",
        "     15, 89, 13, 31, 49, 25, 29, 63, 96, 95, 102, 60, 66, 50, 44, 16, 19, 79, 67, \n",
        "     116, 61, 13, 18, 6, 9, 4, 5, 9, 83, 115, 21, 96, 172, 99, 13, 106, 121, 133, \n",
        "     100, 16, 42, 37, 101, 120, 85, 100, 144, 97, 100, 116, 80, 26, 17, 13, 83, 15, \n",
        "     37, 97, 66, 79, 82, 61, 53, 104, 49, 25, 24, 10, 31, 45, 14, 5, 5, 45, 10, 145, \n",
        "     76, 80, 90, 46, 42, 31, 81, 138, 105, 145, 94, 11, 47, 92, 41, 140, 115, 70, \n",
        "     113, 59, 89, 78, 55, 85, 20, 68, 68, 84, 108, 17, 114),(92, 64, 94, 47, 64, 90, \n",
        "     140, 79, 112, 178, 123, 94, 85, 104, 72, 286, 117, 78, 189, 50, 125, 157, 70, \n",
        "     134, 64, 92, 81, 83, 117, 131, 88, 95, 79, 92, 74, 101, 120, 107, 68, 185, 87, \n",
        "     104, 124, 81, 78, 78, 40, 104, 160, 23, 30, 87, 55, 88, 129, 113, 53, 70, 121, \n",
        "     43, 90, 48, 118, 171, 28, 67, 43, 58, 31, 46, 82),(86, 103, 84, 88, 134, 152, 105, \n",
        "     113, 87, 138, 113, 175, 85, 92, 101, 88, 79, 118, 123, 66, 50, 135, 67, 131, \n",
        "     47, 90, 158, 103, 92, 84, 84, 66, 160, 84, 103, 96, 101, 134, 168, 139, 43, \n",
        "     135, 117, 100, 137, 106, 128, 112, 49, 146, 258, 166, 80, 126, 113, 67, 183, \n",
        "     132, 76, 161, 141, 119, 125, 63, 167, 186, 60, 46, 130, 56, 104, 55, 121, 125, \n",
        "     94, 63, 110, 116, 109, 103, 81, 114, 183, 148, 107, 40, 131, 149, 128, 109, \n",
        "     99, 97, 160, 203),(63, 77, 54, 74, 38, 81, 82, 21, 119, 146, 86, 34, 46, 93, \n",
        "     57, 83, 73, 92, 135, 140, 95, 116, 66, 84, 76, 103, 63, 65, 113, 63, 122, 57, \n",
        "     123, 61, 26, 51, 47, 66, 75, 125, 156, 120, 47, 57, 91, 101, 54, 68, 71, 92, \n",
        "     92, 88, 61, 84, 72, 69, 48, 33, 66, 128, 89, 86, 111, 89, 37, 65, 77, 82, 35, \n",
        "     72, 93, 96, 60, 45),(40, 56, 29, 58, 54, 70, 90, 76, 92, 68, 79, 87, 109, 45, \n",
        "     99, 133, 171, 101, 61, 70, 114, 127, 69, 147, 94, 66, 62, 64, 118, 89, 155, \n",
        "     122, 103, 86, 69, 86, 85, 65, 67, 77, 32, 115, 80, 111, 118, 157, 137, 138, \n",
        "     151, 74, 159, 65, 74, 103, 46, 81, 64, 67, 116, 109, 86, 82, 63, 87, 34, 50, \n",
        "     139, 62, 55, 70, 110, 120, 87, 78, 122, 192, 102, 112, 128, 41, 69, 59, 106, \n",
        "     131, 77, 115, 256, 135, 65, 101, 148, 108, 138, 146, 93, 71, 68, 89, 135, \n",
        "     104, 92, 82, 115, 96, 118, 122, 94, 55, 31, 64, 89, 33, 120, 59, 131, 158, \n",
        "     75, 81, 61, 43, 53, 66, 114, 64, 89, 149, 88, 86, 120, 86, 114, 162, 82, 60, \n",
        "     44, 110, 82, 77, 56, 76, 76, 86, 53),(47, 64, 20, 39, 37, 107, 106, 45, 78, \n",
        "     149, 86, 122, 122, 31, 155, 45, 77, 85, 71, 54, 77, 25, 34, 83, 147, 77, 90, \n",
        "     147, 123, 90, 138, 86, 180, 121, 91, 86, 28, 45, 74, 88, 188, 63, 97, 85, 115, \n",
        "     32, 59), (266, 95, 131, 115, 87, 113, 81, 108, 73, 76, 38, 60),(109, 108, 70, \n",
        "     123),(21, 29),(84)]\n",
        "\n",
        "for xe, ye in zip(x, y):\n",
        "    plt.scatter([xe] * len(ye), ye)\n",
        "\n",
        "scatterII = plt.scatter([xe] * len(ye), ye)\n",
        "scatterII.figure.savefig(\"scatterII.jpg\")\n",
        "show(\"scatterII.jpg\")"
      ],
      "execution_count": 0,
      "outputs": [
        {
          "output_type": "display_data",
          "data": {
            "image/png": "[encoded data removed]",
            "text/plain": [
              "<Figure size 1512x720 with 1 Axes>"
            ]
          },
          "metadata": {
            "tags": []
          }
        }
      ]
    },
    {
      "cell_type": "code",
      "metadata": {
        "id": "eUaWezuLFTPL",
        "colab_type": "code",
        "outputId": "0bc47140-ba51-4bab-9c20-50a3f888c0b9",
        "colab": {
          "base_uri": "https://localhost:8080/",
          "height": 486
        }
      },
      "source": [
        "# 18. exercise:\n",
        "# II. type of graph - histogram\n",
        "import seaborn as sns\n",
        "plt.figure(figsize=(8,4))\n",
        "dictionary = {\"chr7\":[120, 84, 167, 84, 55, 65, 59, 111, 69, 104, 110, 79, 62, 65, \n",
        "                      74, 85, 72, 94, 50, 68, 77, 102, 84, 159, 115, 88, 97, 74, 82, \n",
        "                      122, 71, 84, 67, 122, 97, 96, 111, 106, 64, 69, 75, 68, 117, \n",
        "                      73, 72, 233, 242, 96, 127, 85, 133, 107, 69, 123, 91, 116, \n",
        "                      80, 113, 82, 145, 109, 86, 58, 96, 138, 179, 163, 129, 160, \n",
        "                      102, 114, 93, 20, 26, 189, 102, 129, 88, 118, 100, 73, 62, \n",
        "                      41, 89, 66, 139, 162, 134, 120, 5, 57, 151, 131, 188, 56, \n",
        "                      73, 30, 48, 65, 56, 108, 130, 125, 70, 146, 157, 117, 161, \n",
        "                      110, 63, 143, 89, 112, 111, 116, 87, 119, 80, 147, 61, 129, \n",
        "                      84, 193, 80, 133, 40, 58, 131, 123, 45, 57, 110, 85, 107, \n",
        "                      121, 66, 103, 46, 147, 60, 71, 182, 83, 76, 96, 30, 128, 131, \n",
        "                      182, 260, 100, 38, 54, 76, 31, 106, 89, 127, 122, 92, 112, \n",
        "                      87, 114, 127, 69, 78, 106, 115, 53, 69, 21, 29, 67, 76, 64, \n",
        "                      74, 93, 94, 103, 140, 127, 66, 27, 109, 53, 150, 106, 100, \n",
        "                      102, 109, 70, 62, 75, 131, 85, 128, 80, 129, 68, 79, 120, 93, \n",
        "                      57, 80, 81, 137, 49, 49, 94, 138, 35, 206, 133, 93, 40, 145],\n",
        "              \"chr16\": [57, 111, 74, 52, 105, 84, 70, 50, 62, 97, 96, 69, 131, 77, \n",
        "                        23, 105, 71, 130, 110, 130, 89, 63, 58, 51, 113, 79, 107, \n",
        "                        112, 105, 57, 26, 76, 134, 102, 40, 76, 58, 56, 105, 94, \n",
        "                        154, 160, 190, 110, 51, 83, 255, 96, 48, 56, 71, 51, 75, \n",
        "                        148, 75, 117, 75, 65, 66, 171, 29, 99, 49, 88, 47, 83, 63, \n",
        "                        96, 131, 108, 31, 164, 131, 59, 88, 58, 69, 120, 162, 37, \n",
        "                        87, 84, 94, 68, 64, 85, 51, 73, 73, 46, 65, 101, 142, 101, \n",
        "                        186, 104, 98, 128, 113, 103, 58, 91, 115, 42, 76, 211, 112, \n",
        "                        135, 76, 105, 83, 110, 115, 48, 63, 70, 84, 139, 39, 40, \n",
        "                        63, 45, 162, 82, 58, 98, 62, 86, 68, 125, 52, 77, 101, 58, \n",
        "                        87, 70, 57, 213, 62, 85, 64, 167, 92, 84, 65, 58, 77, 92, \n",
        "                        49, 132, 162, 68, 19, 67, 86, 87, 140, 99, 57, 145, 103, 74, \n",
        "                        60, 99, 137, 117, 118, 76, 131, 40, 53, 96, 125, 157, 55, \n",
        "                        109, 82, 74, 36, 98, 90, 58, 80, 124, 131, 112, 83, 121, \n",
        "                        100, 102, 125, 60, 144, 55, 92, 44, 135, 72, 69, 90, 37, \n",
        "                        90, 57, 111, 72, 84, 93, 61, 38, 65, 76, 41, 148, 46, 103, \n",
        "                        82, 38, 102, 29, 77, 64, 53, 63, 67, 82, 75, 96, 95, 68, 88, \n",
        "                        46, 150, 32, 66, 113, 97, 124, 84, 31, 79, 78, 85, 70, 91, \n",
        "                        176, 80, 102, 117, 77, 80, 115, 64, 88, 38, 115, 124, 93, \n",
        "                        123, 154, 43, 80, 98, 51, 104, 43, 45, 98, 99, 75, 57, 80, \n",
        "                        80, 54, 36, 72, 119, 48, 120, 60, 71, 67, 29, 36, 14, 67, \n",
        "                        17, 49, 83, 95, 105, 42, 102, 71, 78, 164, 54, 58, 71, 71, \n",
        "                        68, 24, 103, 74, 48, 69, 74, 60, 58, 116, 64, 125, 64, 69, \n",
        "                        73, 131, 46, 53, 39, 89, 116, 113, 73, 81, 78, 34, 132, 72, \n",
        "                        63, 59, 75, 206, 48, 111, 80, 69, 166, 80, 68, 85, 59, 153, \n",
        "                        99, 74, 63, 107, 115, 93, 49, 81, 46, 54, 102, 105, 156, \n",
        "                        55, 61, 72, 75, 95, 180, 51, 67, 85, 100, 23, 22, 113, 64, \n",
        "                        71, 84, 121, 87, 89, 202, 69, 100, 45, 40, 78, 41, 41, 10, \n",
        "                        52, 54, 102, 65, 23, 32, 71, 78, 86, 105, 131, 61, 76, 86, \n",
        "                        141, 64, 69, 80, 81, 87, 42, 27, 23, 22, 3, 19, 71, 23, 36, \n",
        "                        32, 42, 20, 74, 90, 131, 85, 69, 85, 52, 72, 103, 74, 87, \n",
        "                        217, 83, 63, 92, 134, 77, 103, 50, 42, 11, 79, 73, 100, 72, \n",
        "                        70, 80, 148, 104, 101, 166, 233, 37, 62, 37, 34, 34, 142, \n",
        "                        139, 96, 46, 85, 37, 114, 53, 100, 164, 120, 51, 31, 112, \n",
        "                        155, 73, 167, 86, 79, 66, 55, 74, 66, 51, 78, 75, 116, 93, \n",
        "                        101, 149, 110, 40, 60, 96, 73, 71, 66, 73, 67, 45, 112, 76, \n",
        "                        130, 63, 96, 127, 48, 70, 95, 106, 70, 172, 121, 37, 56, 98, \n",
        "                        83, 66, 138, 85, 104, 42, 32, 74, 31, 93, 135, 41, 69, 62, \n",
        "                        89, 53, 63, 69, 94, 87, 66, 142, 136, 56, 107, 110, 75, 215, \n",
        "                        142, 74, 133, 56, 40, 66, 152, 99, 148, 71, 78, 64, 89, 77, \n",
        "                        119, 115, 31, 13, 29, 56, 100, 121, 60, 52, 109, 98, 90, 62, \n",
        "                        91, 32, 65, 113, 93, 114, 54, 102, 102],\n",
        "              \"chr10\": [81, 68, 67, 123, 69, 79, 65, 92, 136, 93, 57, 58, 38, 103, \n",
        "                        66, 150, 87, 77, 59, 90, 83, 53, 109, 148, 100, 86, 62, 36, \n",
        "                        93, 67, 84, 106, 149, 171, 98, 139, 118, 107, 153, 127, 84, \n",
        "                        66, 51, 126, 92, 90, 40, 68, 105, 80, 176, 75, 107, 127, 151, \n",
        "                        46, 74, 74, 106, 54, 123, 87, 90, 107, 177, 87, 172, 124, 98, \n",
        "                        97, 87, 170, 81, 98, 45, 185, 86, 106, 124, 61, 54, 78, 72, \n",
        "                        87, 101, 56, 159, 89, 125, 124, 81, 118, 81, 88, 49, 52, 112, \n",
        "                        112, 47, 89, 177, 131, 70, 113, 82, 78, 69, 82, 83, 80, 153, \n",
        "                        110, 49, 72, 68, 36, 189, 147, 64, 115, 83, 139, 130, 97, \n",
        "                        79, 156, 127, 45, 79, 150, 121, 172, 127, 47, 114, 81, 87, \n",
        "                        107, 80, 84, 102, 95, 140, 125, 31],\n",
        "              \"chr11\": [70, 187, 95, 99, 29, 39, 20, 118, 102, 68, 118, 142, 75, \n",
        "                        86, 43, 23, 27, 78, 35, 30, 154, 54, 59, 73, 28, 9, 75, 73, \n",
        "                        69, 7, 30, 8, 22, 15, 57, 40, 23, 114, 130, 101, 38, 23, 19, \n",
        "                        11, 10, 85, 21, 60, 174, 136, 21, 67, 44, 20, 12, 110, 92, \n",
        "                        80, 42, 114, 126, 169, 88, 50, 50, 59, 9, 6, 122, 29, 8, \n",
        "                        30, 48, 34, 6, 123, 89, 122, 5, 80, 17, 12, 54, 148, 84, 31, \n",
        "                        9, 90, 67, 75, 106, 71, 83, 71, 47, 107, 72, 26, 35, 12, 32, \n",
        "                        52, 89, 171, 91, 81, 12, 15, 57, 165, 140, 73, 18, 104, 109, \n",
        "                        117, 63, 98, 36, 73, 89, 56, 35, 27, 101, 86, 95, 136, 57, \n",
        "                        71, 34, 17, 29, 18, 122, 64, 54, 26, 183, 202, 187, 68, 70, \n",
        "                        40, 68, 141, 146, 94, 155, 34, 14, 71, 4, 46, 10, 13, 45, \n",
        "                        120, 81, 67, 10, 18, 52, 18, 6, 20, 7, 10, 31, 50, 24, 36, \n",
        "                        98, 23, 95, 87, 136, 133, 84, 75, 69, 95, 68, 71, 67, 15, \n",
        "                        21, 17, 93, 166, 112, 109, 107, 78, 162, 153, 99, 57, 24, \n",
        "                        21, 16, 66, 70, 20, 47, 15, 89, 13, 31, 49, 25, 29, 63, 96, \n",
        "                        95, 102, 60, 66, 50, 44, 16, 19, 79, 67, 116, 61, 13, 18, \n",
        "                        6, 9, 4, 5, 9, 83, 115, 21, 96, 172, 99, 13, 106, 121, 133, \n",
        "                        100, 16, 42, 37, 101, 120, 85, 100, 144, 97, 100, 116, 80, \n",
        "                        26, 17, 13, 83, 15, 37, 97, 66, 79, 82, 61, 53, 104, 49, 25, \n",
        "                        24, 10, 31, 45, 14, 5, 5, 45, 10, 145, 76, 80, 90, 46, 42, \n",
        "                        31, 81, 138, 105, 145, 94, 11, 47, 92, 41, 140, 115, 70, 113, \n",
        "                        59, 89, 78, 55, 85, 20, 68, 68, 84, 108, 17, 114],\n",
        "              \"chr15\": [92, 64, 94, 47, 64, 90, 140, 79, 112, 178, 123, 94, 85, 104, \n",
        "                        72, 286, 117, 78, 189, 50, 125, 157, 70, 134, 64, 92, 81, 83, \n",
        "                        117, 131, 88, 95, 79, 92, 74, 101, 120, 107, 68, 185, 87, \n",
        "                        104, 124, 81, 78, 78, 40, 104, 160, 23, 30, 87, 55, 88, 129, \n",
        "                        113, 53, 70, 121, 43, 90, 48, 118, 171, 28, 67, 43, 58, 31, \n",
        "                        46, 82],\n",
        "              \"chr12\": [86, 103, 84, 88, 134, 152, 105, 113, 87, 138, 113, 175, 85, \n",
        "                        92, 101, 88, 79, 118, 123, 66, 50, 135, 67, 131, 47, 90, 158, \n",
        "                        103, 92, 84, 84, 66, 160, 84, 103, 96, 101, 134, 168, 139, \n",
        "                        43, 135, 117, 100, 137, 106, 128, 112, 49, 146, 258, 166, \n",
        "                        80, 126, 113, 67, 183, 132, 76, 161, 141, 119, 125, 63, 167,\n",
        "                        186, 60, 46, 130, 56, 104, 55, 121, 125, 94, 63, 110, 116, 109, \n",
        "                        103, 81, 114, 183, 148, 107, 40, 131, 149, 128, 109, 99, 97, \n",
        "                        160, 203],\n",
        "              \"chrX\": [63, 77, 54, 74, 38, 81, 82, 21, 119, 146, 86, 34, 46, 93, 57,\n",
        "                       83, 73, 92, 135, 140, 95, 116, 66, 84, 76, 103, 63, 65, 113, \n",
        "                       63, 122, 57, 123, 61, 26, 51, 47, 66, 75, 125, 156, 120, 47, \n",
        "                       57, 91, 101, 54, 68, 71, 92, 92, 88, 61, 84, 72, 69, 48, 33, \n",
        "                       66, 128, 89, 86, 111, 89, 37, 65, 77, 82, 35, 72, 93, 96, 60, 45],\n",
        "              \"chr4\": [40, 56, 29, 58, 54, 70, 90, 76, 92, 68, 79, 87, 109, 45, 99, \n",
        "                       133, 171, 101, 61, 70, 114, 127, 69, 147, 94, 66, 62, 64, \n",
        "                       118, 89, 155, 122, 103, 86, 69, 86, 85, 65, 67, 77, 32, 115, \n",
        "                       80, 111, 118, 157, 137, 138, 151, 74, 159, 65, 74, 103, 46, \n",
        "                       81, 64, 67, 116, 109, 86, 82, 63, 87, 34, 50, 139, 62, 55, \n",
        "                       70, 110, 120, 87, 78, 122, 192, 102, 112, 128, 41, 69, 59, \n",
        "                       106, 131, 77, 115, 256, 135, 65, 101, 148, 108, 138, 146, 93, \n",
        "                       71, 68, 89, 135, 104, 92, 82, 115, 96, 118, 122, 94, 55, 31, \n",
        "                       64, 89, 33, 120, 59, 131, 158, 75, 81, 61, 43, 53, 66, 114, \n",
        "                       64, 89, 149, 88, 86, 120, 86, 114, 162, 82, 60, 44, 110, 82, \n",
        "                       77, 56, 76, 76, 86, 53],\n",
        "              \"chr13\": [47, 64, 20, 39, 37, 107, 106, 45, 78, 149, 86, 122, 122, 31, \n",
        "                        155, 45, 77, 85, 71, 54, 77, 25, 34, 83, 147, 77, 90, 147, \n",
        "                        123, 90, 138, 86, 180, 121, 91, 86, 28, 45, 74, 88, 188, 63, \n",
        "                        97, 85, 115, 32, 59],\n",
        "              \"chr18\": [266, 95, 131, 115, 87, 113, 81, 108, 73, 76, 38, 60],\n",
        "              \"chr14_GL000194v1_random\": [109, 108, 70, 123],\n",
        "              \"chrM\": [21, 29],\n",
        "              \"chrUn_GL000218v1\": [84]}\n",
        "\n",
        "for line in dictionary:\n",
        "  line = line.split(\"\\t\")\n",
        "  key = line[0].strip()\n",
        "  print(key)\n",
        "  sns.distplot(dictionary[key], kde=False, color=\"magenta\", bins=50)\n",
        "\n",
        "histogramII = sns.distplot(dictionary[key], kde=False, color=\"magenta\", bins=50)\n",
        "histogramII.figure.savefig(\"histogramII.jpg\")\n",
        "show(\"histogramII.jpg\")"
      ],
      "execution_count": 0,
      "outputs": [
        {
          "output_type": "stream",
          "text": [
            "chr7\n",
            "chr16\n",
            "chr10\n",
            "chr11\n",
            "chr15\n",
            "chr12\n",
            "chrX\n",
            "chr4\n",
            "chr13\n",
            "chr18\n",
            "chr14_GL000194v1_random\n",
            "chrM\n",
            "chrUn_GL000218v1\n"
          ],
          "name": "stdout"
        },
        {
          "output_type": "display_data",
          "data": {
            "image/png": "[encoded data removed]",
            "text/plain": [
              "<Figure size 576x288 with 1 Axes>"
            ]
          },
          "metadata": {
            "tags": []
          }
        }
      ]
    },
    {
      "cell_type": "code",
      "metadata": {
        "id": "m_-3gSDeD_D3",
        "colab_type": "code",
        "outputId": "eab87fc3-0fa9-41a7-d55d-e10e08cbbc52",
        "colab": {
          "base_uri": "https://localhost:8080/",
          "height": 496
        }
      },
      "source": [
        "# 19. exercise:\n",
        "# III. type of graph - plot with kernel density estimate and histogram \n",
        "import seaborn as sns\n",
        "import matplotlib.pyplot as plt\n",
        "import pandas as pd\n",
        "from pylab import savefig\n",
        "from matplotlib.pyplot import show\n",
        "dictionary = {\"chr7\":[120, 84, 167, 84, 55, 65, 59, 111, 69, 104, 110, 79, 62, 65, \n",
        "                      74, 85, 72, 94, 50, 68, 77, 102, 84, 159, 115, 88, 97, 74, 82, \n",
        "                      122, 71, 84, 67, 122, 97, 96, 111, 106, 64, 69, 75, 68, 117, \n",
        "                      73, 72, 233, 242, 96, 127, 85, 133, 107, 69, 123, 91, 116, \n",
        "                      80, 113, 82, 145, 109, 86, 58, 96, 138, 179, 163, 129, 160, \n",
        "                      102, 114, 93, 20, 26, 189, 102, 129, 88, 118, 100, 73, 62, \n",
        "                      41, 89, 66, 139, 162, 134, 120, 5, 57, 151, 131, 188, 56, \n",
        "                      73, 30, 48, 65, 56, 108, 130, 125, 70, 146, 157, 117, 161, \n",
        "                      110, 63, 143, 89, 112, 111, 116, 87, 119, 80, 147, 61, 129, \n",
        "                      84, 193, 80, 133, 40, 58, 131, 123, 45, 57, 110, 85, 107, \n",
        "                      121, 66, 103, 46, 147, 60, 71, 182, 83, 76, 96, 30, 128, 131, \n",
        "                      182, 260, 100, 38, 54, 76, 31, 106, 89, 127, 122, 92, 112, \n",
        "                      87, 114, 127, 69, 78, 106, 115, 53, 69, 21, 29, 67, 76, 64, \n",
        "                      74, 93, 94, 103, 140, 127, 66, 27, 109, 53, 150, 106, 100, \n",
        "                      102, 109, 70, 62, 75, 131, 85, 128, 80, 129, 68, 79, 120, 93, \n",
        "                      57, 80, 81, 137, 49, 49, 94, 138, 35, 206, 133, 93, 40, 145],\n",
        "              \"chr16\": [57, 111, 74, 52, 105, 84, 70, 50, 62, 97, 96, 69, 131, 77, \n",
        "                        23, 105, 71, 130, 110, 130, 89, 63, 58, 51, 113, 79, 107, \n",
        "                        112, 105, 57, 26, 76, 134, 102, 40, 76, 58, 56, 105, 94, \n",
        "                        154, 160, 190, 110, 51, 83, 255, 96, 48, 56, 71, 51, 75, \n",
        "                        148, 75, 117, 75, 65, 66, 171, 29, 99, 49, 88, 47, 83, 63, \n",
        "                        96, 131, 108, 31, 164, 131, 59, 88, 58, 69, 120, 162, 37, \n",
        "                        87, 84, 94, 68, 64, 85, 51, 73, 73, 46, 65, 101, 142, 101, \n",
        "                        186, 104, 98, 128, 113, 103, 58, 91, 115, 42, 76, 211, 112, \n",
        "                        135, 76, 105, 83, 110, 115, 48, 63, 70, 84, 139, 39, 40, \n",
        "                        63, 45, 162, 82, 58, 98, 62, 86, 68, 125, 52, 77, 101, 58, \n",
        "                        87, 70, 57, 213, 62, 85, 64, 167, 92, 84, 65, 58, 77, 92, \n",
        "                        49, 132, 162, 68, 19, 67, 86, 87, 140, 99, 57, 145, 103, 74, \n",
        "                        60, 99, 137, 117, 118, 76, 131, 40, 53, 96, 125, 157, 55, \n",
        "                        109, 82, 74, 36, 98, 90, 58, 80, 124, 131, 112, 83, 121, \n",
        "                        100, 102, 125, 60, 144, 55, 92, 44, 135, 72, 69, 90, 37, \n",
        "                        90, 57, 111, 72, 84, 93, 61, 38, 65, 76, 41, 148, 46, 103, \n",
        "                        82, 38, 102, 29, 77, 64, 53, 63, 67, 82, 75, 96, 95, 68, 88, \n",
        "                        46, 150, 32, 66, 113, 97, 124, 84, 31, 79, 78, 85, 70, 91, \n",
        "                        176, 80, 102, 117, 77, 80, 115, 64, 88, 38, 115, 124, 93, \n",
        "                        123, 154, 43, 80, 98, 51, 104, 43, 45, 98, 99, 75, 57, 80, \n",
        "                        80, 54, 36, 72, 119, 48, 120, 60, 71, 67, 29, 36, 14, 67, \n",
        "                        17, 49, 83, 95, 105, 42, 102, 71, 78, 164, 54, 58, 71, 71, \n",
        "                        68, 24, 103, 74, 48, 69, 74, 60, 58, 116, 64, 125, 64, 69, \n",
        "                        73, 131, 46, 53, 39, 89, 116, 113, 73, 81, 78, 34, 132, 72, \n",
        "                        63, 59, 75, 206, 48, 111, 80, 69, 166, 80, 68, 85, 59, 153, \n",
        "                        99, 74, 63, 107, 115, 93, 49, 81, 46, 54, 102, 105, 156, \n",
        "                        55, 61, 72, 75, 95, 180, 51, 67, 85, 100, 23, 22, 113, 64, \n",
        "                        71, 84, 121, 87, 89, 202, 69, 100, 45, 40, 78, 41, 41, 10, \n",
        "                        52, 54, 102, 65, 23, 32, 71, 78, 86, 105, 131, 61, 76, 86, \n",
        "                        141, 64, 69, 80, 81, 87, 42, 27, 23, 22, 3, 19, 71, 23, 36, \n",
        "                        32, 42, 20, 74, 90, 131, 85, 69, 85, 52, 72, 103, 74, 87, \n",
        "                        217, 83, 63, 92, 134, 77, 103, 50, 42, 11, 79, 73, 100, 72, \n",
        "                        70, 80, 148, 104, 101, 166, 233, 37, 62, 37, 34, 34, 142, \n",
        "                        139, 96, 46, 85, 37, 114, 53, 100, 164, 120, 51, 31, 112, \n",
        "                        155, 73, 167, 86, 79, 66, 55, 74, 66, 51, 78, 75, 116, 93, \n",
        "                        101, 149, 110, 40, 60, 96, 73, 71, 66, 73, 67, 45, 112, 76, \n",
        "                        130, 63, 96, 127, 48, 70, 95, 106, 70, 172, 121, 37, 56, 98, \n",
        "                        83, 66, 138, 85, 104, 42, 32, 74, 31, 93, 135, 41, 69, 62, \n",
        "                        89, 53, 63, 69, 94, 87, 66, 142, 136, 56, 107, 110, 75, 215, \n",
        "                        142, 74, 133, 56, 40, 66, 152, 99, 148, 71, 78, 64, 89, 77, \n",
        "                        119, 115, 31, 13, 29, 56, 100, 121, 60, 52, 109, 98, 90, 62, \n",
        "                        91, 32, 65, 113, 93, 114, 54, 102, 102],\n",
        "              \"chr10\": [81, 68, 67, 123, 69, 79, 65, 92, 136, 93, 57, 58, 38, 103, \n",
        "                        66, 150, 87, 77, 59, 90, 83, 53, 109, 148, 100, 86, 62, 36, \n",
        "                        93, 67, 84, 106, 149, 171, 98, 139, 118, 107, 153, 127, 84, \n",
        "                        66, 51, 126, 92, 90, 40, 68, 105, 80, 176, 75, 107, 127, 151, \n",
        "                        46, 74, 74, 106, 54, 123, 87, 90, 107, 177, 87, 172, 124, 98, \n",
        "                        97, 87, 170, 81, 98, 45, 185, 86, 106, 124, 61, 54, 78, 72, \n",
        "                        87, 101, 56, 159, 89, 125, 124, 81, 118, 81, 88, 49, 52, 112, \n",
        "                        112, 47, 89, 177, 131, 70, 113, 82, 78, 69, 82, 83, 80, 153, \n",
        "                        110, 49, 72, 68, 36, 189, 147, 64, 115, 83, 139, 130, 97, \n",
        "                        79, 156, 127, 45, 79, 150, 121, 172, 127, 47, 114, 81, 87, \n",
        "                        107, 80, 84, 102, 95, 140, 125, 31],\n",
        "              \"chr11\": [70, 187, 95, 99, 29, 39, 20, 118, 102, 68, 118, 142, 75, \n",
        "                        86, 43, 23, 27, 78, 35, 30, 154, 54, 59, 73, 28, 9, 75, 73, \n",
        "                        69, 7, 30, 8, 22, 15, 57, 40, 23, 114, 130, 101, 38, 23, 19, \n",
        "                        11, 10, 85, 21, 60, 174, 136, 21, 67, 44, 20, 12, 110, 92, \n",
        "                        80, 42, 114, 126, 169, 88, 50, 50, 59, 9, 6, 122, 29, 8, \n",
        "                        30, 48, 34, 6, 123, 89, 122, 5, 80, 17, 12, 54, 148, 84, 31, \n",
        "                        9, 90, 67, 75, 106, 71, 83, 71, 47, 107, 72, 26, 35, 12, 32, \n",
        "                        52, 89, 171, 91, 81, 12, 15, 57, 165, 140, 73, 18, 104, 109, \n",
        "                        117, 63, 98, 36, 73, 89, 56, 35, 27, 101, 86, 95, 136, 57, \n",
        "                        71, 34, 17, 29, 18, 122, 64, 54, 26, 183, 202, 187, 68, 70, \n",
        "                        40, 68, 141, 146, 94, 155, 34, 14, 71, 4, 46, 10, 13, 45, \n",
        "                        120, 81, 67, 10, 18, 52, 18, 6, 20, 7, 10, 31, 50, 24, 36, \n",
        "                        98, 23, 95, 87, 136, 133, 84, 75, 69, 95, 68, 71, 67, 15, \n",
        "                        21, 17, 93, 166, 112, 109, 107, 78, 162, 153, 99, 57, 24, \n",
        "                        21, 16, 66, 70, 20, 47, 15, 89, 13, 31, 49, 25, 29, 63, 96, \n",
        "                        95, 102, 60, 66, 50, 44, 16, 19, 79, 67, 116, 61, 13, 18, \n",
        "                        6, 9, 4, 5, 9, 83, 115, 21, 96, 172, 99, 13, 106, 121, 133, \n",
        "                        100, 16, 42, 37, 101, 120, 85, 100, 144, 97, 100, 116, 80, \n",
        "                        26, 17, 13, 83, 15, 37, 97, 66, 79, 82, 61, 53, 104, 49, 25, \n",
        "                        24, 10, 31, 45, 14, 5, 5, 45, 10, 145, 76, 80, 90, 46, 42, \n",
        "                        31, 81, 138, 105, 145, 94, 11, 47, 92, 41, 140, 115, 70, 113, \n",
        "                        59, 89, 78, 55, 85, 20, 68, 68, 84, 108, 17, 114],\n",
        "              \"chr15\": [92, 64, 94, 47, 64, 90, 140, 79, 112, 178, 123, 94, 85, 104, \n",
        "                        72, 286, 117, 78, 189, 50, 125, 157, 70, 134, 64, 92, 81, 83, \n",
        "                        117, 131, 88, 95, 79, 92, 74, 101, 120, 107, 68, 185, 87, \n",
        "                        104, 124, 81, 78, 78, 40, 104, 160, 23, 30, 87, 55, 88, 129, \n",
        "                        113, 53, 70, 121, 43, 90, 48, 118, 171, 28, 67, 43, 58, 31, \n",
        "                        46, 82],\n",
        "              \"chr12\": [86, 103, 84, 88, 134, 152, 105, 113, 87, 138, 113, 175, 85, \n",
        "                        92, 101, 88, 79, 118, 123, 66, 50, 135, 67, 131, 47, 90, 158, \n",
        "                        103, 92, 84, 84, 66, 160, 84, 103, 96, 101, 134, 168, 139, \n",
        "                        43, 135, 117, 100, 137, 106, 128, 112, 49, 146, 258, 166, \n",
        "                        80, 126, 113, 67, 183, 132, 76, 161, 141, 119, 125, 63, 167,\n",
        "                        186, 60, 46, 130, 56, 104, 55, 121, 125, 94, 63, 110, 116, 109, \n",
        "                        103, 81, 114, 183, 148, 107, 40, 131, 149, 128, 109, 99, 97, \n",
        "                        160, 203],\n",
        "              \"chrX\": [63, 77, 54, 74, 38, 81, 82, 21, 119, 146, 86, 34, 46, 93, 57,\n",
        "                       83, 73, 92, 135, 140, 95, 116, 66, 84, 76, 103, 63, 65, 113, \n",
        "                       63, 122, 57, 123, 61, 26, 51, 47, 66, 75, 125, 156, 120, 47, \n",
        "                       57, 91, 101, 54, 68, 71, 92, 92, 88, 61, 84, 72, 69, 48, 33, \n",
        "                       66, 128, 89, 86, 111, 89, 37, 65, 77, 82, 35, 72, 93, 96, 60, 45],\n",
        "              \"chr4\": [40, 56, 29, 58, 54, 70, 90, 76, 92, 68, 79, 87, 109, 45, 99, \n",
        "                       133, 171, 101, 61, 70, 114, 127, 69, 147, 94, 66, 62, 64, \n",
        "                       118, 89, 155, 122, 103, 86, 69, 86, 85, 65, 67, 77, 32, 115, \n",
        "                       80, 111, 118, 157, 137, 138, 151, 74, 159, 65, 74, 103, 46, \n",
        "                       81, 64, 67, 116, 109, 86, 82, 63, 87, 34, 50, 139, 62, 55, \n",
        "                       70, 110, 120, 87, 78, 122, 192, 102, 112, 128, 41, 69, 59, \n",
        "                       106, 131, 77, 115, 256, 135, 65, 101, 148, 108, 138, 146, 93, \n",
        "                       71, 68, 89, 135, 104, 92, 82, 115, 96, 118, 122, 94, 55, 31, \n",
        "                       64, 89, 33, 120, 59, 131, 158, 75, 81, 61, 43, 53, 66, 114, \n",
        "                       64, 89, 149, 88, 86, 120, 86, 114, 162, 82, 60, 44, 110, 82, \n",
        "                       77, 56, 76, 76, 86, 53],\n",
        "              \"chr13\": [47, 64, 20, 39, 37, 107, 106, 45, 78, 149, 86, 122, 122, 31, \n",
        "                        155, 45, 77, 85, 71, 54, 77, 25, 34, 83, 147, 77, 90, 147, \n",
        "                        123, 90, 138, 86, 180, 121, 91, 86, 28, 45, 74, 88, 188, 63, \n",
        "                        97, 85, 115, 32, 59],\n",
        "              \"chr18\": [266, 95, 131, 115, 87, 113, 81, 108, 73, 76, 38, 60],\n",
        "              \"chr14_GL000194v1_random\": [109, 108, 70, 123],\n",
        "              \"chrM\": [21, 29],\n",
        "              \"chrUn_GL000218v1\": [84]}\n",
        "\n",
        "f, axes = plt.subplots(2, 2, figsize=(7, 7), sharex=True)\n",
        "\n",
        "for index, chromosome in enumerate(dictionary):\n",
        "    # create data\n",
        "    dict_data=pd.Series(data=dictionary[chromosome])\n",
        "    if index == 0:\n",
        "      sns.distplot(dict_data, color=\"pink\", ax=axes[0, 0])\n",
        "      a = sns.distplot(dict_data, color=\"pink\", ax=axes[0, 0])\n",
        "    elif index == 1:\n",
        "      sns.distplot(dict_data, color=\"blue\", ax=axes[1, 0])\n",
        "      b = sns.distplot(dict_data, color=\"blue\", ax=axes[1, 0])\n",
        "    elif index == 2:\n",
        "      sns.distplot(dict_data, color=\"green\", ax=axes[0, 1])\n",
        "      c = sns.distplot(dict_data, color=\"green\", ax=axes[0, 1])\n",
        "    else:\n",
        "      sns.distplot(dict_data, color=\"red\", ax=axes[1, 1])\n",
        "      d = sns.distplot(dict_data, color=\"red\", ax=axes[1, 1])\n",
        "\n",
        "plt.savefig(\"a.jpg\")\n",
        "plt.savefig(\"b.jpg\")\n",
        "plt.savefig(\"c.jpg\")\n",
        "plt.savefig(\"d.jpg\")\n",
        "show(\"a.jpg\")\n",
        "show(\"b.jpg\")\n",
        "show(\"c.jpg\")\n",
        "show(\"D.jpg\")"
      ],
      "execution_count": 0,
      "outputs": [
        {
          "output_type": "stream",
          "text": [
            "/usr/local/lib/python3.6/dist-packages/seaborn/distributions.py:288: UserWarning: Data must have variance to compute a kernel density estimate.\n",
            "  warnings.warn(msg, UserWarning)\n",
            "/usr/local/lib/python3.6/dist-packages/seaborn/distributions.py:288: UserWarning: Data must have variance to compute a kernel density estimate.\n",
            "  warnings.warn(msg, UserWarning)\n"
          ],
          "name": "stderr"
        },
        {
          "output_type": "display_data",
          "data": {
            "image/png": "[encoded data removed]",
            "text/plain": [
              "<Figure size 504x504 with 4 Axes>"
            ]
          },
          "metadata": {
            "tags": []
          }
        }
      ]
    },
    {
      "cell_type": "code",
      "metadata": {
        "id": "cywl31hA7hG4",
        "colab_type": "code",
        "outputId": "50e4de60-95bb-4a9c-a766-f1cf5c86c7c6",
        "colab": {
          "base_uri": "https://localhost:8080/",
          "height": 606
        }
      },
      "source": [
        "# 20. exercise:\n",
        "# IV. type of graph - violin plot\n",
        "import seaborn as sn\n",
        "import pandas as pd\n",
        "import matplotlib.pyplot as plt\n",
        "from matplotlib.pyplot import show\n",
        "from pylab import savefig\n",
        "plt.figure(figsize=(22,10))\n",
        "dictionary = {\"chr7\":[120, 84, 167, 84, 55, 65, 59, 111, 69, 104, 110, 79, 62, 65, \n",
        "                      74, 85, 72, 94, 50, 68, 77, 102, 84, 159, 115, 88, 97, 74, 82, \n",
        "                      122, 71, 84, 67, 122, 97, 96, 111, 106, 64, 69, 75, 68, 117, \n",
        "                      73, 72, 233, 242, 96, 127, 85, 133, 107, 69, 123, 91, 116, \n",
        "                      80, 113, 82, 145, 109, 86, 58, 96, 138, 179, 163, 129, 160, \n",
        "                      102, 114, 93, 20, 26, 189, 102, 129, 88, 118, 100, 73, 62, \n",
        "                      41, 89, 66, 139, 162, 134, 120, 5, 57, 151, 131, 188, 56, \n",
        "                      73, 30, 48, 65, 56, 108, 130, 125, 70, 146, 157, 117, 161, \n",
        "                      110, 63, 143, 89, 112, 111, 116, 87, 119, 80, 147, 61, 129, \n",
        "                      84, 193, 80, 133, 40, 58, 131, 123, 45, 57, 110, 85, 107, \n",
        "                      121, 66, 103, 46, 147, 60, 71, 182, 83, 76, 96, 30, 128, 131, \n",
        "                      182, 260, 100, 38, 54, 76, 31, 106, 89, 127, 122, 92, 112, \n",
        "                      87, 114, 127, 69, 78, 106, 115, 53, 69, 21, 29, 67, 76, 64, \n",
        "                      74, 93, 94, 103, 140, 127, 66, 27, 109, 53, 150, 106, 100, \n",
        "                      102, 109, 70, 62, 75, 131, 85, 128, 80, 129, 68, 79, 120, 93, \n",
        "                      57, 80, 81, 137, 49, 49, 94, 138, 35, 206, 133, 93, 40, 145],\n",
        "              \"chr16\": [57, 111, 74, 52, 105, 84, 70, 50, 62, 97, 96, 69, 131, 77, \n",
        "                        23, 105, 71, 130, 110, 130, 89, 63, 58, 51, 113, 79, 107, \n",
        "                        112, 105, 57, 26, 76, 134, 102, 40, 76, 58, 56, 105, 94, \n",
        "                        154, 160, 190, 110, 51, 83, 255, 96, 48, 56, 71, 51, 75, \n",
        "                        148, 75, 117, 75, 65, 66, 171, 29, 99, 49, 88, 47, 83, 63, \n",
        "                        96, 131, 108, 31, 164, 131, 59, 88, 58, 69, 120, 162, 37, \n",
        "                        87, 84, 94, 68, 64, 85, 51, 73, 73, 46, 65, 101, 142, 101, \n",
        "                        186, 104, 98, 128, 113, 103, 58, 91, 115, 42, 76, 211, 112, \n",
        "                        135, 76, 105, 83, 110, 115, 48, 63, 70, 84, 139, 39, 40, \n",
        "                        63, 45, 162, 82, 58, 98, 62, 86, 68, 125, 52, 77, 101, 58, \n",
        "                        87, 70, 57, 213, 62, 85, 64, 167, 92, 84, 65, 58, 77, 92, \n",
        "                        49, 132, 162, 68, 19, 67, 86, 87, 140, 99, 57, 145, 103, 74, \n",
        "                        60, 99, 137, 117, 118, 76, 131, 40, 53, 96, 125, 157, 55, \n",
        "                        109, 82, 74, 36, 98, 90, 58, 80, 124, 131, 112, 83, 121, \n",
        "                        100, 102, 125, 60, 144, 55, 92, 44, 135, 72, 69, 90, 37, \n",
        "                        90, 57, 111, 72, 84, 93, 61, 38, 65, 76, 41, 148, 46, 103, \n",
        "                        82, 38, 102, 29, 77, 64, 53, 63, 67, 82, 75, 96, 95, 68, 88, \n",
        "                        46, 150, 32, 66, 113, 97, 124, 84, 31, 79, 78, 85, 70, 91, \n",
        "                        176, 80, 102, 117, 77, 80, 115, 64, 88, 38, 115, 124, 93, \n",
        "                        123, 154, 43, 80, 98, 51, 104, 43, 45, 98, 99, 75, 57, 80, \n",
        "                        80, 54, 36, 72, 119, 48, 120, 60, 71, 67, 29, 36, 14, 67, \n",
        "                        17, 49, 83, 95, 105, 42, 102, 71, 78, 164, 54, 58, 71, 71, \n",
        "                        68, 24, 103, 74, 48, 69, 74, 60, 58, 116, 64, 125, 64, 69, \n",
        "                        73, 131, 46, 53, 39, 89, 116, 113, 73, 81, 78, 34, 132, 72, \n",
        "                        63, 59, 75, 206, 48, 111, 80, 69, 166, 80, 68, 85, 59, 153, \n",
        "                        99, 74, 63, 107, 115, 93, 49, 81, 46, 54, 102, 105, 156, \n",
        "                        55, 61, 72, 75, 95, 180, 51, 67, 85, 100, 23, 22, 113, 64, \n",
        "                        71, 84, 121, 87, 89, 202, 69, 100, 45, 40, 78, 41, 41, 10, \n",
        "                        52, 54, 102, 65, 23, 32, 71, 78, 86, 105, 131, 61, 76, 86, \n",
        "                        141, 64, 69, 80, 81, 87, 42, 27, 23, 22, 3, 19, 71, 23, 36, \n",
        "                        32, 42, 20, 74, 90, 131, 85, 69, 85, 52, 72, 103, 74, 87, \n",
        "                        217, 83, 63, 92, 134, 77, 103, 50, 42, 11, 79, 73, 100, 72, \n",
        "                        70, 80, 148, 104, 101, 166, 233, 37, 62, 37, 34, 34, 142, \n",
        "                        139, 96, 46, 85, 37, 114, 53, 100, 164, 120, 51, 31, 112, \n",
        "                        155, 73, 167, 86, 79, 66, 55, 74, 66, 51, 78, 75, 116, 93, \n",
        "                        101, 149, 110, 40, 60, 96, 73, 71, 66, 73, 67, 45, 112, 76, \n",
        "                        130, 63, 96, 127, 48, 70, 95, 106, 70, 172, 121, 37, 56, 98, \n",
        "                        83, 66, 138, 85, 104, 42, 32, 74, 31, 93, 135, 41, 69, 62, \n",
        "                        89, 53, 63, 69, 94, 87, 66, 142, 136, 56, 107, 110, 75, 215, \n",
        "                        142, 74, 133, 56, 40, 66, 152, 99, 148, 71, 78, 64, 89, 77, \n",
        "                        119, 115, 31, 13, 29, 56, 100, 121, 60, 52, 109, 98, 90, 62, \n",
        "                        91, 32, 65, 113, 93, 114, 54, 102, 102],\n",
        "              \"chr10\": [81, 68, 67, 123, 69, 79, 65, 92, 136, 93, 57, 58, 38, 103, \n",
        "                        66, 150, 87, 77, 59, 90, 83, 53, 109, 148, 100, 86, 62, 36, \n",
        "                        93, 67, 84, 106, 149, 171, 98, 139, 118, 107, 153, 127, 84, \n",
        "                        66, 51, 126, 92, 90, 40, 68, 105, 80, 176, 75, 107, 127, 151, \n",
        "                        46, 74, 74, 106, 54, 123, 87, 90, 107, 177, 87, 172, 124, 98, \n",
        "                        97, 87, 170, 81, 98, 45, 185, 86, 106, 124, 61, 54, 78, 72, \n",
        "                        87, 101, 56, 159, 89, 125, 124, 81, 118, 81, 88, 49, 52, 112, \n",
        "                        112, 47, 89, 177, 131, 70, 113, 82, 78, 69, 82, 83, 80, 153, \n",
        "                        110, 49, 72, 68, 36, 189, 147, 64, 115, 83, 139, 130, 97, \n",
        "                        79, 156, 127, 45, 79, 150, 121, 172, 127, 47, 114, 81, 87, \n",
        "                        107, 80, 84, 102, 95, 140, 125, 31],\n",
        "              \"chr11\": [70, 187, 95, 99, 29, 39, 20, 118, 102, 68, 118, 142, 75, \n",
        "                        86, 43, 23, 27, 78, 35, 30, 154, 54, 59, 73, 28, 9, 75, 73, \n",
        "                        69, 7, 30, 8, 22, 15, 57, 40, 23, 114, 130, 101, 38, 23, 19, \n",
        "                        11, 10, 85, 21, 60, 174, 136, 21, 67, 44, 20, 12, 110, 92, \n",
        "                        80, 42, 114, 126, 169, 88, 50, 50, 59, 9, 6, 122, 29, 8, \n",
        "                        30, 48, 34, 6, 123, 89, 122, 5, 80, 17, 12, 54, 148, 84, 31, \n",
        "                        9, 90, 67, 75, 106, 71, 83, 71, 47, 107, 72, 26, 35, 12, 32, \n",
        "                        52, 89, 171, 91, 81, 12, 15, 57, 165, 140, 73, 18, 104, 109, \n",
        "                        117, 63, 98, 36, 73, 89, 56, 35, 27, 101, 86, 95, 136, 57, \n",
        "                        71, 34, 17, 29, 18, 122, 64, 54, 26, 183, 202, 187, 68, 70, \n",
        "                        40, 68, 141, 146, 94, 155, 34, 14, 71, 4, 46, 10, 13, 45, \n",
        "                        120, 81, 67, 10, 18, 52, 18, 6, 20, 7, 10, 31, 50, 24, 36, \n",
        "                        98, 23, 95, 87, 136, 133, 84, 75, 69, 95, 68, 71, 67, 15, \n",
        "                        21, 17, 93, 166, 112, 109, 107, 78, 162, 153, 99, 57, 24, \n",
        "                        21, 16, 66, 70, 20, 47, 15, 89, 13, 31, 49, 25, 29, 63, 96, \n",
        "                        95, 102, 60, 66, 50, 44, 16, 19, 79, 67, 116, 61, 13, 18, \n",
        "                        6, 9, 4, 5, 9, 83, 115, 21, 96, 172, 99, 13, 106, 121, 133, \n",
        "                        100, 16, 42, 37, 101, 120, 85, 100, 144, 97, 100, 116, 80, \n",
        "                        26, 17, 13, 83, 15, 37, 97, 66, 79, 82, 61, 53, 104, 49, 25, \n",
        "                        24, 10, 31, 45, 14, 5, 5, 45, 10, 145, 76, 80, 90, 46, 42, \n",
        "                        31, 81, 138, 105, 145, 94, 11, 47, 92, 41, 140, 115, 70, 113, \n",
        "                        59, 89, 78, 55, 85, 20, 68, 68, 84, 108, 17, 114],\n",
        "              \"chr15\": [92, 64, 94, 47, 64, 90, 140, 79, 112, 178, 123, 94, 85, 104, \n",
        "                        72, 286, 117, 78, 189, 50, 125, 157, 70, 134, 64, 92, 81, 83, \n",
        "                        117, 131, 88, 95, 79, 92, 74, 101, 120, 107, 68, 185, 87, \n",
        "                        104, 124, 81, 78, 78, 40, 104, 160, 23, 30, 87, 55, 88, 129, \n",
        "                        113, 53, 70, 121, 43, 90, 48, 118, 171, 28, 67, 43, 58, 31, \n",
        "                        46, 82],\n",
        "              \"chr12\": [86, 103, 84, 88, 134, 152, 105, 113, 87, 138, 113, 175, 85, \n",
        "                        92, 101, 88, 79, 118, 123, 66, 50, 135, 67, 131, 47, 90, 158, \n",
        "                        103, 92, 84, 84, 66, 160, 84, 103, 96, 101, 134, 168, 139, \n",
        "                        43, 135, 117, 100, 137, 106, 128, 112, 49, 146, 258, 166, \n",
        "                        80, 126, 113, 67, 183, 132, 76, 161, 141, 119, 125, 63, 167,\n",
        "                        186, 60, 46, 130, 56, 104, 55, 121, 125, 94, 63, 110, 116, 109, \n",
        "                        103, 81, 114, 183, 148, 107, 40, 131, 149, 128, 109, 99, 97, \n",
        "                        160, 203],\n",
        "              \"chrX\": [63, 77, 54, 74, 38, 81, 82, 21, 119, 146, 86, 34, 46, 93, 57,\n",
        "                       83, 73, 92, 135, 140, 95, 116, 66, 84, 76, 103, 63, 65, 113, \n",
        "                       63, 122, 57, 123, 61, 26, 51, 47, 66, 75, 125, 156, 120, 47, \n",
        "                       57, 91, 101, 54, 68, 71, 92, 92, 88, 61, 84, 72, 69, 48, 33, \n",
        "                       66, 128, 89, 86, 111, 89, 37, 65, 77, 82, 35, 72, 93, 96, 60, 45],\n",
        "              \"chr4\": [40, 56, 29, 58, 54, 70, 90, 76, 92, 68, 79, 87, 109, 45, 99, \n",
        "                       133, 171, 101, 61, 70, 114, 127, 69, 147, 94, 66, 62, 64, \n",
        "                       118, 89, 155, 122, 103, 86, 69, 86, 85, 65, 67, 77, 32, 115, \n",
        "                       80, 111, 118, 157, 137, 138, 151, 74, 159, 65, 74, 103, 46, \n",
        "                       81, 64, 67, 116, 109, 86, 82, 63, 87, 34, 50, 139, 62, 55, \n",
        "                       70, 110, 120, 87, 78, 122, 192, 102, 112, 128, 41, 69, 59, \n",
        "                       106, 131, 77, 115, 256, 135, 65, 101, 148, 108, 138, 146, 93, \n",
        "                       71, 68, 89, 135, 104, 92, 82, 115, 96, 118, 122, 94, 55, 31, \n",
        "                       64, 89, 33, 120, 59, 131, 158, 75, 81, 61, 43, 53, 66, 114, \n",
        "                       64, 89, 149, 88, 86, 120, 86, 114, 162, 82, 60, 44, 110, 82, \n",
        "                       77, 56, 76, 76, 86, 53],\n",
        "              \"chr13\": [47, 64, 20, 39, 37, 107, 106, 45, 78, 149, 86, 122, 122, 31, \n",
        "                        155, 45, 77, 85, 71, 54, 77, 25, 34, 83, 147, 77, 90, 147, \n",
        "                        123, 90, 138, 86, 180, 121, 91, 86, 28, 45, 74, 88, 188, 63, \n",
        "                        97, 85, 115, 32, 59],\n",
        "              \"chr18\": [266, 95, 131, 115, 87, 113, 81, 108, 73, 76, 38, 60],\n",
        "              \"chr14_GL000194v1_random\": [109, 108, 70, 123],\n",
        "              \"chrM\": [21, 29],\n",
        "              \"chrUn_GL000218v1\": [84]}\n",
        "\n",
        "df_list = []\n",
        "\n",
        "for chrom_name, value in dictionary.items():\n",
        "  df_series = pd.Series(value)\n",
        "  df = pd.DataFrame(df_series, columns=[\"intervals\"])\n",
        "  df[\"chrom\"] = chrom_name\n",
        "  df_list.append(df)\n",
        "  final_df = pd.concat(df_list, axis=0)\n",
        "  f = final_df[final_df.chrom == \"chr9\"].transpose()\n",
        "\n",
        "sns.violinplot(x=\"chrom\", y=\"intervals\", data=final_df, cut=5, palette=\"Set1\", width=1.8)\n",
        "\n",
        "violinplotII = sns.violinplot(x=\"chrom\", y=\"intervals\", data=final_df, cut=5, palette=\"Set1\", width=1.8)\n",
        "violinplotII.figure.savefig(\"violinplotII.jpg\")\n",
        "show(\"violinplotII.jpg\")"
      ],
      "execution_count": 0,
      "outputs": [
        {
          "output_type": "display_data",
          "data": {
            "image/png": "[encoded data removed]",
            "text/plain": [
              "<Figure size 1584x720 with 1 Axes>"
            ]
          },
          "metadata": {
            "tags": []
          }
        }
      ]
    },
    {
      "cell_type": "code",
      "metadata": {
        "id": "YZY8FnUhxw82",
        "colab_type": "code",
        "outputId": "3c5ca14f-2fdf-44c6-aab4-d2002be32af6",
        "colab": {
          "base_uri": "https://localhost:8080/",
          "height": 447
        }
      },
      "source": [
        "# 21. exercise:\n",
        "# V. type of graph - boxplot\n",
        "import matplotlib.pyplot as plt\n",
        "import pandas as pd\n",
        "import seaborn as sns\n",
        "from pylab import savefig\n",
        "from matplotlib.pyplot import show\n",
        "plt.figure(figsize=(22,7))\n",
        "df_list = []\n",
        "\n",
        "dictionary = {\"chr7\":[120, 84, 167, 84, 55, 65, 59, 111, 69, 104, 110, 79, 62, 65, \n",
        "                      74, 85, 72, 94, 50, 68, 77, 102, 84, 159, 115, 88, 97, 74, 82, \n",
        "                      122, 71, 84, 67, 122, 97, 96, 111, 106, 64, 69, 75, 68, 117, \n",
        "                      73, 72, 233, 242, 96, 127, 85, 133, 107, 69, 123, 91, 116, \n",
        "                      80, 113, 82, 145, 109, 86, 58, 96, 138, 179, 163, 129, 160, \n",
        "                      102, 114, 93, 20, 26, 189, 102, 129, 88, 118, 100, 73, 62, \n",
        "                      41, 89, 66, 139, 162, 134, 120, 5, 57, 151, 131, 188, 56, \n",
        "                      73, 30, 48, 65, 56, 108, 130, 125, 70, 146, 157, 117, 161, \n",
        "                      110, 63, 143, 89, 112, 111, 116, 87, 119, 80, 147, 61, 129, \n",
        "                      84, 193, 80, 133, 40, 58, 131, 123, 45, 57, 110, 85, 107, \n",
        "                      121, 66, 103, 46, 147, 60, 71, 182, 83, 76, 96, 30, 128, 131, \n",
        "                      182, 260, 100, 38, 54, 76, 31, 106, 89, 127, 122, 92, 112, \n",
        "                      87, 114, 127, 69, 78, 106, 115, 53, 69, 21, 29, 67, 76, 64, \n",
        "                      74, 93, 94, 103, 140, 127, 66, 27, 109, 53, 150, 106, 100, \n",
        "                      102, 109, 70, 62, 75, 131, 85, 128, 80, 129, 68, 79, 120, 93, \n",
        "                      57, 80, 81, 137, 49, 49, 94, 138, 35, 206, 133, 93, 40, 145],\n",
        "              \"chr16\": [57, 111, 74, 52, 105, 84, 70, 50, 62, 97, 96, 69, 131, 77, \n",
        "                        23, 105, 71, 130, 110, 130, 89, 63, 58, 51, 113, 79, 107, \n",
        "                        112, 105, 57, 26, 76, 134, 102, 40, 76, 58, 56, 105, 94, \n",
        "                        154, 160, 190, 110, 51, 83, 255, 96, 48, 56, 71, 51, 75, \n",
        "                        148, 75, 117, 75, 65, 66, 171, 29, 99, 49, 88, 47, 83, 63, \n",
        "                        96, 131, 108, 31, 164, 131, 59, 88, 58, 69, 120, 162, 37, \n",
        "                        87, 84, 94, 68, 64, 85, 51, 73, 73, 46, 65, 101, 142, 101, \n",
        "                        186, 104, 98, 128, 113, 103, 58, 91, 115, 42, 76, 211, 112, \n",
        "                        135, 76, 105, 83, 110, 115, 48, 63, 70, 84, 139, 39, 40, \n",
        "                        63, 45, 162, 82, 58, 98, 62, 86, 68, 125, 52, 77, 101, 58, \n",
        "                        87, 70, 57, 213, 62, 85, 64, 167, 92, 84, 65, 58, 77, 92, \n",
        "                        49, 132, 162, 68, 19, 67, 86, 87, 140, 99, 57, 145, 103, 74, \n",
        "                        60, 99, 137, 117, 118, 76, 131, 40, 53, 96, 125, 157, 55, \n",
        "                        109, 82, 74, 36, 98, 90, 58, 80, 124, 131, 112, 83, 121, \n",
        "                        100, 102, 125, 60, 144, 55, 92, 44, 135, 72, 69, 90, 37, \n",
        "                        90, 57, 111, 72, 84, 93, 61, 38, 65, 76, 41, 148, 46, 103, \n",
        "                        82, 38, 102, 29, 77, 64, 53, 63, 67, 82, 75, 96, 95, 68, 88, \n",
        "                        46, 150, 32, 66, 113, 97, 124, 84, 31, 79, 78, 85, 70, 91, \n",
        "                        176, 80, 102, 117, 77, 80, 115, 64, 88, 38, 115, 124, 93, \n",
        "                        123, 154, 43, 80, 98, 51, 104, 43, 45, 98, 99, 75, 57, 80, \n",
        "                        80, 54, 36, 72, 119, 48, 120, 60, 71, 67, 29, 36, 14, 67, \n",
        "                        17, 49, 83, 95, 105, 42, 102, 71, 78, 164, 54, 58, 71, 71, \n",
        "                        68, 24, 103, 74, 48, 69, 74, 60, 58, 116, 64, 125, 64, 69, \n",
        "                        73, 131, 46, 53, 39, 89, 116, 113, 73, 81, 78, 34, 132, 72, \n",
        "                        63, 59, 75, 206, 48, 111, 80, 69, 166, 80, 68, 85, 59, 153, \n",
        "                        99, 74, 63, 107, 115, 93, 49, 81, 46, 54, 102, 105, 156, \n",
        "                        55, 61, 72, 75, 95, 180, 51, 67, 85, 100, 23, 22, 113, 64, \n",
        "                        71, 84, 121, 87, 89, 202, 69, 100, 45, 40, 78, 41, 41, 10, \n",
        "                        52, 54, 102, 65, 23, 32, 71, 78, 86, 105, 131, 61, 76, 86, \n",
        "                        141, 64, 69, 80, 81, 87, 42, 27, 23, 22, 3, 19, 71, 23, 36, \n",
        "                        32, 42, 20, 74, 90, 131, 85, 69, 85, 52, 72, 103, 74, 87, \n",
        "                        217, 83, 63, 92, 134, 77, 103, 50, 42, 11, 79, 73, 100, 72, \n",
        "                        70, 80, 148, 104, 101, 166, 233, 37, 62, 37, 34, 34, 142, \n",
        "                        139, 96, 46, 85, 37, 114, 53, 100, 164, 120, 51, 31, 112, \n",
        "                        155, 73, 167, 86, 79, 66, 55, 74, 66, 51, 78, 75, 116, 93, \n",
        "                        101, 149, 110, 40, 60, 96, 73, 71, 66, 73, 67, 45, 112, 76, \n",
        "                        130, 63, 96, 127, 48, 70, 95, 106, 70, 172, 121, 37, 56, 98, \n",
        "                        83, 66, 138, 85, 104, 42, 32, 74, 31, 93, 135, 41, 69, 62, \n",
        "                        89, 53, 63, 69, 94, 87, 66, 142, 136, 56, 107, 110, 75, 215, \n",
        "                        142, 74, 133, 56, 40, 66, 152, 99, 148, 71, 78, 64, 89, 77, \n",
        "                        119, 115, 31, 13, 29, 56, 100, 121, 60, 52, 109, 98, 90, 62, \n",
        "                        91, 32, 65, 113, 93, 114, 54, 102, 102],\n",
        "              \"chr10\": [81, 68, 67, 123, 69, 79, 65, 92, 136, 93, 57, 58, 38, 103, \n",
        "                        66, 150, 87, 77, 59, 90, 83, 53, 109, 148, 100, 86, 62, 36, \n",
        "                        93, 67, 84, 106, 149, 171, 98, 139, 118, 107, 153, 127, 84, \n",
        "                        66, 51, 126, 92, 90, 40, 68, 105, 80, 176, 75, 107, 127, 151, \n",
        "                        46, 74, 74, 106, 54, 123, 87, 90, 107, 177, 87, 172, 124, 98, \n",
        "                        97, 87, 170, 81, 98, 45, 185, 86, 106, 124, 61, 54, 78, 72, \n",
        "                        87, 101, 56, 159, 89, 125, 124, 81, 118, 81, 88, 49, 52, 112, \n",
        "                        112, 47, 89, 177, 131, 70, 113, 82, 78, 69, 82, 83, 80, 153, \n",
        "                        110, 49, 72, 68, 36, 189, 147, 64, 115, 83, 139, 130, 97, \n",
        "                        79, 156, 127, 45, 79, 150, 121, 172, 127, 47, 114, 81, 87, \n",
        "                        107, 80, 84, 102, 95, 140, 125, 31],\n",
        "              \"chr11\": [70, 187, 95, 99, 29, 39, 20, 118, 102, 68, 118, 142, 75, \n",
        "                        86, 43, 23, 27, 78, 35, 30, 154, 54, 59, 73, 28, 9, 75, 73, \n",
        "                        69, 7, 30, 8, 22, 15, 57, 40, 23, 114, 130, 101, 38, 23, 19, \n",
        "                        11, 10, 85, 21, 60, 174, 136, 21, 67, 44, 20, 12, 110, 92, \n",
        "                        80, 42, 114, 126, 169, 88, 50, 50, 59, 9, 6, 122, 29, 8, \n",
        "                        30, 48, 34, 6, 123, 89, 122, 5, 80, 17, 12, 54, 148, 84, 31, \n",
        "                        9, 90, 67, 75, 106, 71, 83, 71, 47, 107, 72, 26, 35, 12, 32, \n",
        "                        52, 89, 171, 91, 81, 12, 15, 57, 165, 140, 73, 18, 104, 109, \n",
        "                        117, 63, 98, 36, 73, 89, 56, 35, 27, 101, 86, 95, 136, 57, \n",
        "                        71, 34, 17, 29, 18, 122, 64, 54, 26, 183, 202, 187, 68, 70, \n",
        "                        40, 68, 141, 146, 94, 155, 34, 14, 71, 4, 46, 10, 13, 45, \n",
        "                        120, 81, 67, 10, 18, 52, 18, 6, 20, 7, 10, 31, 50, 24, 36, \n",
        "                        98, 23, 95, 87, 136, 133, 84, 75, 69, 95, 68, 71, 67, 15, \n",
        "                        21, 17, 93, 166, 112, 109, 107, 78, 162, 153, 99, 57, 24, \n",
        "                        21, 16, 66, 70, 20, 47, 15, 89, 13, 31, 49, 25, 29, 63, 96, \n",
        "                        95, 102, 60, 66, 50, 44, 16, 19, 79, 67, 116, 61, 13, 18, \n",
        "                        6, 9, 4, 5, 9, 83, 115, 21, 96, 172, 99, 13, 106, 121, 133, \n",
        "                        100, 16, 42, 37, 101, 120, 85, 100, 144, 97, 100, 116, 80, \n",
        "                        26, 17, 13, 83, 15, 37, 97, 66, 79, 82, 61, 53, 104, 49, 25, \n",
        "                        24, 10, 31, 45, 14, 5, 5, 45, 10, 145, 76, 80, 90, 46, 42, \n",
        "                        31, 81, 138, 105, 145, 94, 11, 47, 92, 41, 140, 115, 70, 113, \n",
        "                        59, 89, 78, 55, 85, 20, 68, 68, 84, 108, 17, 114],\n",
        "              \"chr15\": [92, 64, 94, 47, 64, 90, 140, 79, 112, 178, 123, 94, 85, 104, \n",
        "                        72, 286, 117, 78, 189, 50, 125, 157, 70, 134, 64, 92, 81, 83, \n",
        "                        117, 131, 88, 95, 79, 92, 74, 101, 120, 107, 68, 185, 87, \n",
        "                        104, 124, 81, 78, 78, 40, 104, 160, 23, 30, 87, 55, 88, 129, \n",
        "                        113, 53, 70, 121, 43, 90, 48, 118, 171, 28, 67, 43, 58, 31, \n",
        "                        46, 82],\n",
        "              \"chr12\": [86, 103, 84, 88, 134, 152, 105, 113, 87, 138, 113, 175, 85, \n",
        "                        92, 101, 88, 79, 118, 123, 66, 50, 135, 67, 131, 47, 90, 158, \n",
        "                        103, 92, 84, 84, 66, 160, 84, 103, 96, 101, 134, 168, 139, \n",
        "                        43, 135, 117, 100, 137, 106, 128, 112, 49, 146, 258, 166, \n",
        "                        80, 126, 113, 67, 183, 132, 76, 161, 141, 119, 125, 63, 167,\n",
        "                        186, 60, 46, 130, 56, 104, 55, 121, 125, 94, 63, 110, 116, 109, \n",
        "                        103, 81, 114, 183, 148, 107, 40, 131, 149, 128, 109, 99, 97, \n",
        "                        160, 203],\n",
        "              \"chrX\": [63, 77, 54, 74, 38, 81, 82, 21, 119, 146, 86, 34, 46, 93, 57,\n",
        "                       83, 73, 92, 135, 140, 95, 116, 66, 84, 76, 103, 63, 65, 113, \n",
        "                       63, 122, 57, 123, 61, 26, 51, 47, 66, 75, 125, 156, 120, 47, \n",
        "                       57, 91, 101, 54, 68, 71, 92, 92, 88, 61, 84, 72, 69, 48, 33, \n",
        "                       66, 128, 89, 86, 111, 89, 37, 65, 77, 82, 35, 72, 93, 96, 60, 45],\n",
        "              \"chr4\": [40, 56, 29, 58, 54, 70, 90, 76, 92, 68, 79, 87, 109, 45, 99, \n",
        "                       133, 171, 101, 61, 70, 114, 127, 69, 147, 94, 66, 62, 64, \n",
        "                       118, 89, 155, 122, 103, 86, 69, 86, 85, 65, 67, 77, 32, 115, \n",
        "                       80, 111, 118, 157, 137, 138, 151, 74, 159, 65, 74, 103, 46, \n",
        "                       81, 64, 67, 116, 109, 86, 82, 63, 87, 34, 50, 139, 62, 55, \n",
        "                       70, 110, 120, 87, 78, 122, 192, 102, 112, 128, 41, 69, 59, \n",
        "                       106, 131, 77, 115, 256, 135, 65, 101, 148, 108, 138, 146, 93, \n",
        "                       71, 68, 89, 135, 104, 92, 82, 115, 96, 118, 122, 94, 55, 31, \n",
        "                       64, 89, 33, 120, 59, 131, 158, 75, 81, 61, 43, 53, 66, 114, \n",
        "                       64, 89, 149, 88, 86, 120, 86, 114, 162, 82, 60, 44, 110, 82, \n",
        "                       77, 56, 76, 76, 86, 53],\n",
        "              \"chr13\": [47, 64, 20, 39, 37, 107, 106, 45, 78, 149, 86, 122, 122, 31, \n",
        "                        155, 45, 77, 85, 71, 54, 77, 25, 34, 83, 147, 77, 90, 147, \n",
        "                        123, 90, 138, 86, 180, 121, 91, 86, 28, 45, 74, 88, 188, 63, \n",
        "                        97, 85, 115, 32, 59],\n",
        "              \"chr18\": [266, 95, 131, 115, 87, 113, 81, 108, 73, 76, 38, 60],\n",
        "              \"chr14_GL000194v1_random\": [109, 108, 70, 123],\n",
        "              \"chrM\": [21, 29],\n",
        "              \"chrUn_GL000218v1\": [84]}\n",
        "\n",
        "for chrom_name, value in dictionary.items():\n",
        "  df_series = pd.Series(value)\n",
        "  df = pd.DataFrame(df_series, columns=[\"intervals\"])\n",
        "  df[\"chrom\"] = chrom_name\n",
        "  df_list.append(df)\n",
        "  final_df = pd.concat(df_list, axis=0)\n",
        "\n",
        "# Notice the difference that cat plot can be changed into box type of plot.\n",
        "sns.boxplot(x=\"chrom\", y=\"intervals\", data=final_df, palette=\"Set1\")\n",
        "\n",
        "boxplotII = sns.boxplot(x=\"chrom\", y=\"intervals\", data=final_df, palette=\"Set1\")\n",
        "plt.savefig(\"boxplotII.jpg\")\n",
        "show(\"boxplotII.jpg\")"
      ],
      "execution_count": 0,
      "outputs": [
        {
          "output_type": "display_data",
          "data": {
            "image/png": "[encoded data removed]",
            "text/plain": [
              "<Figure size 1584x504 with 1 Axes>"
            ]
          },
          "metadata": {
            "tags": []
          }
        }
      ]
    },
    {
      "cell_type": "code",
      "metadata": {
        "id": "bDe2SdBey36n",
        "colab_type": "code",
        "outputId": "f6057e40-8125-4be8-fe06-35df59c74bfc",
        "colab": {
          "base_uri": "https://localhost:8080/",
          "height": 594
        }
      },
      "source": [
        "# 22. exercise:\n",
        "# VI. type of graph - catplot \n",
        "import matplotlib.pyplot as plt\n",
        "import pandas as pd\n",
        "import seaborn as sn\n",
        "from pylab import savefig\n",
        "from matplotlib.pyplot import show\n",
        "plt.figure(figsize=(20,5))\n",
        "df_list = []\n",
        "\n",
        "dictionary = {\"chr7\":[120, 84, 167, 84, 55, 65, 59, 111, 69, 104, 110, 79, 62, 65, \n",
        "                      74, 85, 72, 94, 50, 68, 77, 102, 84, 159, 115, 88, 97, 74, 82, \n",
        "                      122, 71, 84, 67, 122, 97, 96, 111, 106, 64, 69, 75, 68, 117, \n",
        "                      73, 72, 233, 242, 96, 127, 85, 133, 107, 69, 123, 91, 116, \n",
        "                      80, 113, 82, 145, 109, 86, 58, 96, 138, 179, 163, 129, 160, \n",
        "                      102, 114, 93, 20, 26, 189, 102, 129, 88, 118, 100, 73, 62, \n",
        "                      41, 89, 66, 139, 162, 134, 120, 5, 57, 151, 131, 188, 56, \n",
        "                      73, 30, 48, 65, 56, 108, 130, 125, 70, 146, 157, 117, 161, \n",
        "                      110, 63, 143, 89, 112, 111, 116, 87, 119, 80, 147, 61, 129, \n",
        "                      84, 193, 80, 133, 40, 58, 131, 123, 45, 57, 110, 85, 107, \n",
        "                      121, 66, 103, 46, 147, 60, 71, 182, 83, 76, 96, 30, 128, 131, \n",
        "                      182, 260, 100, 38, 54, 76, 31, 106, 89, 127, 122, 92, 112, \n",
        "                      87, 114, 127, 69, 78, 106, 115, 53, 69, 21, 29, 67, 76, 64, \n",
        "                      74, 93, 94, 103, 140, 127, 66, 27, 109, 53, 150, 106, 100, \n",
        "                      102, 109, 70, 62, 75, 131, 85, 128, 80, 129, 68, 79, 120, 93, \n",
        "                      57, 80, 81, 137, 49, 49, 94, 138, 35, 206, 133, 93, 40, 145],\n",
        "              \"chr16\": [57, 111, 74, 52, 105, 84, 70, 50, 62, 97, 96, 69, 131, 77, \n",
        "                        23, 105, 71, 130, 110, 130, 89, 63, 58, 51, 113, 79, 107, \n",
        "                        112, 105, 57, 26, 76, 134, 102, 40, 76, 58, 56, 105, 94, \n",
        "                        154, 160, 190, 110, 51, 83, 255, 96, 48, 56, 71, 51, 75, \n",
        "                        148, 75, 117, 75, 65, 66, 171, 29, 99, 49, 88, 47, 83, 63, \n",
        "                        96, 131, 108, 31, 164, 131, 59, 88, 58, 69, 120, 162, 37, \n",
        "                        87, 84, 94, 68, 64, 85, 51, 73, 73, 46, 65, 101, 142, 101, \n",
        "                        186, 104, 98, 128, 113, 103, 58, 91, 115, 42, 76, 211, 112, \n",
        "                        135, 76, 105, 83, 110, 115, 48, 63, 70, 84, 139, 39, 40, \n",
        "                        63, 45, 162, 82, 58, 98, 62, 86, 68, 125, 52, 77, 101, 58, \n",
        "                        87, 70, 57, 213, 62, 85, 64, 167, 92, 84, 65, 58, 77, 92, \n",
        "                        49, 132, 162, 68, 19, 67, 86, 87, 140, 99, 57, 145, 103, 74, \n",
        "                        60, 99, 137, 117, 118, 76, 131, 40, 53, 96, 125, 157, 55, \n",
        "                        109, 82, 74, 36, 98, 90, 58, 80, 124, 131, 112, 83, 121, \n",
        "                        100, 102, 125, 60, 144, 55, 92, 44, 135, 72, 69, 90, 37, \n",
        "                        90, 57, 111, 72, 84, 93, 61, 38, 65, 76, 41, 148, 46, 103, \n",
        "                        82, 38, 102, 29, 77, 64, 53, 63, 67, 82, 75, 96, 95, 68, 88, \n",
        "                        46, 150, 32, 66, 113, 97, 124, 84, 31, 79, 78, 85, 70, 91, \n",
        "                        176, 80, 102, 117, 77, 80, 115, 64, 88, 38, 115, 124, 93, \n",
        "                        123, 154, 43, 80, 98, 51, 104, 43, 45, 98, 99, 75, 57, 80, \n",
        "                        80, 54, 36, 72, 119, 48, 120, 60, 71, 67, 29, 36, 14, 67, \n",
        "                        17, 49, 83, 95, 105, 42, 102, 71, 78, 164, 54, 58, 71, 71, \n",
        "                        68, 24, 103, 74, 48, 69, 74, 60, 58, 116, 64, 125, 64, 69, \n",
        "                        73, 131, 46, 53, 39, 89, 116, 113, 73, 81, 78, 34, 132, 72, \n",
        "                        63, 59, 75, 206, 48, 111, 80, 69, 166, 80, 68, 85, 59, 153, \n",
        "                        99, 74, 63, 107, 115, 93, 49, 81, 46, 54, 102, 105, 156, \n",
        "                        55, 61, 72, 75, 95, 180, 51, 67, 85, 100, 23, 22, 113, 64, \n",
        "                        71, 84, 121, 87, 89, 202, 69, 100, 45, 40, 78, 41, 41, 10, \n",
        "                        52, 54, 102, 65, 23, 32, 71, 78, 86, 105, 131, 61, 76, 86, \n",
        "                        141, 64, 69, 80, 81, 87, 42, 27, 23, 22, 3, 19, 71, 23, 36, \n",
        "                        32, 42, 20, 74, 90, 131, 85, 69, 85, 52, 72, 103, 74, 87, \n",
        "                        217, 83, 63, 92, 134, 77, 103, 50, 42, 11, 79, 73, 100, 72, \n",
        "                        70, 80, 148, 104, 101, 166, 233, 37, 62, 37, 34, 34, 142, \n",
        "                        139, 96, 46, 85, 37, 114, 53, 100, 164, 120, 51, 31, 112, \n",
        "                        155, 73, 167, 86, 79, 66, 55, 74, 66, 51, 78, 75, 116, 93, \n",
        "                        101, 149, 110, 40, 60, 96, 73, 71, 66, 73, 67, 45, 112, 76, \n",
        "                        130, 63, 96, 127, 48, 70, 95, 106, 70, 172, 121, 37, 56, 98, \n",
        "                        83, 66, 138, 85, 104, 42, 32, 74, 31, 93, 135, 41, 69, 62, \n",
        "                        89, 53, 63, 69, 94, 87, 66, 142, 136, 56, 107, 110, 75, 215, \n",
        "                        142, 74, 133, 56, 40, 66, 152, 99, 148, 71, 78, 64, 89, 77, \n",
        "                        119, 115, 31, 13, 29, 56, 100, 121, 60, 52, 109, 98, 90, 62, \n",
        "                        91, 32, 65, 113, 93, 114, 54, 102, 102],\n",
        "              \"chr10\": [81, 68, 67, 123, 69, 79, 65, 92, 136, 93, 57, 58, 38, 103, \n",
        "                        66, 150, 87, 77, 59, 90, 83, 53, 109, 148, 100, 86, 62, 36, \n",
        "                        93, 67, 84, 106, 149, 171, 98, 139, 118, 107, 153, 127, 84, \n",
        "                        66, 51, 126, 92, 90, 40, 68, 105, 80, 176, 75, 107, 127, 151, \n",
        "                        46, 74, 74, 106, 54, 123, 87, 90, 107, 177, 87, 172, 124, 98, \n",
        "                        97, 87, 170, 81, 98, 45, 185, 86, 106, 124, 61, 54, 78, 72, \n",
        "                        87, 101, 56, 159, 89, 125, 124, 81, 118, 81, 88, 49, 52, 112, \n",
        "                        112, 47, 89, 177, 131, 70, 113, 82, 78, 69, 82, 83, 80, 153, \n",
        "                        110, 49, 72, 68, 36, 189, 147, 64, 115, 83, 139, 130, 97, \n",
        "                        79, 156, 127, 45, 79, 150, 121, 172, 127, 47, 114, 81, 87, \n",
        "                        107, 80, 84, 102, 95, 140, 125, 31],\n",
        "              \"chr11\": [70, 187, 95, 99, 29, 39, 20, 118, 102, 68, 118, 142, 75, \n",
        "                        86, 43, 23, 27, 78, 35, 30, 154, 54, 59, 73, 28, 9, 75, 73, \n",
        "                        69, 7, 30, 8, 22, 15, 57, 40, 23, 114, 130, 101, 38, 23, 19, \n",
        "                        11, 10, 85, 21, 60, 174, 136, 21, 67, 44, 20, 12, 110, 92, \n",
        "                        80, 42, 114, 126, 169, 88, 50, 50, 59, 9, 6, 122, 29, 8, \n",
        "                        30, 48, 34, 6, 123, 89, 122, 5, 80, 17, 12, 54, 148, 84, 31, \n",
        "                        9, 90, 67, 75, 106, 71, 83, 71, 47, 107, 72, 26, 35, 12, 32, \n",
        "                        52, 89, 171, 91, 81, 12, 15, 57, 165, 140, 73, 18, 104, 109, \n",
        "                        117, 63, 98, 36, 73, 89, 56, 35, 27, 101, 86, 95, 136, 57, \n",
        "                        71, 34, 17, 29, 18, 122, 64, 54, 26, 183, 202, 187, 68, 70, \n",
        "                        40, 68, 141, 146, 94, 155, 34, 14, 71, 4, 46, 10, 13, 45, \n",
        "                        120, 81, 67, 10, 18, 52, 18, 6, 20, 7, 10, 31, 50, 24, 36, \n",
        "                        98, 23, 95, 87, 136, 133, 84, 75, 69, 95, 68, 71, 67, 15, \n",
        "                        21, 17, 93, 166, 112, 109, 107, 78, 162, 153, 99, 57, 24, \n",
        "                        21, 16, 66, 70, 20, 47, 15, 89, 13, 31, 49, 25, 29, 63, 96, \n",
        "                        95, 102, 60, 66, 50, 44, 16, 19, 79, 67, 116, 61, 13, 18, \n",
        "                        6, 9, 4, 5, 9, 83, 115, 21, 96, 172, 99, 13, 106, 121, 133, \n",
        "                        100, 16, 42, 37, 101, 120, 85, 100, 144, 97, 100, 116, 80, \n",
        "                        26, 17, 13, 83, 15, 37, 97, 66, 79, 82, 61, 53, 104, 49, 25, \n",
        "                        24, 10, 31, 45, 14, 5, 5, 45, 10, 145, 76, 80, 90, 46, 42, \n",
        "                        31, 81, 138, 105, 145, 94, 11, 47, 92, 41, 140, 115, 70, 113, \n",
        "                        59, 89, 78, 55, 85, 20, 68, 68, 84, 108, 17, 114],\n",
        "              \"chr15\": [92, 64, 94, 47, 64, 90, 140, 79, 112, 178, 123, 94, 85, 104, \n",
        "                        72, 286, 117, 78, 189, 50, 125, 157, 70, 134, 64, 92, 81, 83, \n",
        "                        117, 131, 88, 95, 79, 92, 74, 101, 120, 107, 68, 185, 87, \n",
        "                        104, 124, 81, 78, 78, 40, 104, 160, 23, 30, 87, 55, 88, 129, \n",
        "                        113, 53, 70, 121, 43, 90, 48, 118, 171, 28, 67, 43, 58, 31, \n",
        "                        46, 82],\n",
        "              \"chr12\": [86, 103, 84, 88, 134, 152, 105, 113, 87, 138, 113, 175, 85, \n",
        "                        92, 101, 88, 79, 118, 123, 66, 50, 135, 67, 131, 47, 90, 158, \n",
        "                        103, 92, 84, 84, 66, 160, 84, 103, 96, 101, 134, 168, 139, \n",
        "                        43, 135, 117, 100, 137, 106, 128, 112, 49, 146, 258, 166, \n",
        "                        80, 126, 113, 67, 183, 132, 76, 161, 141, 119, 125, 63, 167,\n",
        "                        186, 60, 46, 130, 56, 104, 55, 121, 125, 94, 63, 110, 116, 109, \n",
        "                        103, 81, 114, 183, 148, 107, 40, 131, 149, 128, 109, 99, 97, \n",
        "                        160, 203],\n",
        "              \"chrX\": [63, 77, 54, 74, 38, 81, 82, 21, 119, 146, 86, 34, 46, 93, 57,\n",
        "                       83, 73, 92, 135, 140, 95, 116, 66, 84, 76, 103, 63, 65, 113, \n",
        "                       63, 122, 57, 123, 61, 26, 51, 47, 66, 75, 125, 156, 120, 47, \n",
        "                       57, 91, 101, 54, 68, 71, 92, 92, 88, 61, 84, 72, 69, 48, 33, \n",
        "                       66, 128, 89, 86, 111, 89, 37, 65, 77, 82, 35, 72, 93, 96, 60, 45],\n",
        "              \"chr4\": [40, 56, 29, 58, 54, 70, 90, 76, 92, 68, 79, 87, 109, 45, 99, \n",
        "                       133, 171, 101, 61, 70, 114, 127, 69, 147, 94, 66, 62, 64, \n",
        "                       118, 89, 155, 122, 103, 86, 69, 86, 85, 65, 67, 77, 32, 115, \n",
        "                       80, 111, 118, 157, 137, 138, 151, 74, 159, 65, 74, 103, 46, \n",
        "                       81, 64, 67, 116, 109, 86, 82, 63, 87, 34, 50, 139, 62, 55, \n",
        "                       70, 110, 120, 87, 78, 122, 192, 102, 112, 128, 41, 69, 59, \n",
        "                       106, 131, 77, 115, 256, 135, 65, 101, 148, 108, 138, 146, 93, \n",
        "                       71, 68, 89, 135, 104, 92, 82, 115, 96, 118, 122, 94, 55, 31, \n",
        "                       64, 89, 33, 120, 59, 131, 158, 75, 81, 61, 43, 53, 66, 114, \n",
        "                       64, 89, 149, 88, 86, 120, 86, 114, 162, 82, 60, 44, 110, 82, \n",
        "                       77, 56, 76, 76, 86, 53],\n",
        "              \"chr13\": [47, 64, 20, 39, 37, 107, 106, 45, 78, 149, 86, 122, 122, 31, \n",
        "                        155, 45, 77, 85, 71, 54, 77, 25, 34, 83, 147, 77, 90, 147, \n",
        "                        123, 90, 138, 86, 180, 121, 91, 86, 28, 45, 74, 88, 188, 63, \n",
        "                        97, 85, 115, 32, 59],\n",
        "              \"chr18\": [266, 95, 131, 115, 87, 113, 81, 108, 73, 76, 38, 60],\n",
        "              \"chr14_GL000194v1_random\": [109, 108, 70, 123],\n",
        "              \"chrM\": [21, 29],\n",
        "              \"chrUn_GL000218v1\": [84]}\n",
        "\n",
        "for chrom_name, value in dictionary.items():\n",
        "  # First, create pandas series from the dictionary. Second, create dataframe \n",
        "  # from the pandas Series with columns comprising intervals.\n",
        "  df_series = pd.Series(value)\n",
        "  df = pd.DataFrame(df_series, columns=[\"intervals\"])\n",
        "  # Third, assign label chrom to chrom_name.\n",
        "  df[\"chrom\"] = chrom_name\n",
        "  # Append the dataframe to the so far empty df list.\n",
        "  df_list.append(df)\n",
        "  # Concatenate pandas objects along x axis.\n",
        "  final_df = pd.concat(df_list, axis=0)\n",
        "\n",
        "# Your data is the final df. Height is height of each facet in inches, aspect \n",
        "# is aspect ratio of each facet, so that aspect * height gives the width of \n",
        "# each facet in inches.\n",
        "sns.catplot(x=\"chrom\", y=\"intervals\", data=final_df, palette=\"Set1\", height=4, \n",
        "            aspect=5)\n",
        "\n",
        "# To save the plot, you need to create a variable, save this variable as a jpg \n",
        "# file, and to visualize it again, use function show and the jpg file.\n",
        "catplotII = sns.catplot(x=\"chrom\", y=\"intervals\", data=final_df, palette=\"Set1\", \n",
        "                       height=4, aspect=5)\n",
        "catplotII.savefig(\"catplotII.jpg\")\n",
        "show(\"catplotII.jpg\")"
      ],
      "execution_count": 0,
      "outputs": [
        {
          "output_type": "display_data",
          "data": {
            "text/plain": [
              "<Figure size 1440x360 with 0 Axes>"
            ]
          },
          "metadata": {
            "tags": []
          }
        },
        {
          "output_type": "display_data",
          "data": {
            "image/png": "[encoded data removed]",
            "text/plain": [
              "<Figure size 1440x288 with 1 Axes>"
            ]
          },
          "metadata": {
            "tags": []
          }
        },
        {
          "output_type": "display_data",
          "data": {
            "image/png": "[encoded data removed]",
            "text/plain": [
              "<Figure size 1440x288 with 1 Axes>"
            ]
          },
          "metadata": {
            "tags": []
          }
        }
      ]
    },
    {
      "cell_type": "code",
      "metadata": {
        "id": "kQPIRBEdD3qK",
        "colab_type": "code",
        "colab": {
          "base_uri": "https://localhost:8080/",
          "height": 450
        },
        "outputId": "8a53e20c-01a1-471a-bf9e-2a532fd93a39"
      },
      "source": [
        "# 23. exercise:\n",
        "# VII. type of graph - catplot type box\n",
        "import matplotlib.pyplot as plt\n",
        "import pandas as pd\n",
        "import seaborn as sns\n",
        "from pylab import savefig\n",
        "from matplotlib.pyplot import show\n",
        "plt.figure(figsize=(30,10))\n",
        "\n",
        "dictionary = {\"chr7\":[120, 84, 167, 84, 55, 65, 59, 111, 69, 104, 110, 79, 62, 65, \n",
        "                      74, 85, 72, 94, 50, 68, 77, 102, 84, 159, 115, 88, 97, 74, 82, \n",
        "                      122, 71, 84, 67, 122, 97, 96, 111, 106, 64, 69, 75, 68, 117, \n",
        "                      73, 72, 233, 242, 96, 127, 85, 133, 107, 69, 123, 91, 116, \n",
        "                      80, 113, 82, 145, 109, 86, 58, 96, 138, 179, 163, 129, 160, \n",
        "                      102, 114, 93, 20, 26, 189, 102, 129, 88, 118, 100, 73, 62, \n",
        "                      41, 89, 66, 139, 162, 134, 120, 5, 57, 151, 131, 188, 56, \n",
        "                      73, 30, 48, 65, 56, 108, 130, 125, 70, 146, 157, 117, 161, \n",
        "                      110, 63, 143, 89, 112, 111, 116, 87, 119, 80, 147, 61, 129, \n",
        "                      84, 193, 80, 133, 40, 58, 131, 123, 45, 57, 110, 85, 107, \n",
        "                      121, 66, 103, 46, 147, 60, 71, 182, 83, 76, 96, 30, 128, 131, \n",
        "                      182, 260, 100, 38, 54, 76, 31, 106, 89, 127, 122, 92, 112, \n",
        "                      87, 114, 127, 69, 78, 106, 115, 53, 69, 21, 29, 67, 76, 64, \n",
        "                      74, 93, 94, 103, 140, 127, 66, 27, 109, 53, 150, 106, 100, \n",
        "                      102, 109, 70, 62, 75, 131, 85, 128, 80, 129, 68, 79, 120, 93, \n",
        "                      57, 80, 81, 137, 49, 49, 94, 138, 35, 206, 133, 93, 40, 145],\n",
        "              \"chr16\": [57, 111, 74, 52, 105, 84, 70, 50, 62, 97, 96, 69, 131, 77, \n",
        "                        23, 105, 71, 130, 110, 130, 89, 63, 58, 51, 113, 79, 107, \n",
        "                        112, 105, 57, 26, 76, 134, 102, 40, 76, 58, 56, 105, 94, \n",
        "                        154, 160, 190, 110, 51, 83, 255, 96, 48, 56, 71, 51, 75, \n",
        "                        148, 75, 117, 75, 65, 66, 171, 29, 99, 49, 88, 47, 83, 63, \n",
        "                        96, 131, 108, 31, 164, 131, 59, 88, 58, 69, 120, 162, 37, \n",
        "                        87, 84, 94, 68, 64, 85, 51, 73, 73, 46, 65, 101, 142, 101, \n",
        "                        186, 104, 98, 128, 113, 103, 58, 91, 115, 42, 76, 211, 112, \n",
        "                        135, 76, 105, 83, 110, 115, 48, 63, 70, 84, 139, 39, 40, \n",
        "                        63, 45, 162, 82, 58, 98, 62, 86, 68, 125, 52, 77, 101, 58, \n",
        "                        87, 70, 57, 213, 62, 85, 64, 167, 92, 84, 65, 58, 77, 92, \n",
        "                        49, 132, 162, 68, 19, 67, 86, 87, 140, 99, 57, 145, 103, 74, \n",
        "                        60, 99, 137, 117, 118, 76, 131, 40, 53, 96, 125, 157, 55, \n",
        "                        109, 82, 74, 36, 98, 90, 58, 80, 124, 131, 112, 83, 121, \n",
        "                        100, 102, 125, 60, 144, 55, 92, 44, 135, 72, 69, 90, 37, \n",
        "                        90, 57, 111, 72, 84, 93, 61, 38, 65, 76, 41, 148, 46, 103, \n",
        "                        82, 38, 102, 29, 77, 64, 53, 63, 67, 82, 75, 96, 95, 68, 88, \n",
        "                        46, 150, 32, 66, 113, 97, 124, 84, 31, 79, 78, 85, 70, 91, \n",
        "                        176, 80, 102, 117, 77, 80, 115, 64, 88, 38, 115, 124, 93, \n",
        "                        123, 154, 43, 80, 98, 51, 104, 43, 45, 98, 99, 75, 57, 80, \n",
        "                        80, 54, 36, 72, 119, 48, 120, 60, 71, 67, 29, 36, 14, 67, \n",
        "                        17, 49, 83, 95, 105, 42, 102, 71, 78, 164, 54, 58, 71, 71, \n",
        "                        68, 24, 103, 74, 48, 69, 74, 60, 58, 116, 64, 125, 64, 69, \n",
        "                        73, 131, 46, 53, 39, 89, 116, 113, 73, 81, 78, 34, 132, 72, \n",
        "                        63, 59, 75, 206, 48, 111, 80, 69, 166, 80, 68, 85, 59, 153, \n",
        "                        99, 74, 63, 107, 115, 93, 49, 81, 46, 54, 102, 105, 156, \n",
        "                        55, 61, 72, 75, 95, 180, 51, 67, 85, 100, 23, 22, 113, 64, \n",
        "                        71, 84, 121, 87, 89, 202, 69, 100, 45, 40, 78, 41, 41, 10, \n",
        "                        52, 54, 102, 65, 23, 32, 71, 78, 86, 105, 131, 61, 76, 86, \n",
        "                        141, 64, 69, 80, 81, 87, 42, 27, 23, 22, 3, 19, 71, 23, 36, \n",
        "                        32, 42, 20, 74, 90, 131, 85, 69, 85, 52, 72, 103, 74, 87, \n",
        "                        217, 83, 63, 92, 134, 77, 103, 50, 42, 11, 79, 73, 100, 72, \n",
        "                        70, 80, 148, 104, 101, 166, 233, 37, 62, 37, 34, 34, 142, \n",
        "                        139, 96, 46, 85, 37, 114, 53, 100, 164, 120, 51, 31, 112, \n",
        "                        155, 73, 167, 86, 79, 66, 55, 74, 66, 51, 78, 75, 116, 93, \n",
        "                        101, 149, 110, 40, 60, 96, 73, 71, 66, 73, 67, 45, 112, 76, \n",
        "                        130, 63, 96, 127, 48, 70, 95, 106, 70, 172, 121, 37, 56, 98, \n",
        "                        83, 66, 138, 85, 104, 42, 32, 74, 31, 93, 135, 41, 69, 62, \n",
        "                        89, 53, 63, 69, 94, 87, 66, 142, 136, 56, 107, 110, 75, 215, \n",
        "                        142, 74, 133, 56, 40, 66, 152, 99, 148, 71, 78, 64, 89, 77, \n",
        "                        119, 115, 31, 13, 29, 56, 100, 121, 60, 52, 109, 98, 90, 62, \n",
        "                        91, 32, 65, 113, 93, 114, 54, 102, 102],\n",
        "              \"chr10\": [81, 68, 67, 123, 69, 79, 65, 92, 136, 93, 57, 58, 38, 103, \n",
        "                        66, 150, 87, 77, 59, 90, 83, 53, 109, 148, 100, 86, 62, 36, \n",
        "                        93, 67, 84, 106, 149, 171, 98, 139, 118, 107, 153, 127, 84, \n",
        "                        66, 51, 126, 92, 90, 40, 68, 105, 80, 176, 75, 107, 127, 151, \n",
        "                        46, 74, 74, 106, 54, 123, 87, 90, 107, 177, 87, 172, 124, 98, \n",
        "                        97, 87, 170, 81, 98, 45, 185, 86, 106, 124, 61, 54, 78, 72, \n",
        "                        87, 101, 56, 159, 89, 125, 124, 81, 118, 81, 88, 49, 52, 112, \n",
        "                        112, 47, 89, 177, 131, 70, 113, 82, 78, 69, 82, 83, 80, 153, \n",
        "                        110, 49, 72, 68, 36, 189, 147, 64, 115, 83, 139, 130, 97, \n",
        "                        79, 156, 127, 45, 79, 150, 121, 172, 127, 47, 114, 81, 87, \n",
        "                        107, 80, 84, 102, 95, 140, 125, 31],\n",
        "              \"chr11\": [70, 187, 95, 99, 29, 39, 20, 118, 102, 68, 118, 142, 75, \n",
        "                        86, 43, 23, 27, 78, 35, 30, 154, 54, 59, 73, 28, 9, 75, 73, \n",
        "                        69, 7, 30, 8, 22, 15, 57, 40, 23, 114, 130, 101, 38, 23, 19, \n",
        "                        11, 10, 85, 21, 60, 174, 136, 21, 67, 44, 20, 12, 110, 92, \n",
        "                        80, 42, 114, 126, 169, 88, 50, 50, 59, 9, 6, 122, 29, 8, \n",
        "                        30, 48, 34, 6, 123, 89, 122, 5, 80, 17, 12, 54, 148, 84, 31, \n",
        "                        9, 90, 67, 75, 106, 71, 83, 71, 47, 107, 72, 26, 35, 12, 32, \n",
        "                        52, 89, 171, 91, 81, 12, 15, 57, 165, 140, 73, 18, 104, 109, \n",
        "                        117, 63, 98, 36, 73, 89, 56, 35, 27, 101, 86, 95, 136, 57, \n",
        "                        71, 34, 17, 29, 18, 122, 64, 54, 26, 183, 202, 187, 68, 70, \n",
        "                        40, 68, 141, 146, 94, 155, 34, 14, 71, 4, 46, 10, 13, 45, \n",
        "                        120, 81, 67, 10, 18, 52, 18, 6, 20, 7, 10, 31, 50, 24, 36, \n",
        "                        98, 23, 95, 87, 136, 133, 84, 75, 69, 95, 68, 71, 67, 15, \n",
        "                        21, 17, 93, 166, 112, 109, 107, 78, 162, 153, 99, 57, 24, \n",
        "                        21, 16, 66, 70, 20, 47, 15, 89, 13, 31, 49, 25, 29, 63, 96, \n",
        "                        95, 102, 60, 66, 50, 44, 16, 19, 79, 67, 116, 61, 13, 18, \n",
        "                        6, 9, 4, 5, 9, 83, 115, 21, 96, 172, 99, 13, 106, 121, 133, \n",
        "                        100, 16, 42, 37, 101, 120, 85, 100, 144, 97, 100, 116, 80, \n",
        "                        26, 17, 13, 83, 15, 37, 97, 66, 79, 82, 61, 53, 104, 49, 25, \n",
        "                        24, 10, 31, 45, 14, 5, 5, 45, 10, 145, 76, 80, 90, 46, 42, \n",
        "                        31, 81, 138, 105, 145, 94, 11, 47, 92, 41, 140, 115, 70, 113, \n",
        "                        59, 89, 78, 55, 85, 20, 68, 68, 84, 108, 17, 114],\n",
        "              \"chr15\": [92, 64, 94, 47, 64, 90, 140, 79, 112, 178, 123, 94, 85, 104, \n",
        "                        72, 286, 117, 78, 189, 50, 125, 157, 70, 134, 64, 92, 81, 83, \n",
        "                        117, 131, 88, 95, 79, 92, 74, 101, 120, 107, 68, 185, 87, \n",
        "                        104, 124, 81, 78, 78, 40, 104, 160, 23, 30, 87, 55, 88, 129, \n",
        "                        113, 53, 70, 121, 43, 90, 48, 118, 171, 28, 67, 43, 58, 31, \n",
        "                        46, 82],\n",
        "              \"chr12\": [86, 103, 84, 88, 134, 152, 105, 113, 87, 138, 113, 175, 85, \n",
        "                        92, 101, 88, 79, 118, 123, 66, 50, 135, 67, 131, 47, 90, 158, \n",
        "                        103, 92, 84, 84, 66, 160, 84, 103, 96, 101, 134, 168, 139, \n",
        "                        43, 135, 117, 100, 137, 106, 128, 112, 49, 146, 258, 166, \n",
        "                        80, 126, 113, 67, 183, 132, 76, 161, 141, 119, 125, 63, 167,\n",
        "                        186, 60, 46, 130, 56, 104, 55, 121, 125, 94, 63, 110, 116, 109, \n",
        "                        103, 81, 114, 183, 148, 107, 40, 131, 149, 128, 109, 99, 97, \n",
        "                        160, 203],\n",
        "              \"chrX\": [63, 77, 54, 74, 38, 81, 82, 21, 119, 146, 86, 34, 46, 93, 57,\n",
        "                       83, 73, 92, 135, 140, 95, 116, 66, 84, 76, 103, 63, 65, 113, \n",
        "                       63, 122, 57, 123, 61, 26, 51, 47, 66, 75, 125, 156, 120, 47, \n",
        "                       57, 91, 101, 54, 68, 71, 92, 92, 88, 61, 84, 72, 69, 48, 33, \n",
        "                       66, 128, 89, 86, 111, 89, 37, 65, 77, 82, 35, 72, 93, 96, 60, 45],\n",
        "              \"chr4\": [40, 56, 29, 58, 54, 70, 90, 76, 92, 68, 79, 87, 109, 45, 99, \n",
        "                       133, 171, 101, 61, 70, 114, 127, 69, 147, 94, 66, 62, 64, \n",
        "                       118, 89, 155, 122, 103, 86, 69, 86, 85, 65, 67, 77, 32, 115, \n",
        "                       80, 111, 118, 157, 137, 138, 151, 74, 159, 65, 74, 103, 46, \n",
        "                       81, 64, 67, 116, 109, 86, 82, 63, 87, 34, 50, 139, 62, 55, \n",
        "                       70, 110, 120, 87, 78, 122, 192, 102, 112, 128, 41, 69, 59, \n",
        "                       106, 131, 77, 115, 256, 135, 65, 101, 148, 108, 138, 146, 93, \n",
        "                       71, 68, 89, 135, 104, 92, 82, 115, 96, 118, 122, 94, 55, 31, \n",
        "                       64, 89, 33, 120, 59, 131, 158, 75, 81, 61, 43, 53, 66, 114, \n",
        "                       64, 89, 149, 88, 86, 120, 86, 114, 162, 82, 60, 44, 110, 82, \n",
        "                       77, 56, 76, 76, 86, 53],\n",
        "              \"chr13\": [47, 64, 20, 39, 37, 107, 106, 45, 78, 149, 86, 122, 122, 31, \n",
        "                        155, 45, 77, 85, 71, 54, 77, 25, 34, 83, 147, 77, 90, 147, \n",
        "                        123, 90, 138, 86, 180, 121, 91, 86, 28, 45, 74, 88, 188, 63, \n",
        "                        97, 85, 115, 32, 59],\n",
        "              \"chr18\": [266, 95, 131, 115, 87, 113, 81, 108, 73, 76, 38, 60],\n",
        "              \"chr14_GL000194v1_random\": [109, 108, 70, 123],\n",
        "              \"chrM\": [21, 29],\n",
        "              \"chrUn_GL000218v1\": [84]}\n",
        "\n",
        "df_list = []\n",
        "\n",
        "for chrom_name, value in dictionary.items():\n",
        "  df_series = pd.Series(value)\n",
        "  df = pd.DataFrame(df_series, columns=[\"intervals\"])\n",
        "  df[\"chrom\"] = chrom_name  \n",
        "  df_list.append(df)\n",
        "  final_df = pd.concat(df_list, axis=0)\n",
        "\n",
        "# Notice the difference that cat plot can be changed into box type of plot.\n",
        "sns.catplot(x=\"chrom\", y=\"intervals\", data=final_df, palette=\"Set1\", kind=\"box\", \n",
        "            height=3, aspect=5)\n",
        "\n",
        "catplotboxII = sns.catplot(x=\"chrom\", y=\"intervals\", data=final_df, palette=\"Set1\", kind=\"box\", \n",
        "                      height=3, aspect=5)\n",
        "catplotboxII.savefig(\"catplotboxII.jpg\")\n",
        "show(\"catplotboxII.jpg\")"
      ],
      "execution_count": 24,
      "outputs": [
        {
          "output_type": "display_data",
          "data": {
            "text/plain": [
              "<Figure size 2160x720 with 0 Axes>"
            ]
          },
          "metadata": {
            "tags": []
          }
        },
        {
          "output_type": "display_data",
          "data": {
            "image/png": "[encoded data removed]",
            "text/plain": [
              "<Figure size 1080x216 with 1 Axes>"
            ]
          },
          "metadata": {
            "tags": []
          }
        },
        {
          "output_type": "display_data",
          "data": {
            "image/png": "[encoded data removed]",
            "text/plain": [
              "<Figure size 1080x216 with 1 Axes>"
            ]
          },
          "metadata": {
            "tags": []
          }
        }
      ]
    },
    {
      "cell_type": "code",
      "metadata": {
        "id": "OX1fKCIIFFZt",
        "colab_type": "code",
        "colab": {
          "base_uri": "https://localhost:8080/",
          "height": 627
        },
        "outputId": "ce874711-6913-467d-d3cc-ae8d690e407d"
      },
      "source": [
        "# 24. exercise:\n",
        "# VIII. type of graph - swarmplot \n",
        "from matplotlib.pyplot import show\n",
        "from pylab import savefig\n",
        "import seaborn as sn\n",
        "import pandas as pd\n",
        "import matplotlib.pyplot as plt\n",
        "plt.figure(figsize=(25,10))\n",
        "\n",
        "dictionary = {\"chr7\":[120, 84, 167, 84, 55, 65, 59, 111, 69, 104, 110, 79, 62, 65, \n",
        "                      74, 85, 72, 94, 50, 68, 77, 102, 84, 159, 115, 88, 97, 74, 82, \n",
        "                      122, 71, 84, 67, 122, 97, 96, 111, 106, 64, 69, 75, 68, 117, \n",
        "                      73, 72, 233, 242, 96, 127, 85, 133, 107, 69, 123, 91, 116, \n",
        "                      80, 113, 82, 145, 109, 86, 58, 96, 138, 179, 163, 129, 160, \n",
        "                      102, 114, 93, 20, 26, 189, 102, 129, 88, 118, 100, 73, 62, \n",
        "                      41, 89, 66, 139, 162, 134, 120, 5, 57, 151, 131, 188, 56, \n",
        "                      73, 30, 48, 65, 56, 108, 130, 125, 70, 146, 157, 117, 161, \n",
        "                      110, 63, 143, 89, 112, 111, 116, 87, 119, 80, 147, 61, 129, \n",
        "                      84, 193, 80, 133, 40, 58, 131, 123, 45, 57, 110, 85, 107, \n",
        "                      121, 66, 103, 46, 147, 60, 71, 182, 83, 76, 96, 30, 128, 131, \n",
        "                      182, 260, 100, 38, 54, 76, 31, 106, 89, 127, 122, 92, 112, \n",
        "                      87, 114, 127, 69, 78, 106, 115, 53, 69, 21, 29, 67, 76, 64, \n",
        "                      74, 93, 94, 103, 140, 127, 66, 27, 109, 53, 150, 106, 100, \n",
        "                      102, 109, 70, 62, 75, 131, 85, 128, 80, 129, 68, 79, 120, 93, \n",
        "                      57, 80, 81, 137, 49, 49, 94, 138, 35, 206, 133, 93, 40, 145],\n",
        "              \"chr16\": [57, 111, 74, 52, 105, 84, 70, 50, 62, 97, 96, 69, 131, 77, \n",
        "                        23, 105, 71, 130, 110, 130, 89, 63, 58, 51, 113, 79, 107, \n",
        "                        112, 105, 57, 26, 76, 134, 102, 40, 76, 58, 56, 105, 94, \n",
        "                        154, 160, 190, 110, 51, 83, 255, 96, 48, 56, 71, 51, 75, \n",
        "                        148, 75, 117, 75, 65, 66, 171, 29, 99, 49, 88, 47, 83, 63, \n",
        "                        96, 131, 108, 31, 164, 131, 59, 88, 58, 69, 120, 162, 37, \n",
        "                        87, 84, 94, 68, 64, 85, 51, 73, 73, 46, 65, 101, 142, 101, \n",
        "                        186, 104, 98, 128, 113, 103, 58, 91, 115, 42, 76, 211, 112, \n",
        "                        135, 76, 105, 83, 110, 115, 48, 63, 70, 84, 139, 39, 40, \n",
        "                        63, 45, 162, 82, 58, 98, 62, 86, 68, 125, 52, 77, 101, 58, \n",
        "                        87, 70, 57, 213, 62, 85, 64, 167, 92, 84, 65, 58, 77, 92, \n",
        "                        49, 132, 162, 68, 19, 67, 86, 87, 140, 99, 57, 145, 103, 74, \n",
        "                        60, 99, 137, 117, 118, 76, 131, 40, 53, 96, 125, 157, 55, \n",
        "                        109, 82, 74, 36, 98, 90, 58, 80, 124, 131, 112, 83, 121, \n",
        "                        100, 102, 125, 60, 144, 55, 92, 44, 135, 72, 69, 90, 37, \n",
        "                        90, 57, 111, 72, 84, 93, 61, 38, 65, 76, 41, 148, 46, 103, \n",
        "                        82, 38, 102, 29, 77, 64, 53, 63, 67, 82, 75, 96, 95, 68, 88, \n",
        "                        46, 150, 32, 66, 113, 97, 124, 84, 31, 79, 78, 85, 70, 91, \n",
        "                        176, 80, 102, 117, 77, 80, 115, 64, 88, 38, 115, 124, 93, \n",
        "                        123, 154, 43, 80, 98, 51, 104, 43, 45, 98, 99, 75, 57, 80, \n",
        "                        80, 54, 36, 72, 119, 48, 120, 60, 71, 67, 29, 36, 14, 67, \n",
        "                        17, 49, 83, 95, 105, 42, 102, 71, 78, 164, 54, 58, 71, 71, \n",
        "                        68, 24, 103, 74, 48, 69, 74, 60, 58, 116, 64, 125, 64, 69, \n",
        "                        73, 131, 46, 53, 39, 89, 116, 113, 73, 81, 78, 34, 132, 72, \n",
        "                        63, 59, 75, 206, 48, 111, 80, 69, 166, 80, 68, 85, 59, 153, \n",
        "                        99, 74, 63, 107, 115, 93, 49, 81, 46, 54, 102, 105, 156, \n",
        "                        55, 61, 72, 75, 95, 180, 51, 67, 85, 100, 23, 22, 113, 64, \n",
        "                        71, 84, 121, 87, 89, 202, 69, 100, 45, 40, 78, 41, 41, 10, \n",
        "                        52, 54, 102, 65, 23, 32, 71, 78, 86, 105, 131, 61, 76, 86, \n",
        "                        141, 64, 69, 80, 81, 87, 42, 27, 23, 22, 3, 19, 71, 23, 36, \n",
        "                        32, 42, 20, 74, 90, 131, 85, 69, 85, 52, 72, 103, 74, 87, \n",
        "                        217, 83, 63, 92, 134, 77, 103, 50, 42, 11, 79, 73, 100, 72, \n",
        "                        70, 80, 148, 104, 101, 166, 233, 37, 62, 37, 34, 34, 142, \n",
        "                        139, 96, 46, 85, 37, 114, 53, 100, 164, 120, 51, 31, 112, \n",
        "                        155, 73, 167, 86, 79, 66, 55, 74, 66, 51, 78, 75, 116, 93, \n",
        "                        101, 149, 110, 40, 60, 96, 73, 71, 66, 73, 67, 45, 112, 76, \n",
        "                        130, 63, 96, 127, 48, 70, 95, 106, 70, 172, 121, 37, 56, 98, \n",
        "                        83, 66, 138, 85, 104, 42, 32, 74, 31, 93, 135, 41, 69, 62, \n",
        "                        89, 53, 63, 69, 94, 87, 66, 142, 136, 56, 107, 110, 75, 215, \n",
        "                        142, 74, 133, 56, 40, 66, 152, 99, 148, 71, 78, 64, 89, 77, \n",
        "                        119, 115, 31, 13, 29, 56, 100, 121, 60, 52, 109, 98, 90, 62, \n",
        "                        91, 32, 65, 113, 93, 114, 54, 102, 102],\n",
        "              \"chr10\": [81, 68, 67, 123, 69, 79, 65, 92, 136, 93, 57, 58, 38, 103, \n",
        "                        66, 150, 87, 77, 59, 90, 83, 53, 109, 148, 100, 86, 62, 36, \n",
        "                        93, 67, 84, 106, 149, 171, 98, 139, 118, 107, 153, 127, 84, \n",
        "                        66, 51, 126, 92, 90, 40, 68, 105, 80, 176, 75, 107, 127, 151, \n",
        "                        46, 74, 74, 106, 54, 123, 87, 90, 107, 177, 87, 172, 124, 98, \n",
        "                        97, 87, 170, 81, 98, 45, 185, 86, 106, 124, 61, 54, 78, 72, \n",
        "                        87, 101, 56, 159, 89, 125, 124, 81, 118, 81, 88, 49, 52, 112, \n",
        "                        112, 47, 89, 177, 131, 70, 113, 82, 78, 69, 82, 83, 80, 153, \n",
        "                        110, 49, 72, 68, 36, 189, 147, 64, 115, 83, 139, 130, 97, \n",
        "                        79, 156, 127, 45, 79, 150, 121, 172, 127, 47, 114, 81, 87, \n",
        "                        107, 80, 84, 102, 95, 140, 125, 31],\n",
        "              \"chr11\": [70, 187, 95, 99, 29, 39, 20, 118, 102, 68, 118, 142, 75, \n",
        "                        86, 43, 23, 27, 78, 35, 30, 154, 54, 59, 73, 28, 9, 75, 73, \n",
        "                        69, 7, 30, 8, 22, 15, 57, 40, 23, 114, 130, 101, 38, 23, 19, \n",
        "                        11, 10, 85, 21, 60, 174, 136, 21, 67, 44, 20, 12, 110, 92, \n",
        "                        80, 42, 114, 126, 169, 88, 50, 50, 59, 9, 6, 122, 29, 8, \n",
        "                        30, 48, 34, 6, 123, 89, 122, 5, 80, 17, 12, 54, 148, 84, 31, \n",
        "                        9, 90, 67, 75, 106, 71, 83, 71, 47, 107, 72, 26, 35, 12, 32, \n",
        "                        52, 89, 171, 91, 81, 12, 15, 57, 165, 140, 73, 18, 104, 109, \n",
        "                        117, 63, 98, 36, 73, 89, 56, 35, 27, 101, 86, 95, 136, 57, \n",
        "                        71, 34, 17, 29, 18, 122, 64, 54, 26, 183, 202, 187, 68, 70, \n",
        "                        40, 68, 141, 146, 94, 155, 34, 14, 71, 4, 46, 10, 13, 45, \n",
        "                        120, 81, 67, 10, 18, 52, 18, 6, 20, 7, 10, 31, 50, 24, 36, \n",
        "                        98, 23, 95, 87, 136, 133, 84, 75, 69, 95, 68, 71, 67, 15, \n",
        "                        21, 17, 93, 166, 112, 109, 107, 78, 162, 153, 99, 57, 24, \n",
        "                        21, 16, 66, 70, 20, 47, 15, 89, 13, 31, 49, 25, 29, 63, 96, \n",
        "                        95, 102, 60, 66, 50, 44, 16, 19, 79, 67, 116, 61, 13, 18, \n",
        "                        6, 9, 4, 5, 9, 83, 115, 21, 96, 172, 99, 13, 106, 121, 133, \n",
        "                        100, 16, 42, 37, 101, 120, 85, 100, 144, 97, 100, 116, 80, \n",
        "                        26, 17, 13, 83, 15, 37, 97, 66, 79, 82, 61, 53, 104, 49, 25, \n",
        "                        24, 10, 31, 45, 14, 5, 5, 45, 10, 145, 76, 80, 90, 46, 42, \n",
        "                        31, 81, 138, 105, 145, 94, 11, 47, 92, 41, 140, 115, 70, 113, \n",
        "                        59, 89, 78, 55, 85, 20, 68, 68, 84, 108, 17, 114],\n",
        "              \"chr15\": [92, 64, 94, 47, 64, 90, 140, 79, 112, 178, 123, 94, 85, 104, \n",
        "                        72, 286, 117, 78, 189, 50, 125, 157, 70, 134, 64, 92, 81, 83, \n",
        "                        117, 131, 88, 95, 79, 92, 74, 101, 120, 107, 68, 185, 87, \n",
        "                        104, 124, 81, 78, 78, 40, 104, 160, 23, 30, 87, 55, 88, 129, \n",
        "                        113, 53, 70, 121, 43, 90, 48, 118, 171, 28, 67, 43, 58, 31, \n",
        "                        46, 82],\n",
        "              \"chr12\": [86, 103, 84, 88, 134, 152, 105, 113, 87, 138, 113, 175, 85, \n",
        "                        92, 101, 88, 79, 118, 123, 66, 50, 135, 67, 131, 47, 90, 158, \n",
        "                        103, 92, 84, 84, 66, 160, 84, 103, 96, 101, 134, 168, 139, \n",
        "                        43, 135, 117, 100, 137, 106, 128, 112, 49, 146, 258, 166, \n",
        "                        80, 126, 113, 67, 183, 132, 76, 161, 141, 119, 125, 63, 167,\n",
        "                        186, 60, 46, 130, 56, 104, 55, 121, 125, 94, 63, 110, 116, 109, \n",
        "                        103, 81, 114, 183, 148, 107, 40, 131, 149, 128, 109, 99, 97, \n",
        "                        160, 203],\n",
        "              \"chrX\": [63, 77, 54, 74, 38, 81, 82, 21, 119, 146, 86, 34, 46, 93, 57,\n",
        "                       83, 73, 92, 135, 140, 95, 116, 66, 84, 76, 103, 63, 65, 113, \n",
        "                       63, 122, 57, 123, 61, 26, 51, 47, 66, 75, 125, 156, 120, 47, \n",
        "                       57, 91, 101, 54, 68, 71, 92, 92, 88, 61, 84, 72, 69, 48, 33, \n",
        "                       66, 128, 89, 86, 111, 89, 37, 65, 77, 82, 35, 72, 93, 96, 60, 45],\n",
        "              \"chr4\": [40, 56, 29, 58, 54, 70, 90, 76, 92, 68, 79, 87, 109, 45, 99, \n",
        "                       133, 171, 101, 61, 70, 114, 127, 69, 147, 94, 66, 62, 64, \n",
        "                       118, 89, 155, 122, 103, 86, 69, 86, 85, 65, 67, 77, 32, 115, \n",
        "                       80, 111, 118, 157, 137, 138, 151, 74, 159, 65, 74, 103, 46, \n",
        "                       81, 64, 67, 116, 109, 86, 82, 63, 87, 34, 50, 139, 62, 55, \n",
        "                       70, 110, 120, 87, 78, 122, 192, 102, 112, 128, 41, 69, 59, \n",
        "                       106, 131, 77, 115, 256, 135, 65, 101, 148, 108, 138, 146, 93, \n",
        "                       71, 68, 89, 135, 104, 92, 82, 115, 96, 118, 122, 94, 55, 31, \n",
        "                       64, 89, 33, 120, 59, 131, 158, 75, 81, 61, 43, 53, 66, 114, \n",
        "                       64, 89, 149, 88, 86, 120, 86, 114, 162, 82, 60, 44, 110, 82, \n",
        "                       77, 56, 76, 76, 86, 53],\n",
        "              \"chr13\": [47, 64, 20, 39, 37, 107, 106, 45, 78, 149, 86, 122, 122, 31, \n",
        "                        155, 45, 77, 85, 71, 54, 77, 25, 34, 83, 147, 77, 90, 147, \n",
        "                        123, 90, 138, 86, 180, 121, 91, 86, 28, 45, 74, 88, 188, 63, \n",
        "                        97, 85, 115, 32, 59],\n",
        "              \"chr18\": [266, 95, 131, 115, 87, 113, 81, 108, 73, 76, 38, 60],\n",
        "              \"chr14_GL000194v1_random\": [109, 108, 70, 123],\n",
        "              \"chrM\": [21, 29],\n",
        "              \"chrUn_GL000218v1\": [84]}\n",
        "\n",
        "\n",
        "df_list = []\n",
        "\n",
        "for chrom_name, value in dictionary.items():\n",
        "  df_series = pd.Series(value)\n",
        "  df = pd.DataFrame(df_series, columns=[\"intervals\"])\n",
        "  df[\"chrom\"] = chrom_name  \n",
        "  df_list.append(df)\n",
        "  final_df = pd.concat(df_list, axis=0)\n",
        "\n",
        "sns.swarmplot(x=\"chrom\", y=\"intervals\", data=final_df, palette=\"Set1\")\n",
        "\n",
        "swarmplotII = sns.swarmplot(x=\"chrom\", y=\"intervals\", data=final_df, palette=\"Set1\")\n",
        "plt.savefig(\"swarmplotII.jpg\")\n",
        "show(\"swarmplotII.jpg\")"
      ],
      "execution_count": 27,
      "outputs": [
        {
          "output_type": "display_data",
          "data": {
            "image/png": "[encoded data removed]",
            "text/plain": [
              "<Figure size 1800x720 with 1 Axes>"
            ]
          },
          "metadata": {
            "tags": []
          }
        }
      ]
    }
  ]
}