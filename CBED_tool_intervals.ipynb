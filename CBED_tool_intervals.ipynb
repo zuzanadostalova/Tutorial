{
  "nbformat": 4,
  "nbformat_minor": 0,
  "metadata": {
    "colab": {
      "name": "CBED_tool_intervals.ipynb",
      "provenance": [],
      "collapsed_sections": [],
      "include_colab_link": true
    },
    "kernelspec": {
      "name": "python3",
      "display_name": "Python 3"
    }
  },
  "cells": [
    {
      "cell_type": "markdown",
      "metadata": {
        "id": "view-in-github",
        "colab_type": "text"
      },
      "source": [
        "<a href=\"https://colab.research.google.com/github/zuzanadostalova/Tutorials/blob/master/CBED_tool_intervals.ipynb\" target=\"_parent\"><img src=\"https://colab.research.google.com/assets/colab-badge.svg\" alt=\"Open In Colab\"/></a>"
      ]
    },
    {
      "cell_type": "markdown",
      "metadata": {
        "id": "be-dkP8M02P7",
        "colab_type": "text"
      },
      "source": [
        "Compressed code for the chromosome lengths distribution plot."
      ]
    },
    {
      "cell_type": "code",
      "metadata": {
        "id": "TsvhfcMH1Mg1",
        "colab_type": "code",
        "colab": {}
      },
      "source": [
        "# Do not forget to import corresponding packages you are going to need in each step of the data preparation.\n",
        "import pandas as pd\n",
        "\n",
        "# The dataframe is created from csv file which you are reading with pandas tool. You need to unzip the source BED file, separate the chromosomes from one another using tab delimiter as separator, and name the ten columns of the chromosomes.\n",
        "dataframe = pd.read_csv('https://www.encodeproject.org/files/ENCFF861KMV/@@download/ENCFF861KMV.bed.gz', compression='gzip', sep=\"\\t\", names=['chrom', 'start', 'end', 'name', 'score', 'strand', '7', '8', '9', '10'])\n",
        "\n",
        "# It is necessary need to define the intervals by subtracting the start from the end in the dataframe.\n",
        "dataframe['intervals'] = dataframe.end - dataframe.start\n",
        "print(dataframe)\n",
        "\n",
        "import matplotlib.pyplot as plt\n",
        "import seaborn as sns\n",
        "\n",
        "# Here you can set the size of the graph.\n",
        "plt.figure(figsize=(50,10))\n",
        "\n",
        "# Now you have the dataframe with separated chromosomes and their intervals which are required for plotting the graph prepared.\n",
        "# The x axis is going to be the name of the chromosome, the y axis is going to be the interval of the respective chromosomes. Data is the dataframe you prepared, cut is changing the range of the y axis, width is changing the width of the particular violin plots.\n",
        "# Palette enables us to change the color of the graph.\n",
        "sns.violinplot(x=\"chrom\", y=\"intervals\", data=dataframe, cut = 1, width = 1.5, palette=\"pastel\")\n",
        "\n",
        "from pylab import savefig\n",
        "from matplotlib.pyplot import show\n",
        "\n",
        "# To save the plot, you need to create a variable, save this variable as a jpeg file, and to visualize it again, use function show and the jpeg file.\n",
        "violin = sns.violinplot(x=\"chrom\", y=\"intervals\", data=dataframe, cut = 1, width = 1.5, palette=\"pastel\")\n",
        "violin.figure.savefig(\"chromviolin.jpg\")\n",
        "show(\"chromviolin.jpg\")"
      ],
      "execution_count": 0,
      "outputs": []
    },
    {
      "cell_type": "markdown",
      "metadata": {
        "id": "TsuGL_U_YgWd",
        "colab_type": "text"
      },
      "source": [
        "#Distribution of chromosome lengths\n",
        "\n",
        "\n",
        "I.\tDistribution plot of chromosome lengths\n"
      ]
    },
    {
      "cell_type": "markdown",
      "metadata": {
        "id": "QNGIxFOpbDfz",
        "colab_type": "text"
      },
      "source": [
        "A.\tGet the BED file"
      ]
    },
    {
      "cell_type": "code",
      "metadata": {
        "id": "K6e2x5bIqiDM",
        "colab_type": "code",
        "colab": {}
      },
      "source": [
        "# Send commands to system (linux)\n",
        "# Download from URL with wget\n",
        "! wget https://www.encodeproject.org/files/ENCFF861KMV/@@download/ENCFF861KMV.bed.gz\n",
        "# Gunzip to uncompress the archive\n",
        "! gunzip ENCFF861KMV.bed.gz"
      ],
      "execution_count": 0,
      "outputs": []
    },
    {
      "cell_type": "markdown",
      "metadata": {
        "id": "CAubQwINC1ki",
        "colab_type": "text"
      },
      "source": [
        "Var. I.: Distribution Plot The Hard Way"
      ]
    },
    {
      "cell_type": "code",
      "metadata": {
        "id": "qMhgwCuLq5Tg",
        "colab_type": "code",
        "colab": {}
      },
      "source": [
        "# Unzipped input BED file\n",
        "input_file = \"ENCFF861KMV.bed\""
      ],
      "execution_count": 0,
      "outputs": []
    },
    {
      "cell_type": "markdown",
      "metadata": {
        "id": "sNlMNXySdly6",
        "colab_type": "text"
      },
      "source": [
        "B.\tDefine the compounds of the dictionary"
      ]
    },
    {
      "cell_type": "code",
      "metadata": {
        "id": "LKkRhE5SZqbO",
        "colab_type": "code",
        "colab": {}
      },
      "source": [
        "# Empty dictionary which is going to be filled with BED file data.\n",
        "dict_dist = {}\n",
        "\n",
        "# Open the BED file, read it, separate its lines into columns behind the tab delimeter.\n",
        "# Define the chromosome name, start, end, and interval columns.\n",
        "with open(input_file, 'r') as text:\n",
        "  for line in text.readlines():\n",
        "    column = line.strip().split(\"\\t\")\n",
        "    chrom_name = column[0]\n",
        "    start = int(column[1])\n",
        "    end = int(column[2])\n",
        "    interval = end - start\n",
        "\n",
        "    # If the chromosome name is already in the dictionary, add the interval inside - this \n",
        "    # way you avoid duplitious chromosome names.\n",
        "    if chrom_name in dict_dist:\n",
        "      dict_dist[chrom_name].append(interval)\n",
        "\n",
        "    else:\n",
        "      # Define the structure of the empty dictionary first. If the chromosome name \n",
        "      # is not yet in the dictionary, it is going to be created in this step.\n",
        "      # Subsequently, the corresponding intervals are going to be added inside\n",
        "      # the chromosome name.\n",
        "      dict_dist[chrom_name] = [] \n",
        "      dict_dist[chrom_name].append(interval) \n",
        "      # Note: dict_dist = {chrom_name[interval:count]} - the occurrence of the intervals is counted automatically\n"
      ],
      "execution_count": 0,
      "outputs": []
    },
    {
      "cell_type": "markdown",
      "metadata": {
        "id": "UKYg95u3Z1fX",
        "colab_type": "text"
      },
      "source": [
        "C. Print out"
      ]
    },
    {
      "cell_type": "code",
      "metadata": {
        "id": "eWtJ70XjZu5c",
        "colab_type": "code",
        "colab": {}
      },
      "source": [
        "print(dict_dist) # Print out key value pairs of chromosomes with corrresponding intervals.\n",
        "\n",
        "for chrom_name in dict_dist: # Iterate over the list in the dictionary.\n",
        "  print(chrom_name) # Print out the individual chromosomes.\n",
        "  print(dict_dist[chrom_name]) # Print out the list of intervals."
      ],
      "execution_count": 0,
      "outputs": []
    },
    {
      "cell_type": "markdown",
      "metadata": {
        "id": "NgVdD39oktL4",
        "colab_type": "text"
      },
      "source": [
        "D. Distribution plot - histogram"
      ]
    },
    {
      "cell_type": "code",
      "metadata": {
        "id": "qP1loKvg-P98",
        "colab_type": "code",
        "colab": {}
      },
      "source": [
        "# Seaborn - four distribution subplots.\n",
        "import seaborn as sns\n",
        "import matplotlib.pyplot as plt\n",
        "import pandas as pd\n",
        "\n",
        "# 2 columns, 2 rows = 4 plots. All of them share the same x axis which\n",
        "# means they have the same scales.\n",
        "f, axes = plt.subplots(2, 2, figsize=(7, 7), sharex=True)\n",
        "\n",
        "for index, chromosome in enumerate(dict_dist):\n",
        "    # Create dataframe the original dictionary.\n",
        "    test=pd.Series(data=dict_dist[chromosome])\n",
        "\n",
        "    # Each of the graphs represents one of the planes. It is a locations of\n",
        "    # pixels in the two-dimensional grid.\n",
        "    if index == 0:\n",
        "      sns.distplot( test , color=\"skyblue\", ax=axes[0, 0])\n",
        "    elif index == 1:\n",
        "      sns.distplot( test , color=\"skyblue\", ax=axes[1, 0])\n",
        "    elif index == 2:\n",
        "      sns.distplot( test , color=\"skyblue\", ax=axes[0, 1])\n",
        "    else:\n",
        "      sns.distplot( test , color=\"skyblue\", ax=axes[1, 1])\n"
      ],
      "execution_count": 0,
      "outputs": []
    },
    {
      "cell_type": "code",
      "metadata": {
        "id": "AubdN-BpPnvn",
        "colab_type": "code",
        "colab": {}
      },
      "source": [
        "from .bed_read import read_bed\n"
      ],
      "execution_count": 0,
      "outputs": []
    },
    {
      "cell_type": "code",
      "metadata": {
        "id": "szMgBXdcONHF",
        "colab_type": "code",
        "colab": {}
      },
      "source": [
        "# Catplot\n",
        "import pandas as pd\n",
        "plt.figure(figsize=(20,5))\n",
        "df_list = []\n",
        "\n",
        "for chrom_name, value in dict_dist.items():\n",
        "  df_series = pd.Series(value)\n",
        "  df = pd.DataFrame(df_series, columns=[\"intervals\"])\n",
        "  df[\"chrom\"] = chrom_name\n",
        "  df_list.append(df)\n",
        "  final_df = pd.concat(df_list, axis=0)\n",
        "  f = final_df[final_df.chrom == \"chr9\"].transpose()\n",
        "\n",
        "sns.catplot(x=\"chrom\", y=\"intervals\", data=final_df, palette=\"Set1\", height=5, aspect=7)\n",
        "\n",
        "catplotI = sns.catplot(x=\"chrom\", y=\"intervals\", data=final_df, palette=\"Set1\", height=5, aspect=7)\n",
        "catplot.savefig(\"catplotI.jpg\")\n",
        "show(\"catplotI.jpg\")"
      ],
      "execution_count": 0,
      "outputs": []
    },
    {
      "cell_type": "code",
      "metadata": {
        "id": "jxN8s8TnNbTo",
        "colab_type": "code",
        "colab": {}
      },
      "source": [
        "# Boxplot\n",
        "import pandas as pd\n",
        "plt.figure(figsize=(45,5))\n",
        "df_list = []\n",
        "\n",
        "for chrom_name, value in dict_dist.items():\n",
        "  df_series = pd.Series(value)\n",
        "  df = pd.DataFrame(df_series, columns=[\"intervals\"])\n",
        "  df[\"chrom\"] = chrom_name\n",
        "  df_list.append(df)\n",
        "  final_df = pd.concat(df_list, axis=0)\n",
        "  f = final_df[final_df.chrom == \"chr9\"].transpose()\n",
        " \n",
        "sns.boxplot(x=\"chrom\", y=\"intervals\", data=final_df, palette=\"Set1\")\n",
        "boxplotI = sns.boxplot(x=\"chrom\", y=\"intervals\", data=final_df, palette=\"Set1\")\n",
        "boxplotI.savefig(\"catplotI.jpg\")\n",
        "show(\"boxplotI.jpg\")"
      ],
      "execution_count": 0,
      "outputs": []
    },
    {
      "cell_type": "markdown",
      "metadata": {
        "id": "DaGVeWihkpLa",
        "colab_type": "text"
      },
      "source": [
        "Var. II: Distribution Plot the Simple Way:\n",
        "\n",
        "\n",
        "Plot created straight from a dataframe which originated from unzipped BED file."
      ]
    },
    {
      "cell_type": "code",
      "metadata": {
        "id": "vM8ELMrwkhlN",
        "colab_type": "code",
        "colab": {}
      },
      "source": [
        "# Load BED file as a pandas dataframe\n",
        "input_file = \"ENCFF861KMV.bed\"\n",
        "from matplotlib.pyplot import show\n",
        "from pylab import savefig\n",
        "import seaborn as sn\n",
        "import pandas as pd\n",
        "import matplotlib.pyplot as plt\n",
        "plt.figure(figsize=(50,10))\n",
        "\n",
        "df_list = []\n",
        "\n",
        "\n",
        "# Load BED file as Pandas df\n",
        "# Create a bed_df variable and save input file inside seperated by tab delimeter. Provide name for each of the columns - for our purposes the most important are \"chrom\", \"start\", and \"end\".\n",
        "bed_df = pd.read_csv(input_file, sep='\\t', names=['chrom', 'start', 'end', 'name', 'score', 'strand', '7', '8', '9', '10'])\n",
        "\n",
        "# You need to define intervals inside the variable bed_df in the next step. \n",
        "bed_df['intervals'] = bed_df.end - bed_df.start\n",
        "\n",
        "# Create the violin plot with the chromosome intervals distribution.\n",
        "sns.violinplot(x=\"chrom\", y=\"intervals\", data=bed_df, cut = 1, width = 1.5, palette=\"Set1\")\n",
        "\n",
        "# To save the plot, you need to assign it to a variable. \n",
        "violin = sns.violinplot(x=\"chrom\", y=\"intervals\", data=bed_df, cut = 1, width = 1.5, palette=\"Set1\")\n",
        "violin.figure.savefig(\"chromviolin.jpg\")\n",
        "\n",
        "# If you need to display the saved plot, use the function show.\n",
        "show(\"chromviolin.jpg\")"
      ],
      "execution_count": 0,
      "outputs": []
    },
    {
      "cell_type": "code",
      "metadata": {
        "id": "c6US-igRLF_E",
        "colab_type": "code",
        "colab": {}
      },
      "source": [
        "# Load BED file as a pandas dataframe\n",
        "input_file = \"ENCFF861KMV.bed\"\n",
        "import pandas as pd\n",
        "from matplotlib.pyplot import show\n",
        "from pylab import savefig\n",
        "import seaborn as sn\n",
        "import pandas as pd\n",
        "import matplotlib.pyplot as plt\n",
        "plt.figure(figsize=(20,5))\n",
        "df_list = []\n",
        "\n",
        "for chrom_name, value in dict_dist.items():\n",
        "  df_series = pd.Series(value)\n",
        "  df = pd.DataFrame(df_series, columns=[\"intervals\"])\n",
        "  df[\"chrom\"] = chrom_name\n",
        "  df_list.append(df)\n",
        "  final_df = pd.concat(df_list, axis=0)\n",
        "  f = final_df[final_df.chrom == \"chr9\"].transpose()\n",
        "\n",
        "#sns.catplot(x=\"chrom\", y=\"intervals\", data=final_df, palette=\"Set1\", kind='box', height=5, aspect=7)\n",
        "\n",
        "catplot = sns.catplot(x=\"chrom\", y=\"intervals\", data=final_df, palette=\"Set1\", kind='box', height=5, aspect=7)\n",
        "catplot.savefig(\"catplot.jpg\")\n",
        "show(\"catplot.jpg\")"
      ],
      "execution_count": 0,
      "outputs": []
    },
    {
      "cell_type": "code",
      "metadata": {
        "id": "pDIjFvT2JWhf",
        "colab_type": "code",
        "colab": {}
      },
      "source": [
        "# Load BED file as a pandas dataframe\n",
        "input_file = \"ENCFF861KMV.bed\"\n",
        "import pandas as pd\n",
        "from matplotlib import rcParams\n",
        "rcParams['figure.figsize'] = 20,15\n",
        "df_list = []\n",
        "\n",
        "for chrom_name, value in dict_dist.items():\n",
        "  df_series = pd.Series(value)\n",
        "  df = pd.DataFrame(df_series, columns=[\"intervals\"])\n",
        "  df[\"chrom\"] = chrom_name\n",
        "  df_list.append(df)\n",
        "  final_df = pd.concat(df_list, axis=0)\n",
        "  f = final_df[final_df.chrom == \"chr9\"].transpose()\n",
        "  sns.swarmplot(x=\"chrom\", y=\"intervals\", data=final_df, palette=\"Set1\")"
      ],
      "execution_count": 0,
      "outputs": []
    }
  ]
}